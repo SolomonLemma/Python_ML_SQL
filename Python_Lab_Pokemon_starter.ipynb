{
 "cells": [
  {
   "cell_type": "markdown",
   "metadata": {},
   "source": [
    "# Lab 1.01: Data Structures and Python with Pokemon\n",
    "\n",
    "## Building \"Pokemon Stay\"\n",
    "\n",
    "---\n",
    "You are an analyst at a \"scrappy\" online gaming company that specializes in remakes of last year's fads.\n",
    "\n",
    "Your boss, who runs the product development team, is convinced that Pokemon Go's fatal flaw was that you had to actually move around outside. She has design mock-ups for a new game called \"Pokemon Stay.\" in this version players still need to move, but just from website to website. Pokemon gyms are now popular online destinations, and catching Pokemon in the \"wild\" simply requires browsing the internet for hours in the comfort of your home."
   ]
  },
  {
   "cell_type": "markdown",
   "metadata": {},
   "source": [
    "## Before we start\n",
    "\n",
    "---\n",
    "We're going to take a quick minute to explore nesting behavior of dictionaries and lists. Consider the following data:"
   ]
  },
  {
   "cell_type": "code",
   "execution_count": 207,
   "metadata": {},
   "outputs": [],
   "source": [
    "dsi_lecture_times = {\n",
    "    'WC': {\n",
    "        'LA': {\n",
    "            'M': [9, 2],\n",
    "            'T': [9, 2],\n",
    "            'W': [9, 2],\n",
    "            'Th': [9],\n",
    "            'F': [9]},\n",
    "        'SEA': {\n",
    "            'M': [9, 2],\n",
    "            'T': [9, 2],\n",
    "            'W': [9, 2],\n",
    "            'Th': [9],\n",
    "            'F': [9]},\n",
    "        'DEN': {\n",
    "            'M': [10, 3],\n",
    "            'T': [10, 3],\n",
    "            'W': [10, 3],\n",
    "            'Th': [10],\n",
    "            'F': [10]},\n",
    "        'SF': {\n",
    "            'M': [9, 2],\n",
    "            'T': [9, 2],\n",
    "            'W': [9, 2],\n",
    "            'Th': [9],\n",
    "            'F': [9]}},\n",
    "    'EC': {\n",
    "        'BOS': {\n",
    "            'M': [10, 3],\n",
    "            'T': [10, 3],\n",
    "            'W': [10, 3],\n",
    "            'Th': [10],\n",
    "            'F': [10]},\n",
    "        'NYC': {\n",
    "            'M': [10, 3],\n",
    "            'T': [10, 3],\n",
    "            'W': [10, 3],\n",
    "            'Th': [10],\n",
    "            'F': [10]},\n",
    "        'DC': {\n",
    "            'M': [10, 3],\n",
    "            'T': [10, 3],\n",
    "            'W': [10, 3],\n",
    "            'Th': [10],\n",
    "            'F': [10]},\n",
    "        'ATX': {\n",
    "            'M': [9, 2],\n",
    "            'T': [9, 2],\n",
    "            'W': [9, 2],\n",
    "            'Th': [9],\n",
    "            'F': [9]},\n",
    "        'CHI': {\n",
    "            'M': [9, 2],\n",
    "            'T': [9, 2],\n",
    "            'W': [9, 2],\n",
    "            'Th': [9],\n",
    "            'F': [9]},\n",
    "        'ATL': {\n",
    "            'M': [10, 3],\n",
    "            'T': [10, 3],\n",
    "            'W': [10, 3],\n",
    "            'Th': [10],\n",
    "            'F': [10]}}\n",
    "    }"
   ]
  },
  {
   "cell_type": "markdown",
   "metadata": {},
   "source": [
    "This dictionary contains the start times for the global lectures for each of the 10 DSI-CC campuses. The top level indicates the coast. The next level contains the 2 or 3 letter city codes corresponding to the campuses. The next level contains the 5 days of the week; each day of the week contains a list of 1 or 2 integers corresponding to the start time(s) of the day's lectures.\n",
    "\n",
    "Let's set our objective as accessing the **start time of the second Wednesday lecture in Chicago**.\n",
    "\n",
    "Let's look at how the whole dict is rendered as an output in a Jupyter."
   ]
  },
  {
   "cell_type": "code",
   "execution_count": 208,
   "metadata": {},
   "outputs": [
    {
     "data": {
      "text/plain": [
       "{'WC': {'LA': {'M': [9, 2], 'T': [9, 2], 'W': [9, 2], 'Th': [9], 'F': [9]},\n",
       "  'SEA': {'M': [9, 2], 'T': [9, 2], 'W': [9, 2], 'Th': [9], 'F': [9]},\n",
       "  'DEN': {'M': [10, 3], 'T': [10, 3], 'W': [10, 3], 'Th': [10], 'F': [10]},\n",
       "  'SF': {'M': [9, 2], 'T': [9, 2], 'W': [9, 2], 'Th': [9], 'F': [9]}},\n",
       " 'EC': {'BOS': {'M': [10, 3],\n",
       "   'T': [10, 3],\n",
       "   'W': [10, 3],\n",
       "   'Th': [10],\n",
       "   'F': [10]},\n",
       "  'NYC': {'M': [10, 3], 'T': [10, 3], 'W': [10, 3], 'Th': [10], 'F': [10]},\n",
       "  'DC': {'M': [10, 3], 'T': [10, 3], 'W': [10, 3], 'Th': [10], 'F': [10]},\n",
       "  'ATX': {'M': [9, 2], 'T': [9, 2], 'W': [9, 2], 'Th': [9], 'F': [9]},\n",
       "  'CHI': {'M': [9, 2], 'T': [9, 2], 'W': [9, 2], 'Th': [9], 'F': [9]},\n",
       "  'ATL': {'M': [10, 3], 'T': [10, 3], 'W': [10, 3], 'Th': [10], 'F': [10]}}}"
      ]
     },
     "execution_count": 208,
     "metadata": {},
     "output_type": "execute_result"
    }
   ],
   "source": [
    "dsi_lecture_times"
   ]
  },
  {
   "cell_type": "markdown",
   "metadata": {},
   "source": [
    "We can see that curly braces (i.e., `{}`) and individual spaces are used to separate layers. Because this can be hard to see, oftentimes we'll use the `keys` method on a dictionary to see what the current level of a dictionary contains. If we approach a dict one level at a time, it's easy to drill down to our objective."
   ]
  },
  {
   "cell_type": "code",
   "execution_count": 209,
   "metadata": {},
   "outputs": [
    {
     "data": {
      "text/plain": [
       "dict_keys(['WC', 'EC'])"
      ]
     },
     "execution_count": 209,
     "metadata": {},
     "output_type": "execute_result"
    }
   ],
   "source": [
    "dsi_lecture_times.keys()"
   ]
  },
  {
   "cell_type": "markdown",
   "metadata": {},
   "source": [
    "Once you identify the key you want to access, use square brackets (i.e., `[]`) to access the value associated with that key."
   ]
  },
  {
   "cell_type": "code",
   "execution_count": 210,
   "metadata": {},
   "outputs": [
    {
     "data": {
      "text/plain": [
       "{'BOS': {'M': [10, 3], 'T': [10, 3], 'W': [10, 3], 'Th': [10], 'F': [10]},\n",
       " 'NYC': {'M': [10, 3], 'T': [10, 3], 'W': [10, 3], 'Th': [10], 'F': [10]},\n",
       " 'DC': {'M': [10, 3], 'T': [10, 3], 'W': [10, 3], 'Th': [10], 'F': [10]},\n",
       " 'ATX': {'M': [9, 2], 'T': [9, 2], 'W': [9, 2], 'Th': [9], 'F': [9]},\n",
       " 'CHI': {'M': [9, 2], 'T': [9, 2], 'W': [9, 2], 'Th': [9], 'F': [9]},\n",
       " 'ATL': {'M': [10, 3], 'T': [10, 3], 'W': [10, 3], 'Th': [10], 'F': [10]}}"
      ]
     },
     "execution_count": 210,
     "metadata": {},
     "output_type": "execute_result"
    }
   ],
   "source": [
    "dsi_lecture_times['EC']"
   ]
  },
  {
   "cell_type": "code",
   "execution_count": 211,
   "metadata": {},
   "outputs": [
    {
     "data": {
      "text/plain": [
       "{'LA': {'M': [9, 2], 'T': [9, 2], 'W': [9, 2], 'Th': [9], 'F': [9]},\n",
       " 'SEA': {'M': [9, 2], 'T': [9, 2], 'W': [9, 2], 'Th': [9], 'F': [9]},\n",
       " 'DEN': {'M': [10, 3], 'T': [10, 3], 'W': [10, 3], 'Th': [10], 'F': [10]},\n",
       " 'SF': {'M': [9, 2], 'T': [9, 2], 'W': [9, 2], 'Th': [9], 'F': [9]}}"
      ]
     },
     "execution_count": 211,
     "metadata": {},
     "output_type": "execute_result"
    }
   ],
   "source": [
    "dsi_lecture_times['WC']"
   ]
  },
  {
   "cell_type": "markdown",
   "metadata": {},
   "source": [
    "It appears that we're still working with a dict. Let's check the type."
   ]
  },
  {
   "cell_type": "code",
   "execution_count": 212,
   "metadata": {},
   "outputs": [
    {
     "data": {
      "text/plain": [
       "dict"
      ]
     },
     "execution_count": 212,
     "metadata": {},
     "output_type": "execute_result"
    }
   ],
   "source": [
    "type(dsi_lecture_times['EC'])"
   ]
  },
  {
   "cell_type": "code",
   "execution_count": 213,
   "metadata": {},
   "outputs": [
    {
     "data": {
      "text/plain": [
       "{'M': [9, 2], 'T': [9, 2], 'W': [9, 2], 'Th': [9], 'F': [9]}"
      ]
     },
     "execution_count": 213,
     "metadata": {},
     "output_type": "execute_result"
    }
   ],
   "source": [
    "dsi_lecture_times['WC']['LA']"
   ]
  },
  {
   "cell_type": "code",
   "execution_count": 214,
   "metadata": {},
   "outputs": [
    {
     "data": {
      "text/plain": [
       "dict"
      ]
     },
     "execution_count": 214,
     "metadata": {},
     "output_type": "execute_result"
    }
   ],
   "source": [
    "type(dsi_lecture_times['WC']['LA'])"
   ]
  },
  {
   "cell_type": "markdown",
   "metadata": {},
   "source": [
    "It is, in fact, a dictionary. This means that we can use dictionary methods on it. Let's look at the keys."
   ]
  },
  {
   "cell_type": "code",
   "execution_count": 215,
   "metadata": {},
   "outputs": [
    {
     "data": {
      "text/plain": [
       "dict_keys(['BOS', 'NYC', 'DC', 'ATX', 'CHI', 'ATL'])"
      ]
     },
     "execution_count": 215,
     "metadata": {},
     "output_type": "execute_result"
    }
   ],
   "source": [
    "dsi_lecture_times['EC'].keys()"
   ]
  },
  {
   "cell_type": "code",
   "execution_count": 216,
   "metadata": {},
   "outputs": [
    {
     "data": {
      "text/plain": [
       "dict_keys(['M', 'T', 'W', 'Th', 'F'])"
      ]
     },
     "execution_count": 216,
     "metadata": {},
     "output_type": "execute_result"
    }
   ],
   "source": [
    "dsi_lecture_times['WC']['LA'].keys()"
   ]
  },
  {
   "cell_type": "code",
   "execution_count": 217,
   "metadata": {},
   "outputs": [
    {
     "data": {
      "text/plain": [
       "dict_keys(['LA', 'SEA', 'DEN', 'SF'])"
      ]
     },
     "execution_count": 217,
     "metadata": {},
     "output_type": "execute_result"
    }
   ],
   "source": [
    "dsi_lecture_times['WC'].keys()"
   ]
  },
  {
   "cell_type": "markdown",
   "metadata": {},
   "source": [
    "We can continue to add `[]` with our desired key because **`dsi_lecture_times['EC']`** points directly to a dict and operates in the same way a variable name pointing to a dict would."
   ]
  },
  {
   "cell_type": "code",
   "execution_count": 218,
   "metadata": {},
   "outputs": [
    {
     "data": {
      "text/plain": [
       "{'M': [9, 2], 'T': [9, 2], 'W': [9, 2], 'Th': [9], 'F': [9]}"
      ]
     },
     "execution_count": 218,
     "metadata": {},
     "output_type": "execute_result"
    }
   ],
   "source": [
    "dsi_lecture_times['EC']['CHI']"
   ]
  },
  {
   "cell_type": "markdown",
   "metadata": {},
   "source": [
    "At this point, you can probably guess how we can access the times for Wednesday. Just add the `['W']` key."
   ]
  },
  {
   "cell_type": "code",
   "execution_count": 219,
   "metadata": {},
   "outputs": [
    {
     "data": {
      "text/plain": [
       "[9, 2]"
      ]
     },
     "execution_count": 219,
     "metadata": {},
     "output_type": "execute_result"
    }
   ],
   "source": [
    "dsi_lecture_times['EC']['CHI']['W']"
   ]
  },
  {
   "cell_type": "markdown",
   "metadata": {},
   "source": [
    "Let's check the type of this final level."
   ]
  },
  {
   "cell_type": "code",
   "execution_count": 220,
   "metadata": {},
   "outputs": [
    {
     "data": {
      "text/plain": [
       "list"
      ]
     },
     "execution_count": 220,
     "metadata": {},
     "output_type": "execute_result"
    }
   ],
   "source": [
    "type(dsi_lecture_times['EC']['CHI']['W'])"
   ]
  },
  {
   "cell_type": "markdown",
   "metadata": {},
   "source": [
    "Because it is a `list` and lists are 0-indexed, to capture the time of the 2nd lecture, we'll use `[1]`. So, to directly access the time of the afternoon lecture in Chicago on Wedensdays, we'll use the following:"
   ]
  },
  {
   "cell_type": "code",
   "execution_count": 221,
   "metadata": {},
   "outputs": [
    {
     "data": {
      "text/plain": [
       "2"
      ]
     },
     "execution_count": 221,
     "metadata": {},
     "output_type": "execute_result"
    }
   ],
   "source": [
    "dsi_lecture_times['EC']['CHI']['W'][1]"
   ]
  },
  {
   "cell_type": "markdown",
   "metadata": {},
   "source": [
    "**Don't get overwhelmed trying to go directly to your target.** Drill down through your data one level at a time, and you're less likely to get lost.\n",
    "___\n",
    "\n",
    "Now, let's [dig(lett)](https://pokemondb.net/pokedex/diglett) into some Pokemon data.\n",
    "\n",
    "![diglett](./images/diglett.jpg)\n",
    "\n",
    "Remember, nested dicts aren't aren't [magik(arp)](https://pokemondb.net/pokedex/magikarp).\n",
    "\n",
    "![magikarp](./images/magikarp.jpg)"
   ]
  },
  {
   "cell_type": "markdown",
   "metadata": {},
   "source": [
    "## 1. Defining a player\n",
    "\n",
    "Each player needs to have a set of characteristics, stored in variables, such as an id, a username, play data, etc. A great structure to house these variables is a `dictionary`, because the `values` can contain any python datatype including `list`, `dict`, `tuple`, `int`, `float`, `bool`, or `str`. \n",
    "\n",
    "The player variables are:\n",
    "\n",
    "    player_id : id code unique to each player (integer)\n",
    "    player_name : entered name of the player (string)\n",
    "    time_played : number of time played the game in minutes (float)\n",
    "    player_pokemon: the player's captured pokemon (dictionary)\n",
    "    gyms_visited: ids of the gyms that a player has visited (list)\n",
    "\n",
    "### A) Create a `dict` for a single player.\n",
    "\n",
    "* The variable name should be `player_1`.\n",
    "* The `player_id` should be 1.\n",
    "* Since the player doesn't have a name yet, you may set the `player_name` equal to `None`.\n",
    "* The rest of the fields should be populated properly depending on the datatype."
   ]
  },
  {
   "cell_type": "code",
   "execution_count": 222,
   "metadata": {},
   "outputs": [],
   "source": [
    "player_1 = {\n",
    "    'player_id' : 1,\n",
    "    'player_name' : None,\n",
    "    'time_played' : 19.2,\n",
    "    'player_pokemon' : {},\n",
    "    'gyms_visited' : [],\n",
    "}"
   ]
  },
  {
   "cell_type": "markdown",
   "metadata": {},
   "source": [
    "### B) Create a `dict` to house your dataset of players.\n",
    "\n",
    "* The dictionary storing your players should be called `poke_players`.\n",
    "* Because only `player_1` exists, there should only be one `key:value` pair. \n",
    "* The `keys` of this `dict` should be the `player_id`, and the `values` should be the dictionaries with single-player info, including the `player_id` (slightly redundant).\n",
    "\n",
    "Make sure to check that your `poke_players` dictionary looks right after you've added `player_1`. To see the contents of a variable, just run a code cell with the variable name in it."
   ]
  },
  {
   "cell_type": "code",
   "execution_count": 223,
   "metadata": {},
   "outputs": [
    {
     "data": {
      "text/plain": [
       "{1: {'player_id': 1,\n",
       "  'player_name': None,\n",
       "  'time_played': 19.2,\n",
       "  'player_pokemon': {},\n",
       "  'gyms_visited': []}}"
      ]
     },
     "execution_count": 223,
     "metadata": {},
     "output_type": "execute_result"
    }
   ],
   "source": [
    "poke_players = {\n",
    "    player_1 ['player_id']:player_1\n",
    "}\n",
    "poke_players"
   ]
  },
  {
   "cell_type": "markdown",
   "metadata": {},
   "source": [
    "### C) Update player 1's info with your own.\n",
    "\n",
    "* By indexing your `poke_players` dictionary, update the `player_name` field to your own name.\n",
    "* Display the `poke_players` dict to check your work."
   ]
  },
  {
   "cell_type": "code",
   "execution_count": 224,
   "metadata": {},
   "outputs": [
    {
     "data": {
      "text/plain": [
       "{1: {'player_id': 1,\n",
       "  'player_name': 'Maradona',\n",
       "  'time_played': 19.2,\n",
       "  'player_pokemon': {},\n",
       "  'gyms_visited': []}}"
      ]
     },
     "execution_count": 224,
     "metadata": {},
     "output_type": "execute_result"
    }
   ],
   "source": [
    "poke_players[1]['player_name'] = 'Maradona'\n",
    "poke_players"
   ]
  },
  {
   "cell_type": "markdown",
   "metadata": {},
   "source": [
    "### D) Define a function that adds a player to `poke_players`.\n",
    "\n",
    "Your function should...\n",
    "\n",
    "* Take arguments for `players_dict`, `player_id`, and `player_name`.\n",
    "* Create a player with the above values and populate the `gyms_visited`, `player_pokemon`, and `time_played` accordingly.\n",
    "* Add a second player to the `players` dictionary. The id should be 2, but the name is up to you!\n",
    "\n",
    "Display your `poke_players` to check your work."
   ]
  },
  {
   "cell_type": "code",
   "execution_count": 271,
   "metadata": {},
   "outputs": [],
   "source": [
    "def add_player(players_dict, player_id, player_name):\n",
    "    player2 = {\n",
    "        'player_id': player_id,\n",
    "        'player_name': player_name,\n",
    "        'player_pokemon': {}, # player_pokemon, gyms_visited and time_played have default values\n",
    "        'gyms_visited': [],\n",
    "        'time_played': 0.0\n",
    "    }\n",
    "    players_dict[player2['player_id']] = player2  # once again using a value in the existing dict to create said \n",
    "                                            # dicts key in the players_dict\n",
    "    return(\"{} added!\".format(player2['player_name']))"
   ]
  },
  {
   "cell_type": "markdown",
   "metadata": {},
   "source": [
    "### E) Add a new player\n",
    "\n",
    "* Add a second player to the `poke_players` dictionary using the `add_player` function. The `id` should be 2, but the `name` is up to you!\n",
    "* Reassign and overwrite the `poke_players` dictionary.\n",
    "\n",
    "Make sure to display the contents of `poke_players` to check your work."
   ]
  },
  {
   "cell_type": "code",
   "execution_count": 272,
   "metadata": {},
   "outputs": [
    {
     "data": {
      "text/plain": [
       "'Bakos added!'"
      ]
     },
     "execution_count": 272,
     "metadata": {},
     "output_type": "execute_result"
    }
   ],
   "source": [
    "add_player(poke_players, 2, 'Bakos')"
   ]
  },
  {
   "cell_type": "markdown",
   "metadata": {},
   "source": [
    "## 2. Defining \"gym\" locations\n",
    "\n",
    "---\n",
    "\n",
    "As the sole programmer, Pokemon Stay will have to start small. To begin, there will be 10 different gym location websites on the internet. The gym locations are:\n",
    "\n",
    "    1. 'reddit.com'\n",
    "    2. 'amazon.com'\n",
    "    3. 'twitter.com'\n",
    "    4. 'linkedin.com'\n",
    "    5. 'ebay.com'\n",
    "    6. 'netflix.com'\n",
    "    7. 'stackoverflow.com'\n",
    "    8. 'github.com'\n",
    "    9. 'quora.com'\n",
    "    10. 'google.com'\n",
    "\n",
    "* Set up a list of all the gym locations. This will be a list of strings. Print the list to check your work.\n",
    "* For each player in `poke_players`, use `sample` (imported from `random` below) to randomly select 2 gyms and add these gyms to the `gyms_visited` field.\n",
    "* Display the `poke_players` dict to check your work."
   ]
  },
  {
   "cell_type": "code",
   "execution_count": 273,
   "metadata": {},
   "outputs": [],
   "source": [
    "from random import sample"
   ]
  },
  {
   "cell_type": "code",
   "execution_count": 274,
   "metadata": {},
   "outputs": [
    {
     "data": {
      "text/plain": [
       "['apple', ('a', 'b', 'c'), 1]"
      ]
     },
     "execution_count": 274,
     "metadata": {},
     "output_type": "execute_result"
    }
   ],
   "source": [
    "# Run this cell a few times to understand sample. Play around with the function!\n",
    "this_list = ['apple', 1, ('a','b','c'), 0.8]\n",
    "sample(this_list, 3)# the output is randumly selected from the list."
   ]
  },
  {
   "cell_type": "code",
   "execution_count": 275,
   "metadata": {},
   "outputs": [
    {
     "data": {
      "text/plain": [
       "[7, ('DS', 'DSI', 'CS'), 'GA', 20]"
      ]
     },
     "execution_count": 275,
     "metadata": {},
     "output_type": "execute_result"
    }
   ],
   "source": [
    "this_list1 = ['GA', 7, ('DS','DSI','CS'), 20]\n",
    "sample(this_list1, 4)"
   ]
  },
  {
   "cell_type": "code",
   "execution_count": 276,
   "metadata": {},
   "outputs": [],
   "source": [
    "gyms = ['reddit.com', 'amazon.com', 'twitter.com', 'linkedin.com', 'ebay.com', 'netflix.com', 'stackoverflow.com', 'github.com',  'quora.com',\n",
    "    'google.com']"
   ]
  },
  {
   "cell_type": "code",
   "execution_count": 277,
   "metadata": {},
   "outputs": [
    {
     "data": {
      "text/plain": [
       "['reddit.com',\n",
       " 'amazon.com',\n",
       " 'twitter.com',\n",
       " 'linkedin.com',\n",
       " 'ebay.com',\n",
       " 'netflix.com',\n",
       " 'stackoverflow.com',\n",
       " 'github.com',\n",
       " 'quora.com',\n",
       " 'google.com']"
      ]
     },
     "execution_count": 277,
     "metadata": {},
     "output_type": "execute_result"
    }
   ],
   "source": [
    "gyms"
   ]
  },
  {
   "cell_type": "code",
   "execution_count": 278,
   "metadata": {},
   "outputs": [],
   "source": [
    "for player_id in poke_players.keys():\n",
    "    poke_players[player_id]['gyms_visited'].extend(sample(gyms,2))"
   ]
  },
  {
   "cell_type": "code",
   "execution_count": 279,
   "metadata": {},
   "outputs": [
    {
     "data": {
      "text/plain": [
       "{1: {'player_id': 1,\n",
       "  'player_name': 'Maradona',\n",
       "  'time_played': 19.2,\n",
       "  'player_pokemon': {},\n",
       "  'gyms_visited': ['amazon.com',\n",
       "   'stackoverflow.com',\n",
       "   'twitter.com',\n",
       "   'linkedin.com']},\n",
       " 2: {'player_id': 2,\n",
       "  'player_name': 'Bakos',\n",
       "  'player_pokemon': {},\n",
       "  'gyms_visited': ['stackoverflow.com', 'quora.com'],\n",
       "  'time_played': 0.0}}"
      ]
     },
     "execution_count": 279,
     "metadata": {},
     "output_type": "execute_result"
    }
   ],
   "source": [
    "poke_players"
   ]
  },
  {
   "cell_type": "markdown",
   "metadata": {},
   "source": [
    "## 3. Create a Pokedex\n",
    "\n",
    "We also need to create some Pokemon to catch! Let's store the attributes of each Pokemon in a `dictionary`, since each Pokemon has many characteristics we'd like to store.\n",
    "\n",
    "\n",
    "Each Pokemon will be defined by these variables:\n",
    "\n",
    "    poke_id : unique identifier for each Pokemon (integer, sequential)\n",
    "    poke_name : the name of the Pokemon (string)\n",
    "    poke_type : the category of Pokemon (string)\n",
    "    hp : base hit points (integer between 400 and 500)\n",
    "    attack : base attack (integer between 50 and 100)\n",
    "    defense : base defense (integer between 50 and 100)\n",
    "    special_attack : base special attack (integer between 100 and 150)\n",
    "    special_defense : base special defense (integer between 100 and 150)\n",
    "    speed : base speed (integer between 0 and 100)\n",
    "\n",
    "### A) Create a function called `create_pokemon`\n",
    "\n",
    "* The function should take arguments for `poke_id`, `poke_name`, and `poke_type`.\n",
    "* Use `np.random.randint` to generate values for the numeric attributes based on the conditions above. If you're not clear on how this function works, there is a cell below with an example. Play around with it!\n",
    "* The function should return a `dict` for the Pokemon.\n",
    "* Without assigning it to a variable, check the function's output by calling it with the following arguments:\n",
    "  * `poke_id = 1`\n",
    "  * `poke_name = 'charmander'`\n",
    "  * `poke_type = 'fire'`"
   ]
  },
  {
   "cell_type": "code",
   "execution_count": 284,
   "metadata": {},
   "outputs": [],
   "source": [
    "import numpy as np"
   ]
  },
  {
   "cell_type": "code",
   "execution_count": 285,
   "metadata": {},
   "outputs": [
    {
     "data": {
      "text/plain": [
       "8"
      ]
     },
     "execution_count": 285,
     "metadata": {},
     "output_type": "execute_result"
    }
   ],
   "source": [
    "# Play around with this cell to understand np.random.randint!\n",
    "np.random.randint(0,10) # the fuction generate random intiger every run between 0 to 10."
   ]
  },
  {
   "cell_type": "code",
   "execution_count": 288,
   "metadata": {},
   "outputs": [],
   "source": [
    "def create_pokemon(poke_id, poke_name, poke_type):\n",
    "    return {\n",
    "        'poke_name': poke_name,\n",
    "        'poke_id': poke_id,\n",
    "        'poke_type': poke_type, \n",
    "        'attack': np.random.randint(50,100),\n",
    "        'defense': np.random.randint(50,100),\n",
    "        'hp': np.random.randint(400,500),\n",
    "        'special_attack': np.random.randint(100,150),\n",
    "        'special_defense': np.random.randint(100,150),\n",
    "        'speed': np.random.randint(0,100)\n",
    "    }"
   ]
  },
  {
   "cell_type": "code",
   "execution_count": 289,
   "metadata": {},
   "outputs": [
    {
     "data": {
      "text/plain": [
       "{'poke_name': 'charmander',\n",
       " 'poke_id': 1,\n",
       " 'poke_type': 'fire',\n",
       " 'attack': 73,\n",
       " 'defense': 51,\n",
       " 'hp': 478,\n",
       " 'special_attack': 101,\n",
       " 'special_defense': 133,\n",
       " 'speed': 6}"
      ]
     },
     "execution_count": 289,
     "metadata": {},
     "output_type": "execute_result"
    }
   ],
   "source": [
    "#Without assigning it to a variable, check the function's output by calling it with the following arguments\n",
    "create_pokemon(1, 'charmander', 'fire')"
   ]
  },
  {
   "cell_type": "markdown",
   "metadata": {},
   "source": [
    "### B) Populate the `pokedex`!\n",
    "\n",
    "Now we need some Pokemon to catch. Let's create a dictionary to store the information!\n",
    "\n",
    "* Instantiate an empty dictionary called `pokedex`.\n",
    "* Define a function called `create_and_add_to_pokedex`. This function should...\n",
    "  * Take arguments for `pokedex`,  `poke_id`, `poke_name`, and `poke_type`.\n",
    "  * Uses the `create_pokemon` function you created earlier to create a pokemon using the provided `poke_id`, `poke_name`, and `poke_type`.\n",
    "  * Add a new `key:value` pair to the `pokedex` dictionary where:\n",
    "    * the `key` is the `poke_id`, and\n",
    "    * the `value` is the newly-created pokemon dict, including the `poke_id` (this is slightly redundant, but that's ok!)\n",
    "  * Prints the name of the Pokemon added to the Pokedex using `str.format()`\n",
    "* Add the following 3 Pokemon to your `pokedex` using `create_and_add_to_pokedex`:\n",
    "\n",
    "|Id|Name|Type|\n",
    "|---|---|---|\n",
    "|1|charmander|fire|\n",
    "|2|squirtle|water|\n",
    "|3|bulbasaur|poison|\n",
    "\n",
    "Display your `pokedex` to check your work. It should look something like...\n",
    "\n",
    "```python\n",
    "{1: {'attack': 64,\n",
    "  'defense': 59,\n",
    "  'hp': 495,\n",
    "  'poke_id': 1,\n",
    "  'poke_name': 'charmander',\n",
    "  'poke_type': 'fire',\n",
    "  'special_attack': 100,\n",
    "  ...\n",
    "```"
   ]
  },
  {
   "cell_type": "code",
   "execution_count": null,
   "metadata": {},
   "outputs": [],
   "source": [
    "pokedex = {}"
   ]
  },
  {
   "cell_type": "code",
   "execution_count": null,
   "metadata": {},
   "outputs": [],
   "source": [
    "def create_and_add_to_pokedex(pokedex, poke_id, poke_name, poke_type):\n",
    "    pokem = create_pokemon(poke_id, poke_name, poke_type)\n",
    "    pokedex[pokem['poke_id']] = pokem\n",
    "    return (\"{} added to pokedex\".format(pokem['poke_name']))"
   ]
  },
  {
   "cell_type": "code",
   "execution_count": null,
   "metadata": {},
   "outputs": [],
   "source": [
    "# add the three babular values into create_and_add_to_pokedex(pokedex, poke_id, poke_name, poke_type)\n",
    "\n",
    "create_and_add_to_pokedex(pokedex, 1, 'charmander', 'fire')\n",
    "create_and_add_to_pokedex(pokedex, 2, 'squirtle', 'water')\n",
    "create_and_add_to_pokedex(pokedex, 3, 'bulbasaur', 'poison')"
   ]
  },
  {
   "cell_type": "code",
   "execution_count": null,
   "metadata": {},
   "outputs": [],
   "source": [
    "pokedex"
   ]
  },
  {
   "cell_type": "markdown",
   "metadata": {},
   "source": [
    "## 4. Let's capture some Pokemon!\n",
    "\n",
    "The `player_pokemon` keyed dictionaries for each player keep track of which of the Pokemon each player has.\n",
    "\n",
    "The keys of the `player_pokemon` dictionaries are the Pokemon ids that correspond to the ids in the `pokedex` dictionary you created earlier, and the values are the individual Pokemon dicts. Just like your `pokedex`, but for each player individually!\n",
    "\n",
    "* Define a function called `add_pokemon_to_player` that...\n",
    "  * Takes arguents for `player_id`, `poke_id`, `player_dict`, and `pokedex`.\n",
    "  * Adds the desired pokemon to the `player_pokemon` field of the specified player\n",
    "  * Prints which pokemon was added to which player.\n",
    "* Use your function to add squirtle to player 1, and add charmander and bulbasaur to player 2\n",
    "* Display your `poke_players` to check your work."
   ]
  },
  {
   "cell_type": "code",
   "execution_count": 295,
   "metadata": {},
   "outputs": [],
   "source": [
    "def add_pokemon_to_player(player_id, poke_id, player_dict, pokedex):\n",
    "    layer_dict[player_id]['player_pokemon'][poke_id] = pokedex[poke_id]\n",
    "    return \"{} added to {}'s player_pokemon!\".format(pokedex[poke_id]['poke_name'], player_dict[player_id]['player_name'])\n",
    "    print(\"{} added to {}'s player_pokemon!\".format(pokedex[poke_id]['poke_name'], player_dict[player_id]['player_name']))"
   ]
  },
  {
   "cell_type": "code",
   "execution_count": 310,
   "metadata": {},
   "outputs": [],
   "source": [
    "def add_pokemon_to_player(player_id, poke_id, player_dict = poke_players, pokedex = pokedex):\n",
    "    player_dict[player_id]['player_pokemon'][poke_id] = pokedex[poke_id]\n",
    "    print(\"{} added to {}'s player_pokemon!\".format(pokedex[poke_id]['poke_name'], player_dict[player_id]['player_name']))"
   ]
  },
  {
   "cell_type": "markdown",
   "metadata": {},
   "source": [
    "* Call your function three times to add\n",
    "    * squirtle to player 1\n",
    "    * charmander to player 2\n",
    "    * bulbasaur to player 2\n",
    "* Overwrite your poke_player variable each time with the updated dictionary.\n",
    "* Display the contents of poke_players to check your work."
   ]
  },
  {
   "cell_type": "code",
   "execution_count": 313,
   "metadata": {},
   "outputs": [
    {
     "name": "stdout",
     "output_type": "stream",
     "text": [
      "squirtle added to Maradona's player_pokemon!\n",
      "charmander added to Bakos's player_pokemon!\n",
      "bulbasaur added to Bakos's player_pokemon!\n"
     ]
    }
   ],
   "source": [
    "add_pokemon_to_player(1, 2)\n",
    "add_pokemon_to_player(2,1)\n",
    "add_pokemon_to_player(2,3)"
   ]
  },
  {
   "cell_type": "code",
   "execution_count": 314,
   "metadata": {},
   "outputs": [
    {
     "name": "stdout",
     "output_type": "stream",
     "text": [
      "bulbasaur added to Maradona's player_pokemon!\n"
     ]
    }
   ],
   "source": [
    "add_pokemon_to_player(1,3)"
   ]
  },
  {
   "cell_type": "code",
   "execution_count": 315,
   "metadata": {},
   "outputs": [
    {
     "name": "stdout",
     "output_type": "stream",
     "text": [
      "bulbasaur added to Bakos's player_pokemon!\n"
     ]
    }
   ],
   "source": [
    "add_pokemon_to_player(2,3)"
   ]
  },
  {
   "cell_type": "code",
   "execution_count": 317,
   "metadata": {},
   "outputs": [
    {
     "name": "stdout",
     "output_type": "stream",
     "text": [
      "charmander added to Bakos's player_pokemon!\n"
     ]
    }
   ],
   "source": [
    "add_pokemon_to_player(2,1)"
   ]
  },
  {
   "cell_type": "code",
   "execution_count": 318,
   "metadata": {},
   "outputs": [
    {
     "name": "stdout",
     "output_type": "stream",
     "text": [
      "squirtle added to Bakos's player_pokemon!\n"
     ]
    }
   ],
   "source": [
    "add_pokemon_to_player(2,2)"
   ]
  },
  {
   "cell_type": "markdown",
   "metadata": {},
   "source": [
    "## 5. What gyms have players visited?\n",
    "\n",
    "### A) Checking gyms\n",
    "\n",
    "Write a for-loop that:\n",
    "\n",
    "1. Iterates through the `pokemon_gyms` list of gym locations you defined before.\n",
    "2. For each gym, iterate through each player in the `players` dictionary with a second, internal for-loop.\n",
    "3. If the player has visited the gym, print out \"[player] has visited [gym location].\", filling in [player] and [gym location] with the current player's name and current gym location."
   ]
  },
  {
   "cell_type": "code",
   "execution_count": 320,
   "metadata": {},
   "outputs": [
    {
     "name": "stdout",
     "output_type": "stream",
     "text": [
      "Maradona has visited amazon.com\n",
      "Maradona has visited twitter.com\n",
      "Maradona has visited linkedin.com\n",
      "Maradona has visited stackoverflow.com\n",
      "Bakos has visited stackoverflow.com\n",
      "Bakos has visited quora.com\n"
     ]
    }
   ],
   "source": [
    "for gym in gyms: \n",
    "    for player_id, player_dict in poke_players.items(): \n",
    "        if gym in player_dict['gyms_visited']: \n",
    "            print(\"{} has visited {}\".format(player_dict['player_name'], gym)) "
   ]
  },
  {
   "cell_type": "markdown",
   "metadata": {},
   "source": [
    "### B) Computational Complexity\n",
    "\n",
    "How many times did that loop run? If you have N gyms and also M players, how many times would it run as a function of N and M? \n",
    "\n",
    "(You can write your answer as Markdown text.)"
   ]
  },
  {
   "cell_type": "markdown",
   "metadata": {},
   "source": [
    " #### (Ngyms  X Mplayer_id) =N X M"
   ]
  },
  {
   "cell_type": "markdown",
   "metadata": {},
   "source": [
    "## 6. Calculate player \"power\".\n",
    "\n",
    "Define a function that will calculate a player's \"power\". Player power is defined as the sum of the base statistics all of their Pokemon.\n",
    "\n",
    "$$\n",
    "\\text{player power } = \\sum_{i = 1}^{n}\\text{attack}_i + \\text{defense}_i + \\text{special attack}_i + \\text{special defense}_i\n",
    "$$\n",
    "\n",
    "Where $i$ is an individual Pokemon in a player's `player_pokemon`. ($\\sum$ just means sum, so you're just adding up all the attributes listed above for all the Pokemon in the player's `player_pokemon`).\n",
    "\n",
    "Your function should:\n",
    "\n",
    "*  Accept a `poke_players` dictionary and a `player_id` as arguments.\n",
    "*  For the specified player_id, look up that player's Pokemon.\n",
    "*  Find and aggregate the attack and defense values for each of the player's Pokemon.\n",
    "*  Print \"[player name]'s power is [player power].\", where the player power is the sum of the base statistics for all of their Pokemon.\n",
    "*  Return the player's power value.\n",
    "\n",
    "Check your work by displaying Pokemon power for each of your players."
   ]
  },
  {
   "cell_type": "code",
   "execution_count": 353,
   "metadata": {},
   "outputs": [],
   "source": [
    "def get_power(player_id, player_dict = poke_players):\n",
    "    power = 0.0 \n",
    "    set_elements = ['attack','defense','special_attack','special_defense']  \n",
    "    for poke_id, poke_dict in player_dict[player_id]['player_pokemon'].items(): \n",
    "        for set_element in set_elements: \n",
    "            power += poke_dict[set_element] \n",
    "    print(\"{}'s power is {}\".format(player_dict[player_id]['player_name'], power))\n",
    "    return power"
   ]
  },
  {
   "cell_type": "code",
   "execution_count": 354,
   "metadata": {},
   "outputs": [
    {
     "name": "stdout",
     "output_type": "stream",
     "text": [
      "Maradona's power is 807.0\n",
      "807.0\n",
      "Bakos's power is 1238.0\n",
      "1238.0\n"
     ]
    }
   ],
   "source": [
    "for player_id in poke_players.keys():\n",
    "    print(get_power(player_id))"
   ]
  },
  {
   "cell_type": "markdown",
   "metadata": {},
   "source": [
    "## 7. Load a Pokedex file containing all the Pokemon\n",
    "\n",
    "### Load data using the `with open()` method.\n",
    "\n",
    "While you were putting together the prototype code, your colleagues were preparing a dataset of Pokemon and their attributes (This was a rush job, so they may have picked some crazy values for some...). Your task is to load the data into a list of lists so you can manipulate it.\n",
    "\n",
    "* The `type` of the data should be a `list`\n",
    "  * The `type` of each element in that list should be a `list`\n",
    "    * The `type` of each element in the sub-list should be `str` or `float`.\n",
    "\n",
    "The code provided loads the data into one looooong `str`. To get it into the correct format:\n",
    "* Use `your_string.replace()` to remove `\"`, where `your_string` is any object of type `str`. \n",
    "* Use `your_string.split()` to create a new row for each line. New lines are denoted with a `'\\n'`.\n",
    "* Iterate through your data. Use `try/except` to cast numeric data as type `float`. \n",
    "\n",
    "Your end result is effectively a matrix. Each list $i$ in the outer list is a row, and the $j$th elements of list together form the *j*th column, which represents a data attribute. The first three lists in your Pokedex list should look like this:\n",
    "\n",
    "    ['PokedexNumber', 'Name', 'Type', 'Total', 'HP', 'Attack', 'Defense', 'SpecialAttack', 'SpecialDefense', 'Speed']\n",
    "    [1.0, 'Bulbasaur', 'GrassPoison', 318.0, 45.0, 49.0, 49.0, 65.0, 65.0, 45.0]\n",
    "    [2.0, 'Ivysaur', 'GrassPoison', 405.0, 60.0, 62.0, 63.0, 80.0, 80.0, 60.0]\n",
    "    \n",
    "**WARNING:** Don't print or display your entire new pokedex! Viewing that many entries will clog up your notebook and make it difficult to read."
   ]
  },
  {
   "cell_type": "code",
   "execution_count": 358,
   "metadata": {},
   "outputs": [],
   "source": [
    "# Code to read in pokedex info\n",
    "raw_pd = ''\n",
    "pokedex_file = 'pokedex_basic.csv'\n",
    "with open(pokedex_file, 'r') as f:\n",
    "    raw_pd = f.read()\n",
    "    \n",
    "# the pokedex string is assigned to the raw_pd variable"
   ]
  },
  {
   "cell_type": "code",
   "execution_count": null,
   "metadata": {},
   "outputs": [],
   "source": [
    "new_pd = []"
   ]
  },
  {
   "cell_type": "code",
   "execution_count": null,
   "metadata": {},
   "outputs": [],
   "source": []
  },
  {
   "cell_type": "code",
   "execution_count": 359,
   "metadata": {},
   "outputs": [
    {
     "data": {
      "text/plain": [
       "['PokedexNumber,Name,Type,Total,HP,Attack,Defense,SpecialAttack,SpecialDefense,Speed']"
      ]
     },
     "execution_count": 359,
     "metadata": {},
     "output_type": "execute_result"
    }
   ],
   "source": [
    "#Use your_string.replace() to remove \", where your_string is any object of type str. \n",
    "remObj = raw_pd.replace('\"','').split('\\n')\n",
    "remObj[:1]"
   ]
  },
  {
   "cell_type": "code",
   "execution_count": 360,
   "metadata": {},
   "outputs": [
    {
     "data": {
      "text/plain": [
       "['PokedexNumber,Name,Type,Total,HP,Attack,Defense,SpecialAttack,SpecialDefense,Speed',\n",
       " '001,Bulbasaur,GrassPoison,318,45,49,49,65,65,45']"
      ]
     },
     "execution_count": 360,
     "metadata": {},
     "output_type": "execute_result"
    }
   ],
   "source": [
    "remObj[:2]"
   ]
  },
  {
   "cell_type": "code",
   "execution_count": 361,
   "metadata": {},
   "outputs": [
    {
     "data": {
      "text/plain": [
       "['PokedexNumber,Name,Type,Total,HP,Attack,Defense,SpecialAttack,SpecialDefense,Speed',\n",
       " '001,Bulbasaur,GrassPoison,318,45,49,49,65,65,45',\n",
       " '002,Ivysaur,GrassPoison,405,60,62,63,80,80,60']"
      ]
     },
     "execution_count": 361,
     "metadata": {},
     "output_type": "execute_result"
    }
   ],
   "source": [
    "remObj[:3]"
   ]
  },
  {
   "cell_type": "code",
   "execution_count": 369,
   "metadata": {},
   "outputs": [
    {
     "data": {
      "text/plain": [
       "[['PokedexNumber',\n",
       "  'Name',\n",
       "  'Type',\n",
       "  'Total',\n",
       "  'HP',\n",
       "  'Attack',\n",
       "  'Defense',\n",
       "  'SpecialAttack',\n",
       "  'SpecialDefense',\n",
       "  'Speed']]"
      ]
     },
     "execution_count": 369,
     "metadata": {},
     "output_type": "execute_result"
    }
   ],
   "source": [
    "#Use your_string.split() to create a new row for each line. New lines are denoted with a '\\n'\n",
    "update_pd = []\n",
    "for line in remObj:\n",
    "    update_pd.append(line.split(','))\n",
    "    \n",
    "update_pd[:1]"
   ]
  },
  {
   "cell_type": "code",
   "execution_count": 370,
   "metadata": {},
   "outputs": [
    {
     "data": {
      "text/plain": [
       "[['PokedexNumber',\n",
       "  'Name',\n",
       "  'Type',\n",
       "  'Total',\n",
       "  'HP',\n",
       "  'Attack',\n",
       "  'Defense',\n",
       "  'SpecialAttack',\n",
       "  'SpecialDefense',\n",
       "  'Speed'],\n",
       " ['001',\n",
       "  'Bulbasaur',\n",
       "  'GrassPoison',\n",
       "  '318',\n",
       "  '45',\n",
       "  '49',\n",
       "  '49',\n",
       "  '65',\n",
       "  '65',\n",
       "  '45']]"
      ]
     },
     "execution_count": 370,
     "metadata": {},
     "output_type": "execute_result"
    }
   ],
   "source": [
    "update_pd[:2]"
   ]
  },
  {
   "cell_type": "code",
   "execution_count": 374,
   "metadata": {},
   "outputs": [],
   "source": [
    "#Iterate through your data. Use try/except to cast numeric data as type float\n",
    "for m, line in enumerate(update_pd): \n",
    "    for k, item in enumerate(line): \n",
    "        try:\n",
    "            update_pd[m][k] = float(item) \n",
    "        except:\n",
    "            pass"
   ]
  },
  {
   "cell_type": "code",
   "execution_count": 375,
   "metadata": {},
   "outputs": [
    {
     "data": {
      "text/plain": [
       "[['PokedexNumber',\n",
       "  'Name',\n",
       "  'Type',\n",
       "  'Total',\n",
       "  'HP',\n",
       "  'Attack',\n",
       "  'Defense',\n",
       "  'SpecialAttack',\n",
       "  'SpecialDefense',\n",
       "  'Speed']]"
      ]
     },
     "execution_count": 375,
     "metadata": {},
     "output_type": "execute_result"
    }
   ],
   "source": [
    "update_pd[:1]"
   ]
  },
  {
   "cell_type": "code",
   "execution_count": 376,
   "metadata": {},
   "outputs": [
    {
     "data": {
      "text/plain": [
       "[['PokedexNumber',\n",
       "  'Name',\n",
       "  'Type',\n",
       "  'Total',\n",
       "  'HP',\n",
       "  'Attack',\n",
       "  'Defense',\n",
       "  'SpecialAttack',\n",
       "  'SpecialDefense',\n",
       "  'Speed'],\n",
       " [1.0, 'Bulbasaur', 'GrassPoison', 318.0, 45.0, 49.0, 49.0, 65.0, 65.0, 45.0]]"
      ]
     },
     "execution_count": 376,
     "metadata": {},
     "output_type": "execute_result"
    }
   ],
   "source": [
    "update_pd[:2]"
   ]
  },
  {
   "cell_type": "markdown",
   "metadata": {},
   "source": [
    "## 8. Changing Types\n",
    "\n",
    "### A) Convert your data into a dictionary.\n",
    "\n",
    "Your `dict` should...\n",
    "* have `keys` of the new `pokedex` as the `PokedexNumber`\n",
    "* have `values` containing data for each pokemon in a dictionary form, just like our `pokedex` from before\n",
    "  * Keep in mind, the `keys` here are a little bit different than the original `pokedex`.\n",
    "  * Be careful of the header, you do not want to include that as a Pokemon.\n",
    "* **WARNING:** Don't display your entire `pokedex` when turning this in! Viewing that many entries will clog up your notebook and make it difficult to read. If you'd like to visualize your `pokedex`, index with a few of its `keys`.\n",
    "\n",
    "Your `new_pd_dict` should be organized like...\n",
    "\n",
    "```python\n",
    "{1.0: {'Attack': 49.0,\n",
    "  'Defense': 49.0,\n",
    "  'HP': 45.0,\n",
    "  'Name': 'Bulbasaur',\n",
    "  'PokedexNumber': 1.0,\n",
    "  'SpecialAttack': 65.0,\n",
    "  'SpecialDefense': 65.0,\n",
    "  'Speed': 45.0,\n",
    "  'Total': 318.0,\n",
    "  'Type': 'GrassPoison'},\n",
    " 2.0: {'Attack': 62.0,\n",
    "  'Defense': 63.0,\n",
    "  'HP': 60.0,\n",
    "  'Name': 'Ivysaur',\n",
    "```"
   ]
  },
  {
   "cell_type": "code",
   "execution_count": 385,
   "metadata": {},
   "outputs": [],
   "source": [
    "header = update_pd[100] \n",
    "body = new_pd[1:] \n",
    "updated_pd_dict = {} \n",
    "for row in body:\n",
    "    poke = {x:z for x,z in zip(header, row)} \n",
    "    updated_pd_dict[poke['PokedexNumber']] = poke"
   ]
  },
  {
   "cell_type": "code",
   "execution_count": 386,
   "metadata": {},
   "outputs": [
    {
     "data": {
      "text/plain": [
       "dict_keys([])"
      ]
     },
     "execution_count": 386,
     "metadata": {},
     "output_type": "execute_result"
    }
   ],
   "source": [
    "updated_pd_dict.keys()"
   ]
  },
  {
   "cell_type": "code",
   "execution_count": null,
   "metadata": {},
   "outputs": [],
   "source": []
  }
 ],
 "metadata": {
  "anaconda-cloud": {},
  "kernelspec": {
   "display_name": "Python 3",
   "language": "python",
   "name": "python3"
  },
  "language_info": {
   "codemirror_mode": {
    "name": "ipython",
    "version": 3
   },
   "file_extension": ".py",
   "mimetype": "text/x-python",
   "name": "python",
   "nbconvert_exporter": "python",
   "pygments_lexer": "ipython3",
   "version": "3.8.8"
  }
 },
 "nbformat": 4,
 "nbformat_minor": 4
}
