{
 "cells": [
  {
   "cell_type": "markdown",
   "metadata": {},
   "source": [
    "# Intro to Regression with Tensorflow & Keras\n",
    "\n",
    "**OBJECTIVES**\n",
    "\n",
    "- Build regression models using `tensorflow` & `keras`\n",
    "- Refine models by adjusting the architecture of a network\n",
    "- Use regularization to attempt performance improvement\n",
    "- Save and reuse the model"
   ]
  },
  {
   "cell_type": "code",
   "execution_count": 24,
   "metadata": {},
   "outputs": [],
   "source": [
    "import matplotlib.pyplot as plt\n",
    "import numpy as np\n",
    "import pandas as pd\n",
    "\n",
    "from sklearn.datasets import fetch_california_housing\n",
    "from sklearn.model_selection import train_test_split\n",
    "from sklearn.preprocessing import StandardScaler\n",
    "import h5py\n",
    "from sklearn.metrics import explained_variance_score, mean_squared_error\n",
    "from tensorflow.keras.models import Sequential\n",
    "from tensorflow.keras.layers import Dense, Dropout, BatchNormalization\n",
    "from tensorflow.keras.regularizers import l1, l2, l1_l2"
   ]
  },
  {
   "cell_type": "code",
   "execution_count": 25,
   "metadata": {},
   "outputs": [],
   "source": [
    "cali = fetch_california_housing()\n",
    "X, y = cali.data, cali.target"
   ]
  },
  {
   "cell_type": "markdown",
   "metadata": {},
   "source": [
    "### Part 1\n",
    "\n",
    "Load the california housing data and create a dataframe called `cali_df` below.  Make sure to add the target feature and name this `price`. "
   ]
  },
  {
   "cell_type": "code",
   "execution_count": 26,
   "metadata": {},
   "outputs": [],
   "source": [
    "X = pd.DataFrame(cali.data, columns=cali.feature_names)\n",
    "y = pd.DataFrame(cali.target)"
   ]
  },
  {
   "cell_type": "code",
   "execution_count": 27,
   "metadata": {},
   "outputs": [],
   "source": [
    "X = pd.DataFrame(cali.data, columns=cali.feature_names)\n",
    "y = pd.DataFrame(cali.target)\n",
    "y.columns = ['price']"
   ]
  },
  {
   "cell_type": "code",
   "execution_count": 28,
   "metadata": {},
   "outputs": [
    {
     "data": {
      "text/plain": [
       "(20640, 9)"
      ]
     },
     "execution_count": 28,
     "metadata": {},
     "output_type": "execute_result"
    }
   ],
   "source": [
    "# Let's keep everything in one df for easy access\n",
    "cali_df = pd.concat([X, y], axis=1)\n",
    "cali_df.shape"
   ]
  },
  {
   "cell_type": "code",
   "execution_count": 29,
   "metadata": {},
   "outputs": [
    {
     "data": {
      "text/html": [
       "<div>\n",
       "<style scoped>\n",
       "    .dataframe tbody tr th:only-of-type {\n",
       "        vertical-align: middle;\n",
       "    }\n",
       "\n",
       "    .dataframe tbody tr th {\n",
       "        vertical-align: top;\n",
       "    }\n",
       "\n",
       "    .dataframe thead th {\n",
       "        text-align: right;\n",
       "    }\n",
       "</style>\n",
       "<table border=\"1\" class=\"dataframe\">\n",
       "  <thead>\n",
       "    <tr style=\"text-align: right;\">\n",
       "      <th></th>\n",
       "      <th>MedInc</th>\n",
       "      <th>HouseAge</th>\n",
       "      <th>AveRooms</th>\n",
       "      <th>AveBedrms</th>\n",
       "      <th>Population</th>\n",
       "      <th>AveOccup</th>\n",
       "      <th>Latitude</th>\n",
       "      <th>Longitude</th>\n",
       "      <th>price</th>\n",
       "    </tr>\n",
       "  </thead>\n",
       "  <tbody>\n",
       "    <tr>\n",
       "      <th>0</th>\n",
       "      <td>8.3252</td>\n",
       "      <td>41.0</td>\n",
       "      <td>6.984127</td>\n",
       "      <td>1.023810</td>\n",
       "      <td>322.0</td>\n",
       "      <td>2.555556</td>\n",
       "      <td>37.88</td>\n",
       "      <td>-122.23</td>\n",
       "      <td>4.526</td>\n",
       "    </tr>\n",
       "    <tr>\n",
       "      <th>1</th>\n",
       "      <td>8.3014</td>\n",
       "      <td>21.0</td>\n",
       "      <td>6.238137</td>\n",
       "      <td>0.971880</td>\n",
       "      <td>2401.0</td>\n",
       "      <td>2.109842</td>\n",
       "      <td>37.86</td>\n",
       "      <td>-122.22</td>\n",
       "      <td>3.585</td>\n",
       "    </tr>\n",
       "    <tr>\n",
       "      <th>2</th>\n",
       "      <td>7.2574</td>\n",
       "      <td>52.0</td>\n",
       "      <td>8.288136</td>\n",
       "      <td>1.073446</td>\n",
       "      <td>496.0</td>\n",
       "      <td>2.802260</td>\n",
       "      <td>37.85</td>\n",
       "      <td>-122.24</td>\n",
       "      <td>3.521</td>\n",
       "    </tr>\n",
       "    <tr>\n",
       "      <th>3</th>\n",
       "      <td>5.6431</td>\n",
       "      <td>52.0</td>\n",
       "      <td>5.817352</td>\n",
       "      <td>1.073059</td>\n",
       "      <td>558.0</td>\n",
       "      <td>2.547945</td>\n",
       "      <td>37.85</td>\n",
       "      <td>-122.25</td>\n",
       "      <td>3.413</td>\n",
       "    </tr>\n",
       "    <tr>\n",
       "      <th>4</th>\n",
       "      <td>3.8462</td>\n",
       "      <td>52.0</td>\n",
       "      <td>6.281853</td>\n",
       "      <td>1.081081</td>\n",
       "      <td>565.0</td>\n",
       "      <td>2.181467</td>\n",
       "      <td>37.85</td>\n",
       "      <td>-122.25</td>\n",
       "      <td>3.422</td>\n",
       "    </tr>\n",
       "  </tbody>\n",
       "</table>\n",
       "</div>"
      ],
      "text/plain": [
       "   MedInc  HouseAge  AveRooms  AveBedrms  Population  AveOccup  Latitude  \\\n",
       "0  8.3252      41.0  6.984127   1.023810       322.0  2.555556     37.88   \n",
       "1  8.3014      21.0  6.238137   0.971880      2401.0  2.109842     37.86   \n",
       "2  7.2574      52.0  8.288136   1.073446       496.0  2.802260     37.85   \n",
       "3  5.6431      52.0  5.817352   1.073059       558.0  2.547945     37.85   \n",
       "4  3.8462      52.0  6.281853   1.081081       565.0  2.181467     37.85   \n",
       "\n",
       "   Longitude  price  \n",
       "0    -122.23  4.526  \n",
       "1    -122.22  3.585  \n",
       "2    -122.24  3.521  \n",
       "3    -122.25  3.413  \n",
       "4    -122.25  3.422  "
      ]
     },
     "execution_count": 29,
     "metadata": {},
     "output_type": "execute_result"
    }
   ],
   "source": [
    "cali_df.head()"
   ]
  },
  {
   "cell_type": "markdown",
   "metadata": {},
   "source": [
    "### Part 2\n",
    "\n",
    "Create a train/test split using some of the features in your X and setting y to be the `price` column."
   ]
  },
  {
   "cell_type": "code",
   "execution_count": 30,
   "metadata": {},
   "outputs": [],
   "source": [
    "X = cali_df.drop(['price'], axis=1)\n",
    "y = cali_df['price']"
   ]
  },
  {
   "cell_type": "code",
   "execution_count": 31,
   "metadata": {},
   "outputs": [],
   "source": [
    "X_train, X_test, y_train, y_test = train_test_split(X, y, random_state=42)"
   ]
  },
  {
   "cell_type": "code",
   "execution_count": 32,
   "metadata": {},
   "outputs": [],
   "source": [
    "sc = StandardScaler()\n",
    "X_train_sc = sc.fit_transform(X_train)\n",
    "X_test_sc = sc.transform(X_test)"
   ]
  },
  {
   "cell_type": "markdown",
   "metadata": {},
   "source": [
    "### Part 3\n",
    "\n",
    "Setup a `Sequential` model with one layer containing 24 nodes.  Make sure to include the output layer and use a relu activation for the hidden layer."
   ]
  },
  {
   "cell_type": "code",
   "execution_count": 33,
   "metadata": {},
   "outputs": [],
   "source": [
    "model = Sequential()\n",
    "model.add(Dense(24, \n",
    "                input_shape=(8,),\n",
    "                activation='relu'))\n",
    "model.add(Dense(24, activation='relu'))\n",
    "model.add(Dense(1))"
   ]
  },
  {
   "cell_type": "markdown",
   "metadata": {},
   "source": [
    "### Part 3 - continued\n",
    "\n",
    "Set up the compilation of the network.  Use an adam optimizer and appropriate loss function with the mean squared error metric."
   ]
  },
  {
   "cell_type": "code",
   "execution_count": 34,
   "metadata": {},
   "outputs": [],
   "source": [
    "model.compile(loss='mse', optimizer='adam', metrics=['accuracy'])"
   ]
  },
  {
   "cell_type": "markdown",
   "metadata": {},
   "source": [
    "### Part 4\n",
    "\n",
    "Fit the model on the training data with 100 epochs (and sequester the output with `verbose = 0`). Save the fit model to the variable `history`."
   ]
  },
  {
   "cell_type": "code",
   "execution_count": 35,
   "metadata": {},
   "outputs": [],
   "source": [
    "history = model.fit(X_train_sc, y_train, validation_data=(X_test_sc, y_test), \n",
    "          epochs=100, batch_size=512, verbose=0);"
   ]
  },
  {
   "cell_type": "markdown",
   "metadata": {},
   "source": [
    "### Part 5\n",
    "\n",
    "Use `matplotlib` to plot the training loss and validation loss, and the training mean squared error alongside the validation data.  Side by side subplots please."
   ]
  },
  {
   "cell_type": "code",
   "execution_count": 36,
   "metadata": {},
   "outputs": [
    {
     "data": {
      "image/png": "[encoded data removed]",
      "text/plain": [
       "<Figure size 432x288 with 1 Axes>"
      ]
     },
     "metadata": {
      "needs_background": "light"
     },
     "output_type": "display_data"
    }
   ],
   "source": [
    "plt.plot(history.history['loss'], label='Train loss')\n",
    "plt.plot(history.history['accuracy'], label='Train accuracy')\n",
    "plt.legend();"
   ]
  },
  {
   "cell_type": "markdown",
   "metadata": {},
   "source": [
    "### Part 6\n",
    "\n",
    "Let's make a second network that is a bit deeper and more complex. Also, let's now use all the features and see if we help the model.  Use 3 layers, with 64, 128, and 64 nodes respectively in the hidden layers and a `relu` activation function."
   ]
  },
  {
   "cell_type": "code",
   "execution_count": 37,
   "metadata": {},
   "outputs": [],
   "source": [
    "model = Sequential()\n",
    "model.add(Dense(64, \n",
    "                input_shape=(8,),\n",
    "                activation='relu'))\n",
    "model.add(Dense(128, activation='relu'))\n",
    "model.add(Dense(64))"
   ]
  },
  {
   "cell_type": "markdown",
   "metadata": {},
   "source": [
    "### Part 7\n",
    "\n",
    "Add a `BatchNormalization` layer prior to our first dense layer in the network above and repeat the fit."
   ]
  },
  {
   "cell_type": "code",
   "execution_count": 38,
   "metadata": {},
   "outputs": [],
   "source": [
    "from tensorflow.keras.layers import Dense, BatchNormalization\n",
    "\n",
    "model = Sequential()\n",
    "model.add(Dense(64, \n",
    "                input_shape=(8,),\n",
    "                activation='relu'))\n",
    "BatchNormalization(),\n",
    "model.add(Dense(128, activation='relu'))\n",
    "BatchNormalization(),\n",
    "model.add(Dense(64))"
   ]
  },
  {
   "cell_type": "code",
   "execution_count": 39,
   "metadata": {},
   "outputs": [],
   "source": [
    "model.compile(loss='mse', optimizer='adam', metrics=['accuracy'])"
   ]
  },
  {
   "cell_type": "code",
   "execution_count": 40,
   "metadata": {},
   "outputs": [],
   "source": [
    "history = model.fit(X_train_sc, y_train, validation_data=(X_test_sc, y_test), \n",
    "          epochs=100, batch_size=512, verbose=0);"
   ]
  },
  {
   "cell_type": "code",
   "execution_count": 41,
   "metadata": {},
   "outputs": [
    {
     "data": {
      "image/png": "[encoded data removed]",
      "text/plain": [
       "<Figure size 432x288 with 1 Axes>"
      ]
     },
     "metadata": {
      "needs_background": "light"
     },
     "output_type": "display_data"
    }
   ],
   "source": [
    "plt.plot(history.history['loss'], label='Train loss')\n",
    "plt.plot(history.history['accuracy'], label='Train accuracy')\n",
    "plt.legend();"
   ]
  },
  {
   "cell_type": "markdown",
   "metadata": {},
   "source": [
    "##### Does this change anything?"
   ]
  },
  {
   "cell_type": "markdown",
   "metadata": {},
   "source": [
    "Answer: Yes it has change. As shown in the figure the train lose higher with the values lower than about 15. "
   ]
  },
  {
   "cell_type": "markdown",
   "metadata": {},
   "source": [
    "### Part 8\n",
    "\n",
    "Early Stopping.  It seems that we may not need all 100 epochs to train the data.  Include an `EarlyStopping` callback in your model from above.  Set the `patience` equal to 5.  How many epochs do you think are appropriate?"
   ]
  },
  {
   "cell_type": "code",
   "execution_count": 42,
   "metadata": {},
   "outputs": [
    {
     "name": "stdout",
     "output_type": "stream",
     "text": [
      "Epoch 1/100\n",
      "484/484 [==============================] - 0s 698us/step - loss: 307.9182 - accuracy: 0.0000e+00 - val_loss: 4.1016 - val_accuracy: 0.0000e+00\n",
      "Epoch 2/100\n",
      "484/484 [==============================] - 0s 588us/step - loss: 4.1370 - accuracy: 2.5840e-04 - val_loss: 1.5793 - val_accuracy: 0.0000e+00\n",
      "Epoch 3/100\n",
      "484/484 [==============================] - 0s 620us/step - loss: 2.2794 - accuracy: 1.2920e-04 - val_loss: 1.4628 - val_accuracy: 0.0000e+00\n",
      "Epoch 4/100\n",
      "484/484 [==============================] - 0s 620us/step - loss: 2.9399 - accuracy: 1.9380e-04 - val_loss: 1.8478 - val_accuracy: 0.0000e+00\n",
      "Epoch 5/100\n",
      "484/484 [==============================] - 0s 588us/step - loss: 3.0762 - accuracy: 1.9380e-04 - val_loss: 5.0029 - val_accuracy: 3.8760e-04\n",
      "Epoch 6/100\n",
      "484/484 [==============================] - 0s 620us/step - loss: 10.0684 - accuracy: 1.9380e-04 - val_loss: 2.4464 - val_accuracy: 0.0000e+00\n",
      "Epoch 7/100\n",
      "484/484 [==============================] - 0s 621us/step - loss: 1.5951 - accuracy: 1.2920e-04 - val_loss: 0.9512 - val_accuracy: 0.0000e+00\n",
      "Epoch 8/100\n",
      "484/484 [==============================] - 0s 575us/step - loss: 1.1596 - accuracy: 1.2920e-04 - val_loss: 0.9338 - val_accuracy: 1.9380e-04\n",
      "Epoch 9/100\n",
      "484/484 [==============================] - 0s 620us/step - loss: 1.5402 - accuracy: 1.2920e-04 - val_loss: 0.8680 - val_accuracy: 5.8140e-04\n",
      "Epoch 10/100\n",
      "484/484 [==============================] - 0s 589us/step - loss: 5.3773 - accuracy: 3.2300e-04 - val_loss: 0.8123 - val_accuracy: 0.0000e+00\n",
      "Epoch 11/100\n",
      "484/484 [==============================] - 0s 588us/step - loss: 2.6729 - accuracy: 1.2920e-04 - val_loss: 0.8202 - val_accuracy: 9.6899e-04\n",
      "Epoch 12/100\n",
      "484/484 [==============================] - 0s 620us/step - loss: 1.0212 - accuracy: 6.4599e-05 - val_loss: 0.7537 - val_accuracy: 0.0000e+00\n",
      "Epoch 13/100\n",
      "484/484 [==============================] - 0s 588us/step - loss: 1.2493 - accuracy: 1.9380e-04 - val_loss: 0.6983 - val_accuracy: 7.7519e-04\n",
      "Epoch 14/100\n",
      "484/484 [==============================] - 0s 599us/step - loss: 3.6269 - accuracy: 0.0000e+00 - val_loss: 0.6712 - val_accuracy: 0.0000e+00\n",
      "Epoch 15/100\n",
      "484/484 [==============================] - 0s 608us/step - loss: 0.9587 - accuracy: 0.0000e+00 - val_loss: 2.2256 - val_accuracy: 0.0000e+00\n",
      "Epoch 16/100\n",
      "484/484 [==============================] - 0s 621us/step - loss: 0.9889 - accuracy: 6.4599e-05 - val_loss: 0.8346 - val_accuracy: 0.0000e+00\n",
      "Epoch 17/100\n",
      "484/484 [==============================] - 0s 587us/step - loss: 1.0676 - accuracy: 6.4599e-05 - val_loss: 4.8567 - val_accuracy: 0.0000e+00\n",
      "Epoch 18/100\n",
      "484/484 [==============================] - 0s 621us/step - loss: 1.7957 - accuracy: 6.4599e-05 - val_loss: 0.6749 - val_accuracy: 0.0000e+00\n",
      "Epoch 19/100\n",
      "484/484 [==============================] - 0s 621us/step - loss: 0.9094 - accuracy: 1.2920e-04 - val_loss: 0.7422 - val_accuracy: 0.0000e+00\n",
      "Epoch 00019: early stopping\n"
     ]
    }
   ],
   "source": [
    "from tensorflow.keras.callbacks import EarlyStopping\n",
    "\n",
    "model = Sequential()\n",
    "model.add(Dense(64, \n",
    "                input_shape=(8,),\n",
    "                activation='relu'))\n",
    "BatchNormalization(),\n",
    "model.add(Dense(128, activation='relu'))\n",
    "BatchNormalization(),\n",
    "model.add(Dense(64))\n",
    "\n",
    "model.compile(loss='mse', optimizer='adam', metrics=['accuracy'])\n",
    "\n",
    "early_stop = EarlyStopping(monitor='val_loss', min_delta=0, patience=5, \n",
    "                           verbose=1, mode='auto')\n",
    "\n",
    "history= model.fit(\n",
    "    X_train,\n",
    "    y_train,\n",
    "    validation_data=(X_test, y_test),\n",
    "    epochs=100,\n",
    "    batch_size=None,\n",
    "    callbacks=[early_stop]\n",
    ")"
   ]
  },
  {
   "cell_type": "markdown",
   "metadata": {},
   "source": [
    "Answer: The results confirmed the number of Epoch to be 16."
   ]
  },
  {
   "cell_type": "markdown",
   "metadata": {},
   "source": [
    "### Part 9\n",
    "\n",
    "Adding `Dropout`.  Let's add a 5% dropout to the second layer, and a 20% dropout to the third layer and see if we end up stopping sooner or performing better."
   ]
  },
  {
   "cell_type": "code",
   "execution_count": 43,
   "metadata": {},
   "outputs": [
    {
     "name": "stdout",
     "output_type": "stream",
     "text": [
      "Epoch 1/100\n",
      "484/484 [==============================] - 0s 891us/step - loss: 525.1614 - accuracy: 0.0000e+00 - val_loss: 2.6767 - val_accuracy: 0.0000e+00\n",
      "Epoch 2/100\n",
      "484/484 [==============================] - 0s 796us/step - loss: 3.1112 - accuracy: 6.4599e-05 - val_loss: 1.9804 - val_accuracy: 0.0000e+00\n",
      "Epoch 3/100\n",
      "484/484 [==============================] - 0s 793us/step - loss: 2.2041 - accuracy: 1.2920e-04 - val_loss: 1.3189 - val_accuracy: 0.0000e+00\n",
      "Epoch 4/100\n",
      "484/484 [==============================] - 0s 800us/step - loss: 1.9348 - accuracy: 0.0000e+00 - val_loss: 1.5152 - val_accuracy: 0.0000e+00\n",
      "Epoch 5/100\n",
      "484/484 [==============================] - 0s 790us/step - loss: 1.8201 - accuracy: 1.2920e-04 - val_loss: 1.3200 - val_accuracy: 0.0000e+00\n",
      "Epoch 6/100\n",
      "484/484 [==============================] - 0s 791us/step - loss: 1.7857 - accuracy: 0.0000e+00 - val_loss: 1.2776 - val_accuracy: 0.0000e+00\n",
      "Epoch 7/100\n",
      "484/484 [==============================] - 0s 796us/step - loss: 1.6898 - accuracy: 0.0000e+00 - val_loss: 1.2236 - val_accuracy: 0.0000e+00\n",
      "Epoch 8/100\n",
      "484/484 [==============================] - 0s 796us/step - loss: 1.6665 - accuracy: 0.0000e+00 - val_loss: 1.2117 - val_accuracy: 0.0000e+00\n",
      "Epoch 9/100\n",
      "484/484 [==============================] - 0s 796us/step - loss: 1.5900 - accuracy: 0.0000e+00 - val_loss: 1.2460 - val_accuracy: 0.0000e+00\n",
      "Epoch 10/100\n",
      "484/484 [==============================] - 0s 786us/step - loss: 1.5243 - accuracy: 0.0000e+00 - val_loss: 1.1919 - val_accuracy: 0.0000e+00\n",
      "Epoch 11/100\n",
      "484/484 [==============================] - 0s 830us/step - loss: 1.4198 - accuracy: 1.2920e-04 - val_loss: 0.9308 - val_accuracy: 0.0000e+00\n",
      "Epoch 12/100\n",
      "484/484 [==============================] - 0s 821us/step - loss: 1.2350 - accuracy: 0.0000e+00 - val_loss: 0.9116 - val_accuracy: 0.0000e+00\n",
      "Epoch 13/100\n",
      "484/484 [==============================] - 0s 795us/step - loss: 1.0733 - accuracy: 0.0000e+00 - val_loss: 0.8406 - val_accuracy: 0.0000e+00\n",
      "Epoch 14/100\n",
      "484/484 [==============================] - 0s 827us/step - loss: 0.9507 - accuracy: 0.0000e+00 - val_loss: 0.6976 - val_accuracy: 0.0000e+00\n",
      "Epoch 15/100\n",
      "484/484 [==============================] - 0s 795us/step - loss: 0.8810 - accuracy: 0.0000e+00 - val_loss: 0.6445 - val_accuracy: 0.0000e+00\n",
      "Epoch 16/100\n",
      "484/484 [==============================] - 0s 795us/step - loss: 0.8427 - accuracy: 0.0000e+00 - val_loss: 0.6702 - val_accuracy: 0.0000e+00\n",
      "Epoch 17/100\n",
      "484/484 [==============================] - 0s 827us/step - loss: 0.8000 - accuracy: 0.0000e+00 - val_loss: 0.5920 - val_accuracy: 0.0000e+00\n",
      "Epoch 18/100\n",
      "484/484 [==============================] - 0s 795us/step - loss: 0.7842 - accuracy: 0.0000e+00 - val_loss: 0.6180 - val_accuracy: 1.9380e-04\n",
      "Epoch 19/100\n",
      "484/484 [==============================] - 0s 795us/step - loss: 0.8903 - accuracy: 6.4599e-05 - val_loss: 0.7077 - val_accuracy: 0.0000e+00\n",
      "Epoch 20/100\n",
      "484/484 [==============================] - 0s 828us/step - loss: 0.8517 - accuracy: 0.0000e+00 - val_loss: 0.6394 - val_accuracy: 0.0000e+00\n",
      "Epoch 21/100\n",
      "484/484 [==============================] - 0s 814us/step - loss: 0.8157 - accuracy: 1.9380e-04 - val_loss: 0.6048 - val_accuracy: 0.0000e+00\n",
      "Epoch 22/100\n",
      "484/484 [==============================] - 0s 796us/step - loss: 0.7653 - accuracy: 2.5840e-04 - val_loss: 0.6576 - val_accuracy: 0.0000e+00\n",
      "Epoch 23/100\n",
      "484/484 [==============================] - 0s 797us/step - loss: 0.7454 - accuracy: 0.0000e+00 - val_loss: 0.6376 - val_accuracy: 0.0000e+00\n",
      "Epoch 24/100\n",
      "484/484 [==============================] - 0s 791us/step - loss: 0.7522 - accuracy: 1.2920e-04 - val_loss: 0.7129 - val_accuracy: 0.0000e+00\n",
      "Epoch 25/100\n",
      "484/484 [==============================] - 0s 796us/step - loss: 0.8189 - accuracy: 0.0000e+00 - val_loss: 0.6082 - val_accuracy: 0.0000e+00\n",
      "Epoch 26/100\n",
      "484/484 [==============================] - 0s 827us/step - loss: 0.7497 - accuracy: 5.8140e-04 - val_loss: 0.6196 - val_accuracy: 0.0000e+00\n",
      "Epoch 27/100\n",
      "484/484 [==============================] - 0s 797us/step - loss: 0.7396 - accuracy: 1.9380e-04 - val_loss: 0.6078 - val_accuracy: 0.0000e+00\n",
      "Epoch 28/100\n",
      "484/484 [==============================] - 0s 831us/step - loss: 0.7325 - accuracy: 1.2920e-04 - val_loss: 0.6562 - val_accuracy: 0.0000e+00\n",
      "Epoch 29/100\n",
      "484/484 [==============================] - 0s 791us/step - loss: 0.7498 - accuracy: 6.4599e-05 - val_loss: 0.6809 - val_accuracy: 0.0000e+00\n",
      "Epoch 30/100\n",
      "484/484 [==============================] - 0s 827us/step - loss: 0.7241 - accuracy: 7.1059e-04 - val_loss: 0.6499 - val_accuracy: 0.0000e+00\n",
      "Epoch 31/100\n",
      "484/484 [==============================] - 0s 796us/step - loss: 0.7338 - accuracy: 1.2920e-04 - val_loss: 0.6347 - val_accuracy: 0.0000e+00\n",
      "Epoch 32/100\n",
      "484/484 [==============================] - 0s 814us/step - loss: 0.7219 - accuracy: 2.5840e-04 - val_loss: 0.6713 - val_accuracy: 0.0000e+00\n",
      "Epoch 33/100\n",
      "484/484 [==============================] - 0s 802us/step - loss: 0.7156 - accuracy: 6.4599e-05 - val_loss: 0.5721 - val_accuracy: 0.0000e+00\n",
      "Epoch 34/100\n",
      "484/484 [==============================] - 0s 789us/step - loss: 0.7290 - accuracy: 0.0000e+00 - val_loss: 0.6068 - val_accuracy: 0.0000e+00\n",
      "Epoch 35/100\n",
      "484/484 [==============================] - 0s 827us/step - loss: 0.7178 - accuracy: 0.0000e+00 - val_loss: 0.6133 - val_accuracy: 0.0000e+00\n",
      "Epoch 36/100\n",
      "484/484 [==============================] - 0s 795us/step - loss: 0.7016 - accuracy: 0.0000e+00 - val_loss: 0.7239 - val_accuracy: 0.0000e+00\n",
      "Epoch 37/100\n",
      "484/484 [==============================] - 0s 795us/step - loss: 0.7115 - accuracy: 0.0000e+00 - val_loss: 0.5716 - val_accuracy: 0.0000e+00\n",
      "Epoch 38/100\n",
      "484/484 [==============================] - 0s 795us/step - loss: 0.7058 - accuracy: 6.4599e-05 - val_loss: 0.5546 - val_accuracy: 0.0000e+00\n",
      "Epoch 39/100\n",
      "484/484 [==============================] - 0s 796us/step - loss: 0.7124 - accuracy: 0.0000e+00 - val_loss: 0.5839 - val_accuracy: 0.0000e+00\n",
      "Epoch 40/100\n",
      "484/484 [==============================] - 0s 815us/step - loss: 0.6983 - accuracy: 0.0000e+00 - val_loss: 0.6183 - val_accuracy: 0.0000e+00\n",
      "Epoch 41/100\n",
      "484/484 [==============================] - 0s 799us/step - loss: 0.7259 - accuracy: 0.0000e+00 - val_loss: 0.5419 - val_accuracy: 0.0000e+00\n",
      "Epoch 42/100\n",
      "484/484 [==============================] - 0s 790us/step - loss: 0.7013 - accuracy: 0.0000e+00 - val_loss: 0.5752 - val_accuracy: 0.0000e+00\n",
      "Epoch 43/100\n",
      "484/484 [==============================] - 0s 796us/step - loss: 0.9442 - accuracy: 6.4599e-05 - val_loss: 0.5683 - val_accuracy: 0.0000e+00\n",
      "Epoch 44/100\n",
      "484/484 [==============================] - 0s 795us/step - loss: 0.7202 - accuracy: 1.9380e-04 - val_loss: 0.5755 - val_accuracy: 3.8760e-04\n",
      "Epoch 45/100\n",
      "484/484 [==============================] - 0s 794us/step - loss: 0.7467 - accuracy: 3.8760e-04 - val_loss: 0.5931 - val_accuracy: 3.8760e-04\n",
      "Epoch 46/100\n",
      "484/484 [==============================] - 0s 795us/step - loss: 0.7152 - accuracy: 6.4599e-05 - val_loss: 0.5486 - val_accuracy: 0.0000e+00\n",
      "Epoch 47/100\n",
      "484/484 [==============================] - 0s 795us/step - loss: 0.7083 - accuracy: 1.2920e-04 - val_loss: 0.5723 - val_accuracy: 0.0000e+00\n",
      "Epoch 48/100\n",
      "484/484 [==============================] - 0s 782us/step - loss: 0.7102 - accuracy: 5.8140e-04 - val_loss: 0.5477 - val_accuracy: 0.0000e+00\n",
      "Epoch 49/100\n",
      "484/484 [==============================] - 0s 795us/step - loss: 0.7057 - accuracy: 3.2300e-04 - val_loss: 0.5582 - val_accuracy: 0.0000e+00\n",
      "Epoch 50/100\n",
      "484/484 [==============================] - 0s 795us/step - loss: 0.7065 - accuracy: 6.4599e-05 - val_loss: 0.5346 - val_accuracy: 0.0000e+00\n",
      "Epoch 51/100\n",
      "484/484 [==============================] - 0s 796us/step - loss: 0.6951 - accuracy: 0.0000e+00 - val_loss: 0.5537 - val_accuracy: 0.0000e+00\n",
      "Epoch 52/100\n",
      "484/484 [==============================] - 0s 794us/step - loss: 0.6938 - accuracy: 6.4599e-04 - val_loss: 0.5459 - val_accuracy: 9.6899e-04\n",
      "Epoch 53/100\n",
      "484/484 [==============================] - 0s 794us/step - loss: 0.6903 - accuracy: 6.4599e-05 - val_loss: 0.5714 - val_accuracy: 0.0000e+00\n",
      "Epoch 54/100\n",
      "484/484 [==============================] - 0s 795us/step - loss: 0.6775 - accuracy: 6.4599e-05 - val_loss: 0.5695 - val_accuracy: 0.0000e+00\n",
      "Epoch 55/100\n",
      "484/484 [==============================] - 0s 813us/step - loss: 0.6961 - accuracy: 3.8760e-04 - val_loss: 0.6281 - val_accuracy: 1.9380e-04\n",
      "Epoch 56/100\n",
      "484/484 [==============================] - 0s 796us/step - loss: 0.6888 - accuracy: 5.1680e-04 - val_loss: 0.5836 - val_accuracy: 0.0000e+00\n",
      "Epoch 57/100\n",
      "484/484 [==============================] - 0s 795us/step - loss: 0.6918 - accuracy: 5.8140e-04 - val_loss: 0.5347 - val_accuracy: 0.0000e+00\n",
      "Epoch 58/100\n",
      "484/484 [==============================] - 0s 798us/step - loss: 0.7005 - accuracy: 5.8140e-04 - val_loss: 0.5515 - val_accuracy: 1.9380e-04\n",
      "Epoch 59/100\n",
      "484/484 [==============================] - 0s 793us/step - loss: 0.6928 - accuracy: 1.2920e-04 - val_loss: 0.5208 - val_accuracy: 1.9380e-04\n",
      "Epoch 60/100\n",
      "484/484 [==============================] - 0s 796us/step - loss: 0.6936 - accuracy: 0.0000e+00 - val_loss: 0.5562 - val_accuracy: 0.0000e+00\n",
      "Epoch 61/100\n",
      "484/484 [==============================] - 0s 827us/step - loss: 0.6941 - accuracy: 0.0000e+00 - val_loss: 0.5350 - val_accuracy: 0.0000e+00\n",
      "Epoch 62/100\n",
      "484/484 [==============================] - 0s 794us/step - loss: 0.7127 - accuracy: 1.9380e-04 - val_loss: 0.6427 - val_accuracy: 0.0000e+00\n",
      "Epoch 63/100\n",
      "484/484 [==============================] - 0s 781us/step - loss: 0.6827 - accuracy: 0.0000e+00 - val_loss: 0.5510 - val_accuracy: 0.0000e+00\n",
      "Epoch 64/100\n",
      "484/484 [==============================] - 0s 826us/step - loss: 0.6878 - accuracy: 0.0000e+00 - val_loss: 0.5432 - val_accuracy: 0.0000e+00\n",
      "Epoch 65/100\n",
      "484/484 [==============================] - 0s 794us/step - loss: 0.6840 - accuracy: 0.0000e+00 - val_loss: 0.5212 - val_accuracy: 0.0000e+00\n",
      "Epoch 66/100\n",
      "484/484 [==============================] - 0s 791us/step - loss: 0.6841 - accuracy: 1.2920e-04 - val_loss: 0.5310 - val_accuracy: 0.0000e+00\n",
      "Epoch 67/100\n",
      "484/484 [==============================] - 0s 799us/step - loss: 0.6803 - accuracy: 0.0000e+00 - val_loss: 0.5331 - val_accuracy: 0.0000e+00\n",
      "Epoch 68/100\n",
      "484/484 [==============================] - 0s 795us/step - loss: 0.6784 - accuracy: 0.0000e+00 - val_loss: 0.5293 - val_accuracy: 0.0000e+00\n",
      "Epoch 69/100\n",
      "484/484 [==============================] - 0s 795us/step - loss: 0.6846 - accuracy: 0.0000e+00 - val_loss: 0.5589 - val_accuracy: 0.0000e+00\n",
      "Epoch 70/100\n",
      "484/484 [==============================] - 0s 795us/step - loss: 0.6625 - accuracy: 0.0000e+00 - val_loss: 0.5482 - val_accuracy: 0.0000e+00\n",
      "Epoch 71/100\n",
      "484/484 [==============================] - 0s 782us/step - loss: 0.6926 - accuracy: 0.0000e+00 - val_loss: 0.5823 - val_accuracy: 0.0000e+00\n",
      "Epoch 72/100\n",
      "484/484 [==============================] - 0s 827us/step - loss: 0.6824 - accuracy: 0.0000e+00 - val_loss: 0.5280 - val_accuracy: 0.0000e+00\n",
      "Epoch 73/100\n",
      "484/484 [==============================] - 0s 795us/step - loss: 0.7022 - accuracy: 0.0000e+00 - val_loss: 0.5156 - val_accuracy: 0.0000e+00\n",
      "Epoch 74/100\n",
      "484/484 [==============================] - 0s 790us/step - loss: 0.6774 - accuracy: 0.0000e+00 - val_loss: 0.5214 - val_accuracy: 0.0000e+00\n",
      "Epoch 75/100\n",
      "484/484 [==============================] - 0s 791us/step - loss: 0.6846 - accuracy: 0.0000e+00 - val_loss: 0.5674 - val_accuracy: 0.0000e+00\n",
      "Epoch 76/100\n",
      "484/484 [==============================] - 0s 795us/step - loss: 0.6902 - accuracy: 0.0000e+00 - val_loss: 0.5322 - val_accuracy: 0.0000e+00\n",
      "Epoch 77/100\n",
      "484/484 [==============================] - 0s 795us/step - loss: 0.6849 - accuracy: 0.0000e+00 - val_loss: 0.5422 - val_accuracy: 0.0000e+00\n",
      "Epoch 78/100\n",
      "484/484 [==============================] - 0s 796us/step - loss: 0.6847 - accuracy: 0.0000e+00 - val_loss: 0.5200 - val_accuracy: 0.0000e+00\n",
      "Epoch 79/100\n",
      "484/484 [==============================] - 0s 782us/step - loss: 0.6941 - accuracy: 0.0000e+00 - val_loss: 0.5181 - val_accuracy: 0.0000e+00\n",
      "Epoch 80/100\n",
      "484/484 [==============================] - 0s 795us/step - loss: 0.6648 - accuracy: 0.0030 - val_loss: 0.6861 - val_accuracy: 0.0021\n",
      "Epoch 81/100\n",
      "484/484 [==============================] - 0s 826us/step - loss: 0.6711 - accuracy: 0.0010 - val_loss: 0.5323 - val_accuracy: 0.0000e+00\n",
      "Epoch 82/100\n",
      "484/484 [==============================] - 0s 764us/step - loss: 0.6838 - accuracy: 0.0000e+00 - val_loss: 0.6396 - val_accuracy: 0.0000e+00\n",
      "Epoch 83/100\n",
      "484/484 [==============================] - 0s 763us/step - loss: 0.7085 - accuracy: 0.0000e+00 - val_loss: 0.5871 - val_accuracy: 0.0000e+00\n",
      "Epoch 84/100\n",
      "484/484 [==============================] - 0s 795us/step - loss: 0.6850 - accuracy: 0.0000e+00 - val_loss: 0.7408 - val_accuracy: 0.0000e+00\n",
      "Epoch 85/100\n",
      "484/484 [==============================] - 0s 796us/step - loss: 0.6815 - accuracy: 0.0000e+00 - val_loss: 0.5677 - val_accuracy: 0.0000e+00\n",
      "Epoch 86/100\n",
      "484/484 [==============================] - 0s 782us/step - loss: 0.6823 - accuracy: 0.0000e+00 - val_loss: 0.5947 - val_accuracy: 0.0000e+00\n",
      "Epoch 87/100\n",
      "484/484 [==============================] - 0s 767us/step - loss: 0.6908 - accuracy: 0.0000e+00 - val_loss: 0.5365 - val_accuracy: 0.0000e+00\n",
      "Epoch 88/100\n",
      "484/484 [==============================] - 0s 795us/step - loss: 0.6775 - accuracy: 0.0000e+00 - val_loss: 0.5400 - val_accuracy: 0.0000e+00\n",
      "Epoch 89/100\n",
      "484/484 [==============================] - 0s 791us/step - loss: 0.6906 - accuracy: 0.0000e+00 - val_loss: 0.6458 - val_accuracy: 0.0000e+00\n",
      "Epoch 90/100\n",
      "484/484 [==============================] - 0s 796us/step - loss: 0.6839 - accuracy: 6.4599e-05 - val_loss: 0.5515 - val_accuracy: 0.0000e+00\n",
      "Epoch 91/100\n",
      "484/484 [==============================] - 0s 796us/step - loss: 0.6762 - accuracy: 0.0000e+00 - val_loss: 0.5357 - val_accuracy: 0.0000e+00\n",
      "Epoch 92/100\n",
      "484/484 [==============================] - 0s 796us/step - loss: 0.6974 - accuracy: 0.0000e+00 - val_loss: 0.5249 - val_accuracy: 0.0000e+00\n",
      "Epoch 93/100\n",
      "484/484 [==============================] - 0s 795us/step - loss: 0.6912 - accuracy: 0.0000e+00 - val_loss: 0.5290 - val_accuracy: 0.0000e+00\n",
      "Epoch 94/100\n",
      "484/484 [==============================] - 0s 791us/step - loss: 0.6829 - accuracy: 0.0000e+00 - val_loss: 0.5520 - val_accuracy: 0.0000e+00\n",
      "Epoch 95/100\n",
      "484/484 [==============================] - 0s 788us/step - loss: 0.6836 - accuracy: 0.0000e+00 - val_loss: 0.5214 - val_accuracy: 0.0000e+00\n",
      "Epoch 96/100\n",
      "484/484 [==============================] - 0s 827us/step - loss: 0.6728 - accuracy: 0.0000e+00 - val_loss: 0.5426 - val_accuracy: 0.0000e+00\n",
      "Epoch 97/100\n",
      "484/484 [==============================] - 0s 795us/step - loss: 0.6736 - accuracy: 0.0000e+00 - val_loss: 0.5574 - val_accuracy: 0.0000e+00\n",
      "Epoch 98/100\n",
      "484/484 [==============================] - 0s 795us/step - loss: 0.6704 - accuracy: 0.0000e+00 - val_loss: 0.5186 - val_accuracy: 0.0000e+00\n",
      "Epoch 99/100\n",
      "484/484 [==============================] - 0s 805us/step - loss: 0.6812 - accuracy: 0.0000e+00 - val_loss: 0.5349 - val_accuracy: 0.0000e+00\n",
      "Epoch 100/100\n",
      "484/484 [==============================] - 0s 787us/step - loss: 0.6798 - accuracy: 0.0000e+00 - val_loss: 0.5269 - val_accuracy: 0.0000e+00\n"
     ]
    }
   ],
   "source": [
    "from tensorflow.keras.layers import Dropout\n",
    "model_dp= Sequential()\n",
    "model_dp.add(Dense(64, \n",
    "                input_shape=(8,),\n",
    "                activation='relu'))\n",
    "model_dp.add(Dropout(0.05)),\n",
    "model_dp.add(Dense(128, activation='relu'))\n",
    "model_dp.add(Dropout(0.2)),\n",
    "model_dp.add(Dense(64))\n",
    "\n",
    "model_dp.compile(loss='mse', optimizer='adam', metrics=['accuracy'])\n",
    "\n",
    "\n",
    "history_dp = model_dp.fit(\n",
    "    X_train,\n",
    "    y_train,\n",
    "    validation_data=(X_test, y_test),\n",
    "    epochs=100,\n",
    "    batch_size=None\n",
    ")"
   ]
  },
  {
   "cell_type": "markdown",
   "metadata": {},
   "source": [
    "### Part 9 - continued: RMSE vs. Baseline\n",
    "\n",
    "Compare the model aboves performance to that of the baseline model for the data."
   ]
  },
  {
   "cell_type": "code",
   "execution_count": 44,
   "metadata": {},
   "outputs": [
    {
     "data": {
      "text/plain": [
       "5.00001    0.046754\n",
       "1.37500    0.005911\n",
       "1.62500    0.005669\n",
       "1.12500    0.004990\n",
       "1.87500    0.004506\n",
       "             ...   \n",
       "4.50800    0.000048\n",
       "0.32900    0.000048\n",
       "3.10100    0.000048\n",
       "3.26300    0.000048\n",
       "2.70400    0.000048\n",
       "Name: price, Length: 3842, dtype: float64"
      ]
     },
     "execution_count": 44,
     "metadata": {},
     "output_type": "execute_result"
    }
   ],
   "source": [
    "# Baseline of the model.\n",
    "cali_df['price'].value_counts(normalize = True)"
   ]
  },
  {
   "cell_type": "code",
   "execution_count": 45,
   "metadata": {},
   "outputs": [
    {
     "data": {
      "text/html": [
       "<div>\n",
       "<style scoped>\n",
       "    .dataframe tbody tr th:only-of-type {\n",
       "        vertical-align: middle;\n",
       "    }\n",
       "\n",
       "    .dataframe tbody tr th {\n",
       "        vertical-align: top;\n",
       "    }\n",
       "\n",
       "    .dataframe thead th {\n",
       "        text-align: right;\n",
       "    }\n",
       "</style>\n",
       "<table border=\"1\" class=\"dataframe\">\n",
       "  <thead>\n",
       "    <tr style=\"text-align: right;\">\n",
       "      <th></th>\n",
       "      <th>Real Values</th>\n",
       "      <th>Baseline</th>\n",
       "    </tr>\n",
       "  </thead>\n",
       "  <tbody>\n",
       "    <tr>\n",
       "      <th>8158</th>\n",
       "      <td>2.285</td>\n",
       "      <td>2.070349</td>\n",
       "    </tr>\n",
       "    <tr>\n",
       "      <th>18368</th>\n",
       "      <td>2.799</td>\n",
       "      <td>2.070349</td>\n",
       "    </tr>\n",
       "    <tr>\n",
       "      <th>19197</th>\n",
       "      <td>1.830</td>\n",
       "      <td>2.070349</td>\n",
       "    </tr>\n",
       "    <tr>\n",
       "      <th>3746</th>\n",
       "      <td>4.658</td>\n",
       "      <td>2.070349</td>\n",
       "    </tr>\n",
       "    <tr>\n",
       "      <th>13073</th>\n",
       "      <td>1.500</td>\n",
       "      <td>2.070349</td>\n",
       "    </tr>\n",
       "  </tbody>\n",
       "</table>\n",
       "</div>"
      ],
      "text/plain": [
       "       Real Values  Baseline\n",
       "8158         2.285  2.070349\n",
       "18368        2.799  2.070349\n",
       "19197        1.830  2.070349\n",
       "3746         4.658  2.070349\n",
       "13073        1.500  2.070349"
      ]
     },
     "execution_count": 45,
     "metadata": {},
     "output_type": "execute_result"
    }
   ],
   "source": [
    "# RMSE of the model\n",
    "Baseline = pd.DataFrame({'Real Values':y_train, 'Baseline':y_train.mean()})\n",
    "Baseline.head()"
   ]
  },
  {
   "cell_type": "code",
   "execution_count": 46,
   "metadata": {},
   "outputs": [
    {
     "data": {
      "text/plain": [
       "1.1551254785988831"
      ]
     },
     "execution_count": 46,
     "metadata": {},
     "output_type": "execute_result"
    }
   ],
   "source": [
    "mean_squared_error(y_train, Baseline['Baseline'])**0.5"
   ]
  },
  {
   "cell_type": "markdown",
   "metadata": {},
   "source": [
    "### Part 10: Regularization and Scaling\n",
    "\n",
    "Finally, we want to see if regularizing will improve the model.  Feed a model that is identical to the one above including dropout and include `l2` regularization in each of the dense layers of 0.01.  What is the RMSE of this model?  How does it compare to the baseline?"
   ]
  },
  {
   "cell_type": "code",
   "execution_count": null,
   "metadata": {},
   "outputs": [
    {
     "name": "stdout",
     "output_type": "stream",
     "text": [
      "Epoch 1/100\n"
     ]
    }
   ],
   "source": [
    "from tensorflow.keras.regularizers import l2\n",
    "model_l2= Sequential()\n",
    "model_l2.add(Dense(64, \n",
    "                input_shape=(8,),\n",
    "                activation='relu', kernel_regularizer=l2(0.01))),\n",
    "model_l2.add(Dense(128, activation='relu',  kernel_regularizer=l2(0.01)))\n",
    "\n",
    "model_l2.add(Dense(64))\n",
    "\n",
    "model_l2.compile(loss='mse', optimizer='adam', metrics=['accuracy'])\n",
    "\n",
    "history_l2 = model_l2.fit(\n",
    "    X_train,\n",
    "    y_train,\n",
    "    validation_data=(X_test, y_test),\n",
    "    epochs=100,\n",
    "    batch_size=None\n",
    ")"
   ]
  },
  {
   "cell_type": "markdown",
   "metadata": {},
   "source": [
    "### Part 11: Saving the Model\n",
    "\n",
    "Save the model as `cali_housing.h5`.  "
   ]
  },
  {
   "cell_type": "code",
   "execution_count": null,
   "metadata": {},
   "outputs": [],
   "source": [
    "model_l2.save('cali_housing.h5')"
   ]
  },
  {
   "cell_type": "code",
   "execution_count": null,
   "metadata": {},
   "outputs": [],
   "source": []
  }
 ],
 "metadata": {
  "kernelspec": {
   "display_name": "Python 3",
   "language": "python",
   "name": "python3"
  },
  "language_info": {
   "codemirror_mode": {
    "name": "ipython",
    "version": 3
   },
   "file_extension": ".py",
   "mimetype": "text/x-python",
   "name": "python",
   "nbconvert_exporter": "python",
   "pygments_lexer": "ipython3",
   "version": "3.8.8"
  }
 },
 "nbformat": 4,
 "nbformat_minor": 4
}
