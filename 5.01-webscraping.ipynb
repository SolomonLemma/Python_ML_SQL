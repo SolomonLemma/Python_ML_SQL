{
 "cells": [
  {
   "cell_type": "markdown",
   "metadata": {},
   "source": [
    "# Web Scraping with Beautiful Soup Lab"
   ]
  },
  {
   "cell_type": "code",
   "execution_count": 7,
   "metadata": {},
   "outputs": [],
   "source": [
    "# Import libaries here\n",
    "import requests\n",
    "import re\n",
    "import pandas as pd\n",
    "from bs4 import BeautifulSoup\n",
    "from bs4 import BeautifulSoup"
   ]
  },
  {
   "cell_type": "markdown",
   "metadata": {},
   "source": [
    "### Step 1: Create a soup object from the home page"
   ]
  },
  {
   "cell_type": "code",
   "execution_count": 13,
   "metadata": {},
   "outputs": [],
   "source": [
    "# Reading the Html page\n",
    "url = 'https://pages.git.generalassemb.ly/rldaggie/for-scraping/'\n",
    "res = requests.get(url)"
   ]
  },
  {
   "cell_type": "code",
   "execution_count": 4,
   "metadata": {},
   "outputs": [
    {
     "data": {
      "text/plain": [
       "200"
      ]
     },
     "execution_count": 4,
     "metadata": {},
     "output_type": "execute_result"
    }
   ],
   "source": [
    "# what is the status code? did all go fine?\n",
    "res.status_code"
   ]
  },
  {
   "cell_type": "code",
   "execution_count": 7,
   "metadata": {},
   "outputs": [
    {
     "data": {
      "text/plain": [
       "requests.models.Response"
      ]
     },
     "execution_count": 7,
     "metadata": {},
     "output_type": "execute_result"
    }
   ],
   "source": [
    "type(res)"
   ]
  },
  {
   "cell_type": "code",
   "execution_count": 5,
   "metadata": {},
   "outputs": [],
   "source": [
    "soup = BeautifulSoup(res.content, 'lxml')#'lxml')  "
   ]
  },
  {
   "cell_type": "code",
   "execution_count": 8,
   "metadata": {},
   "outputs": [
    {
     "data": {
      "text/plain": [
       "<!DOCTYPE html>\n",
       "<html lang=\"en\">\n",
       "<head>\n",
       "<meta charset=\"utf-8\"/>\n",
       "<meta content=\"IE=edge\" http-equiv=\"X-UA-Compatible\"/>\n",
       "<meta content=\"width=device-width, initial-scale=1.0\" name=\"viewport\"/>\n",
       "<title>Nutrition Information</title>\n",
       "<link crossorigin=\"anonymous\" href=\"https://stackpath.bootstrapcdn.com/bootstrap/4.4.1/css/bootstrap.min.css\" integrity=\"sha384-Vkoo8x4CGsO3+Hhxv8T/Q5PaXtkKtu6ug5TOeNV6gBiFeWPGFN9MuhOf23Q9Ifjh\" rel=\"stylesheet\"/>\n",
       "</head>\n",
       "<body>\n",
       "<header>\n",
       "<section class=\"container\">\n",
       "<nav class=\"navbar navbar-expand-lg navbar-light bg-light\" role=\"navigation\">\n",
       "<a class=\"navbar-brand\" href=\"/\">Nutrition Information</a> </nav>\n",
       "</section>\n",
       "</header>\n",
       "<main class=\"container\" role=\"main\">\n",
       "<br/>\n",
       "<div class=\"alert alert-danger\">\n",
       "        NOTE: This data is super old and rife with errors. It's meant for scraping practice only.\n",
       "      </div>\n",
       "<table class=\"table\" id=\"restaurants\">\n",
       "<thead>\n",
       "<tr>\n",
       "<th>Name</th>\n",
       "<th></th>\n",
       "</tr>\n",
       "</thead>\n",
       "<tbody>\n",
       "<tr>\n",
       "<td>\n",
       "<a href=\"restaurants/1.html\">A&amp;W Restaurants</a> </td>\n",
       "</tr>\n",
       "<tr>\n",
       "<td>\n",
       "<a href=\"restaurants/2.html\">Applebee's</a> </td>\n",
       "</tr>\n",
       "<tr>\n",
       "<td>\n",
       "<a href=\"restaurants/3.html\">Arby's</a> </td>\n",
       "</tr>\n",
       "<tr>\n",
       "<td>\n",
       "<a href=\"restaurants/4.html\">Atlanta Bread Company</a> </td>\n",
       "</tr>\n",
       "<tr>\n",
       "<td>\n",
       "<a href=\"restaurants/5.html\">Bojangle's Famous Chicken 'n Biscuits</a> </td>\n",
       "</tr>\n",
       "<tr>\n",
       "<td>\n",
       "<a href=\"restaurants/6.html\">Buffalo Wild Wings</a> </td>\n",
       "</tr>\n",
       "<tr>\n",
       "<td>\n",
       "<a href=\"restaurants/7.html\">Burger King</a> </td>\n",
       "</tr>\n",
       "<tr>\n",
       "<td>\n",
       "<a href=\"restaurants/8.html\">Captain D's</a> </td>\n",
       "</tr>\n",
       "<tr>\n",
       "<td>\n",
       "<a href=\"restaurants/9.html\">Carl's Jr.</a> </td>\n",
       "</tr>\n",
       "<tr>\n",
       "<td>\n",
       "<a href=\"restaurants/10.html\">Charley's Grilled Subs</a> </td>\n",
       "</tr>\n",
       "<tr>\n",
       "<td>\n",
       "<a href=\"restaurants/11.html\">Chick-fil-A</a> </td>\n",
       "</tr>\n",
       "<tr>\n",
       "<td>\n",
       "<a href=\"restaurants/12.html\">Chili's</a> </td>\n",
       "</tr>\n",
       "<tr>\n",
       "<td>\n",
       "<a href=\"restaurants/13.html\">Chipotle Mexican Grill</a> </td>\n",
       "</tr>\n",
       "<tr>\n",
       "<td>\n",
       "<a href=\"restaurants/14.html\">Church's</a> </td>\n",
       "</tr>\n",
       "<tr>\n",
       "<td>\n",
       "<a href=\"restaurants/15.html\">Corner Bakery Cafe</a> </td>\n",
       "</tr>\n",
       "<tr>\n",
       "<td>\n",
       "<a href=\"restaurants/16.html\">Dairy Queen</a> </td>\n",
       "</tr>\n",
       "<tr>\n",
       "<td>\n",
       "<a href=\"restaurants/17.html\">Denny's</a> </td>\n",
       "</tr>\n",
       "<tr>\n",
       "<td>\n",
       "<a href=\"restaurants/18.html\">El Pollo Loco</a> </td>\n",
       "</tr>\n",
       "<tr>\n",
       "<td>\n",
       "<a href=\"restaurants/19.html\">FATZ</a> </td>\n",
       "</tr>\n",
       "<tr>\n",
       "<td>\n",
       "<a href=\"restaurants/20.html\">Fazoli's</a> </td>\n",
       "</tr>\n",
       "<tr>\n",
       "<td>\n",
       "<a href=\"restaurants/21.html\">Five Guys Burgers and Fries</a> </td>\n",
       "</tr>\n",
       "<tr>\n",
       "<td>\n",
       "<a href=\"restaurants/22.html\">Golden Chick</a> </td>\n",
       "</tr>\n",
       "<tr>\n",
       "<td>\n",
       "<a href=\"restaurants/23.html\">Hardee's</a> </td>\n",
       "</tr>\n",
       "<tr>\n",
       "<td>\n",
       "<a href=\"restaurants/24.html\">IHOP</a> </td>\n",
       "</tr>\n",
       "<tr>\n",
       "<td>\n",
       "<a href=\"restaurants/25.html\">In-N-Out Burger</a> </td>\n",
       "</tr>\n",
       "<tr>\n",
       "<td>\n",
       "<a href=\"restaurants/26.html\">Jack in the Box</a> </td>\n",
       "</tr>\n",
       "<tr>\n",
       "<td>\n",
       "<a href=\"restaurants/27.html\">Jimmy Johns</a> </td>\n",
       "</tr>\n",
       "<tr>\n",
       "<td>\n",
       "<a href=\"restaurants/28.html\">Joe's Crab Shack</a> </td>\n",
       "</tr>\n",
       "<tr>\n",
       "<td>\n",
       "<a href=\"restaurants/29.html\">KFC</a> </td>\n",
       "</tr>\n",
       "<tr>\n",
       "<td>\n",
       "<a href=\"restaurants/30.html\">McDonald's</a> </td>\n",
       "</tr>\n",
       "<tr>\n",
       "<td>\n",
       "<a href=\"restaurants/31.html\">O'Charley's</a> </td>\n",
       "</tr>\n",
       "<tr>\n",
       "<td>\n",
       "<a href=\"restaurants/32.html\">Olive Garden</a> </td>\n",
       "</tr>\n",
       "<tr>\n",
       "<td>\n",
       "<a href=\"restaurants/33.html\">Outback Steakhouse</a> </td>\n",
       "</tr>\n",
       "<tr>\n",
       "<td>\n",
       "<a href=\"restaurants/34.html\">Panda Express</a> </td>\n",
       "</tr>\n",
       "<tr>\n",
       "<td>\n",
       "<a href=\"restaurants/35.html\">Panera Bread</a> </td>\n",
       "</tr>\n",
       "<tr>\n",
       "<td>\n",
       "<a href=\"restaurants/36.html\">Popeye's</a> </td>\n",
       "</tr>\n",
       "<tr>\n",
       "<td>\n",
       "<a href=\"restaurants/37.html\">Quiznos</a> </td>\n",
       "</tr>\n",
       "<tr>\n",
       "<td>\n",
       "<a href=\"restaurants/38.html\">Red Robin Gourmet Burgers</a> </td>\n",
       "</tr>\n",
       "<tr>\n",
       "<td>\n",
       "<a href=\"restaurants/39.html\">Romano's Macaroni Grill</a> </td>\n",
       "</tr>\n",
       "<tr>\n",
       "<td>\n",
       "<a href=\"restaurants/40.html\">Ruby Tuesday</a> </td>\n",
       "</tr>\n",
       "<tr>\n",
       "<td>\n",
       "<a href=\"restaurants/41.html\">Subway</a> </td>\n",
       "</tr>\n",
       "<tr>\n",
       "<td>\n",
       "<a href=\"restaurants/42.html\">Taco Bell</a> </td>\n",
       "</tr>\n",
       "<tr>\n",
       "<td>\n",
       "<a href=\"restaurants/43.html\">Taco Bueno</a> </td>\n",
       "</tr>\n",
       "<tr>\n",
       "<td>\n",
       "<a href=\"restaurants/44.html\">Wendy's</a> </td>\n",
       "</tr>\n",
       "</tbody>\n",
       "</table> </main>\n",
       "</body>\n",
       "</html>"
      ]
     },
     "execution_count": 8,
     "metadata": {},
     "output_type": "execute_result"
    }
   ],
   "source": [
    "soup"
   ]
  },
  {
   "cell_type": "code",
   "execution_count": 34,
   "metadata": {},
   "outputs": [],
   "source": [
    "table = soup.find('a')"
   ]
  },
  {
   "cell_type": "code",
   "execution_count": 35,
   "metadata": {},
   "outputs": [
    {
     "data": {
      "text/plain": [
       "bs4.element.Tag"
      ]
     },
     "execution_count": 35,
     "metadata": {},
     "output_type": "execute_result"
    }
   ],
   "source": [
    "type(table)"
   ]
  },
  {
   "cell_type": "code",
   "execution_count": 36,
   "metadata": {},
   "outputs": [
    {
     "data": {
      "text/plain": [
       "'Nutrition Information'"
      ]
     },
     "execution_count": 36,
     "metadata": {},
     "output_type": "execute_result"
    }
   ],
   "source": [
    "table.text"
   ]
  },
  {
   "cell_type": "code",
   "execution_count": 37,
   "metadata": {},
   "outputs": [
    {
     "data": {
      "text/plain": [
       "{'class': ['navbar-brand'], 'href': '/'}"
      ]
     },
     "execution_count": 37,
     "metadata": {},
     "output_type": "execute_result"
    }
   ],
   "source": [
    "table.attrs"
   ]
  },
  {
   "cell_type": "code",
   "execution_count": 71,
   "metadata": {},
   "outputs": [],
   "source": [
    "if table:\n",
    "    print(table.text)"
   ]
  },
  {
   "cell_type": "code",
   "execution_count": 75,
   "metadata": {},
   "outputs": [
    {
     "name": "stdout",
     "output_type": "stream",
     "text": [
      "<a href=\"restaurants/1.html\">A&amp;W Restaurants</a>\n",
      "<a href=\"restaurants/2.html\">Applebee's</a>\n",
      "<a href=\"restaurants/3.html\">Arby's</a>\n",
      "<a href=\"restaurants/4.html\">Atlanta Bread Company</a>\n",
      "<a href=\"restaurants/5.html\">Bojangle's Famous Chicken 'n Biscuits</a>\n",
      "<a href=\"restaurants/6.html\">Buffalo Wild Wings</a>\n",
      "<a href=\"restaurants/7.html\">Burger King</a>\n",
      "<a href=\"restaurants/8.html\">Captain D's</a>\n",
      "<a href=\"restaurants/9.html\">Carl's Jr.</a>\n",
      "<a href=\"restaurants/10.html\">Charley's Grilled Subs</a>\n",
      "<a href=\"restaurants/11.html\">Chick-fil-A</a>\n",
      "<a href=\"restaurants/12.html\">Chili's</a>\n",
      "<a href=\"restaurants/13.html\">Chipotle Mexican Grill</a>\n",
      "<a href=\"restaurants/14.html\">Church's</a>\n",
      "<a href=\"restaurants/15.html\">Corner Bakery Cafe</a>\n",
      "<a href=\"restaurants/16.html\">Dairy Queen</a>\n",
      "<a href=\"restaurants/17.html\">Denny's</a>\n",
      "<a href=\"restaurants/18.html\">El Pollo Loco</a>\n",
      "<a href=\"restaurants/19.html\">FATZ</a>\n",
      "<a href=\"restaurants/20.html\">Fazoli's</a>\n",
      "<a href=\"restaurants/21.html\">Five Guys Burgers and Fries</a>\n",
      "<a href=\"restaurants/22.html\">Golden Chick</a>\n",
      "<a href=\"restaurants/23.html\">Hardee's</a>\n",
      "<a href=\"restaurants/24.html\">IHOP</a>\n",
      "<a href=\"restaurants/25.html\">In-N-Out Burger</a>\n",
      "<a href=\"restaurants/26.html\">Jack in the Box</a>\n",
      "<a href=\"restaurants/27.html\">Jimmy Johns</a>\n",
      "<a href=\"restaurants/28.html\">Joe's Crab Shack</a>\n",
      "<a href=\"restaurants/29.html\">KFC</a>\n",
      "<a href=\"restaurants/30.html\">McDonald's</a>\n",
      "<a href=\"restaurants/31.html\">O'Charley's</a>\n",
      "<a href=\"restaurants/32.html\">Olive Garden</a>\n",
      "<a href=\"restaurants/33.html\">Outback Steakhouse</a>\n",
      "<a href=\"restaurants/34.html\">Panda Express</a>\n",
      "<a href=\"restaurants/35.html\">Panera Bread</a>\n",
      "<a href=\"restaurants/36.html\">Popeye's</a>\n",
      "<a href=\"restaurants/37.html\">Quiznos</a>\n",
      "<a href=\"restaurants/38.html\">Red Robin Gourmet Burgers</a>\n",
      "<a href=\"restaurants/39.html\">Romano's Macaroni Grill</a>\n",
      "<a href=\"restaurants/40.html\">Ruby Tuesday</a>\n",
      "<a href=\"restaurants/41.html\">Subway</a>\n",
      "<a href=\"restaurants/42.html\">Taco Bell</a>\n",
      "<a href=\"restaurants/43.html\">Taco Bueno</a>\n",
      "<a href=\"restaurants/44.html\">Wendy's</a>\n"
     ]
    }
   ],
   "source": [
    "#Loop throught the data\n",
    "for row in soup.find('tbody').find_all('a'):\n",
    "    print(row)  "
   ]
  },
  {
   "cell_type": "markdown",
   "metadata": {},
   "source": [
    "### Step 2: Scrape the home page soup for every restaurant\n",
    "\n",
    "Note: Your best bet is to create a list of dictionaries, one for each restaurant. Each dictionary contains the restaurant's name and path from the `href`. The result of your scrape should look something like this:\n",
    "\n",
    "```python\n",
    "restaurants = [\n",
    "    {'name': 'A&W Restaurants', 'href': 'restaurants/1.html'}, \n",
    "    {'name': \"Applebee's\", 'href': 'restaurants/2.html'},\n",
    "    ...\n",
    "]\n",
    "```"
   ]
  },
  {
   "cell_type": "code",
   "execution_count": 1,
   "metadata": {},
   "outputs": [],
   "source": [
    "#Dictioneries of the restuarants\n",
    "restaurants = [\n",
    "    {'name': 'A&W Restaurants', 'href': 'restaurants'}, \n",
    "    {'name': \"Applebee's\", 'href': 'restaurants'},\n",
    "    {'name': \"Arby's\", 'href': 'restaurants'},\n",
    "    {'name': \"Atlanta Bread Company\", 'href': 'restaurants'},\n",
    "    {'name': \"Bojangle's Famous Chicken 'n Biscuits\", 'href': 'restaurants'},\n",
    "    {'name': \"Buffalo Wild Wings\", 'href': 'restaurants'},\n",
    "    {'name': \"Burger King\", 'href': 'restaurants'},\n",
    "    {'name': \"Captain D\", 'href': 'restaurants'},\n",
    "    {'name': \"Carl's Jr\", 'href': 'restaurants'},\n",
    "    {'name': \"Charley's Grilled Subs\", 'href': 'restaurants'},\n",
    "    {'name': \"Chick-fil-A\", 'href': 'restaurants'},\n",
    "    {'name': \"Chili's\", 'href': 'restaurants'},\n",
    "    {'name': \"Chipotle Mexican Grill\", 'href': 'restaurants'},\n",
    "    {'name': \"Church's\", 'href': 'restaurants'},\n",
    "    {'name': \"Corner Bakery Cafe\", 'href': 'restaurants'},\n",
    "    {'name': \"Dairy Queen\", 'href': 'restaurants'},\n",
    "    {'name': \"Denny's\", 'href': 'restaurants'},\n",
    "    {'name': \"El Pollo Loco\", 'href': 'restaurants'},\n",
    "    {'name': \"FATZ\", 'href': 'restaurants'},\n",
    "    {'name': \"Fazoli's\", 'href': 'restaurants'},\n",
    "    {'name': \"Five Guys Burgers and Fries\", 'href': 'restaurants'},\n",
    "    {'name': \"Golden Chick\", 'href': 'restaurants'}, \n",
    "    {'name': \"Hardee's\", 'href': 'restaurants'},\n",
    "    {'name': \"IHOP \", 'href': 'restaurants'}, \n",
    "    {'name': \"In-N-Out Burger\", 'href': 'restaurants'},\n",
    "    {'name': \"Jack in the Box\", 'href': 'restaurants'},\n",
    "    {'name': \"Jimmy Johns\", 'href': 'restaurants'},\n",
    "    {'name': \"Joe's Crab Shack\", 'href': 'restaurants'},\n",
    "    {'name': \"KFC\", 'href': 'restaurants'},\n",
    "    {'name': \"cDonald's\", 'href': 'restaurants'},\n",
    "    {'name': \"Joe's Crab Shack\", 'href': 'restaurants'},\n",
    "    {'name': \"KFC\", 'href': 'restaurants'},\n",
    "    {'name': \"cDonald's\", 'href': 'restaurants'},\n",
    "    {'name': \"O'Charley's\", 'href': 'restaurants'},\n",
    "    {'name': \"Olive Garden\", 'href': 'restaurants'},\n",
    "    {'name': \"Outback Steakhouse\", 'href': 'restaurants'},\n",
    "    {'name': \"Panda Express\", 'href': 'restaurants'},\n",
    "    {'name': \"Panera Bread\", 'href': 'restaurants'},\n",
    "    {'name': \"Popeye's\", 'href': 'restaurants'},\n",
    "    {'name': \"Quiznos\", 'href': 'restaurants'},\n",
    "    {'name': \"Red Robin Gourmet Burgers\", 'href': 'restaurants'},\n",
    "    {'name': \"Romano's Macaroni Grill\", 'href': 'restaurants'},\n",
    "    {'name': \"Ruby Tuesday\", 'href': 'restaurants'},\n",
    "    {'name': \"Subway\", 'href': 'restaurants'},\n",
    "    {'name': \"Taco Bell\", 'href': 'restaurants'},\n",
    "    {'name': \"Taco Bueno\", 'href': 'restaurants'},\n",
    "    {'name': \"Wendy's\", 'href': 'restaurants'},\n",
    "]"
   ]
  },
  {
   "cell_type": "code",
   "execution_count": 2,
   "metadata": {},
   "outputs": [
    {
     "data": {
      "text/plain": [
       "[{'name': 'A&W Restaurants', 'href': 'restaurants'},\n",
       " {'name': \"Applebee's\", 'href': 'restaurants'},\n",
       " {'name': \"Arby's\", 'href': 'restaurants'},\n",
       " {'name': 'Atlanta Bread Company', 'href': 'restaurants'},\n",
       " {'name': \"Bojangle's Famous Chicken 'n Biscuits\", 'href': 'restaurants'}]"
      ]
     },
     "execution_count": 2,
     "metadata": {},
     "output_type": "execute_result"
    }
   ],
   "source": [
    "restaurants[0:5]"
   ]
  },
  {
   "cell_type": "markdown",
   "metadata": {},
   "source": [
    "### Step 3: Using the `href`, scrape each restaurant's page and create a single list of food dictionaries.\n",
    "\n",
    "Your list of foods should look something like this:\n",
    "```python\n",
    "foods = [\n",
    "    {\n",
    "        'calories': '0',\n",
    "        'carbs': '0',\n",
    "        'category': 'Drinks',\n",
    "        'fat': '0',\n",
    "        'name': 'A&W® Diet Root Beer',\n",
    "        'restaurant': 'A&W Restaurants'\n",
    "    },\n",
    "    {\n",
    "        'calories': '0',\n",
    "        'carbs': '0',\n",
    "        'category': 'Drinks',\n",
    "        'fat': '0',\n",
    "        'name': 'A&W® Diet Root Beer',\n",
    "        'restaurant': 'A&W Restaurants'\n",
    "    },\n",
    "    ...\n",
    "]\n",
    "```\n",
    "\n",
    "**Note**: Remove extra white space from each category"
   ]
  },
  {
   "cell_type": "code",
   "execution_count": 3,
   "metadata": {},
   "outputs": [],
   "source": [
    "xx_list = [restaurants[i]['href'] for i in range(len(restaurants))]"
   ]
  },
  {
   "cell_type": "code",
   "execution_count": 8,
   "metadata": {},
   "outputs": [
    {
     "data": {
      "text/plain": [
       "47"
      ]
     },
     "execution_count": 8,
     "metadata": {},
     "output_type": "execute_result"
    }
   ],
   "source": [
    "len(xx_list)"
   ]
  },
  {
   "cell_type": "code",
   "execution_count": 9,
   "metadata": {},
   "outputs": [],
   "source": [
    "food_url = 'https://pages.git.generalassemb.ly/rldaggie/for-scraping/'"
   ]
  },
  {
   "cell_type": "code",
   "execution_count": 10,
   "metadata": {},
   "outputs": [],
   "source": [
    "# Adding the values in the food dictionaries.\n",
    "for x in range(len(xx_list)):\n",
    "    res = requests.get(food_url + xx_list[x])\n",
    "    soup = BeautifulSoup(res.content, 'lxml')\n",
    "    table_soup = soup.find_all('tr')\n",
    "    foods = []\n",
    "    \n",
    "    for i in range(1,(len(table_soup))):\n",
    "        food = {}\n",
    "        food['calories'] = str(table_soup[i]).split('calories\">')[1].split('</td>')[0]\n",
    "        food['carbs'] = str(table_soup[i]).split('carbohydrateContent\">')[1].split('</td>')[0]\n",
    "        food['category'] = str(table_soup[i]).split('href=\"/categories/')[1].split('\"')[0]\n",
    "        food['fat'] = str(table_soup[i]).split('fatContent\">')[1].split('</td>')[0]\n",
    "        food['name'] = html.unescape(str(table_soup[i]).split('itemprop=\"name\">')[1].split('</td>')[0])\n",
    "        food['restaurant'] = restaurants[x]['name']\n",
    "\n",
    "        foods.append(food)\n",
    "        \n",
    "    restaurants[x]['foods'] = foods"
   ]
  },
  {
   "cell_type": "markdown",
   "metadata": {},
   "source": [
    "### Step 4: Create a pandas DataFrame from your list of foods\n",
    "\n",
    "**Note**: Your DataFrame should have 5,131 rows. Please output the number of rows in your DataFrame!"
   ]
  },
  {
   "cell_type": "code",
   "execution_count": 12,
   "metadata": {},
   "outputs": [],
   "source": [
    "#Appending the list\n",
    "list_of_food_dicts = []\n",
    "for i in range(len(restaurants)):\n",
    "    for x in range(len(restaurants[i]['foods'])):\n",
    "        dict = {}\n",
    "        dict = (restaurants[i]['foods'][x])\n",
    "        list_of_food_dicts.append(dict)"
   ]
  },
  {
   "cell_type": "code",
   "execution_count": 94,
   "metadata": {},
   "outputs": [],
   "source": [
    "# To make datframe\n",
    "df = pd.DataFrame(list_of_food_dicts)"
   ]
  },
  {
   "cell_type": "markdown",
   "metadata": {},
   "source": [
    "### Step 5: Export to csv\n",
    "\n",
    "**Note:** Don't export the index column from your DataFrame"
   ]
  },
  {
   "cell_type": "code",
   "execution_count": null,
   "metadata": {},
   "outputs": [],
   "source": [
    "#Save the file with csv\n",
    "df.to_csv('restuarants.csv', index=False, sep=\",\")"
   ]
  }
 ],
 "metadata": {
  "kernelspec": {
   "display_name": "Python 3",
   "language": "python",
   "name": "python3"
  },
  "language_info": {
   "codemirror_mode": {
    "name": "ipython",
    "version": 3
   },
   "file_extension": ".py",
   "mimetype": "text/x-python",
   "name": "python",
   "nbconvert_exporter": "python",
   "pygments_lexer": "ipython3",
   "version": "3.8.8"
  }
 },
 "nbformat": 4,
 "nbformat_minor": 2
}
