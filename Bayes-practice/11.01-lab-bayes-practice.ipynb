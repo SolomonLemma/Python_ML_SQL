{
 "cells": [
  {
   "cell_type": "markdown",
   "metadata": {},
   "source": [
    "# Bayes' Rule Practice Lab\n",
    "\n",
    "This lab will have two parts:\n",
    "\n",
    "- Part 1: Bayes Practice Problems\n",
    "- Part 2: Moving from Probabilities to Distributions\n",
    "\n",
    "---"
   ]
  },
  {
   "cell_type": "markdown",
   "metadata": {},
   "source": [
    "## Part 1: Bayes Practice Problems\n",
    "\n",
    "### Problem 1: IRAs\n",
    "\n",
    "You work at a financial services company that offers individual retirement accounts (IRAs). To target high potential customers, you want to find out if people with children are more likely to invest in IRAs.  \n",
    "\n",
    "So far you have found:\n",
    "- 30% of all Americans have IRAs.\n",
    "- half of Americans have children.\n",
    "- two-thirds of those with IRAs have children.\n",
    "\n",
    "Based on this information, what is the probability that someone with children has an IRA? "
   ]
  },
  {
   "cell_type": "code",
   "execution_count": 11,
   "metadata": {},
   "outputs": [],
   "source": [
    "#This problem handled by Bayes' Theorem: P(A|B) = P(B|A)P(A)/P(B)\n",
    "p_IRA = 0.3   #30% of all Americans have IRAs\n",
    "p_Children = 0.5  # half of Americans have children\n",
    "p_Children_IRA = 0.666  #two-thirds of those with IRAs have children"
   ]
  },
  {
   "cell_type": "code",
   "execution_count": 27,
   "metadata": {},
   "outputs": [
    {
     "data": {
      "text/plain": [
       "39.96"
      ]
     },
     "execution_count": 27,
     "metadata": {},
     "output_type": "execute_result"
    }
   ],
   "source": [
    "# The the probability of someone with children has an IRA estimated by (p_Children_IRA*p_IRA) / p_Children\n",
    "p_IRA_Children = (0.666*0.3)/0.5\n",
    "p_IRA_Children*100"
   ]
  },
  {
   "cell_type": "markdown",
   "metadata": {},
   "source": [
    "**Answer:** \n",
    "- 39.96% is the probability of someone with children has an IRA."
   ]
  },
  {
   "cell_type": "markdown",
   "metadata": {},
   "source": [
    "### Problem 2: Resident Satisfaction\n",
    "\n",
    "Suppose I own a hotel and an apartment building. Times are tight, and I need to sell one of them. Either would earn me the exact same amount of money, so that doesn't help me to make my decision. Instead, I will make my decision based on my residents' satisfaction. \n",
    "\n",
    "- Whichever building has a higher percentage of satisfied people is the one I will choose to keep.\n",
    "- *However*, if the percent of satisfied guests for my hotel and the percent of satified guests for my apartment building are within 10% of one another, I will sell neither until I can bring in some outside consultants to help me make my decision.\n",
    "- Last winter, I administered a survey to *all* residents and found that 60% of them are satisfied.\n",
    "- Among satisfied respondents, two out of every five came from the apartment building.\n",
    "- One-third of my residents live in my apartment building.\n",
    "\n",
    "What action will I take?"
   ]
  },
  {
   "cell_type": "code",
   "execution_count": null,
   "metadata": {},
   "outputs": [],
   "source": [
    "#Let keep what we know from the data\n",
    "p_app_satf = (2/3)*0.6=0.4 #appartment residence satisfaction from the total 60%\n",
    "p_hotel_satf = (1/3)*0.6=0.2  # hotel residence satisfaction\n",
    "p_ appr_residence = 1/3  # appartment residence"
   ]
  },
  {
   "cell_type": "markdown",
   "metadata": {},
   "source": [
    "**Answer:** \n",
    "- Satisfied given as stayed in a hotel is \n",
    "P(satisfied|Hotel) = (P(Hotel|satisfied) * P(Hotel))/ P(Satisfied) = (2/3)*(3/5)/0.6 = 0.4/0.6 = 67% a value hotel guests satisfied\n",
    "\n",
    "- simialrly the appartment satisfaction \n",
    "P(satisfied|Apartment) = (P(Apartment|satisfied) * P(Apartment))/ P(Satisfied) = (2/5)*(1/3)/0.6 = 0.1333/0.6 = 22% of apartment residents satisfaction\n",
    "\n",
    "- As clearly seen from the above values the apartment satisfaction is 22% that is above 10% of the limit. Whereas the satisfaction of the hotel is 67%. Therefore, the most likely the hotel can be sell based on the higher satisfaction probabilities as compared with lower probability of appartment satisfaction (22%)."
   ]
  },
  {
   "cell_type": "markdown",
   "metadata": {},
   "source": [
    "### Problem 3: Coin Game\n",
    "\n",
    "Suppose you and your friend are playing a game. Your friend has laid four coins out in front of you. If you flip heads, you win a dollar from your friend. If you flip tails, you owe a dollar to your friend. However, the coins in front of you are not fair.\n",
    "- One coin has a 80% chance of flipping heads. (Call this coin A.)\n",
    "- One coin has a 60% chance of flipping heads. (Call this coin B.)\n",
    "- One coin has a 40% chance of flipping heads. (Call this coin C.)\n",
    "- One coin has a 10% chance of flipping heads. (Call this coin D.)\n",
    "\n",
    "**Problem 3 (a)**: Suppose you select one coin at random. That is, you don't know whether you selected coin A, B, C, or D. You flip heads. Given this data, what are the probabilities that you selected coin A, coin B, coin C, and coin D?\n",
    "\n",
    "> Hint: When finding the marginal probability of flipping heads, you will need to use the Law of Total Probability! Find this **first**."
   ]
  },
  {
   "cell_type": "code",
   "execution_count": 19,
   "metadata": {},
   "outputs": [],
   "source": [
    "# Let put each given values in to the probability form\n",
    "p_H_A = 0.8  # 80% chance of flipping heads labeled as A\n",
    "p_H_B = 0.6  # 60% chance of flipping heads labeled as B\n",
    "p_H_C = 0.4  # 40% chance of flipping heads labeled as C\n",
    "p_H_A = 0.1  # 10% chance of flipping heads labeled as D"
   ]
  },
  {
   "cell_type": "code",
   "execution_count": 21,
   "metadata": {},
   "outputs": [
    {
     "data": {
      "text/plain": [
       "0.475"
      ]
     },
     "execution_count": 21,
     "metadata": {},
     "output_type": "execute_result"
    }
   ],
   "source": [
    "# Using Law of Total Probability\n",
    "\n",
    "# Total probability of being head P(H) = P(H|A) * P(A) + P(H|B) * P(B) + P(H|C) * P(C) + P(H|D) * P(D)\n",
    "\n",
    "p_head_total= 0.25*(0.8 + 0.6 + 0.4 + 0.1) # each of the four(P(A) = P(B) = P(C) = P(D)has the probability of happening 1/4.\n",
    "p_head_total"
   ]
  },
  {
   "cell_type": "code",
   "execution_count": 23,
   "metadata": {},
   "outputs": [
    {
     "data": {
      "text/plain": [
       "0.4211"
      ]
     },
     "execution_count": 23,
     "metadata": {},
     "output_type": "execute_result"
    }
   ],
   "source": [
    "#Using Bayes’ Theorem the solution for A\n",
    "p_A_H= (0.8 *0.25)/.475  # with the formula P(A|H) = (P(H|A) * P(A)) / P(H) \n",
    "round (p_A_H, 4)"
   ]
  },
  {
   "cell_type": "code",
   "execution_count": 24,
   "metadata": {},
   "outputs": [
    {
     "data": {
      "text/plain": [
       "0.3158"
      ]
     },
     "execution_count": 24,
     "metadata": {},
     "output_type": "execute_result"
    }
   ],
   "source": [
    "#Using Bayes’ Theorem the solution for B\n",
    "p_B_H= (0.6 *0.25)/.475  # with the formula P(B|H) = (P(H|B) * P(B)) / P(H) \n",
    "round (p_B_H, 4)"
   ]
  },
  {
   "cell_type": "code",
   "execution_count": 25,
   "metadata": {},
   "outputs": [
    {
     "data": {
      "text/plain": [
       "0.2105"
      ]
     },
     "execution_count": 25,
     "metadata": {},
     "output_type": "execute_result"
    }
   ],
   "source": [
    "#Using Bayes’ Theorem the solution for C\n",
    "p_C_H= (0.4 *0.25)/.475  # with the formula P(C|H) = (P(H|C) * P(C)) / P(H) \n",
    "round (p_C_H, 4)"
   ]
  },
  {
   "cell_type": "code",
   "execution_count": 26,
   "metadata": {},
   "outputs": [
    {
     "data": {
      "text/plain": [
       "0.0526"
      ]
     },
     "execution_count": 26,
     "metadata": {},
     "output_type": "execute_result"
    }
   ],
   "source": [
    "#Using Bayes’ Theorem the solution for D\n",
    "p_D_H= (0.1 *0.25)/.475  # with the formula P(D|H) = (P(H|D) * P(D)) / P(H) \n",
    "round (p_D_H, 4)"
   ]
  },
  {
   "cell_type": "markdown",
   "metadata": {},
   "source": [
    "**Answer**:\n",
    "- The flipped heads coin in A, B, C, D has 42.1%,31.56%, 21.05% and 5.26% of probaliliites, respectively "
   ]
  },
  {
   "cell_type": "markdown",
   "metadata": {},
   "source": [
    "---\n",
    "\n",
    "## Part 2: Moving from Probabilities to Distributions\n",
    "\n",
    "### Problem 4: Prior Probabilities\n",
    "\n",
    "**Problem 4 (a)**: In Problem 3, before you had flipped any coin, what was the probability that you had selected coin A? Coin B? Coin C? Coin D?"
   ]
  },
  {
   "cell_type": "markdown",
   "metadata": {},
   "source": [
    "**Answer:**\n",
    "- Each A, B, C and D has equla probability that is 0.25."
   ]
  },
  {
   "cell_type": "markdown",
   "metadata": {},
   "source": [
    "**Problem 4 (b)**: What is the definition of a distribution?\n",
    "- In Bayesian statistical, there is a probability distribution often simply called the prior distribution that would express one's beliefs about this quantity before some evidence is taken into account. To develop Bayesian Inference, there are a number of probabilities distribution used represent the samples as Uniform, Normal, Binomial, Poisson, Gamma and Beta distributions can be performed. In general, distribution is a set of all possible values of a variable and the respective frequencies of each values."
   ]
  },
  {
   "cell_type": "markdown",
   "metadata": {},
   "source": [
    "**Answer:**\n"
   ]
  },
  {
   "cell_type": "markdown",
   "metadata": {},
   "source": [
    "**Problem 4 (c)**: What \"named distribution\" (i.e. a distribution that has a common name) could we apply to a situation where selecting coins A-D is equally likely?"
   ]
  },
  {
   "cell_type": "markdown",
   "metadata": {},
   "source": [
    "**Answer:**\n",
    "- It is uniform distribution"
   ]
  },
  {
   "cell_type": "markdown",
   "metadata": {},
   "source": [
    "**Problem 4 (d)**: Suppose that I have only one coin and I want to conduct inference on the probability of flipping heads, $p$. Note that $p$ is unknown. If I want to specify some prior distribution where all probabilities $p$ are equally likely, should I use a discrete or continuous distribution? Why?"
   ]
  },
  {
   "cell_type": "markdown",
   "metadata": {},
   "source": [
    "**Answer:**\n",
    "- The discrete distribution will be the on employed to address the solution of the problem. Because the possible happening of either head or tail is a discrete random variable for a single coin."
   ]
  },
  {
   "cell_type": "markdown",
   "metadata": {},
   "source": [
    "**Problem 4 (e)**: Suppose that I have only one coin and I want to conduct inference on the probability of flipping heads, $p$. Note that $p$ is unknown. If I want to specify some prior distribution where all probabilities $p$ are equally likely, then what named distribution might I use?"
   ]
  },
  {
   "cell_type": "markdown",
   "metadata": {},
   "source": [
    "**Answer:**\n",
    "- The  Binomial Distribution can be applied because the coin has two probabilities either head or tail in successes out of a predefined number of trials for posterior distribution in order to account the result of the flip. "
   ]
  },
  {
   "cell_type": "markdown",
   "metadata": {},
   "source": [
    "**Problem 4 (f)**: Suppose I have only one coin with some unknown probability of flipping heads $p$. If I think 50% is the likeliest value for $p$ and, as we get farther away from 50%, that value is less and less likely, what named distribution could I use?"
   ]
  },
  {
   "cell_type": "markdown",
   "metadata": {},
   "source": [
    "**Answer:**\n",
    "- I think the best fit for this type of scenario is a Beta distribution to describe the value decreasing after 50% ( middle of the curve) going either end of the distribution."
   ]
  },
  {
   "cell_type": "markdown",
   "metadata": {},
   "source": [
    "**Problem 4 (g)**: When we listed out our prior probabilities for each coin, we got the same number of posterior probabilities. For example, when we had four prior probabilities (one for Coin A, one for Coin B, one for Coin C, and one for Coin D), then we had four posterior probabilities (one for Coin A, for Coin B, one for Coin C, and one for Coin D). However, if we have one prior distribution, then we will get one posterior distribution. What are some advantages to being able to summarize our posterior with one distribution instead of a big list of probabilities?"
   ]
  },
  {
   "cell_type": "markdown",
   "metadata": {},
   "source": [
    "**Answer:**\n",
    "- It helps to summarise the overall trend of posterior distribution pattern and determine the normalization constant of distribution with conjugate priors to presents the results clearly."
   ]
  }
 ],
 "metadata": {
  "kernelspec": {
   "display_name": "Python 3",
   "language": "python",
   "name": "python3"
  },
  "language_info": {
   "codemirror_mode": {
    "name": "ipython",
    "version": 3
   },
   "file_extension": ".py",
   "mimetype": "text/x-python",
   "name": "python",
   "nbconvert_exporter": "python",
   "pygments_lexer": "ipython3",
   "version": "3.8.8"
  }
 },
 "nbformat": 4,
 "nbformat_minor": 2
}
