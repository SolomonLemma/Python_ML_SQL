{
 "cells": [
  {
   "cell_type": "markdown",
   "metadata": {},
   "source": [
    "# Excel Madness Lab!\n"
   ]
  },
  {
   "cell_type": "markdown",
   "metadata": {},
   "source": [
    "## Our Mission\n",
    "We work for a large supermarket chain, with stores in 10 major cities that happen to coincide with General Assembly campuses. However, this company's idea of a \"database\" is just a bunch of Excel spreadsheets! In order to analyze our data, we're going to need to process the existing data into a form we can use. **Our end goal is to have one csv per city.**\n",
    "\n",
    "## Cleanup Duty!\n",
    "It is a hard truth that data scientists spend a large majority of their time cleaning data. Data never arrives on our desks in exactly the format in which we want it, and it's up to us to transform it to a workable format.\n",
    "\n",
    "Being good cleaning, moving, and reshaping data is in itself a valuable and employable job skill. If you follow these directions exactly, we will walk through constructing an automated process for processing data from this supermarket chain."
   ]
  },
  {
   "cell_type": "markdown",
   "metadata": {},
   "source": [
    "# Part I: Processing\n",
    "\n",
    "### Step 1: Imports and the `os` library\n",
    "We're going to import three libraries: numpy, pandas, and `os`."
   ]
  },
  {
   "cell_type": "code",
   "execution_count": 286,
   "metadata": {},
   "outputs": [],
   "source": [
    "# Import libraries here.\n",
    "import os\n",
    "import numpy as np\n",
    "import pandas as pd "
   ]
  },
  {
   "cell_type": "markdown",
   "metadata": {},
   "source": [
    "The `os` library is extremely useful for performing system commands from within Python. Let's get two pieces of overhead out of the way now:\n",
    "\n",
    "1. Create an `output` folder using `os.mkdir()`\n",
    "2. Create a variable called `files` that is the list of files in the `data` folder using `os.listdir()`\n",
    "\n",
    "**WARNING:** The `os.mkdir()` function will give you an error if you try to make a folder that already exists!"
   ]
  },
  {
   "cell_type": "code",
   "execution_count": null,
   "metadata": {},
   "outputs": [],
   "source": [
    "# Create an output folder.\n",
    "os.mkdir(\"output\")"
   ]
  },
  {
   "cell_type": "code",
   "execution_count": 308,
   "metadata": {},
   "outputs": [
    {
     "name": "stdout",
     "output_type": "stream",
     "text": [
      "List of directories and files before creation:\n",
      "['Jan 1.xlsx', 'Jan 10.xlsx', 'Jan 11.xlsx', 'Jan 12.xlsx', 'Jan 13.xlsx', 'Jan 14.xlsx', 'Jan 15.xlsx', 'Jan 16.xlsx', 'Jan 17.xlsx', 'Jan 18.xlsx', 'Jan 19.xlsx', 'Jan 2.xlsx', 'Jan 20.xlsx', 'Jan 21.xlsx', 'Jan 22.xlsx', 'Jan 23.xlsx', 'Jan 24.xlsx', 'Jan 25.xlsx', 'Jan 26.xlsx', 'Jan 27.xlsx', 'Jan 28.xlsx', 'Jan 29.xlsx', 'Jan 3.xlsx', 'Jan 30.xlsx', 'Jan 31.xlsx', 'Jan 4.xlsx', 'Jan 5.xlsx', 'Jan 6.xlsx', 'Jan 7.xlsx', 'Jan 8.xlsx', 'Jan 9.xlsx']\n",
      "\n"
     ]
    }
   ],
   "source": [
    "# Create a files variable that contains all of our data files.\n",
    "\n",
    "# path of the current script\n",
    "path = 'C:/Users/Solomon Lemma/DSI/Labs-assignments/week2/2.02-excel-madness/data'\n",
    "  \n",
    "file = 'files.txt'\n",
    "\n",
    "dir_list = os.listdir(path) \n",
    "print(\"List of directories and files before creation:\")\n",
    "print(dir_list)\n",
    "print()"
   ]
  },
  {
   "cell_type": "markdown",
   "metadata": {},
   "source": [
    "### Step 2: Process one data frame\n",
    "It looks like we have data for the month of January. 31 files of 10 sheets each! Luckily they are all in the same format. So let's read just one in and process that. It might be helpful to open one up in your spreadsheet viewer of choice first (Excel, Numbers, Sheets, etc.)"
   ]
  },
  {
   "cell_type": "code",
   "execution_count": 309,
   "metadata": {},
   "outputs": [
    {
     "name": "stderr",
     "output_type": "stream",
     "text": [
      "C:\\ProgramData\\Anaconda3\\lib\\site-packages\\openpyxl\\styles\\stylesheet.py:221: UserWarning: Workbook contains no default style, apply openpyxl's default\n",
      "  warn(\"Workbook contains no default style, apply openpyxl's default\")\n"
     ]
    }
   ],
   "source": [
    "# Read in data from your city from January 21.\n",
    "Jan21 = pd.read_excel(open('C:/Users/Solomon Lemma/DSI/Labs-assignments/week2/2.02-excel-madness/data/Jan 21.xlsx', 'rb'), \n",
    "                      sheet_name='Boston');\n",
    "                               \n",
    "                      "
   ]
  },
  {
   "cell_type": "code",
   "execution_count": 310,
   "metadata": {},
   "outputs": [
    {
     "data": {
      "text/plain": [
       "(186, 4)"
      ]
     },
     "execution_count": 310,
     "metadata": {},
     "output_type": "execute_result"
    }
   ],
   "source": [
    "Jan21.shape"
   ]
  },
  {
   "cell_type": "markdown",
   "metadata": {},
   "source": [
    "### Step 2a: Convert to 'Merican columns\n",
    "For whatever reason, our data are stored in euros and kilograms. Create `price_usd` and `weight_lb` columns. There are 2.2 pounds per kilogram, and 1.1 dollars per euro."
   ]
  },
  {
   "cell_type": "code",
   "execution_count": 311,
   "metadata": {},
   "outputs": [
    {
     "data": {
      "text/html": [
       "<div>\n",
       "<style scoped>\n",
       "    .dataframe tbody tr th:only-of-type {\n",
       "        vertical-align: middle;\n",
       "    }\n",
       "\n",
       "    .dataframe tbody tr th {\n",
       "        vertical-align: top;\n",
       "    }\n",
       "\n",
       "    .dataframe thead th {\n",
       "        text-align: right;\n",
       "    }\n",
       "</style>\n",
       "<table border=\"1\" class=\"dataframe\">\n",
       "  <thead>\n",
       "    <tr style=\"text-align: right;\">\n",
       "      <th></th>\n",
       "      <th>prodcode</th>\n",
       "      <th>price_eu</th>\n",
       "      <th>weight_kg</th>\n",
       "      <th>quantity</th>\n",
       "    </tr>\n",
       "  </thead>\n",
       "  <tbody>\n",
       "    <tr>\n",
       "      <th>0</th>\n",
       "      <td>4062</td>\n",
       "      <td>2.704403</td>\n",
       "      <td>8.204685</td>\n",
       "      <td>362</td>\n",
       "    </tr>\n",
       "    <tr>\n",
       "      <th>1</th>\n",
       "      <td>4134</td>\n",
       "      <td>2.853825</td>\n",
       "      <td>7.778257</td>\n",
       "      <td>188</td>\n",
       "    </tr>\n",
       "    <tr>\n",
       "      <th>2</th>\n",
       "      <td>4078</td>\n",
       "      <td>2.230495</td>\n",
       "      <td>8.936067</td>\n",
       "      <td>179</td>\n",
       "    </tr>\n",
       "    <tr>\n",
       "      <th>3</th>\n",
       "      <td>4412</td>\n",
       "      <td>2.509314</td>\n",
       "      <td>3.358003</td>\n",
       "      <td>132</td>\n",
       "    </tr>\n",
       "    <tr>\n",
       "      <th>4</th>\n",
       "      <td>3302</td>\n",
       "      <td>2.105311</td>\n",
       "      <td>8.875587</td>\n",
       "      <td>299</td>\n",
       "    </tr>\n",
       "  </tbody>\n",
       "</table>\n",
       "</div>"
      ],
      "text/plain": [
       "   prodcode  price_eu  weight_kg  quantity\n",
       "0      4062  2.704403   8.204685       362\n",
       "1      4134  2.853825   7.778257       188\n",
       "2      4078  2.230495   8.936067       179\n",
       "3      4412  2.509314   3.358003       132\n",
       "4      3302  2.105311   8.875587       299"
      ]
     },
     "execution_count": 311,
     "metadata": {},
     "output_type": "execute_result"
    }
   ],
   "source": [
    "Jan21.head()"
   ]
  },
  {
   "cell_type": "code",
   "execution_count": 312,
   "metadata": {},
   "outputs": [],
   "source": [
    "# euros and kilograms conversion\n",
    "Jan21['price_usd']=Jan21['price_eu']*1.1\n",
    "Jan21['weight_lb']=Jan21['weight_kg']/2.2"
   ]
  },
  {
   "cell_type": "code",
   "execution_count": 313,
   "metadata": {},
   "outputs": [
    {
     "data": {
      "text/html": [
       "<div>\n",
       "<style scoped>\n",
       "    .dataframe tbody tr th:only-of-type {\n",
       "        vertical-align: middle;\n",
       "    }\n",
       "\n",
       "    .dataframe tbody tr th {\n",
       "        vertical-align: top;\n",
       "    }\n",
       "\n",
       "    .dataframe thead th {\n",
       "        text-align: right;\n",
       "    }\n",
       "</style>\n",
       "<table border=\"1\" class=\"dataframe\">\n",
       "  <thead>\n",
       "    <tr style=\"text-align: right;\">\n",
       "      <th></th>\n",
       "      <th>prodcode</th>\n",
       "      <th>price_eu</th>\n",
       "      <th>weight_kg</th>\n",
       "      <th>quantity</th>\n",
       "      <th>price_usd</th>\n",
       "      <th>weight_lb</th>\n",
       "    </tr>\n",
       "  </thead>\n",
       "  <tbody>\n",
       "    <tr>\n",
       "      <th>0</th>\n",
       "      <td>4062</td>\n",
       "      <td>2.704403</td>\n",
       "      <td>8.204685</td>\n",
       "      <td>362</td>\n",
       "      <td>2.974843</td>\n",
       "      <td>3.729402</td>\n",
       "    </tr>\n",
       "    <tr>\n",
       "      <th>1</th>\n",
       "      <td>4134</td>\n",
       "      <td>2.853825</td>\n",
       "      <td>7.778257</td>\n",
       "      <td>188</td>\n",
       "      <td>3.139207</td>\n",
       "      <td>3.535572</td>\n",
       "    </tr>\n",
       "    <tr>\n",
       "      <th>2</th>\n",
       "      <td>4078</td>\n",
       "      <td>2.230495</td>\n",
       "      <td>8.936067</td>\n",
       "      <td>179</td>\n",
       "      <td>2.453545</td>\n",
       "      <td>4.061848</td>\n",
       "    </tr>\n",
       "    <tr>\n",
       "      <th>3</th>\n",
       "      <td>4412</td>\n",
       "      <td>2.509314</td>\n",
       "      <td>3.358003</td>\n",
       "      <td>132</td>\n",
       "      <td>2.760245</td>\n",
       "      <td>1.526365</td>\n",
       "    </tr>\n",
       "    <tr>\n",
       "      <th>4</th>\n",
       "      <td>3302</td>\n",
       "      <td>2.105311</td>\n",
       "      <td>8.875587</td>\n",
       "      <td>299</td>\n",
       "      <td>2.315842</td>\n",
       "      <td>4.034358</td>\n",
       "    </tr>\n",
       "  </tbody>\n",
       "</table>\n",
       "</div>"
      ],
      "text/plain": [
       "   prodcode  price_eu  weight_kg  quantity  price_usd  weight_lb\n",
       "0      4062  2.704403   8.204685       362   2.974843   3.729402\n",
       "1      4134  2.853825   7.778257       188   3.139207   3.535572\n",
       "2      4078  2.230495   8.936067       179   2.453545   4.061848\n",
       "3      4412  2.509314   3.358003       132   2.760245   1.526365\n",
       "4      3302  2.105311   8.875587       299   2.315842   4.034358"
      ]
     },
     "execution_count": 313,
     "metadata": {},
     "output_type": "execute_result"
    }
   ],
   "source": [
    "Jan21.head()"
   ]
  },
  {
   "cell_type": "markdown",
   "metadata": {},
   "source": [
    "### Step 2b: Merge in product names\n",
    "You'll notice we also have a `plu-codes.csv` file containing actual product names matched up against their price lookup (PLU) codes. Let's merge these product names onto our Jan 1 data.\n",
    "* _Hint 1:_ What kind of merge is this? Right, left, inner, outer, etc.?\n",
    "* _Hint 2:_ Pay special attention to column names!"
   ]
  },
  {
   "cell_type": "code",
   "execution_count": 314,
   "metadata": {},
   "outputs": [
    {
     "data": {
      "text/html": [
       "<div>\n",
       "<style scoped>\n",
       "    .dataframe tbody tr th:only-of-type {\n",
       "        vertical-align: middle;\n",
       "    }\n",
       "\n",
       "    .dataframe tbody tr th {\n",
       "        vertical-align: top;\n",
       "    }\n",
       "\n",
       "    .dataframe thead th {\n",
       "        text-align: right;\n",
       "    }\n",
       "</style>\n",
       "<table border=\"1\" class=\"dataframe\">\n",
       "  <thead>\n",
       "    <tr style=\"text-align: right;\">\n",
       "      <th></th>\n",
       "      <th>product</th>\n",
       "      <th>plu_code</th>\n",
       "    </tr>\n",
       "  </thead>\n",
       "  <tbody>\n",
       "    <tr>\n",
       "      <th>0</th>\n",
       "      <td>Apple (Fuji)</td>\n",
       "      <td>4131</td>\n",
       "    </tr>\n",
       "    <tr>\n",
       "      <th>1</th>\n",
       "      <td>Apple (Gala)</td>\n",
       "      <td>4134</td>\n",
       "    </tr>\n",
       "    <tr>\n",
       "      <th>2</th>\n",
       "      <td>Apricot</td>\n",
       "      <td>3302</td>\n",
       "    </tr>\n",
       "    <tr>\n",
       "      <th>3</th>\n",
       "      <td>Avocado</td>\n",
       "      <td>4225</td>\n",
       "    </tr>\n",
       "    <tr>\n",
       "      <th>4</th>\n",
       "      <td>Banana</td>\n",
       "      <td>4011</td>\n",
       "    </tr>\n",
       "  </tbody>\n",
       "</table>\n",
       "</div>"
      ],
      "text/plain": [
       "        product  plu_code\n",
       "0  Apple (Fuji)      4131\n",
       "1  Apple (Gala)      4134\n",
       "2       Apricot      3302\n",
       "3       Avocado      4225\n",
       "4        Banana      4011"
      ]
     },
     "execution_count": 314,
     "metadata": {},
     "output_type": "execute_result"
    }
   ],
   "source": [
    "# reading of the file \"plu-codes.csv\"\n",
    "plu = pd.read_csv(\"C:/Users/Solomon Lemma/DSI/Labs-assignments/week2/2.02-excel-madness/plu-codes.csv\")\n",
    "plu.head()"
   ]
  },
  {
   "cell_type": "code",
   "execution_count": 315,
   "metadata": {},
   "outputs": [
    {
     "data": {
      "text/plain": [
       "(20, 2)"
      ]
     },
     "execution_count": 315,
     "metadata": {},
     "output_type": "execute_result"
    }
   ],
   "source": [
    "plu.shape"
   ]
  },
  {
   "cell_type": "code",
   "execution_count": 316,
   "metadata": {},
   "outputs": [],
   "source": [
    "#Renaming column name of plu\n",
    "plu.rename(columns={'plu_code': 'prodcode'},inplace=True)"
   ]
  },
  {
   "cell_type": "code",
   "execution_count": 317,
   "metadata": {},
   "outputs": [
    {
     "data": {
      "text/html": [
       "<div>\n",
       "<style scoped>\n",
       "    .dataframe tbody tr th:only-of-type {\n",
       "        vertical-align: middle;\n",
       "    }\n",
       "\n",
       "    .dataframe tbody tr th {\n",
       "        vertical-align: top;\n",
       "    }\n",
       "\n",
       "    .dataframe thead th {\n",
       "        text-align: right;\n",
       "    }\n",
       "</style>\n",
       "<table border=\"1\" class=\"dataframe\">\n",
       "  <thead>\n",
       "    <tr style=\"text-align: right;\">\n",
       "      <th></th>\n",
       "      <th>product</th>\n",
       "      <th>prodcode</th>\n",
       "    </tr>\n",
       "  </thead>\n",
       "  <tbody>\n",
       "    <tr>\n",
       "      <th>0</th>\n",
       "      <td>Apple (Fuji)</td>\n",
       "      <td>4131</td>\n",
       "    </tr>\n",
       "    <tr>\n",
       "      <th>1</th>\n",
       "      <td>Apple (Gala)</td>\n",
       "      <td>4134</td>\n",
       "    </tr>\n",
       "    <tr>\n",
       "      <th>2</th>\n",
       "      <td>Apricot</td>\n",
       "      <td>3302</td>\n",
       "    </tr>\n",
       "    <tr>\n",
       "      <th>3</th>\n",
       "      <td>Avocado</td>\n",
       "      <td>4225</td>\n",
       "    </tr>\n",
       "    <tr>\n",
       "      <th>4</th>\n",
       "      <td>Banana</td>\n",
       "      <td>4011</td>\n",
       "    </tr>\n",
       "  </tbody>\n",
       "</table>\n",
       "</div>"
      ],
      "text/plain": [
       "        product  prodcode\n",
       "0  Apple (Fuji)      4131\n",
       "1  Apple (Gala)      4134\n",
       "2       Apricot      3302\n",
       "3       Avocado      4225\n",
       "4        Banana      4011"
      ]
     },
     "execution_count": 317,
     "metadata": {},
     "output_type": "execute_result"
    }
   ],
   "source": [
    "plu.head()"
   ]
  },
  {
   "cell_type": "code",
   "execution_count": 318,
   "metadata": {},
   "outputs": [
    {
     "name": "stderr",
     "output_type": "stream",
     "text": [
      "C:\\ProgramData\\Anaconda3\\lib\\site-packages\\openpyxl\\styles\\stylesheet.py:221: UserWarning: Workbook contains no default style, apply openpyxl's default\n",
      "  warn(\"Workbook contains no default style, apply openpyxl's default\")\n"
     ]
    },
    {
     "data": {
      "text/html": [
       "<div>\n",
       "<style scoped>\n",
       "    .dataframe tbody tr th:only-of-type {\n",
       "        vertical-align: middle;\n",
       "    }\n",
       "\n",
       "    .dataframe tbody tr th {\n",
       "        vertical-align: top;\n",
       "    }\n",
       "\n",
       "    .dataframe thead th {\n",
       "        text-align: right;\n",
       "    }\n",
       "</style>\n",
       "<table border=\"1\" class=\"dataframe\">\n",
       "  <thead>\n",
       "    <tr style=\"text-align: right;\">\n",
       "      <th></th>\n",
       "      <th>prodcode</th>\n",
       "      <th>price_eu</th>\n",
       "      <th>weight_kg</th>\n",
       "      <th>quantity</th>\n",
       "    </tr>\n",
       "  </thead>\n",
       "  <tbody>\n",
       "    <tr>\n",
       "      <th>0</th>\n",
       "      <td>4134</td>\n",
       "      <td>1.957576</td>\n",
       "      <td>7.857868</td>\n",
       "      <td>498</td>\n",
       "    </tr>\n",
       "    <tr>\n",
       "      <th>1</th>\n",
       "      <td>4012</td>\n",
       "      <td>0.912565</td>\n",
       "      <td>5.746554</td>\n",
       "      <td>384</td>\n",
       "    </tr>\n",
       "    <tr>\n",
       "      <th>2</th>\n",
       "      <td>4323</td>\n",
       "      <td>0.740753</td>\n",
       "      <td>8.748904</td>\n",
       "      <td>431</td>\n",
       "    </tr>\n",
       "    <tr>\n",
       "      <th>3</th>\n",
       "      <td>4078</td>\n",
       "      <td>1.571533</td>\n",
       "      <td>7.061995</td>\n",
       "      <td>457</td>\n",
       "    </tr>\n",
       "    <tr>\n",
       "      <th>4</th>\n",
       "      <td>4323</td>\n",
       "      <td>1.389404</td>\n",
       "      <td>1.117369</td>\n",
       "      <td>316</td>\n",
       "    </tr>\n",
       "  </tbody>\n",
       "</table>\n",
       "</div>"
      ],
      "text/plain": [
       "   prodcode  price_eu  weight_kg  quantity\n",
       "0      4134  1.957576   7.857868       498\n",
       "1      4012  0.912565   5.746554       384\n",
       "2      4323  0.740753   8.748904       431\n",
       "3      4078  1.571533   7.061995       457\n",
       "4      4323  1.389404   1.117369       316"
      ]
     },
     "execution_count": 318,
     "metadata": {},
     "output_type": "execute_result"
    }
   ],
   "source": [
    "#reading of data of the \"Boston\" city from Jan 1.\n",
    "Jan1 = pd.read_excel(open('C:/Users/Solomon Lemma/DSI/Labs-assignments/week2/2.02-excel-madness/data/Jan 1.xlsx', 'rb'), \n",
    "                      sheet_name='Boston')\n",
    "Jan1.head()"
   ]
  },
  {
   "cell_type": "code",
   "execution_count": 319,
   "metadata": {},
   "outputs": [
    {
     "data": {
      "text/plain": [
       "(177, 4)"
      ]
     },
     "execution_count": 319,
     "metadata": {},
     "output_type": "execute_result"
    }
   ],
   "source": [
    "Jan1.shape"
   ]
  },
  {
   "cell_type": "code",
   "execution_count": 320,
   "metadata": {},
   "outputs": [
    {
     "data": {
      "text/plain": [
       "20"
      ]
     },
     "execution_count": 320,
     "metadata": {},
     "output_type": "execute_result"
    }
   ],
   "source": [
    "# to check the unique column in the datafram\n",
    "Jan1.prodcode.nunique()"
   ]
  },
  {
   "cell_type": "code",
   "execution_count": 321,
   "metadata": {
    "scrolled": true
   },
   "outputs": [
    {
     "data": {
      "text/html": [
       "<div>\n",
       "<style scoped>\n",
       "    .dataframe tbody tr th:only-of-type {\n",
       "        vertical-align: middle;\n",
       "    }\n",
       "\n",
       "    .dataframe tbody tr th {\n",
       "        vertical-align: top;\n",
       "    }\n",
       "\n",
       "    .dataframe thead th {\n",
       "        text-align: right;\n",
       "    }\n",
       "</style>\n",
       "<table border=\"1\" class=\"dataframe\">\n",
       "  <thead>\n",
       "    <tr style=\"text-align: right;\">\n",
       "      <th></th>\n",
       "      <th>product</th>\n",
       "      <th>prodcode</th>\n",
       "      <th>price_eu</th>\n",
       "      <th>weight_kg</th>\n",
       "      <th>quantity</th>\n",
       "    </tr>\n",
       "  </thead>\n",
       "  <tbody>\n",
       "    <tr>\n",
       "      <th>0</th>\n",
       "      <td>Apple (Gala)</td>\n",
       "      <td>4134</td>\n",
       "      <td>1.957576</td>\n",
       "      <td>7.857868</td>\n",
       "      <td>498</td>\n",
       "    </tr>\n",
       "    <tr>\n",
       "      <th>1</th>\n",
       "      <td>Orange</td>\n",
       "      <td>4012</td>\n",
       "      <td>0.912565</td>\n",
       "      <td>5.746554</td>\n",
       "      <td>384</td>\n",
       "    </tr>\n",
       "    <tr>\n",
       "      <th>2</th>\n",
       "      <td>Strawberries</td>\n",
       "      <td>4323</td>\n",
       "      <td>0.740753</td>\n",
       "      <td>8.748904</td>\n",
       "      <td>431</td>\n",
       "    </tr>\n",
       "    <tr>\n",
       "      <th>3</th>\n",
       "      <td>Corn</td>\n",
       "      <td>4078</td>\n",
       "      <td>1.571533</td>\n",
       "      <td>7.061995</td>\n",
       "      <td>457</td>\n",
       "    </tr>\n",
       "    <tr>\n",
       "      <th>4</th>\n",
       "      <td>Strawberries</td>\n",
       "      <td>4323</td>\n",
       "      <td>1.389404</td>\n",
       "      <td>1.117369</td>\n",
       "      <td>316</td>\n",
       "    </tr>\n",
       "    <tr>\n",
       "      <th>...</th>\n",
       "      <td>...</td>\n",
       "      <td>...</td>\n",
       "      <td>...</td>\n",
       "      <td>...</td>\n",
       "      <td>...</td>\n",
       "    </tr>\n",
       "    <tr>\n",
       "      <th>172</th>\n",
       "      <td>Apple (Fuji)</td>\n",
       "      <td>4131</td>\n",
       "      <td>0.785636</td>\n",
       "      <td>3.182114</td>\n",
       "      <td>309</td>\n",
       "    </tr>\n",
       "    <tr>\n",
       "      <th>173</th>\n",
       "      <td>Lemon</td>\n",
       "      <td>4958</td>\n",
       "      <td>1.769207</td>\n",
       "      <td>1.682748</td>\n",
       "      <td>144</td>\n",
       "    </tr>\n",
       "    <tr>\n",
       "      <th>174</th>\n",
       "      <td>Grapes</td>\n",
       "      <td>4272</td>\n",
       "      <td>1.870081</td>\n",
       "      <td>4.521656</td>\n",
       "      <td>455</td>\n",
       "    </tr>\n",
       "    <tr>\n",
       "      <th>175</th>\n",
       "      <td>Apricot</td>\n",
       "      <td>3302</td>\n",
       "      <td>0.851615</td>\n",
       "      <td>1.117974</td>\n",
       "      <td>482</td>\n",
       "    </tr>\n",
       "    <tr>\n",
       "      <th>176</th>\n",
       "      <td>Blueberries</td>\n",
       "      <td>4240</td>\n",
       "      <td>0.924423</td>\n",
       "      <td>8.807495</td>\n",
       "      <td>116</td>\n",
       "    </tr>\n",
       "  </tbody>\n",
       "</table>\n",
       "<p>177 rows × 5 columns</p>\n",
       "</div>"
      ],
      "text/plain": [
       "          product  prodcode  price_eu  weight_kg  quantity\n",
       "0    Apple (Gala)      4134  1.957576   7.857868       498\n",
       "1          Orange      4012  0.912565   5.746554       384\n",
       "2    Strawberries      4323  0.740753   8.748904       431\n",
       "3            Corn      4078  1.571533   7.061995       457\n",
       "4    Strawberries      4323  1.389404   1.117369       316\n",
       "..            ...       ...       ...        ...       ...\n",
       "172  Apple (Fuji)      4131  0.785636   3.182114       309\n",
       "173         Lemon      4958  1.769207   1.682748       144\n",
       "174        Grapes      4272  1.870081   4.521656       455\n",
       "175       Apricot      3302  0.851615   1.117974       482\n",
       "176   Blueberries      4240  0.924423   8.807495       116\n",
       "\n",
       "[177 rows x 5 columns]"
      ]
     },
     "execution_count": 321,
     "metadata": {},
     "output_type": "execute_result"
    }
   ],
   "source": [
    "#merge the the two data from left side\n",
    "Jan1_merge=plu.merge(Jan1, how='right', on='prodcode')\n",
    "Jan1_merge"
   ]
  },
  {
   "cell_type": "code",
   "execution_count": 322,
   "metadata": {},
   "outputs": [
    {
     "data": {
      "text/html": [
       "<div>\n",
       "<style scoped>\n",
       "    .dataframe tbody tr th:only-of-type {\n",
       "        vertical-align: middle;\n",
       "    }\n",
       "\n",
       "    .dataframe tbody tr th {\n",
       "        vertical-align: top;\n",
       "    }\n",
       "\n",
       "    .dataframe thead th {\n",
       "        text-align: right;\n",
       "    }\n",
       "</style>\n",
       "<table border=\"1\" class=\"dataframe\">\n",
       "  <thead>\n",
       "    <tr style=\"text-align: right;\">\n",
       "      <th></th>\n",
       "      <th>product</th>\n",
       "      <th>prodcode</th>\n",
       "      <th>price_eu</th>\n",
       "      <th>weight_kg</th>\n",
       "      <th>quantity</th>\n",
       "    </tr>\n",
       "  </thead>\n",
       "  <tbody>\n",
       "    <tr>\n",
       "      <th>0</th>\n",
       "      <td>Apple (Gala)</td>\n",
       "      <td>4134</td>\n",
       "      <td>1.957576</td>\n",
       "      <td>7.857868</td>\n",
       "      <td>498</td>\n",
       "    </tr>\n",
       "    <tr>\n",
       "      <th>1</th>\n",
       "      <td>Orange</td>\n",
       "      <td>4012</td>\n",
       "      <td>0.912565</td>\n",
       "      <td>5.746554</td>\n",
       "      <td>384</td>\n",
       "    </tr>\n",
       "    <tr>\n",
       "      <th>2</th>\n",
       "      <td>Strawberries</td>\n",
       "      <td>4323</td>\n",
       "      <td>0.740753</td>\n",
       "      <td>8.748904</td>\n",
       "      <td>431</td>\n",
       "    </tr>\n",
       "    <tr>\n",
       "      <th>3</th>\n",
       "      <td>Corn</td>\n",
       "      <td>4078</td>\n",
       "      <td>1.571533</td>\n",
       "      <td>7.061995</td>\n",
       "      <td>457</td>\n",
       "    </tr>\n",
       "    <tr>\n",
       "      <th>4</th>\n",
       "      <td>Strawberries</td>\n",
       "      <td>4323</td>\n",
       "      <td>1.389404</td>\n",
       "      <td>1.117369</td>\n",
       "      <td>316</td>\n",
       "    </tr>\n",
       "  </tbody>\n",
       "</table>\n",
       "</div>"
      ],
      "text/plain": [
       "        product  prodcode  price_eu  weight_kg  quantity\n",
       "0  Apple (Gala)      4134  1.957576   7.857868       498\n",
       "1        Orange      4012  0.912565   5.746554       384\n",
       "2  Strawberries      4323  0.740753   8.748904       431\n",
       "3          Corn      4078  1.571533   7.061995       457\n",
       "4  Strawberries      4323  1.389404   1.117369       316"
      ]
     },
     "execution_count": 322,
     "metadata": {},
     "output_type": "execute_result"
    }
   ],
   "source": [
    "Jan1_merge.head()"
   ]
  },
  {
   "cell_type": "code",
   "execution_count": 323,
   "metadata": {},
   "outputs": [
    {
     "name": "stdout",
     "output_type": "stream",
     "text": [
      "<class 'pandas.core.frame.DataFrame'>\n",
      "Int64Index: 177 entries, 0 to 176\n",
      "Data columns (total 5 columns):\n",
      " #   Column     Non-Null Count  Dtype  \n",
      "---  ------     --------------  -----  \n",
      " 0   product    177 non-null    object \n",
      " 1   prodcode   177 non-null    int64  \n",
      " 2   price_eu   177 non-null    float64\n",
      " 3   weight_kg  177 non-null    float64\n",
      " 4   quantity   177 non-null    int64  \n",
      "dtypes: float64(2), int64(2), object(1)\n",
      "memory usage: 8.3+ KB\n"
     ]
    }
   ],
   "source": [
    "Jan1_merge.info()"
   ]
  },
  {
   "cell_type": "code",
   "execution_count": 324,
   "metadata": {},
   "outputs": [
    {
     "data": {
      "text/plain": [
       "(177, 5)"
      ]
     },
     "execution_count": 324,
     "metadata": {},
     "output_type": "execute_result"
    }
   ],
   "source": [
    "Jan1_merge.shape"
   ]
  },
  {
   "cell_type": "markdown",
   "metadata": {},
   "source": [
    "### Step 2c: Drop unnecessary columns\n",
    "We've created some extraneous columns. Drop the old price and weight columns, as well as any redundant columns."
   ]
  },
  {
   "cell_type": "code",
   "execution_count": 325,
   "metadata": {},
   "outputs": [],
   "source": [
    "# drop the old price and weight columns\n",
    "Jan21.drop(['price_eu', 'weight_kg'], axis=1, inplace=True)"
   ]
  },
  {
   "cell_type": "code",
   "execution_count": 326,
   "metadata": {},
   "outputs": [
    {
     "data": {
      "text/html": [
       "<div>\n",
       "<style scoped>\n",
       "    .dataframe tbody tr th:only-of-type {\n",
       "        vertical-align: middle;\n",
       "    }\n",
       "\n",
       "    .dataframe tbody tr th {\n",
       "        vertical-align: top;\n",
       "    }\n",
       "\n",
       "    .dataframe thead th {\n",
       "        text-align: right;\n",
       "    }\n",
       "</style>\n",
       "<table border=\"1\" class=\"dataframe\">\n",
       "  <thead>\n",
       "    <tr style=\"text-align: right;\">\n",
       "      <th></th>\n",
       "      <th>prodcode</th>\n",
       "      <th>quantity</th>\n",
       "      <th>price_usd</th>\n",
       "      <th>weight_lb</th>\n",
       "    </tr>\n",
       "  </thead>\n",
       "  <tbody>\n",
       "    <tr>\n",
       "      <th>0</th>\n",
       "      <td>4062</td>\n",
       "      <td>362</td>\n",
       "      <td>2.974843</td>\n",
       "      <td>3.729402</td>\n",
       "    </tr>\n",
       "    <tr>\n",
       "      <th>1</th>\n",
       "      <td>4134</td>\n",
       "      <td>188</td>\n",
       "      <td>3.139207</td>\n",
       "      <td>3.535572</td>\n",
       "    </tr>\n",
       "    <tr>\n",
       "      <th>2</th>\n",
       "      <td>4078</td>\n",
       "      <td>179</td>\n",
       "      <td>2.453545</td>\n",
       "      <td>4.061848</td>\n",
       "    </tr>\n",
       "    <tr>\n",
       "      <th>3</th>\n",
       "      <td>4412</td>\n",
       "      <td>132</td>\n",
       "      <td>2.760245</td>\n",
       "      <td>1.526365</td>\n",
       "    </tr>\n",
       "    <tr>\n",
       "      <th>4</th>\n",
       "      <td>3302</td>\n",
       "      <td>299</td>\n",
       "      <td>2.315842</td>\n",
       "      <td>4.034358</td>\n",
       "    </tr>\n",
       "  </tbody>\n",
       "</table>\n",
       "</div>"
      ],
      "text/plain": [
       "   prodcode  quantity  price_usd  weight_lb\n",
       "0      4062       362   2.974843   3.729402\n",
       "1      4134       188   3.139207   3.535572\n",
       "2      4078       179   2.453545   4.061848\n",
       "3      4412       132   2.760245   1.526365\n",
       "4      3302       299   2.315842   4.034358"
      ]
     },
     "execution_count": 326,
     "metadata": {},
     "output_type": "execute_result"
    }
   ],
   "source": [
    "Jan21.head()"
   ]
  },
  {
   "cell_type": "markdown",
   "metadata": {},
   "source": [
    "### Step 2d: Add the date\n",
    "Simply create a new `date` column that is the date this data was collected. For example, if this is from `Jan 1.xlsx`, this column should be full of `Jan 1`."
   ]
  },
  {
   "cell_type": "code",
   "execution_count": 327,
   "metadata": {},
   "outputs": [
    {
     "data": {
      "text/html": [
       "<div>\n",
       "<style scoped>\n",
       "    .dataframe tbody tr th:only-of-type {\n",
       "        vertical-align: middle;\n",
       "    }\n",
       "\n",
       "    .dataframe tbody tr th {\n",
       "        vertical-align: top;\n",
       "    }\n",
       "\n",
       "    .dataframe thead th {\n",
       "        text-align: right;\n",
       "    }\n",
       "</style>\n",
       "<table border=\"1\" class=\"dataframe\">\n",
       "  <thead>\n",
       "    <tr style=\"text-align: right;\">\n",
       "      <th></th>\n",
       "      <th>prodcode</th>\n",
       "      <th>price_eu</th>\n",
       "      <th>weight_kg</th>\n",
       "      <th>quantity</th>\n",
       "      <th>date</th>\n",
       "    </tr>\n",
       "  </thead>\n",
       "  <tbody>\n",
       "    <tr>\n",
       "      <th>0</th>\n",
       "      <td>4134</td>\n",
       "      <td>1.957576</td>\n",
       "      <td>7.857868</td>\n",
       "      <td>498</td>\n",
       "      <td>Jan 1</td>\n",
       "    </tr>\n",
       "    <tr>\n",
       "      <th>1</th>\n",
       "      <td>4012</td>\n",
       "      <td>0.912565</td>\n",
       "      <td>5.746554</td>\n",
       "      <td>384</td>\n",
       "      <td>Jan 1</td>\n",
       "    </tr>\n",
       "    <tr>\n",
       "      <th>2</th>\n",
       "      <td>4323</td>\n",
       "      <td>0.740753</td>\n",
       "      <td>8.748904</td>\n",
       "      <td>431</td>\n",
       "      <td>Jan 1</td>\n",
       "    </tr>\n",
       "    <tr>\n",
       "      <th>3</th>\n",
       "      <td>4078</td>\n",
       "      <td>1.571533</td>\n",
       "      <td>7.061995</td>\n",
       "      <td>457</td>\n",
       "      <td>Jan 1</td>\n",
       "    </tr>\n",
       "    <tr>\n",
       "      <th>4</th>\n",
       "      <td>4323</td>\n",
       "      <td>1.389404</td>\n",
       "      <td>1.117369</td>\n",
       "      <td>316</td>\n",
       "      <td>Jan 1</td>\n",
       "    </tr>\n",
       "  </tbody>\n",
       "</table>\n",
       "</div>"
      ],
      "text/plain": [
       "   prodcode  price_eu  weight_kg  quantity   date\n",
       "0      4134  1.957576   7.857868       498  Jan 1\n",
       "1      4012  0.912565   5.746554       384  Jan 1\n",
       "2      4323  0.740753   8.748904       431  Jan 1\n",
       "3      4078  1.571533   7.061995       457  Jan 1\n",
       "4      4323  1.389404   1.117369       316  Jan 1"
      ]
     },
     "execution_count": 327,
     "metadata": {},
     "output_type": "execute_result"
    }
   ],
   "source": [
    "# add the column date\n",
    "Jan1['date']= 'Jan 1'\n",
    "Jan1.head()"
   ]
  },
  {
   "cell_type": "markdown",
   "metadata": {},
   "source": [
    "### Step 3: Write a function that conducts all of Step 2\n",
    "This function should import a **filename and a city name** and return a fully processed DataFrame. That is, the function should:\n",
    "1. Read in the data from the given file and city.\n",
    "1. Create USD and pound columns.\n",
    "1. Merge in product names.\n",
    "1. Drop unnecessary columns.\n",
    "1. Add a date column"
   ]
  },
  {
   "cell_type": "code",
   "execution_count": 328,
   "metadata": {},
   "outputs": [],
   "source": [
    "# fuction that used to run the question at step 2.\n",
    "def process_data(file, city):\n",
    "    df1 = pd.read_excel(open('C:/Users/Solomon Lemma/DSI/Labs-assignments/week2/2.02-excel-madness/data/%s.xlsx'%file, 'rb'), \n",
    "                      sheet_name='%s'%city)\n",
    "    df1['price_usd']=df1['price_eu']*1.1\n",
    "    df1['weight_lb']=df1['weight_kg']/2.2 \n",
    "    plu = pd.read_csv(\"C:/Users/Solomon Lemma/DSI/Labs-assignments/week2/2.02-excel-madness/plu-codes.csv\")\n",
    "    plu.rename(columns={'plu_code': 'prodcode'},inplace=True)\n",
    "    df1_merge=plu.merge(df1, how='left', on='prodcode')\n",
    "    df1_merge.drop(['price_eu', 'weight_kg'], axis=1, inplace=True)\n",
    "    df1_merge['Date']='%s'%file\n",
    "    return df1_merge"
   ]
  },
  {
   "cell_type": "markdown",
   "metadata": {},
   "source": [
    "Test your function out on a new file and city!"
   ]
  },
  {
   "cell_type": "code",
   "execution_count": 329,
   "metadata": {},
   "outputs": [
    {
     "name": "stderr",
     "output_type": "stream",
     "text": [
      "C:\\ProgramData\\Anaconda3\\lib\\site-packages\\openpyxl\\styles\\stylesheet.py:221: UserWarning: Workbook contains no default style, apply openpyxl's default\n",
      "  warn(\"Workbook contains no default style, apply openpyxl's default\")\n"
     ]
    },
    {
     "data": {
      "text/html": [
       "<div>\n",
       "<style scoped>\n",
       "    .dataframe tbody tr th:only-of-type {\n",
       "        vertical-align: middle;\n",
       "    }\n",
       "\n",
       "    .dataframe tbody tr th {\n",
       "        vertical-align: top;\n",
       "    }\n",
       "\n",
       "    .dataframe thead th {\n",
       "        text-align: right;\n",
       "    }\n",
       "</style>\n",
       "<table border=\"1\" class=\"dataframe\">\n",
       "  <thead>\n",
       "    <tr style=\"text-align: right;\">\n",
       "      <th></th>\n",
       "      <th>product</th>\n",
       "      <th>prodcode</th>\n",
       "      <th>quantity</th>\n",
       "      <th>price_usd</th>\n",
       "      <th>weight_lb</th>\n",
       "      <th>Date</th>\n",
       "    </tr>\n",
       "  </thead>\n",
       "  <tbody>\n",
       "    <tr>\n",
       "      <th>0</th>\n",
       "      <td>Apple (Fuji)</td>\n",
       "      <td>4131</td>\n",
       "      <td>357</td>\n",
       "      <td>3.191065</td>\n",
       "      <td>4.278126</td>\n",
       "      <td>Jan 3</td>\n",
       "    </tr>\n",
       "    <tr>\n",
       "      <th>1</th>\n",
       "      <td>Apple (Fuji)</td>\n",
       "      <td>4131</td>\n",
       "      <td>391</td>\n",
       "      <td>2.159562</td>\n",
       "      <td>2.553513</td>\n",
       "      <td>Jan 3</td>\n",
       "    </tr>\n",
       "    <tr>\n",
       "      <th>2</th>\n",
       "      <td>Apple (Fuji)</td>\n",
       "      <td>4131</td>\n",
       "      <td>319</td>\n",
       "      <td>0.652353</td>\n",
       "      <td>1.068646</td>\n",
       "      <td>Jan 3</td>\n",
       "    </tr>\n",
       "    <tr>\n",
       "      <th>3</th>\n",
       "      <td>Apple (Fuji)</td>\n",
       "      <td>4131</td>\n",
       "      <td>155</td>\n",
       "      <td>1.503508</td>\n",
       "      <td>0.821562</td>\n",
       "      <td>Jan 3</td>\n",
       "    </tr>\n",
       "    <tr>\n",
       "      <th>4</th>\n",
       "      <td>Apple (Fuji)</td>\n",
       "      <td>4131</td>\n",
       "      <td>296</td>\n",
       "      <td>1.312463</td>\n",
       "      <td>3.586265</td>\n",
       "      <td>Jan 3</td>\n",
       "    </tr>\n",
       "  </tbody>\n",
       "</table>\n",
       "</div>"
      ],
      "text/plain": [
       "        product  prodcode  quantity  price_usd  weight_lb   Date\n",
       "0  Apple (Fuji)      4131       357   3.191065   4.278126  Jan 3\n",
       "1  Apple (Fuji)      4131       391   2.159562   2.553513  Jan 3\n",
       "2  Apple (Fuji)      4131       319   0.652353   1.068646  Jan 3\n",
       "3  Apple (Fuji)      4131       155   1.503508   0.821562  Jan 3\n",
       "4  Apple (Fuji)      4131       296   1.312463   3.586265  Jan 3"
      ]
     },
     "execution_count": 329,
     "metadata": {},
     "output_type": "execute_result"
    }
   ],
   "source": [
    "#Test your function out on a new file and city!\n",
    "yy= process_data('Jan 3', 'New York')\n",
    "yy.head()"
   ]
  },
  {
   "cell_type": "markdown",
   "metadata": {},
   "source": [
    "### Step 4: Process all of January's data\n",
    "For each spreadsheet, process the data and store the resulting DataFrame in one big list. **You only need to do this for your city!**\n",
    "\n",
    "* _Hint 1:_ A listcomp would make this whole step one line of code!\n",
    "* _Hint 2:_ You've already made that `files` variable to help you here."
   ]
  },
  {
   "cell_type": "code",
   "execution_count": 330,
   "metadata": {},
   "outputs": [
    {
     "data": {
      "text/plain": [
       "['Jan 1.xlsx',\n",
       " 'Jan 10.xlsx',\n",
       " 'Jan 11.xlsx',\n",
       " 'Jan 12.xlsx',\n",
       " 'Jan 13.xlsx',\n",
       " 'Jan 14.xlsx',\n",
       " 'Jan 15.xlsx',\n",
       " 'Jan 16.xlsx',\n",
       " 'Jan 17.xlsx',\n",
       " 'Jan 18.xlsx',\n",
       " 'Jan 19.xlsx',\n",
       " 'Jan 2.xlsx',\n",
       " 'Jan 20.xlsx',\n",
       " 'Jan 21.xlsx',\n",
       " 'Jan 22.xlsx',\n",
       " 'Jan 23.xlsx',\n",
       " 'Jan 24.xlsx',\n",
       " 'Jan 25.xlsx',\n",
       " 'Jan 26.xlsx',\n",
       " 'Jan 27.xlsx',\n",
       " 'Jan 28.xlsx',\n",
       " 'Jan 29.xlsx',\n",
       " 'Jan 3.xlsx',\n",
       " 'Jan 30.xlsx',\n",
       " 'Jan 31.xlsx',\n",
       " 'Jan 4.xlsx',\n",
       " 'Jan 5.xlsx',\n",
       " 'Jan 6.xlsx',\n",
       " 'Jan 7.xlsx',\n",
       " 'Jan 8.xlsx',\n",
       " 'Jan 9.xlsx']"
      ]
     },
     "execution_count": 330,
     "metadata": {},
     "output_type": "execute_result"
    }
   ],
   "source": [
    "# list of file creaded with OS\n",
    "dir_list"
   ]
  },
  {
   "cell_type": "code",
   "execution_count": 331,
   "metadata": {},
   "outputs": [
    {
     "name": "stderr",
     "output_type": "stream",
     "text": [
      "C:\\ProgramData\\Anaconda3\\lib\\site-packages\\openpyxl\\styles\\stylesheet.py:221: UserWarning: Workbook contains no default style, apply openpyxl's default\n",
      "  warn(\"Workbook contains no default style, apply openpyxl's default\")\n"
     ]
    },
    {
     "data": {
      "text/plain": [
       "[     prodcode  price_eu  weight_kg  quantity\n",
       " 0        4134  1.957576   7.857868       498\n",
       " 1        4012  0.912565   5.746554       384\n",
       " 2        4323  0.740753   8.748904       431\n",
       " 3        4078  1.571533   7.061995       457\n",
       " 4        4323  1.389404   1.117369       316\n",
       " ..        ...       ...        ...       ...\n",
       " 172      4131  0.785636   3.182114       309\n",
       " 173      4958  1.769207   1.682748       144\n",
       " 174      4272  1.870081   4.521656       455\n",
       " 175      3302  0.851615   1.117974       482\n",
       " 176      4240  0.924423   8.807495       116\n",
       " \n",
       " [177 rows x 4 columns],\n",
       "      prodcode  price_eu  weight_kg  quantity\n",
       " 0        4062  1.787273   4.471376       429\n",
       " 1        4131  1.126582   8.044936       115\n",
       " 2        4412  1.124486   5.821937       224\n",
       " 3        4240  2.439484   1.597031       125\n",
       " 4        4131  0.724156   1.585862       314\n",
       " ..        ...       ...        ...       ...\n",
       " 139      4081  2.933888   4.822286       225\n",
       " 140      4159  0.862348   7.702172       210\n",
       " 141      4159  1.015723   5.522059       485\n",
       " 142      4796  2.422041   8.823045       156\n",
       " 143      3302  2.993079   9.836940       143\n",
       " \n",
       " [144 rows x 4 columns],\n",
       "      prodcode  price_eu  weight_kg  quantity\n",
       " 0        3302  1.080893   5.127780       413\n",
       " 1        4131  0.546223   1.971261       443\n",
       " 2        4012  1.175470   5.041359       323\n",
       " 3        4134  1.756376   1.848012       291\n",
       " 4        4062  2.176934   5.441158       297\n",
       " ..        ...       ...        ...       ...\n",
       " 111      4650  1.608026   3.475549       425\n",
       " 112      4272  2.638751   6.881102       191\n",
       " 113      4323  1.369019   6.972113       154\n",
       " 114      4796  0.885581   4.665167       476\n",
       " 115      4796  1.267550   4.424641       297\n",
       " \n",
       " [116 rows x 4 columns],\n",
       "      prodcode  price_eu  weight_kg  quantity\n",
       " 0        4412  1.581819   8.909573       332\n",
       " 1        4650  1.297087   4.364117       288\n",
       " 2        4796  1.268062   3.917054       403\n",
       " 3        4958  2.806989   8.823966       119\n",
       " 4        4796  1.163112   3.048494       382\n",
       " ..        ...       ...        ...       ...\n",
       " 126      4062  0.577561   8.575830       353\n",
       " 127      4404  1.277035   9.287725       369\n",
       " 128      4225  2.889246   9.507342       484\n",
       " 129      4159  2.347170   5.938858       488\n",
       " 130      4159  2.327121   4.702714       444\n",
       " \n",
       " [131 rows x 4 columns],\n",
       "      prodcode  price_eu  weight_kg  quantity\n",
       " 0        3302  0.874820   9.926592       114\n",
       " 1        4081  0.676420   3.823361       234\n",
       " 2        4131  0.599390   8.399749       262\n",
       " 3        4012  0.889678   8.615669       173\n",
       " 4        4796  2.517794   2.761869       103\n",
       " ..        ...       ...        ...       ...\n",
       " 118      4323  2.495556   9.635584       130\n",
       " 119      4796  2.617830   5.116406       274\n",
       " 120      3302  1.626513   2.995254       186\n",
       " 121      4078  1.319134   4.533115       495\n",
       " 122      4078  2.968433   2.855828       123\n",
       " \n",
       " [123 rows x 4 columns],\n",
       "      prodcode  price_eu  weight_kg  quantity\n",
       " 0        4958  1.002161   4.350190       454\n",
       " 1        4134  1.607427   4.088604       440\n",
       " 2        4404  2.391615   8.846058       114\n",
       " 3        4412  1.559371   3.502336       110\n",
       " 4        4240  1.189928   1.387503       193\n",
       " ..        ...       ...        ...       ...\n",
       " 186      4081  1.016661   9.863914       236\n",
       " 187      4404  0.562320   1.436869       457\n",
       " 188      4323  1.099719   7.231482       497\n",
       " 189      4012  0.530446   6.039821       473\n",
       " 190      4412  1.841767   3.048413       173\n",
       " \n",
       " [191 rows x 4 columns],\n",
       "      prodcode  price_eu  weight_kg  quantity\n",
       " 0        4650  2.994255   8.311096       250\n",
       " 1        4011  0.675726   8.945739       229\n",
       " 2        4030  1.151637   4.280233       396\n",
       " 3        4796  1.343175   7.487131       158\n",
       " 4        4062  1.121104   2.063172       359\n",
       " ..        ...       ...        ...       ...\n",
       " 110      4404  1.653973   7.146866       333\n",
       " 111      4240  0.831202   5.020198       290\n",
       " 112      4225  0.925478   8.966378       243\n",
       " 113      3302  1.783134   3.855378       374\n",
       " 114      4011  1.203183   9.704697       465\n",
       " \n",
       " [115 rows x 4 columns],\n",
       "      prodcode  price_eu  weight_kg  quantity\n",
       " 0        4131  2.648798   9.899976       441\n",
       " 1        4011  1.172191   8.485453       430\n",
       " 2        4078  1.134921   7.340038       144\n",
       " 3        4062  2.845972   9.951169       146\n",
       " 4        3302  2.617083   4.906298       178\n",
       " ..        ...       ...        ...       ...\n",
       " 119      4134  2.589149   3.258579       425\n",
       " 120      4309  2.551629   8.772196       143\n",
       " 121      4272  1.399194   3.216593       105\n",
       " 122      4131  0.799474   4.696033       294\n",
       " 123      4225  2.787052   7.050959       481\n",
       " \n",
       " [124 rows x 4 columns],\n",
       "      prodcode  price_eu  weight_kg  quantity\n",
       " 0        4030  0.724529   6.526625       365\n",
       " 1        4412  1.176185   4.932899       257\n",
       " 2        4134  0.881676   9.918546       479\n",
       " 3        4796  2.431864   2.577641       357\n",
       " 4        4240  2.964569   7.463283       258\n",
       " ..        ...       ...        ...       ...\n",
       " 150      4030  1.587809   9.838220       217\n",
       " 151      4272  2.807759   1.267724       225\n",
       " 152      4650  2.495865   3.255215       405\n",
       " 153      4240  2.286336   7.773690       287\n",
       " 154      4012  0.638799   9.252911       387\n",
       " \n",
       " [155 rows x 4 columns],\n",
       "      prodcode  price_eu  weight_kg  quantity\n",
       " 0        4958  2.342547   4.743472       200\n",
       " 1        4404  0.596024   1.087012       129\n",
       " 2        4131  1.901436   5.749819       481\n",
       " 3        4650  1.393672   6.900612       456\n",
       " 4        4081  1.572611   9.042117       322\n",
       " ..        ...       ...        ...       ...\n",
       " 162      4323  1.651340   6.403967       423\n",
       " 163      4159  2.648764   5.479397       185\n",
       " 164      4225  1.760837   1.457570       462\n",
       " 165      4159  2.933774   4.429534       315\n",
       " 166      4412  0.646149   9.066432       469\n",
       " \n",
       " [167 rows x 4 columns],\n",
       "      prodcode  price_eu  weight_kg  quantity\n",
       " 0        4225  2.821764   5.991828       109\n",
       " 1        4272  2.291278   7.406463       487\n",
       " 2        4272  2.868902   3.995164       260\n",
       " 3        4240  1.900148   4.324676       217\n",
       " 4        4650  1.652318   8.156802       306\n",
       " ..        ...       ...        ...       ...\n",
       " 166      4159  1.765772   3.156249       325\n",
       " 167      4134  1.278073   9.634835       110\n",
       " 168      4081  2.592303   2.668222       436\n",
       " 169      4225  2.725551   9.906121       272\n",
       " 170      4225  2.735771   9.798733       481\n",
       " \n",
       " [171 rows x 4 columns],\n",
       "      prodcode  price_eu  weight_kg  quantity\n",
       " 0        4030  1.794595   7.408185       109\n",
       " 1        4796  2.465679   4.732620       329\n",
       " 2        4309  2.364612   2.334260       202\n",
       " 3        4062  2.675838   5.775537       377\n",
       " 4        4062  2.544090   7.213688       181\n",
       " ..        ...       ...        ...       ...\n",
       " 141      4159  0.658926   9.097841       236\n",
       " 142      3302  0.930788   3.683782       307\n",
       " 143      4240  2.595530   5.877564       498\n",
       " 144      3302  0.663172   6.044196       265\n",
       " 145      4650  2.908118   8.439885       262\n",
       " \n",
       " [146 rows x 4 columns],\n",
       "      prodcode  price_eu  weight_kg  quantity\n",
       " 0        4078  1.134556   6.785878       393\n",
       " 1        4030  2.389738   5.316570       373\n",
       " 2        4309  1.284609   7.077342       136\n",
       " 3        4159  1.515562   5.190489       283\n",
       " 4        4062  1.020298   5.369436       346\n",
       " ..        ...       ...        ...       ...\n",
       " 154      4796  1.923753   1.411089       272\n",
       " 155      4030  2.555996   9.176357       163\n",
       " 156      4012  2.631527   2.063230       235\n",
       " 157      4030  1.939492   8.949417       134\n",
       " 158      4134  1.318549   7.909305       191\n",
       " \n",
       " [159 rows x 4 columns],\n",
       "      prodcode  price_eu  weight_kg  quantity\n",
       " 0        4062  2.704403   8.204685       362\n",
       " 1        4134  2.853825   7.778257       188\n",
       " 2        4078  2.230495   8.936067       179\n",
       " 3        4412  2.509314   3.358003       132\n",
       " 4        3302  2.105311   8.875587       299\n",
       " ..        ...       ...        ...       ...\n",
       " 181      4062  1.890646   4.442497       184\n",
       " 182      4012  0.580327   4.644796       275\n",
       " 183      4011  0.758523   4.676506       290\n",
       " 184      4030  2.291222   1.283037       420\n",
       " 185      4078  2.637176   2.643585       454\n",
       " \n",
       " [186 rows x 4 columns],\n",
       "      prodcode  price_eu  weight_kg  quantity\n",
       " 0        4412  0.775522   7.924342       469\n",
       " 1        4412  1.278809   6.732102       139\n",
       " 2        4131  2.213391   7.132639       393\n",
       " 3        4030  0.743617   8.190647       172\n",
       " 4        4131  0.854499   1.995496       440\n",
       " ..        ...       ...        ...       ...\n",
       " 101      4225  2.596474   1.659796       404\n",
       " 102      4078  2.874869   5.346462       254\n",
       " 103      4012  2.334362   7.012475       233\n",
       " 104      4240  2.727889   8.367912       244\n",
       " 105      4011  1.287992   1.624036       401\n",
       " \n",
       " [106 rows x 4 columns],\n",
       "      prodcode  price_eu  weight_kg  quantity\n",
       " 0        4225  1.203594   4.935961       271\n",
       " 1        4796  1.362533   2.855601       264\n",
       " 2        4030  2.105370   1.705416       174\n",
       " 3        4159  1.042259   9.959755       244\n",
       " 4        4240  2.214819   4.423136       281\n",
       " ..        ...       ...        ...       ...\n",
       " 133      4062  2.579502   7.786855       157\n",
       " 134      4078  2.782910   1.828922       450\n",
       " 135      4796  2.277443   3.787169       202\n",
       " 136      4159  2.950468   8.655364       102\n",
       " 137      4225  1.382542   3.774406       486\n",
       " \n",
       " [138 rows x 4 columns],\n",
       "      prodcode  price_eu  weight_kg  quantity\n",
       " 0        4030  1.417350   8.410759       180\n",
       " 1        4309  0.803150   5.631313       117\n",
       " 2        4225  1.963098   6.188022       350\n",
       " 3        4272  1.504936   6.995951       472\n",
       " 4        4225  1.584908   4.010263       336\n",
       " ..        ...       ...        ...       ...\n",
       " 130      4134  2.021267   5.441514       255\n",
       " 131      4131  1.472206   4.184425       208\n",
       " 132      4131  2.098701   8.621954       156\n",
       " 133      4078  2.961101   4.474113       190\n",
       " 134      4134  2.060669   7.758093       184\n",
       " \n",
       " [135 rows x 4 columns],\n",
       "      prodcode  price_eu  weight_kg  quantity\n",
       " 0        4958  0.605160   6.718604       456\n",
       " 1        3302  1.527189   9.396317       114\n",
       " 2        4131  2.629595   7.742641       120\n",
       " 3        4134  0.765817   9.563864       316\n",
       " 4        4412  1.934846   7.312817       242\n",
       " ..        ...       ...        ...       ...\n",
       " 144      4131  2.783480   7.148412       409\n",
       " 145      4131  1.429944   8.949795       263\n",
       " 146      4796  2.887592   8.812350       168\n",
       " 147      4078  2.347994   7.173093       248\n",
       " 148      4081  1.743936   6.623745       339\n",
       " \n",
       " [149 rows x 4 columns],\n",
       "      prodcode  price_eu  weight_kg  quantity\n",
       " 0        4011  2.910359   5.619128       449\n",
       " 1        4081  1.208449   9.457802       248\n",
       " 2        4134  1.571108   4.442744       465\n",
       " 3        4650  1.760948   8.745275       137\n",
       " 4        4323  0.748857   5.836166       211\n",
       " ..        ...       ...        ...       ...\n",
       " 195      4030  1.846843   7.083197       357\n",
       " 196      4650  1.774959   5.019391       308\n",
       " 197      3302  2.128686   2.366231       361\n",
       " 198      4062  0.730563   6.725124       432\n",
       " 199      4062  1.808488   2.792984       268\n",
       " \n",
       " [200 rows x 4 columns],\n",
       "      prodcode  price_eu  weight_kg  quantity\n",
       " 0        4796  0.689745   2.996386       242\n",
       " 1        4159  1.500372   8.454601       342\n",
       " 2        4081  2.376757   8.664984       151\n",
       " 3        4062  1.279006   9.778206       462\n",
       " 4        4958  2.575088   4.289425       281\n",
       " ..        ...       ...        ...       ...\n",
       " 176      4796  2.814020   6.242292       231\n",
       " 177      4412  1.204732   6.818777       290\n",
       " 178      4650  1.643909   2.210646       445\n",
       " 179      4404  0.651871   2.937710       335\n",
       " 180      4131  2.955225   1.050710       450\n",
       " \n",
       " [181 rows x 4 columns],\n",
       "      prodcode  price_eu  weight_kg  quantity\n",
       " 0        4225  2.064352   6.012052       414\n",
       " 1        4081  1.892775   9.739063       117\n",
       " 2        4412  1.156997   6.127846       393\n",
       " 3        4309  2.948587   8.620253       463\n",
       " 4        4030  2.866093   4.853686       483\n",
       " ..        ...       ...        ...       ...\n",
       " 123      4131  0.585617   4.125008       334\n",
       " 124      4958  2.659504   8.738050       107\n",
       " 125      4159  0.833778   2.711020       377\n",
       " 126      4131  1.423445   4.790970       228\n",
       " 127      4796  2.994392   8.505220       423\n",
       " \n",
       " [128 rows x 4 columns],\n",
       "      prodcode  price_eu  weight_kg  quantity\n",
       " 0        4309  1.875943   2.731208       273\n",
       " 1        4081  2.887112   8.246575       482\n",
       " 2        4240  2.028016   6.208371       499\n",
       " 3        4796  2.325035   1.803645       227\n",
       " 4        4012  1.246007   9.192560       188\n",
       " ..        ...       ...        ...       ...\n",
       " 154      4309  1.740400   6.112274       351\n",
       " 155      4796  1.509984   4.872717       453\n",
       " 156      4323  1.471166   4.621142       425\n",
       " 157      4958  1.585100   6.134899       242\n",
       " 158      4225  2.775452   2.109592       437\n",
       " \n",
       " [159 rows x 4 columns],\n",
       "      prodcode  price_eu  weight_kg  quantity\n",
       " 0        4958  1.199604   5.367671       164\n",
       " 1        4081  1.864119   4.920702       490\n",
       " 2        4958  2.101751   1.241105       303\n",
       " 3        4225  2.771617   4.096654       296\n",
       " 4        4078  0.789454   8.768320       299\n",
       " ..        ...       ...        ...       ...\n",
       " 109      4012  2.827371   8.500703       177\n",
       " 110      4650  2.945362   2.718829       449\n",
       " 111      4796  2.445250   3.883070       425\n",
       " 112      4062  1.475618   7.046054       408\n",
       " 113      4012  2.704161   9.388672       356\n",
       " \n",
       " [114 rows x 4 columns],\n",
       "      prodcode  price_eu  weight_kg  quantity\n",
       " 0        4081  1.365239   1.432427       484\n",
       " 1        4012  1.071988   5.574501       164\n",
       " 2        4134  1.027460   3.125327       435\n",
       " 3        4272  1.913068   5.655928       303\n",
       " 4        4272  0.683016   1.124407       300\n",
       " ..        ...       ...        ...       ...\n",
       " 150      4412  1.415894   5.776867       166\n",
       " 151      4062  2.039224   1.127958       496\n",
       " 152      4404  1.167840   1.275837       195\n",
       " 153      4062  1.989172   5.036471       495\n",
       " 154      4159  2.671280   4.011125       372\n",
       " \n",
       " [155 rows x 4 columns],\n",
       "      prodcode  price_eu  weight_kg  quantity\n",
       " 0        4062  1.864799   8.257936       157\n",
       " 1        4134  1.896052   6.786862       398\n",
       " 2        4062  0.689267   9.578513       250\n",
       " 3        4012  2.495072   8.962547       408\n",
       " 4        4412  2.668445   3.561285       450\n",
       " ..        ...       ...        ...       ...\n",
       " 157      4309  1.889473   7.002501       273\n",
       " 158      4159  2.848363   1.909915       130\n",
       " 159      4012  1.965253   1.000920       156\n",
       " 160      4323  1.911771   1.483456       174\n",
       " 161      4012  2.363911   5.532042       302\n",
       " \n",
       " [162 rows x 4 columns],\n",
       "      prodcode  price_eu  weight_kg  quantity\n",
       " 0        4081  2.403484   1.003010       277\n",
       " 1        4225  1.406695   3.893191       449\n",
       " 2        4958  1.279838   2.521541       146\n",
       " 3        4011  2.819368   7.595833       467\n",
       " 4        4062  2.599625   4.693680       142\n",
       " ..        ...       ...        ...       ...\n",
       " 114      4159  1.409515   8.407240       155\n",
       " 115      4796  2.975457   2.872815       472\n",
       " 116      4225  0.798455   3.564694       459\n",
       " 117      4225  1.757012   5.915880       169\n",
       " 118      4404  1.528591   6.301409       272\n",
       " \n",
       " [119 rows x 4 columns],\n",
       "      prodcode  price_eu  weight_kg  quantity\n",
       " 0        4062  1.165648   9.703614       128\n",
       " 1        4131  1.130214   8.001975       493\n",
       " 2        4272  1.054713   4.457812       486\n",
       " 3        4240  2.848530   8.465193       422\n",
       " 4        4225  0.987598   3.567469       325\n",
       " ..        ...       ...        ...       ...\n",
       " 187      4412  2.504345   1.064157       394\n",
       " 188      4081  2.993400   5.818331       175\n",
       " 189      4078  1.906061   1.635341       220\n",
       " 190      4011  2.728437   5.440664       335\n",
       " 191      4011  2.621093   5.843747       431\n",
       " \n",
       " [192 rows x 4 columns],\n",
       "      prodcode  price_eu  weight_kg  quantity\n",
       " 0        4323  2.785663   2.286493       261\n",
       " 1        4796  1.780125   1.240616       339\n",
       " 2        4412  2.427859   5.251395       246\n",
       " 3        4012  1.459726   8.055505       408\n",
       " 4        4240  2.271278   1.548151       226\n",
       " ..        ...       ...        ...       ...\n",
       " 140      4404  1.186295   4.814465       161\n",
       " 141      4272  1.169086   4.641625       404\n",
       " 142      4272  0.835818   4.249380       459\n",
       " 143      4062  0.939314   8.786196       172\n",
       " 144      4958  0.869263   3.420539       488\n",
       " \n",
       " [145 rows x 4 columns],\n",
       "      prodcode  price_eu  weight_kg  quantity\n",
       " 0        4958  0.707083   7.276702       319\n",
       " 1        4412  1.529445   8.917952       356\n",
       " 2        4958  2.399912   8.483061       359\n",
       " 3        4650  1.022413   2.585459       268\n",
       " 4        4272  1.880998   1.174156       437\n",
       " ..        ...       ...        ...       ...\n",
       " 120      4323  2.974498   2.653008       173\n",
       " 121      4078  1.339879   7.437035       336\n",
       " 122      4272  1.788645   8.207490       402\n",
       " 123      4012  0.713935   9.059039       209\n",
       " 124      4011  0.739458   8.922654       108\n",
       " \n",
       " [125 rows x 4 columns],\n",
       "      prodcode  price_eu  weight_kg  quantity\n",
       " 0        4240  0.723431   9.510105       485\n",
       " 1        4078  0.944004   8.507161       291\n",
       " 2        4078  1.173074   2.800280       127\n",
       " 3        4030  1.541987   7.141161       407\n",
       " 4        4309  1.926939   9.999604       456\n",
       " ..        ...       ...        ...       ...\n",
       " 155      4272  0.886827   1.218748       254\n",
       " 156      3302  1.969969   3.429427       312\n",
       " 157      4404  1.276998   9.164707       172\n",
       " 158      4062  1.558864   7.746972       436\n",
       " 159      4030  1.895941   3.085216       401\n",
       " \n",
       " [160 rows x 4 columns],\n",
       "      prodcode  price_eu  weight_kg  quantity\n",
       " 0        4062  0.709789   8.512624       275\n",
       " 1        4134  1.742215   7.866002       439\n",
       " 2        4412  1.796306   1.405010       186\n",
       " 3        3302  2.994218   6.879602       253\n",
       " 4        4225  1.156119   4.579716       467\n",
       " ..        ...       ...        ...       ...\n",
       " 112      4225  1.284963   1.557126       458\n",
       " 113      3302  2.297000   4.158006       418\n",
       " 114      4309  0.767702   9.061574       274\n",
       " 115      4404  2.476346   5.408705       200\n",
       " 116      4958  1.730068   4.833922       393\n",
       " \n",
       " [117 rows x 4 columns]]"
      ]
     },
     "execution_count": 331,
     "metadata": {},
     "output_type": "execute_result"
    }
   ],
   "source": [
    "# Reading Boston city sheet from the given data\n",
    "list_Boston=[pd.read_excel(open('C:/Users/Solomon Lemma/DSI/Labs-assignments/week2/2.02-excel-madness/data/%s'%file, 'rb'), \n",
    "                      sheet_name='Boston') for file in dir_list]\n",
    "list_Boston"
   ]
  },
  {
   "cell_type": "markdown",
   "metadata": {},
   "source": [
    "### Step 5: Concatenate all DataFrames from Step 4 into one large DataFrame\n",
    "* _Hint:_ Is there a function in `pandas` that can do something like this for us? This is also just one line of code!"
   ]
  },
  {
   "cell_type": "code",
   "execution_count": 332,
   "metadata": {},
   "outputs": [
    {
     "name": "stderr",
     "output_type": "stream",
     "text": [
      "C:\\ProgramData\\Anaconda3\\lib\\site-packages\\pandas\\core\\internals\\construction.py:309: VisibleDeprecationWarning: Creating an ndarray from ragged nested sequences (which is a list-or-tuple of lists-or-tuples-or ndarrays with different lengths or shapes) is deprecated. If you meant to do this, you must specify 'dtype=object' when creating the ndarray.\n",
      "  values = np.array([convert(v) for v in values])\n"
     ]
    },
    {
     "data": {
      "text/plain": [
       "(31, 1)"
      ]
     },
     "execution_count": 332,
     "metadata": {},
     "output_type": "execute_result"
    }
   ],
   "source": [
    "# Forming DataFrame with pandas.\n",
    "df_Boston=pd.DataFrame(list_Boston)\n",
    "df_Boston.shape"
   ]
  },
  {
   "cell_type": "code",
   "execution_count": 333,
   "metadata": {},
   "outputs": [
    {
     "data": {
      "text/html": [
       "<div>\n",
       "<style scoped>\n",
       "    .dataframe tbody tr th:only-of-type {\n",
       "        vertical-align: middle;\n",
       "    }\n",
       "\n",
       "    .dataframe tbody tr th {\n",
       "        vertical-align: top;\n",
       "    }\n",
       "\n",
       "    .dataframe thead th {\n",
       "        text-align: right;\n",
       "    }\n",
       "</style>\n",
       "<table border=\"1\" class=\"dataframe\">\n",
       "  <thead>\n",
       "    <tr style=\"text-align: right;\">\n",
       "      <th></th>\n",
       "      <th>0</th>\n",
       "    </tr>\n",
       "  </thead>\n",
       "  <tbody>\n",
       "    <tr>\n",
       "      <th>0</th>\n",
       "      <td>prodcode  price_eu  weight_kg  quantity\n",
       "0...</td>\n",
       "    </tr>\n",
       "    <tr>\n",
       "      <th>1</th>\n",
       "      <td>prodcode  price_eu  weight_kg  quantity\n",
       "0...</td>\n",
       "    </tr>\n",
       "    <tr>\n",
       "      <th>2</th>\n",
       "      <td>prodcode  price_eu  weight_kg  quantity\n",
       "0...</td>\n",
       "    </tr>\n",
       "    <tr>\n",
       "      <th>3</th>\n",
       "      <td>prodcode  price_eu  weight_kg  quantity\n",
       "0...</td>\n",
       "    </tr>\n",
       "    <tr>\n",
       "      <th>4</th>\n",
       "      <td>prodcode  price_eu  weight_kg  quantity\n",
       "0...</td>\n",
       "    </tr>\n",
       "  </tbody>\n",
       "</table>\n",
       "</div>"
      ],
      "text/plain": [
       "                                                   0\n",
       "0       prodcode  price_eu  weight_kg  quantity\n",
       "0...\n",
       "1       prodcode  price_eu  weight_kg  quantity\n",
       "0...\n",
       "2       prodcode  price_eu  weight_kg  quantity\n",
       "0...\n",
       "3       prodcode  price_eu  weight_kg  quantity\n",
       "0...\n",
       "4       prodcode  price_eu  weight_kg  quantity\n",
       "0..."
      ]
     },
     "execution_count": 333,
     "metadata": {},
     "output_type": "execute_result"
    }
   ],
   "source": [
    "df_Boston.head()"
   ]
  },
  {
   "cell_type": "markdown",
   "metadata": {},
   "source": [
    "### Step 6: Do this for all cities, write data\n",
    "Here's the big one. For each city, process and the data as in steps 3-5, and then write the data to our `output` folder. Below is a dictionary of city name to desired output file name.\n",
    "\n",
    "Before writing your DataFrame, do the following:\n",
    "* Add a `city` column\n",
    "* Reorder the columns into the following order:\n",
    "\n",
    "\n",
    "| city | date | product | prodcode | quantity | weight_lb | price_usd |\n",
    "|---|---|---|---|---|---|---|\n",
    "\n",
    "* _Hint:_ You can reorder DataFrame columns simply by writing over your DataFrame with itself, but specifying the specific column order with `.loc`. For example:\n",
    "\n",
    "`print(df)`\n",
    "\n",
    "| b | c | a |\n",
    "|---|---|---|\n",
    "| 1 | 2 | 3 |\n",
    "\n",
    "`df = df.loc[:, [\"a\", \"b\", \"c\"]]`\n",
    "\n",
    "`print(df)`\n",
    "\n",
    "| a | b | c |\n",
    "|---|---|---|\n",
    "| 3 | 1 | 2 |\n"
   ]
  },
  {
   "cell_type": "code",
   "execution_count": 334,
   "metadata": {},
   "outputs": [
    {
     "name": "stdout",
     "output_type": "stream",
     "text": [
      "<class 'pandas.core.frame.DataFrame'>\n",
      "Int64Index: 114 entries, 0 to 113\n",
      "Data columns (total 7 columns):\n",
      " #   Column     Non-Null Count  Dtype  \n",
      "---  ------     --------------  -----  \n",
      " 0   product    114 non-null    object \n",
      " 1   prodcode   114 non-null    int64  \n",
      " 2   quantity   114 non-null    int64  \n",
      " 3   price_usd  114 non-null    float64\n",
      " 4   weight_lb  114 non-null    float64\n",
      " 5   Date       114 non-null    object \n",
      " 6   city       114 non-null    object \n",
      "dtypes: float64(2), int64(2), object(3)\n",
      "memory usage: 7.1+ KB\n"
     ]
    },
    {
     "name": "stderr",
     "output_type": "stream",
     "text": [
      "C:\\ProgramData\\Anaconda3\\lib\\site-packages\\openpyxl\\styles\\stylesheet.py:221: UserWarning: Workbook contains no default style, apply openpyxl's default\n",
      "  warn(\"Workbook contains no default style, apply openpyxl's default\")\n"
     ]
    }
   ],
   "source": [
    "# add city column to the dataframe\n",
    "df_6= process_data('Jan 3', 'Boston')\n",
    "df_6.head()\n",
    "df_6['city']= ''\n",
    "df_6.info()\n",
    "# df_Boston.head()"
   ]
  },
  {
   "cell_type": "code",
   "execution_count": 335,
   "metadata": {},
   "outputs": [
    {
     "data": {
      "text/plain": [
       "Index(['product', 'prodcode', 'quantity', 'price_usd', 'weight_lb', 'Date',\n",
       "       'city'],\n",
       "      dtype='object')"
      ]
     },
     "execution_count": 335,
     "metadata": {},
     "output_type": "execute_result"
    }
   ],
   "source": [
    "df_6.columns"
   ]
  },
  {
   "cell_type": "code",
   "execution_count": 336,
   "metadata": {},
   "outputs": [
    {
     "data": {
      "text/html": [
       "<div>\n",
       "<style scoped>\n",
       "    .dataframe tbody tr th:only-of-type {\n",
       "        vertical-align: middle;\n",
       "    }\n",
       "\n",
       "    .dataframe tbody tr th {\n",
       "        vertical-align: top;\n",
       "    }\n",
       "\n",
       "    .dataframe thead th {\n",
       "        text-align: right;\n",
       "    }\n",
       "</style>\n",
       "<table border=\"1\" class=\"dataframe\">\n",
       "  <thead>\n",
       "    <tr style=\"text-align: right;\">\n",
       "      <th></th>\n",
       "      <th>city</th>\n",
       "      <th>Date</th>\n",
       "      <th>product</th>\n",
       "      <th>prodcode</th>\n",
       "      <th>quantity</th>\n",
       "      <th>weight_lb</th>\n",
       "      <th>price_usd</th>\n",
       "    </tr>\n",
       "  </thead>\n",
       "  <tbody>\n",
       "    <tr>\n",
       "      <th>0</th>\n",
       "      <td></td>\n",
       "      <td>Jan 3</td>\n",
       "      <td>Apple (Fuji)</td>\n",
       "      <td>4131</td>\n",
       "      <td>125</td>\n",
       "      <td>1.216087</td>\n",
       "      <td>2.655016</td>\n",
       "    </tr>\n",
       "    <tr>\n",
       "      <th>1</th>\n",
       "      <td></td>\n",
       "      <td>Jan 3</td>\n",
       "      <td>Apple (Fuji)</td>\n",
       "      <td>4131</td>\n",
       "      <td>209</td>\n",
       "      <td>0.822722</td>\n",
       "      <td>1.143128</td>\n",
       "    </tr>\n",
       "    <tr>\n",
       "      <th>2</th>\n",
       "      <td></td>\n",
       "      <td>Jan 3</td>\n",
       "      <td>Apple (Fuji)</td>\n",
       "      <td>4131</td>\n",
       "      <td>367</td>\n",
       "      <td>4.246985</td>\n",
       "      <td>1.179201</td>\n",
       "    </tr>\n",
       "    <tr>\n",
       "      <th>3</th>\n",
       "      <td></td>\n",
       "      <td>Jan 3</td>\n",
       "      <td>Apple (Fuji)</td>\n",
       "      <td>4131</td>\n",
       "      <td>429</td>\n",
       "      <td>4.072536</td>\n",
       "      <td>2.019336</td>\n",
       "    </tr>\n",
       "    <tr>\n",
       "      <th>4</th>\n",
       "      <td></td>\n",
       "      <td>Jan 3</td>\n",
       "      <td>Apple (Fuji)</td>\n",
       "      <td>4131</td>\n",
       "      <td>329</td>\n",
       "      <td>0.942295</td>\n",
       "      <td>1.147566</td>\n",
       "    </tr>\n",
       "  </tbody>\n",
       "</table>\n",
       "</div>"
      ],
      "text/plain": [
       "  city   Date       product  prodcode  quantity  weight_lb  price_usd\n",
       "0       Jan 3  Apple (Fuji)      4131       125   1.216087   2.655016\n",
       "1       Jan 3  Apple (Fuji)      4131       209   0.822722   1.143128\n",
       "2       Jan 3  Apple (Fuji)      4131       367   4.246985   1.179201\n",
       "3       Jan 3  Apple (Fuji)      4131       429   4.072536   2.019336\n",
       "4       Jan 3  Apple (Fuji)      4131       329   0.942295   1.147566"
      ]
     },
     "execution_count": 336,
     "metadata": {},
     "output_type": "execute_result"
    }
   ],
   "source": [
    "d7=df_6[['city','Date','product', 'prodcode', 'quantity', 'weight_lb','price_usd']]\n",
    "d7.head()"
   ]
  },
  {
   "cell_type": "code",
   "execution_count": 337,
   "metadata": {},
   "outputs": [
    {
     "data": {
      "text/plain": [
       "Index(['city', 'Date', 'product', 'prodcode', 'quantity', 'weight_lb',\n",
       "       'price_usd'],\n",
       "      dtype='object')"
      ]
     },
     "execution_count": 337,
     "metadata": {},
     "output_type": "execute_result"
    }
   ],
   "source": [
    "# reordering the columns\n",
    "df_6=df_6.loc[:, ['city','Date','product', 'prodcode', 'quantity', 'weight_lb','price_usd']]\n",
    "df_6.columns"
   ]
  },
  {
   "cell_type": "code",
   "execution_count": 338,
   "metadata": {},
   "outputs": [],
   "source": [
    "city_dict = {\n",
    "    \"Atlanta\": \"atl.csv\",\n",
    "    \"Austin\": \"atx.csv\",\n",
    "    \"Boston\": \"bos.csv\",\n",
    "    \"Chicago\": \"chi.csv\",\n",
    "    \"Denver\": \"den.csv\",\n",
    "    \"Los Angeles\": \"lax.csv\",\n",
    "    \"New York\": \"nyc.csv\",\n",
    "    \"San Francisco\": \"sf.csv\",\n",
    "    \"Seattle\": \"sea.csv\",\n",
    "    \"Washington, DC\": \"dc.csv\"}"
   ]
  },
  {
   "cell_type": "code",
   "execution_count": 339,
   "metadata": {},
   "outputs": [
    {
     "data": {
      "text/plain": [
       "['Atlanta',\n",
       " 'Austin',\n",
       " 'Boston',\n",
       " 'Chicago',\n",
       " 'Denver',\n",
       " 'Los Angeles',\n",
       " 'New York',\n",
       " 'San Francisco',\n",
       " 'Seattle',\n",
       " 'Washington, DC']"
      ]
     },
     "execution_count": 339,
     "metadata": {},
     "output_type": "execute_result"
    }
   ],
   "source": [
    "dic_k= [k for k in city_dict.keys() ]\n",
    "dic_k"
   ]
  },
  {
   "cell_type": "code",
   "execution_count": 340,
   "metadata": {},
   "outputs": [
    {
     "data": {
      "text/plain": [
       "'atl.csv'"
      ]
     },
     "execution_count": 340,
     "metadata": {},
     "output_type": "execute_result"
    }
   ],
   "source": [
    "city_dict.get('Atlanta')"
   ]
  },
  {
   "cell_type": "code",
   "execution_count": 341,
   "metadata": {},
   "outputs": [
    {
     "name": "stderr",
     "output_type": "stream",
     "text": [
      "C:\\ProgramData\\Anaconda3\\lib\\site-packages\\openpyxl\\styles\\stylesheet.py:221: UserWarning: Workbook contains no default style, apply openpyxl's default\n",
      "  warn(\"Workbook contains no default style, apply openpyxl's default\")\n"
     ]
    },
    {
     "data": {
      "text/html": [
       "<div>\n",
       "<style scoped>\n",
       "    .dataframe tbody tr th:only-of-type {\n",
       "        vertical-align: middle;\n",
       "    }\n",
       "\n",
       "    .dataframe tbody tr th {\n",
       "        vertical-align: top;\n",
       "    }\n",
       "\n",
       "    .dataframe thead th {\n",
       "        text-align: right;\n",
       "    }\n",
       "</style>\n",
       "<table border=\"1\" class=\"dataframe\">\n",
       "  <thead>\n",
       "    <tr style=\"text-align: right;\">\n",
       "      <th></th>\n",
       "      <th>prodcode</th>\n",
       "      <th>price_eu</th>\n",
       "      <th>weight_kg</th>\n",
       "      <th>quantity</th>\n",
       "    </tr>\n",
       "  </thead>\n",
       "  <tbody>\n",
       "    <tr>\n",
       "      <th>0</th>\n",
       "      <td>4309</td>\n",
       "      <td>1.174196</td>\n",
       "      <td>4.144857</td>\n",
       "      <td>393</td>\n",
       "    </tr>\n",
       "    <tr>\n",
       "      <th>1</th>\n",
       "      <td>4078</td>\n",
       "      <td>1.113595</td>\n",
       "      <td>6.211698</td>\n",
       "      <td>126</td>\n",
       "    </tr>\n",
       "    <tr>\n",
       "      <th>2</th>\n",
       "      <td>3302</td>\n",
       "      <td>1.584512</td>\n",
       "      <td>7.250695</td>\n",
       "      <td>320</td>\n",
       "    </tr>\n",
       "    <tr>\n",
       "      <th>3</th>\n",
       "      <td>4078</td>\n",
       "      <td>1.156861</td>\n",
       "      <td>5.442809</td>\n",
       "      <td>494</td>\n",
       "    </tr>\n",
       "    <tr>\n",
       "      <th>4</th>\n",
       "      <td>4650</td>\n",
       "      <td>2.778627</td>\n",
       "      <td>2.882292</td>\n",
       "      <td>206</td>\n",
       "    </tr>\n",
       "  </tbody>\n",
       "</table>\n",
       "</div>"
      ],
      "text/plain": [
       "   prodcode  price_eu  weight_kg  quantity\n",
       "0      4309  1.174196   4.144857       393\n",
       "1      4078  1.113595   6.211698       126\n",
       "2      3302  1.584512   7.250695       320\n",
       "3      4078  1.156861   5.442809       494\n",
       "4      4650  2.778627   2.882292       206"
      ]
     },
     "execution_count": 341,
     "metadata": {},
     "output_type": "execute_result"
    }
   ],
   "source": [
    "df = pd.read_excel(open('C:/Users/Solomon Lemma/DSI/Labs-assignments/week2/2.02-excel-madness/data/Jan 2.xlsx', 'rb'), \n",
    "                          sheet_name=\"Atlanta\")\n",
    "df.head()"
   ]
  },
  {
   "cell_type": "code",
   "execution_count": 342,
   "metadata": {},
   "outputs": [],
   "source": [
    "city_dict = {\n",
    "    \"Atlanta\": \"atl.csv\",\n",
    "    \"Austin\": \"atx.csv\",\n",
    "    \"Boston\": \"bos.csv\",\n",
    "    \"Chicago\": \"chi.csv\",\n",
    "    \"Denver\": \"den.csv\",\n",
    "    \"Los Angeles\": \"lax.csv\",\n",
    "    \"New York\": \"nyc.csv\",\n",
    "    \"San Francisco\": \"sf.csv\",\n",
    "    \"Seattle\": \"sea.csv\",\n",
    "    \"Washington, DC\": \"dc.csv\"\n",
    "}\n",
    "\n",
    "def all_city (file):\n",
    "    for city in city_dict.keys():\n",
    "        df1 = pd.read_excel(open('C:/Users/Solomon Lemma/DSI/Labs-assignments/week2/2.02-excel-madness/data/%s.xlsx'%file, 'rb'), \n",
    "                      sheet_name='%s'%city)\n",
    "        df1['price_usd']=df1['price_eu']*1.1\n",
    "        df1['weight_lb']=df1['weight_kg']/2.2 \n",
    "        plu = pd.read_csv(\"C:/Users/Solomon Lemma/DSI/Labs-assignments/week2/2.02-excel-madness/plu-codes.csv\")\n",
    "        plu.rename(columns={'plu_code': 'prodcode'},inplace=True)\n",
    "        df1_merge=plu.merge(df1, how='left', on='prodcode')\n",
    "        df1_merge.drop(['price_eu', 'weight_kg'], axis=1, inplace=True)\n",
    "        df1_merge['date']='%s'%file\n",
    "        \n",
    "        #df = pd.read_excel(open('C:/Users/Solomon Lemma/DSI/Labs-assignments/week2/2.02-excel-madness/data/%s.xlsx'%file, 'rb'), \n",
    "                          #sheet_name='%s'%city)\n",
    "        #df['date']='%s'%file\n",
    "        df1_merge['city']= city\n",
    "        df2=df1_merge[['city','date','product','prodcode','quantity','weight_lb','price_usd']]#arranged the colunm d         \n",
    "        df2.to_csv('C:/Users/Solomon Lemma/DSI/Labs-assignments/week2/2.02-excel-madness/output/%s'%city_dict.get(city), index=False)\n"
   ]
  },
  {
   "cell_type": "code",
   "execution_count": 343,
   "metadata": {},
   "outputs": [
    {
     "name": "stderr",
     "output_type": "stream",
     "text": [
      "C:\\ProgramData\\Anaconda3\\lib\\site-packages\\openpyxl\\styles\\stylesheet.py:221: UserWarning: Workbook contains no default style, apply openpyxl's default\n",
      "  warn(\"Workbook contains no default style, apply openpyxl's default\")\n"
     ]
    }
   ],
   "source": [
    "all_city (\"Jan 1\")"
   ]
  },
  {
   "cell_type": "code",
   "execution_count": 344,
   "metadata": {},
   "outputs": [],
   "source": [
    "# Loop through city_dict and carry out Step 6 here.\n",
    "# The keys of city_dict can serve as the sheet name.\n",
    "# The values of city_dict are what you should name the output .csv files.\n",
    "# If done correctly, this cell could take almost a minute to run!"
   ]
  },
  {
   "cell_type": "markdown",
   "metadata": {},
   "source": [
    "# Part II: Checking our answers \n",
    "In steps very similar to the ones conducted above...\n",
    "1. Loop through the files we just wrote to `output`, and read them in, collecting them all in one list\n",
    "1. Combine all of those DataFrames into one large DataFrame\n",
    "1. For each city, find the mean `quantity`, `weight_lb`, and `price_usd`.\n",
    "\n",
    "If you've done everything correct, your answer should look exactly like this:\n",
    "\n",
    "![](imgs/correct-output.png)"
   ]
  },
  {
   "cell_type": "code",
   "execution_count": 345,
   "metadata": {},
   "outputs": [
    {
     "data": {
      "text/plain": [
       "['atl.csv',\n",
       " 'atx.csv',\n",
       " 'bos.csv',\n",
       " 'chi.csv',\n",
       " 'den.csv',\n",
       " 'lax.csv',\n",
       " 'nyc.csv',\n",
       " 'sf.csv',\n",
       " 'sea.csv',\n",
       " 'dc.csv']"
      ]
     },
     "execution_count": 345,
     "metadata": {},
     "output_type": "execute_result"
    }
   ],
   "source": [
    "file_list=[xx for xx in city_dict.values()]\n",
    "file_list"
   ]
  },
  {
   "cell_type": "code",
   "execution_count": 346,
   "metadata": {},
   "outputs": [
    {
     "data": {
      "text/plain": [
       "(149, 7)"
      ]
     },
     "execution_count": 346,
     "metadata": {},
     "output_type": "execute_result"
    }
   ],
   "source": [
    "#Creating overall files dataframe \n",
    "yy=pd.DataFrame()\n",
    "for i in range(len(city_dict.values())):\n",
    "    val=[xx for xx in city_dict.values()][i]    \n",
    "    df1 = pd.read_csv('C:/Users/Solomon Lemma/DSI/Labs-assignments/week2/2.02-excel-madness/output/%s'%val)\n",
    "    \n",
    "kk=pd.concat([yy,df1])\n",
    "\n",
    "kk.shape"
   ]
  },
  {
   "cell_type": "code",
   "execution_count": 347,
   "metadata": {},
   "outputs": [
    {
     "name": "stdout",
     "output_type": "stream",
     "text": [
      "<class 'pandas.core.frame.DataFrame'>\n",
      "RangeIndex: 149 entries, 0 to 148\n",
      "Data columns (total 7 columns):\n",
      " #   Column     Non-Null Count  Dtype  \n",
      "---  ------     --------------  -----  \n",
      " 0   city       149 non-null    object \n",
      " 1   date       149 non-null    object \n",
      " 2   product    149 non-null    object \n",
      " 3   prodcode   149 non-null    int64  \n",
      " 4   quantity   149 non-null    int64  \n",
      " 5   weight_lb  149 non-null    float64\n",
      " 6   price_usd  149 non-null    float64\n",
      "dtypes: float64(2), int64(2), object(3)\n",
      "memory usage: 8.3+ KB\n"
     ]
    }
   ],
   "source": [
    "kk.info()"
   ]
  },
  {
   "cell_type": "code",
   "execution_count": 348,
   "metadata": {},
   "outputs": [
    {
     "data": {
      "text/html": [
       "<div>\n",
       "<style scoped>\n",
       "    .dataframe tbody tr th:only-of-type {\n",
       "        vertical-align: middle;\n",
       "    }\n",
       "\n",
       "    .dataframe tbody tr th {\n",
       "        vertical-align: top;\n",
       "    }\n",
       "\n",
       "    .dataframe thead th {\n",
       "        text-align: right;\n",
       "    }\n",
       "</style>\n",
       "<table border=\"1\" class=\"dataframe\">\n",
       "  <thead>\n",
       "    <tr style=\"text-align: right;\">\n",
       "      <th></th>\n",
       "      <th>city</th>\n",
       "      <th>date</th>\n",
       "      <th>product</th>\n",
       "      <th>prodcode</th>\n",
       "      <th>quantity</th>\n",
       "      <th>weight_lb</th>\n",
       "      <th>price_usd</th>\n",
       "    </tr>\n",
       "  </thead>\n",
       "  <tbody>\n",
       "    <tr>\n",
       "      <th>0</th>\n",
       "      <td>Washington, DC</td>\n",
       "      <td>Jan 1</td>\n",
       "      <td>Apple (Fuji)</td>\n",
       "      <td>4131</td>\n",
       "      <td>354</td>\n",
       "      <td>3.088436</td>\n",
       "      <td>2.234031</td>\n",
       "    </tr>\n",
       "    <tr>\n",
       "      <th>1</th>\n",
       "      <td>Washington, DC</td>\n",
       "      <td>Jan 1</td>\n",
       "      <td>Apple (Fuji)</td>\n",
       "      <td>4131</td>\n",
       "      <td>499</td>\n",
       "      <td>2.149165</td>\n",
       "      <td>2.979051</td>\n",
       "    </tr>\n",
       "    <tr>\n",
       "      <th>2</th>\n",
       "      <td>Washington, DC</td>\n",
       "      <td>Jan 1</td>\n",
       "      <td>Apple (Fuji)</td>\n",
       "      <td>4131</td>\n",
       "      <td>441</td>\n",
       "      <td>1.589095</td>\n",
       "      <td>2.373159</td>\n",
       "    </tr>\n",
       "    <tr>\n",
       "      <th>3</th>\n",
       "      <td>Washington, DC</td>\n",
       "      <td>Jan 1</td>\n",
       "      <td>Apple (Fuji)</td>\n",
       "      <td>4131</td>\n",
       "      <td>385</td>\n",
       "      <td>0.816528</td>\n",
       "      <td>0.719747</td>\n",
       "    </tr>\n",
       "    <tr>\n",
       "      <th>4</th>\n",
       "      <td>Washington, DC</td>\n",
       "      <td>Jan 1</td>\n",
       "      <td>Apple (Fuji)</td>\n",
       "      <td>4131</td>\n",
       "      <td>346</td>\n",
       "      <td>3.694569</td>\n",
       "      <td>3.085513</td>\n",
       "    </tr>\n",
       "  </tbody>\n",
       "</table>\n",
       "</div>"
      ],
      "text/plain": [
       "             city   date       product  prodcode  quantity  weight_lb  \\\n",
       "0  Washington, DC  Jan 1  Apple (Fuji)      4131       354   3.088436   \n",
       "1  Washington, DC  Jan 1  Apple (Fuji)      4131       499   2.149165   \n",
       "2  Washington, DC  Jan 1  Apple (Fuji)      4131       441   1.589095   \n",
       "3  Washington, DC  Jan 1  Apple (Fuji)      4131       385   0.816528   \n",
       "4  Washington, DC  Jan 1  Apple (Fuji)      4131       346   3.694569   \n",
       "\n",
       "   price_usd  \n",
       "0   2.234031  \n",
       "1   2.979051  \n",
       "2   2.373159  \n",
       "3   0.719747  \n",
       "4   3.085513  "
      ]
     },
     "execution_count": 348,
     "metadata": {},
     "output_type": "execute_result"
    }
   ],
   "source": [
    "kk.head()"
   ]
  },
  {
   "cell_type": "code",
   "execution_count": 349,
   "metadata": {},
   "outputs": [
    {
     "data": {
      "text/plain": [
       "(314.3691275167785, 2.432226892319934, 2.010898856773053)"
      ]
     },
     "execution_count": 349,
     "metadata": {},
     "output_type": "execute_result"
    }
   ],
   "source": [
    "# The mean values of quantity, weight_lb, and price_usd\n",
    "kk.quantity.mean(),kk.weight_lb.mean(),kk.price_usd.mean()"
   ]
  }
 ],
 "metadata": {
  "kernelspec": {
   "display_name": "Python 3",
   "language": "python",
   "name": "python3"
  },
  "language_info": {
   "codemirror_mode": {
    "name": "ipython",
    "version": 3
   },
   "file_extension": ".py",
   "mimetype": "text/x-python",
   "name": "python",
   "nbconvert_exporter": "python",
   "pygments_lexer": "ipython3",
   "version": "3.8.8"
  }
 },
 "nbformat": 4,
 "nbformat_minor": 2
}
