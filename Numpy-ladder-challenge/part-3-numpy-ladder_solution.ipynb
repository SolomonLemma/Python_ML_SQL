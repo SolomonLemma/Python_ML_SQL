{
 "cells": [
  {
   "cell_type": "markdown",
   "metadata": {},
   "source": [
    "# Numpy Ladder Challenge - Notebook 3"
   ]
  },
  {
   "cell_type": "markdown",
   "metadata": {},
   "source": [
    "# Climb the Ladder!\n",
    "Our class moves quickly! Sometimes, it feels like we make leaps in logic that are a bit too big. In this ladder challenge, we'll learn some core math concepts, some linear algebra, and the `numpy` library. Problems in this notebook start out easy and progressively get harder, so that the next rung of the Python ladder is always within reach.\n",
    "\n",
    "Additionally, since not all of the topics discussed in this ladder challenge are explicitly taught in our course, these problems come with many more hints, tips, suggestions, and even sometimes a mini-lesson. You are encouraged to Google frequently throughout the lesson. In many ways, this ladder is meant to be a challenge as well as educational in its own right.\n",
    "\n",
    "**Remember our one rule: NO LOOPS! None of the exercises in this notebook require a loop. If you use a loop to solve any of these problems, you are solving the problem incorrectly.**"
   ]
  },
  {
   "cell_type": "markdown",
   "metadata": {},
   "source": [
    "0) Import numpy in the usual way"
   ]
  },
  {
   "cell_type": "code",
   "execution_count": 1,
   "metadata": {},
   "outputs": [],
   "source": [
    "import numpy as np"
   ]
  },
  {
   "cell_type": "markdown",
   "metadata": {},
   "source": [
    "# Section V: All the Matrix Algebra in the World\n",
    "This final section is going to be a little bit different. We are aware than many students come to DSI from a wide variety of backgrounds, and many students have very little experience with linear algebra. However, data science is an intensely mathematical subject, and most of that math is linear algebra.\n",
    "\n",
    "This section is going to teach you some of the linear algebra topics we need while also giving you hands-on examples of how it might be carried out in raw `numpy`."
   ]
  },
  {
   "cell_type": "markdown",
   "metadata": {},
   "source": [
    "## Part 1: Vector Norms\n",
    "While vectors are often drawn as arrows, really they are simply points on a coordinate plane. They can be denoted many ways using mathematical notation, but which you use depends on what field of study you are in, or whichever is most convenient to your situation. That is, the following are all the same vector:\n",
    "\n",
    "$$\n",
    "\\mathbf{v} = (3, 4) = \n",
    "\\begin{bmatrix}\n",
    "3 \\\\ 4\n",
    "\\end{bmatrix} =\n",
    "\\begin{bmatrix}\n",
    "3 & 4\n",
    "\\end{bmatrix}\n",
    "$$\n",
    "\n",
    "Where the middle one (the \"column vector\") is often the most convenient when doing matrix algebra, so that is what we will use.\n",
    "\n",
    "The **norm** of a vector is the distance from that vector to the **origin** (that is, $(0, 0)$). It is denoted and computed as follows:\n",
    "\n",
    "$$\n",
    "\\|\\mathbf{v}\\| =\n",
    "    \\sqrt{\\mathbf{v}^T\\mathbf{v}} =\n",
    "    \\sqrt{\\mathbf{v} \\cdot \\mathbf{v}} =\n",
    "    \\sqrt{\\sum v_i^2}\n",
    "$$\n",
    "\n",
    "For the next few problems, we'll use the following vectors:"
   ]
  },
  {
   "cell_type": "code",
   "execution_count": 2,
   "metadata": {},
   "outputs": [],
   "source": [
    "v = np.load(\"data/v.npy\")\n",
    "w = np.load(\"data/w.npy\")"
   ]
  },
  {
   "cell_type": "markdown",
   "metadata": {},
   "source": [
    "68) Compute the vector norm of the vector $\\mathbf{v}$ using the matrix algebra we've learned so far in `numpy`."
   ]
  },
  {
   "cell_type": "code",
   "execution_count": 3,
   "metadata": {},
   "outputs": [
    {
     "data": {
      "text/plain": [
       "32.429124701516265"
      ]
     },
     "execution_count": 3,
     "metadata": {},
     "output_type": "execute_result"
    }
   ],
   "source": [
    "np.sqrt(v.T @ v)"
   ]
  },
  {
   "cell_type": "markdown",
   "metadata": {},
   "source": [
    "69) Compute the vector norm of the vector $\\mathbf{v}$ using a built-in `numpy` function.\n",
    "\n",
    "* _Hint:_ `np.linalg.something()`"
   ]
  },
  {
   "cell_type": "code",
   "execution_count": 4,
   "metadata": {},
   "outputs": [
    {
     "data": {
      "text/plain": [
       "32.429124701516265"
      ]
     },
     "execution_count": 4,
     "metadata": {},
     "output_type": "execute_result"
    }
   ],
   "source": [
    "np.linalg.norm(v)"
   ]
  },
  {
   "cell_type": "markdown",
   "metadata": {},
   "source": [
    "**The distance between two vectors** is given by the norm of their difference. That is,\n",
    "\n",
    "$$d(\\mathbf{v}, \\mathbf{w}) = \\|\\mathbf{v} - \\mathbf{w}\\|$$"
   ]
  },
  {
   "cell_type": "markdown",
   "metadata": {},
   "source": [
    "70) Compute the distance between $\\mathbf{v}$ and $\\mathbf{w}$"
   ]
  },
  {
   "cell_type": "code",
   "execution_count": 5,
   "metadata": {},
   "outputs": [
    {
     "data": {
      "text/plain": [
       "45.6414871816229"
      ]
     },
     "execution_count": 5,
     "metadata": {},
     "output_type": "execute_result"
    }
   ],
   "source": [
    "dist = np.linalg.norm(v-w)\n",
    "dist"
   ]
  },
  {
   "cell_type": "markdown",
   "metadata": {},
   "source": [
    "There are actually many kinds of distances. The one I've shown you so far is the most common, and it goes by many names, usually **Euclidean distance** or **$\\mathcal{l}_2$ distance**. There is also an **$\\mathcal{l}_1$ distance**, sometimes called **Taxi cab distance** or **Manhattan distance**:\n",
    "\n",
    "$$\\|\\mathbf{v}\\|_1 = \\sum |v_i|$$\n",
    "\n",
    "Can you figure out why it gets these names?\n",
    "\n",
    "71) Compute the Manhattan distance between $\\mathbf{v}$ and $\\mathbf{w}$.\n",
    "\n",
    "* _Hint:_ You can actually use the same function from numbers 69 and 70!"
   ]
  },
  {
   "cell_type": "code",
   "execution_count": 6,
   "metadata": {},
   "outputs": [
    {
     "data": {
      "text/plain": [
       "1146.0421250060474"
      ]
     },
     "execution_count": 6,
     "metadata": {},
     "output_type": "execute_result"
    }
   ],
   "source": [
    "manhattan_dist = np.linalg.norm(v-w, ord=1)\n",
    "manhattan_dist"
   ]
  },
  {
   "cell_type": "markdown",
   "metadata": {},
   "source": [
    "## Part 2: Linear Regression\n",
    "The first type of machine learning model (aka \"statistical model\") we'll learn in our course is the **ordinary least squares linear regression model** (usually just **linear regression** or **OLS** for short).\n",
    "\n",
    "In linear regression, we believe that our (quantitative) $y$ variable depends on some linear relationship of our $x$ variables. That is, if we have 3 $x$s, for observation $i$,\n",
    "\n",
    "$$y_i = \\beta_0 + \\beta_1x_{1i} + \\beta_2x_{2i} + \\beta_3x_{3i}$$\n",
    "\n",
    "We often like to incorporate _all_ of our data into this equation by writing this formula in matrix notation, which is actually much more concise:\n",
    "\n",
    "$$\\mathbf{y} = \\mathbf{X}\\beta$$\n",
    "\n",
    "Where\n",
    "\n",
    "$$\n",
    "\\begin{align}\n",
    "\\mathbf{y} = \n",
    "\\begin{bmatrix}\n",
    "y_1 \\\\ y_2 \\\\ \\vdots \\\\ y_n\n",
    "\\end{bmatrix}\n",
    "& \\text{, }\n",
    "\\mathbf{\\beta} = \n",
    "\\begin{bmatrix}\n",
    "\\beta_0 \\\\ \\beta_1 \\\\ \\vdots \\\\ \\beta_p\n",
    "\\end{bmatrix}\n",
    "\\end{align}\n",
    "$$\n",
    "\n",
    "and the **data matrix** (or **design matrix**) is:\n",
    "\n",
    "$$\n",
    "\\mathbf{X} =\n",
    "\\begin{bmatrix}\n",
    "1 & x_{11} & x_{12} & \\cdots & x_{1p} \\\\\n",
    "1 & x_{21} & x_{22} & \\cdots & x_{2p} \\\\\n",
    "\\vdots & \\vdots & \\vdots & \\ddots & \\vdots \\\\\n",
    "1 & x_{n1} & x_{n2} & \\cdots & x_{np} \\\\\n",
    "\\end{bmatrix}\n",
    "$$"
   ]
  },
  {
   "cell_type": "markdown",
   "metadata": {},
   "source": [
    "72) Using a paper and pencil, multiply out $\\mathbf{y} = \\mathbf{X}\\beta$ as denoted above. Verify to yourself that this makes sense, and that it matches the first equation above (for $p = 3$). Really, take the time to do this! Being comfortable with equations like these is an import concept in our course."
   ]
  },
  {
   "cell_type": "markdown",
   "metadata": {},
   "source": [
    "73) We load some data below. However, it doesn't include that column of ones that corresponds to the $y$-intercept ($\\beta_0$). Create a matrix $\\mathbf{X}$ by adding the column of ones.\n",
    "\n",
    "* _Hint:_ Use `np.hstack()`"
   ]
  },
  {
   "cell_type": "code",
   "execution_count": 7,
   "metadata": {},
   "outputs": [],
   "source": [
    "X = np.load(\"data/X.npy\")\n",
    "y = np.load(\"data/y.npy\")"
   ]
  },
  {
   "cell_type": "code",
   "execution_count": 8,
   "metadata": {},
   "outputs": [],
   "source": [
    "intercept = np.ones((X.shape[0], 1))\n",
    "X = np.hstack((intercept, X))"
   ]
  },
  {
   "cell_type": "markdown",
   "metadata": {},
   "source": [
    "74) What are the dimensions of $\\mathbf{X}$? How many observations are in this data set, and how many variables? What should be the size of $\\beta$?"
   ]
  },
  {
   "cell_type": "code",
   "execution_count": 9,
   "metadata": {},
   "outputs": [
    {
     "data": {
      "text/plain": [
       "(1000, 8)"
      ]
     },
     "execution_count": 9,
     "metadata": {},
     "output_type": "execute_result"
    }
   ],
   "source": [
    "X.shape"
   ]
  },
  {
   "cell_type": "markdown",
   "metadata": {},
   "source": [
    "The goal of OLS is to estimate $\\beta$. When we estimate a value, we like to put a \"hat\" on it. The estimate of $\\beta$ is then $\\hat{\\beta}$, and our predictions for our observations are $\\hat{\\mathbf{y}}$. OLS is one of the rare opportunities where we can computer $\\hat{\\beta}$ directly. It has the following formula:\n",
    "\n",
    "$$\\hat{\\beta} = (\\mathbf{X}^T\\mathbf{X})^{-1}\\mathbf{X}^T\\mathbf{y}$$\n",
    "\n",
    "75) Compute $\\hat{\\beta}$. Save it as `beta_hat`."
   ]
  },
  {
   "cell_type": "code",
   "execution_count": 10,
   "metadata": {},
   "outputs": [
    {
     "data": {
      "text/plain": [
       "array([ 9.21338758, -0.04410451, -1.89056824, -3.28185065,  6.5987268 ,\n",
       "       -9.38381361,  5.91130679,  1.25934086])"
      ]
     },
     "execution_count": 10,
     "metadata": {},
     "output_type": "execute_result"
    }
   ],
   "source": [
    "beta_hat = np.linalg.inv(X.T @ X) @ X.T @ y\n",
    "beta_hat"
   ]
  },
  {
   "cell_type": "markdown",
   "metadata": {},
   "source": [
    "76) Compute our predictions. That is, $\\mathbf{\\hat{y}} = \\mathbf{X}\\hat{\\beta}$. Save this as `y_hat`."
   ]
  },
  {
   "cell_type": "code",
   "execution_count": 11,
   "metadata": {},
   "outputs": [
    {
     "data": {
      "text/plain": [
       "array([ 2.01407247e+01, -1.21840736e+01,  5.64541630e+00,  6.27189175e+00,\n",
       "        3.72350172e+01,  1.94610853e+00,  6.73268820e+00,  2.84353737e+01,\n",
       "       -1.10114698e+00,  3.53468084e+01,  3.18931089e+01, -6.85813994e+00,\n",
       "        2.78593636e+01,  5.63071201e+00,  1.24014676e+01,  1.88718085e+01,\n",
       "        2.20824884e+01,  1.54295469e+01, -1.47980257e+01,  4.46240315e+01,\n",
       "       -9.84418457e+00, -1.96100616e+01,  3.57323066e+00, -1.52859818e+01,\n",
       "        1.83899312e+01,  4.26480087e+00,  2.13917178e+01,  1.43364832e+00,\n",
       "        1.29281614e+01,  2.68276716e+01,  7.07907841e+00, -2.78467905e+00,\n",
       "       -7.72038523e+00,  1.03240882e+01,  2.16225320e+01,  1.29211546e+01,\n",
       "        9.21976652e-01,  1.14806486e+01,  6.92155602e+00,  2.11540832e+00,\n",
       "       -2.92381880e+01,  1.28245556e+01,  1.09108479e+01,  1.83707836e+01,\n",
       "       -7.54580004e+00,  1.39432867e+01,  1.80655192e+01,  3.08677382e+01,\n",
       "        9.33212269e+00,  2.24202360e+01, -5.23614545e+00, -7.72796483e+00,\n",
       "        1.09516392e+01,  7.53219163e+00, -9.65383321e+00, -1.14915032e+01,\n",
       "       -1.06855488e+01, -2.22225769e+01,  2.84701338e+00,  2.64596235e+01,\n",
       "        2.47288682e+01,  4.06449143e+01,  1.87017021e+01,  1.15161914e+00,\n",
       "       -2.13582792e+00,  2.58648616e+01, -5.52013299e+00, -1.19006641e+00,\n",
       "        3.68700550e+01,  1.05221935e+01, -1.58134012e+01,  9.20637500e+00,\n",
       "        8.45851684e+00,  2.30944000e+01,  2.08642422e+01, -1.65302082e+01,\n",
       "       -4.11371928e+00,  2.56442371e+00,  5.56036571e+00,  1.12626809e+01,\n",
       "        3.17104627e+01,  5.32962387e+00,  8.07174201e+00, -4.09659500e+00,\n",
       "        1.66004775e+01,  9.74614585e+00,  4.72529249e+00, -8.58301232e+00,\n",
       "        7.57930497e+00, -9.12073030e+00,  3.20465718e+00,  1.23348513e+01,\n",
       "        8.73868893e+00,  4.11641427e+00,  4.53505631e+00, -7.32889688e-01,\n",
       "        9.42941419e+00,  7.58988726e+00,  6.29636412e+00, -8.55471360e+00,\n",
       "        1.02057680e+01,  7.60573549e+00,  6.07266094e+00,  1.20018914e+01,\n",
       "        1.75750726e+01, -1.90095676e+00,  1.08207717e+01,  8.76095125e+00,\n",
       "        1.58316432e+01,  4.12135042e+00,  1.87259167e+01,  8.07423353e+00,\n",
       "        3.87118850e-01,  6.17931131e+00, -8.24383958e+00,  9.27313987e+00,\n",
       "       -6.45938963e-01,  1.58798602e+01,  8.45737403e+00, -5.59914772e+00,\n",
       "       -9.68376744e+00,  5.51436191e+00,  1.01571668e+01,  2.36152361e+01,\n",
       "        7.06296691e+00,  6.90158329e+00,  3.53017730e+01,  2.51688702e+01,\n",
       "        5.24730747e+00,  3.00458139e+00,  2.29866272e+01,  9.25215555e+00,\n",
       "        1.37892238e+00,  1.89879077e+01,  2.87179680e+01, -1.25168245e+01,\n",
       "        1.22571252e+01,  1.52995839e+00,  4.56176421e-01, -1.90787801e+01,\n",
       "        1.46287274e+01,  6.87042031e+00, -7.88363816e+00,  8.39888905e+00,\n",
       "       -3.51362014e+00,  1.53845390e+01,  1.69098795e+01,  4.71291665e+00,\n",
       "        1.77057399e+01,  4.39489315e+01, -3.83337167e-01,  2.48604952e+01,\n",
       "        8.79864506e+00,  2.06703809e+00,  9.74002623e+00, -9.75781546e-01,\n",
       "        1.75777343e+01,  1.50973529e+01,  2.95104575e+01,  3.22401189e+01,\n",
       "        8.56686332e+00,  1.13863346e+01,  3.12948281e+00,  8.53973816e+00,\n",
       "       -1.65352535e+00,  1.21724857e+01, -2.34950181e+01, -5.92178281e-01,\n",
       "        2.44354385e+01,  1.49758320e+01, -9.80238980e+00,  9.76390733e+00,\n",
       "        3.38083380e+01, -1.70642030e+01, -6.19987213e+00,  8.14800045e+00,\n",
       "       -2.23050665e+00, -8.82731541e+00,  1.01245014e+01,  1.44516377e+01,\n",
       "       -8.93309985e+00,  1.89697439e+01,  1.30623154e+01,  1.26185247e+01,\n",
       "        6.82155717e+00,  3.64958905e+01, -1.38352504e+01,  1.54695821e+01,\n",
       "       -1.22186575e+01,  7.89265533e+00,  9.49417853e+00,  1.24634260e+01,\n",
       "        1.31431788e+01,  1.22204510e+00,  2.05648647e+01, -1.05695242e+01,\n",
       "        8.93807328e-01, -7.14021102e+00, -2.13673139e+00, -8.07558604e+00,\n",
       "        8.22683340e+00,  2.08854843e+01,  3.38193094e+00, -1.53875729e+01,\n",
       "       -9.57362545e+00,  2.28908909e+00,  2.88049355e+01,  2.05001523e+01,\n",
       "        3.56535756e+00, -5.62217543e+00,  7.67019065e+00,  6.68221505e+00,\n",
       "        3.16061128e+01,  2.10684528e+01,  2.51021523e+00,  6.78898894e+00,\n",
       "       -2.23536299e+00,  4.44112533e+00,  4.60765658e+00,  1.27018250e+01,\n",
       "        1.31352412e+01,  2.32806005e+01,  7.62321345e-01, -1.65072071e+01,\n",
       "        5.31129348e+00,  2.18765863e+01,  4.38758263e+01,  1.04266736e+01,\n",
       "       -1.42675202e+01,  3.36714549e+01,  1.92055612e+01,  3.32812568e+01,\n",
       "        1.68269614e+01,  1.71976680e+01,  2.20381723e+01, -2.68959157e-01,\n",
       "       -4.79974828e+00, -7.25628969e+00,  1.28696226e+01,  2.64931192e+01,\n",
       "        1.86051442e+01,  2.03116737e+01,  2.87958610e+00,  1.40938192e+00,\n",
       "        1.47481625e+01, -4.11648938e-01,  8.16287668e+00,  1.12438091e+01,\n",
       "       -1.11662393e+01, -1.11993696e+01, -9.37104826e+00,  2.62063772e+01,\n",
       "       -6.41642927e+00,  2.13688919e+01,  8.05486570e-01, -1.82131440e+01,\n",
       "        2.15951675e+00,  1.16023285e+01,  2.46416652e-01, -1.36094540e+01,\n",
       "       -7.99464890e+00,  3.57854698e+01, -8.60073765e+00,  2.79428778e+01,\n",
       "        1.09868437e+01,  5.91957668e+00,  2.75250123e+01,  1.12708669e+01,\n",
       "       -2.55914517e+00, -9.49186566e+00,  2.20290909e+01,  7.61111254e+00,\n",
       "       -1.37643615e+01,  1.05975533e+01, -3.68212349e+00,  2.10578998e+01,\n",
       "        7.45009518e+00,  2.55267541e+01,  2.43370048e+01,  3.34211109e+01,\n",
       "       -1.07777364e+01,  1.29571204e+01, -2.29119865e+01, -1.46994057e+00,\n",
       "        1.39541805e+01, -8.95470927e+00,  1.81614592e+01,  1.72568870e+01,\n",
       "        2.04588263e+01,  3.23059492e+01,  1.82128328e+01,  2.37385714e+00,\n",
       "       -2.62241819e+00,  1.38966925e+01, -2.53876335e+00, -1.33027301e+00,\n",
       "        1.84870112e+01,  1.27614637e+01, -4.36269754e+00,  8.19090594e-01,\n",
       "       -2.21139994e+00,  1.52750266e+00, -1.07340212e+00,  1.26497818e+01,\n",
       "       -2.76013227e+01,  1.89543620e+01,  1.07806161e+01, -8.04062308e+00,\n",
       "        2.53999480e+01, -1.16561710e+01,  1.88777447e+01,  1.14067655e+01,\n",
       "       -7.22043042e+00, -3.67200851e+00,  3.24123069e+00,  1.57901533e+01,\n",
       "        2.73183983e+01,  5.73929708e+00,  4.55846821e+00,  1.81367085e+01,\n",
       "        3.32866393e+00,  1.74245274e+01,  3.34159671e+00,  7.60616142e+00,\n",
       "       -2.19648850e+00,  1.13858762e+00,  2.19285642e+01,  1.13453314e+01,\n",
       "        1.19684605e+01,  1.52469407e+01,  2.36957568e+01, -1.31216171e+01,\n",
       "        8.17923046e+00,  9.04361166e+00,  2.95676772e+01,  1.74130360e+01,\n",
       "        1.67109023e+01, -1.10756180e+00, -1.16759755e+00,  2.91991900e+01,\n",
       "        1.51235330e+01,  2.32114759e+01,  1.29425489e+00,  1.75481824e+01,\n",
       "        1.68751011e+01,  6.55147918e+00,  3.59668010e-02, -5.83694605e+00,\n",
       "        1.22771999e+01,  8.69630111e+00,  2.56373886e+01,  2.01555827e+01,\n",
       "        6.58176727e+00, -3.41043512e+00,  3.15105640e+00,  1.48648271e+01,\n",
       "        1.47442923e+01,  1.35938789e+01,  4.42152810e+01, -1.73591828e+01,\n",
       "        9.58106759e+00,  2.86067512e+01,  2.94690054e+00,  1.40850102e+00,\n",
       "        4.96525358e+00,  7.43503222e+00,  1.49198852e+01,  3.13579880e+00,\n",
       "       -1.46682535e+01, -1.22118905e+01,  9.84521520e-01, -1.60038208e+01,\n",
       "        2.66377643e+01,  2.84125839e+00,  3.60375810e+01,  1.74420993e+01,\n",
       "        2.48589584e+01,  1.49619957e+01,  5.10932019e+00,  4.35715652e-01,\n",
       "        1.09335800e+01,  1.30544974e+01,  2.85198720e+00,  1.34624113e+01,\n",
       "        1.67040923e+01, -3.15932340e+00, -1.13885600e+01,  2.75170129e+01,\n",
       "        3.83336263e+01,  6.71081257e+00,  3.24486633e+01, -7.42858864e+00,\n",
       "        4.23979817e+01, -4.58780034e+00,  4.26717031e+01,  1.52322984e+01,\n",
       "        2.52047021e+01, -4.88031790e+00,  1.38918520e+00,  1.05986924e+01,\n",
       "        1.22031222e+01, -1.50449894e+01,  1.25489579e+00,  2.99681794e+00,\n",
       "        7.74790887e+00, -3.73678882e+00,  2.41442510e+01,  2.69144256e+01,\n",
       "        9.65392544e+00,  1.56082683e+01,  1.67807176e+01, -1.93308574e+01,\n",
       "        2.22760938e+01, -8.63611565e+00, -1.55382651e+00,  4.20156333e+00,\n",
       "        3.92296165e+00,  8.68655666e+00,  3.50590759e+00,  1.37636424e+01,\n",
       "        1.41734380e+01,  2.48157178e+01,  1.38434141e+01, -6.76183746e+00,\n",
       "       -2.12765285e+01,  1.96351934e+01,  2.27232826e+01, -1.29681193e+01,\n",
       "       -8.29450996e+00,  5.18391659e+00, -6.16705205e+00, -1.31438067e+00,\n",
       "        2.17428433e+01,  2.68696261e+01,  1.99328414e+00,  1.09418811e+01,\n",
       "       -5.37494407e+00, -9.73482906e-01,  7.68285896e+00,  3.97408365e+01,\n",
       "       -2.39297093e+00, -6.97796042e-01,  2.16129310e+01,  7.25406090e+00,\n",
       "        2.59185337e+01,  5.93804482e+00,  2.21083800e+00,  3.22774989e+01,\n",
       "        2.28826259e+01,  1.50527808e+01,  1.31541401e+01,  7.01785492e+00,\n",
       "       -8.20943139e+00,  4.22622441e+00,  1.93109419e+00,  1.54808459e+00,\n",
       "        1.35962488e+01, -2.62727546e-01, -2.61352001e+00,  1.55269973e+01,\n",
       "        1.08183295e+01,  1.43534720e+01,  3.07978749e+01, -1.78290307e+01,\n",
       "        2.91837684e+01,  1.65244792e+01,  1.41803385e+01,  3.14063965e+01,\n",
       "        4.01421790e+00,  3.39834661e+00,  1.39872289e+01, -2.24812590e+01,\n",
       "        3.49097101e+00,  2.01974497e+01,  2.23903084e+01,  3.47211263e+01,\n",
       "        5.15718224e+00,  1.29946881e+01,  2.16493475e+01, -1.92199545e-02,\n",
       "        2.11168062e+01, -8.95940753e+00,  7.08640271e+00, -7.15021078e+00,\n",
       "        1.63340680e+01,  2.43021093e+01,  2.02825279e+01, -1.52616287e+00,\n",
       "        3.82993697e+01, -7.49220492e+00,  3.29990982e+01,  6.66947299e+00,\n",
       "        1.87272242e+01,  2.48712733e+00, -3.24886906e+00,  1.34592379e+01,\n",
       "        7.02800250e+00,  3.24838011e+01,  7.22281912e+00,  2.45194400e+00,\n",
       "        1.63462638e+01,  7.57655966e+00,  1.48896708e+00, -6.88263852e+00,\n",
       "       -1.93975899e+01, -1.05021554e+01,  8.70121739e+00,  5.07538596e-01,\n",
       "        1.84284161e+00,  2.49510995e+01,  2.47717764e+01,  1.22754159e+01,\n",
       "       -8.38709139e+00, -1.11904694e+01,  2.55451808e+01,  2.94936597e+01,\n",
       "        2.48496037e+01,  2.95161717e+01,  1.95624518e+01,  1.82451917e+01,\n",
       "        1.54278890e+01,  1.07966994e+01, -7.51739928e+00,  5.07091813e+00,\n",
       "        1.43657513e+01,  2.76894274e+00,  1.46576977e+01, -4.03361521e+00,\n",
       "        1.08649569e+01, -8.34583240e+00,  1.07083962e+01,  1.82257701e+00,\n",
       "        7.02785302e+00, -1.89924542e+01,  1.38229074e+01,  1.40148489e+01,\n",
       "        2.77841414e+01, -2.07380164e+01,  1.59245168e+00,  1.38023982e+01,\n",
       "       -4.93766403e+00, -3.59309307e+00,  6.82866749e+00,  1.20797339e+01,\n",
       "        8.57156169e+00,  1.35906292e+01, -7.67827629e+00,  1.71455644e+01,\n",
       "        8.23101259e+00,  1.23309674e+01, -4.73106631e+00,  5.76579216e+00,\n",
       "        4.91097332e+00,  6.86582199e+00,  3.59193364e+01, -3.73405080e+00,\n",
       "        2.14735668e+01,  1.31872470e+01,  1.16848502e+01,  4.47647294e+00,\n",
       "        5.06342591e+00,  5.73367881e-01, -1.72722364e-01,  3.37992128e+00,\n",
       "        1.98052271e+01, -1.46067016e+01, -1.58225180e+01, -5.81085144e-01,\n",
       "        2.89531327e+01,  9.70885954e+00,  1.43984746e+01,  9.22721297e+00,\n",
       "       -1.66153057e+01,  1.21166984e+01,  1.85689535e+01,  7.15321458e+00,\n",
       "       -1.19734495e+01,  2.12965129e+01,  1.07670856e+01,  1.41849420e+01,\n",
       "        1.57887503e+01,  2.20354919e+01, -1.08955399e+01,  2.57944610e+01,\n",
       "        1.82417269e+01, -1.14767061e+00,  1.01101602e+01,  6.32207892e+00,\n",
       "        2.35711648e+01,  1.76683948e+01,  1.57547136e+01,  2.98113975e+01,\n",
       "        2.49936121e+01, -3.21898417e+00,  3.10065344e+00,  9.94807173e-03,\n",
       "        1.35867758e+00, -1.06239981e+01,  6.55744852e+00,  1.62974816e+01,\n",
       "        2.25913334e+01,  1.92760159e+01, -7.27617580e-01, -1.09110552e+01,\n",
       "       -7.63918635e+00, -4.49975599e+00,  5.95347814e+00, -1.35371820e+01,\n",
       "       -2.63981610e+00,  2.79005744e+01, -3.12675945e+00, -8.36424074e+00,\n",
       "        1.20947782e+01,  1.40541228e+01,  3.58046369e+00,  8.41974943e+00,\n",
       "       -1.60255251e+01, -1.37019338e+01,  3.78737123e+00,  2.18622544e+01,\n",
       "       -1.27547639e+01, -1.25283265e+01, -2.58763390e-01,  1.47271624e+01,\n",
       "        2.14395111e+00,  4.79441773e+00, -4.83251764e+00,  8.26463966e+00,\n",
       "       -3.42969050e+01,  3.38898905e+00,  1.41898957e+01,  1.67855769e+01,\n",
       "        2.45483200e+01,  3.84360916e-01,  5.11248822e+00,  8.56250024e+00,\n",
       "        8.48713028e+00, -1.39856834e+01,  6.03887341e+00, -1.28838457e+01,\n",
       "       -1.68494240e+01,  1.74102169e+01, -1.12793042e+00,  1.87051537e+01,\n",
       "        2.32872805e+01,  3.24223552e+01,  9.18016613e+00,  2.66434978e+01,\n",
       "        1.97896230e+01, -1.11299131e+01, -7.03323061e+00,  5.06742518e+00,\n",
       "        1.70861516e+01,  1.06623722e+01,  1.97237888e+01, -1.00706282e+01,\n",
       "       -7.54541545e+00, -2.29181624e-01,  2.51980979e-01, -1.18785863e+01,\n",
       "        1.33852426e+01,  4.12959816e+00,  2.51507716e+01,  3.24735548e+01,\n",
       "       -5.06411214e+00, -7.30913854e+00, -1.31263463e+01,  3.62830600e+01,\n",
       "        1.28420521e+01,  1.34112623e+01, -3.96393211e+00,  2.00581297e+01,\n",
       "        1.25751079e+01,  2.88818897e+01, -1.46980032e+01,  3.24542120e+01,\n",
       "        4.65889170e+00,  1.90371375e+01,  1.32349086e+01, -1.25675994e+01,\n",
       "        1.65034871e+01,  2.21195489e+01, -1.55716499e+01,  1.97920540e+01,\n",
       "        1.77310350e+01,  2.84103463e+00,  1.71109839e+01, -1.37381791e+00,\n",
       "        1.22537630e+01,  5.49442484e+00,  1.72979465e+01,  2.63258045e+01,\n",
       "        1.81171290e+01,  2.57126322e+00, -1.13153713e+01,  2.51336565e+01,\n",
       "       -4.24783346e+00, -1.68335061e+01,  9.74655276e+00, -2.93758186e-01,\n",
       "        2.00342377e+01,  6.10757403e+00,  3.26196642e+01,  1.95881984e+01,\n",
       "        3.27332573e+01, -4.06473691e+01,  2.62625023e+01,  1.43130430e+01,\n",
       "       -9.78076960e+00, -9.10059959e+00,  2.26174239e+01, -1.81596856e+00,\n",
       "        9.15004618e+00,  2.20276486e+01,  1.09951454e+01,  2.11327595e+01,\n",
       "       -1.45222648e+00,  4.88418699e+00,  2.48521366e+00,  2.71431183e+01,\n",
       "        2.42868986e+01,  9.56138483e+00,  3.80803693e+00,  2.12431269e+00,\n",
       "        8.43834493e+00,  1.10170749e+01, -8.90190517e+00,  2.86259391e+01,\n",
       "       -2.58374915e+00, -2.05118413e-01,  6.66913097e+00,  2.59106610e+01,\n",
       "        8.39315761e+00,  1.27960732e+01,  1.60899241e+01, -5.38607382e+00,\n",
       "        1.62984657e+01,  2.00312754e+01,  2.02549599e+01,  2.79158694e+01,\n",
       "        1.57711461e+01,  1.41377819e+01,  1.77694785e+01, -7.01602743e+00,\n",
       "       -1.68781357e-01,  4.96932839e+00, -1.02740633e+01,  1.49355220e+00,\n",
       "        1.01809754e+00,  2.17611442e+01,  9.65864685e+00,  4.74167539e+00,\n",
       "        1.73904509e+01,  1.39517583e+01,  7.35550410e+00,  1.72446440e+01,\n",
       "       -1.27110140e+01,  1.47144969e+01,  1.20407279e+01,  7.76697282e-01,\n",
       "        1.02902342e+01,  6.80379669e+00,  1.12670761e+01,  1.94377939e+01,\n",
       "        9.39511927e+00,  2.47111403e+01, -1.58748566e+00, -1.85204772e+01,\n",
       "        7.25248670e+00, -4.21418199e+00, -1.70100278e+01,  4.66963623e+00,\n",
       "        2.36574206e+01, -1.22695793e+01, -3.03564963e+00,  7.53448442e+00,\n",
       "        2.59313028e+00,  1.42529045e+01, -9.20670661e+00,  1.67351882e+01,\n",
       "        8.99670581e-01,  2.04393193e+01,  5.40281810e+00,  1.21469018e+01,\n",
       "        1.41080765e+01,  1.66268158e+01,  3.05686589e+01,  7.99395428e+00,\n",
       "       -5.69586366e+00,  7.24873014e-01,  2.06122500e+01, -1.07501808e+00,\n",
       "       -9.71258665e+00,  2.98448112e+01,  8.95717171e+00, -1.31185042e+01,\n",
       "        3.56164792e+00,  3.03243096e+01,  2.70154990e+01, -1.15494889e+01,\n",
       "        1.39259143e+01,  2.80532426e+00,  1.64410782e+01,  5.95213430e+00,\n",
       "        7.48949403e+00,  1.69821419e+01,  1.22761332e+01,  1.17619135e+01,\n",
       "        1.53342305e+01,  3.42379391e+01,  1.43047776e+01,  1.51425787e+01,\n",
       "        2.12378575e+01, -1.78591904e+00,  2.65707914e+01, -8.50052482e+00,\n",
       "        7.65747045e+00, -5.80873492e+00, -2.52702521e+00,  5.86754013e+00,\n",
       "       -7.46221774e-01, -1.98561486e+01, -1.29216257e+01, -5.25057800e+00,\n",
       "       -5.16388647e-01, -1.33808406e+01,  4.24703410e+00,  1.33678960e+01,\n",
       "        2.64571101e+01,  1.68280360e+01,  2.91363609e+01, -1.84746339e+00,\n",
       "        3.67384474e+00,  6.14413144e+00,  1.85317751e+01,  1.20459859e+01,\n",
       "        1.28618646e+01,  6.45523626e+00,  2.75058220e+01,  9.26130384e+00,\n",
       "        2.73717341e+01,  3.75072883e+00,  2.65426778e+01,  1.68983080e+01,\n",
       "        1.82811637e+01, -1.63212453e+01,  1.82588421e+01,  8.65176338e+00,\n",
       "        1.69248971e+01,  1.02517133e+01,  1.63123520e+01,  7.20476964e+00,\n",
       "        5.72682509e+00,  2.63695206e+00, -4.16049188e+00,  1.71626865e+00,\n",
       "       -9.27222717e+00,  8.67202561e+00,  2.48829917e+01,  1.30403345e+01,\n",
       "        2.71619482e+01,  7.57753860e+00,  1.34895967e+01,  1.07800377e+01,\n",
       "       -6.16483939e-01,  1.05899471e+01,  9.08207975e+00, -7.77930338e+00,\n",
       "        5.71556076e+00,  4.94784818e+00, -6.52267094e+00,  1.71244572e+01,\n",
       "        3.36210006e-01, -1.05054842e+01,  2.59629105e+01,  1.41709826e-01,\n",
       "        9.42728001e-01,  9.30413942e+00,  2.56734444e+00,  2.55734506e+01,\n",
       "        1.58555441e+01,  1.23239165e+01,  2.10313572e+01, -1.97500268e+01,\n",
       "        3.11647395e+01,  2.71154381e+01,  8.21508531e+00,  9.27150708e+00,\n",
       "        6.83940358e+00,  2.78970105e+00,  2.11708584e+01,  2.72718221e+01,\n",
       "        1.77095131e+01,  1.77661282e+00,  4.44584834e+01,  4.98445674e+00,\n",
       "       -6.45532897e+00,  3.37815408e+01,  1.59412207e+01,  2.17812023e+01,\n",
       "        1.67357848e+01,  1.60758648e+01,  6.25546125e+00,  2.58146153e-01,\n",
       "        2.44425478e+01,  8.08773307e+00,  1.69541151e+01, -2.27439965e+01,\n",
       "        8.75341019e+00,  3.88137317e+00,  3.57181994e+00,  8.03185330e+00,\n",
       "        8.55794609e+00, -2.47542070e+01,  2.80951748e-03, -4.01014583e+00,\n",
       "       -9.03357219e+00,  6.01481319e+00,  2.70539160e+01, -8.04307991e+00,\n",
       "        4.01826071e+01,  9.15399399e+00,  8.44646910e+00, -6.97234287e+00,\n",
       "        3.51779167e+01,  3.22862284e+00, -9.15656002e+00,  6.81704142e+00,\n",
       "        2.67729328e+01,  6.37783546e+00,  2.89380074e+00,  1.31060233e+01,\n",
       "       -6.66216942e+00,  1.33407971e+01,  1.74493680e+01,  5.73247498e+00,\n",
       "        1.16915243e+01,  1.98207047e+01,  1.25010691e+01,  2.16168956e+01,\n",
       "        4.22426690e+00,  1.60278411e+01, -6.18292491e+00,  1.05497465e+01,\n",
       "        1.24946301e+01,  3.81238973e+01,  2.91347454e+00,  1.10520980e+01,\n",
       "       -7.62985381e+00,  2.74918258e+00,  6.38362011e+00, -1.32659429e+00,\n",
       "        1.58618528e+01,  9.93516603e+00,  3.40683617e+00,  2.27907385e+01,\n",
       "        1.53738716e+01,  3.67457315e+00,  9.11240183e+00, -3.03980271e+00,\n",
       "       -4.24417282e+00,  1.94870203e+01,  3.46920497e+01,  1.45533338e+01,\n",
       "        7.52042036e+00, -1.88498251e+00,  2.62101849e+01,  8.82973146e+00,\n",
       "        1.64322279e+01,  5.17168860e+00,  3.13028637e+01, -2.70994439e+00,\n",
       "        2.90014242e+01,  2.82806183e+01, -2.31762461e+00,  6.90361263e+00,\n",
       "        1.59984496e+01,  1.68585286e+01,  3.63425534e+01, -3.38955657e+00,\n",
       "        2.15844946e+00,  1.18590021e+01,  2.56553896e+01,  1.63234032e+01,\n",
       "        1.09408611e+01,  5.13052138e+00,  2.01127573e+01,  1.34488947e+01,\n",
       "        3.29403964e-01,  7.27771736e+00,  2.49754334e+01,  1.62792206e+00,\n",
       "        1.24923478e+01,  6.63669675e+00, -9.42509150e+00,  1.55168828e+01,\n",
       "        7.64033163e-01,  2.27929444e+01, -2.82579803e+01, -1.43295247e+01])"
      ]
     },
     "execution_count": 11,
     "metadata": {},
     "output_type": "execute_result"
    }
   ],
   "source": [
    "y_hat = X @ beta_hat\n",
    "y_hat"
   ]
  },
  {
   "cell_type": "markdown",
   "metadata": {},
   "source": [
    "A variant on OLS is called **ridge regression**, where, for some number $\\lambda$, we instead compute\n",
    "\n",
    "$$\\hat{\\beta}^\\text{ridge} = (\\mathbf{X}^T\\mathbf{X} + \\lambda I)^{-1}\\mathbf{X}^Ty$$\n",
    "\n",
    "where $I$ is the approprate identity matrix.\n",
    "\n",
    "77) Compute $\\hat{\\beta}^\\text{ridge}$ for $\\lambda = 50$. Call this `beta_hat_ridge`."
   ]
  },
  {
   "cell_type": "code",
   "execution_count": 12,
   "metadata": {},
   "outputs": [],
   "source": [
    "beta_hat_ridge = np.linalg.inv(X.T @ X + 50*np.eye(X.shape[1])) @ X.T @ y"
   ]
  },
  {
   "cell_type": "markdown",
   "metadata": {},
   "source": [
    "78) Compute the predictions for this model, $\\hat{\\mathbf{y}}^\\text{ridge}$. Call this `y_hat_ridge`."
   ]
  },
  {
   "cell_type": "code",
   "execution_count": 13,
   "metadata": {},
   "outputs": [],
   "source": [
    "y_hat_ridge = X @ beta_hat_ridge"
   ]
  },
  {
   "cell_type": "markdown",
   "metadata": {},
   "source": [
    "79) Compute $\\|\\hat{\\beta}\\|$ and $\\|\\hat{\\beta}^\\text{ridge}\\|$. Which is smaller?"
   ]
  },
  {
   "cell_type": "code",
   "execution_count": 14,
   "metadata": {},
   "outputs": [
    {
     "name": "stdout",
     "output_type": "stream",
     "text": [
      "16.35120449444889\n",
      "15.521684840371746\n"
     ]
    }
   ],
   "source": [
    "print(np.linalg.norm(beta_hat))\n",
    "print(np.linalg.norm(beta_hat_ridge))"
   ]
  },
  {
   "cell_type": "raw",
   "metadata": {},
   "source": [
    "Beta_hat_ridge is smaller"
   ]
  },
  {
   "cell_type": "markdown",
   "metadata": {},
   "source": [
    "## Part 3: MSE\n",
    "\n",
    "Computing $\\hat{\\beta}$ involves minimizing the MSE. We can now also write the MSE in terms of matrix algebra:\n",
    "\n",
    "$$\n",
    "\\begin{align}\n",
    "MSE &= \\frac{1}{n} \\sum (y_i - \\hat{y}_i)^2 \\\\\n",
    "    &= \\frac{1}{n} (\\mathbf{y} - \\hat{\\mathbf{y}})^T(\\mathbf{y} - \\hat{\\mathbf{y}}) \\\\\n",
    "    &= \\frac{1}{n} \\|\\mathbf{y} - \\hat{\\mathbf{y}}\\|^2\n",
    "\\end{align}\n",
    "$$"
   ]
  },
  {
   "cell_type": "markdown",
   "metadata": {},
   "source": [
    "80) Take a paper and pencil and verify that all three of these things are equivalent."
   ]
  },
  {
   "cell_type": "markdown",
   "metadata": {},
   "source": [
    "81) Compute the $MSE$ using the first equation. (You already did this in an earlier exercise)."
   ]
  },
  {
   "cell_type": "code",
   "execution_count": 15,
   "metadata": {},
   "outputs": [
    {
     "data": {
      "text/plain": [
       "392.62066523979547"
      ]
     },
     "execution_count": 15,
     "metadata": {},
     "output_type": "execute_result"
    }
   ],
   "source": [
    "np.mean((y - y_hat)**2)"
   ]
  },
  {
   "cell_type": "markdown",
   "metadata": {},
   "source": [
    "82) Compute the $MSE$ using the second equation. That is, using matrix multiplication."
   ]
  },
  {
   "cell_type": "code",
   "execution_count": 16,
   "metadata": {},
   "outputs": [
    {
     "data": {
      "text/plain": [
       "392.62066523979547"
      ]
     },
     "execution_count": 16,
     "metadata": {},
     "output_type": "execute_result"
    }
   ],
   "source": [
    "(y - y_hat).T @ (y - y_hat) / len(y)"
   ]
  },
  {
   "cell_type": "markdown",
   "metadata": {},
   "source": [
    "83) Compute the $MSE$ using the third equation. That is, using `np.linalg.norm()`."
   ]
  },
  {
   "cell_type": "code",
   "execution_count": 17,
   "metadata": {},
   "outputs": [
    {
     "data": {
      "text/plain": [
       "392.62066523979547"
      ]
     },
     "execution_count": 17,
     "metadata": {},
     "output_type": "execute_result"
    }
   ],
   "source": [
    "np.linalg.norm(y - y_hat)**2 / len(y)"
   ]
  },
  {
   "cell_type": "markdown",
   "metadata": {},
   "source": [
    "84) Write a function that takes in `y` and `y_hat` and computes the $MSE$."
   ]
  },
  {
   "cell_type": "code",
   "execution_count": 18,
   "metadata": {},
   "outputs": [],
   "source": [
    "def mse_compute (y,y_hat):\n",
    "    return np.linalg.norm(y - y_hat)**2 / len(y)\n",
    "    "
   ]
  },
  {
   "cell_type": "markdown",
   "metadata": {},
   "source": [
    "85) Compute the $MSE$ for both the OLS and ridge regression predictions in the previous part. Which model has a higher MSE?"
   ]
  },
  {
   "cell_type": "code",
   "execution_count": 19,
   "metadata": {},
   "outputs": [
    {
     "data": {
      "text/plain": [
       "392.62066523979547"
      ]
     },
     "execution_count": 19,
     "metadata": {},
     "output_type": "execute_result"
    }
   ],
   "source": [
    "mse_compute(y,y_hat)"
   ]
  },
  {
   "cell_type": "code",
   "execution_count": 20,
   "metadata": {},
   "outputs": [
    {
     "data": {
      "text/plain": [
       "393.26432569852085"
      ]
     },
     "execution_count": 20,
     "metadata": {},
     "output_type": "execute_result"
    }
   ],
   "source": [
    "mse_compute(y, y_hat_ridge)"
   ]
  },
  {
   "cell_type": "markdown",
   "metadata": {},
   "source": [
    "## Part 4: Singular Value Decomposition\n",
    "There are many kinds of **matrix decomposition**. Matrix decomposition involves taking a matrix, and breaking it into the product of other matrices that are easier to work with. Any real-valued matrix $M$ can be broken up into its **singular value decomposition**:\n",
    "\n",
    "$$M = USV^T$$\n",
    "\n",
    "where:\n",
    "\n",
    "* $U$ and $V$ are **orthonormal matrices** (more on this soon). The columns of $U$ and $V$ are referred to as the **left** and **right singular vectors**, respectively.\n",
    "* $S$ is a **diagonal matrix**, where the elements of the diagonal are the **singular values** in descending order.\n",
    "\n",
    "That is, $S$ looks like:\n",
    "\n",
    "$$\n",
    "S = \n",
    "\\begin{bmatrix}\n",
    "\\sigma_1 & 0 & 0 & \\cdots & 0 \\\\\n",
    "0 & \\sigma_2 & 0 & \\cdots & 0 \\\\\n",
    "0 & 0 & \\sigma_3 & \\cdots & 0 \\\\\n",
    "\\vdots & \\vdots & \\vdots & \\ddots & \\vdots \\\\\n",
    "0 & 0 & 0 & \\cdots & \\sigma_m\n",
    "\\end{bmatrix}\n",
    "$$\n",
    "\n",
    "There are _**A LOT**_ of confusing definitions here, so let's dive into them individually."
   ]
  },
  {
   "cell_type": "markdown",
   "metadata": {},
   "source": [
    "Below, we read in a matrix of pixel values that make up a pleasant image. We can use `plt.imshow()` to plot a matrix visually."
   ]
  },
  {
   "cell_type": "code",
   "execution_count": 21,
   "metadata": {},
   "outputs": [
    {
     "name": "stdout",
     "output_type": "stream",
     "text": [
      "(540, 540)\n"
     ]
    },
    {
     "data": {
      "image/png": "[encoded data removed]",
      "text/plain": [
       "<Figure size 432x288 with 1 Axes>"
      ]
     },
     "metadata": {
      "needs_background": "light"
     },
     "output_type": "display_data"
    }
   ],
   "source": [
    "import matplotlib.pyplot as plt\n",
    "doge = np.load(\"data/doge.npy\")[:, 200:740]\n",
    "print(doge.shape)\n",
    "plt.imshow(doge, cmap=\"gray\");"
   ]
  },
  {
   "cell_type": "markdown",
   "metadata": {},
   "source": [
    "86) Use the `np.linalg.svd()` function to decompose our `doge` matrix. Please skim the documentation of this function! Note that it returns $V^T$, and not $V$. It also returns a vector of the singular values, not the full $S$ matrix."
   ]
  },
  {
   "cell_type": "code",
   "execution_count": 22,
   "metadata": {},
   "outputs": [],
   "source": [
    "u, s, vt = np.linalg.svd(doge)"
   ]
  },
  {
   "cell_type": "markdown",
   "metadata": {},
   "source": [
    "The **singular values** are non-negative numbers in descending order. An easy way to think about them is that they represent how much _information_ we can represent in our matrix using a linear transformation. In the special case of a square matrix $M$, the singular values are also **eigenvalues**. (Similarly, the left singular vectors are the corresponding **eigenvectors**).\n",
    "\n",
    "We recognize this still probably doesn't make a whole lot of sense. By the end of this exercise, we can interpret them visually, and hopefully that will clear things up.\n",
    "\n",
    "87) Use our vector of singular values to make an `smat` matrix corresponding to $S$ as shown above.\n",
    "\n",
    "* _Hint:_ Use `np.diag()`."
   ]
  },
  {
   "cell_type": "code",
   "execution_count": 23,
   "metadata": {},
   "outputs": [
    {
     "data": {
      "text/plain": [
       "array([[3.50900331e+02, 0.00000000e+00, 0.00000000e+00, ...,\n",
       "        0.00000000e+00, 0.00000000e+00, 0.00000000e+00],\n",
       "       [0.00000000e+00, 3.91945182e+01, 0.00000000e+00, ...,\n",
       "        0.00000000e+00, 0.00000000e+00, 0.00000000e+00],\n",
       "       [0.00000000e+00, 0.00000000e+00, 2.97186960e+01, ...,\n",
       "        0.00000000e+00, 0.00000000e+00, 0.00000000e+00],\n",
       "       ...,\n",
       "       [0.00000000e+00, 0.00000000e+00, 0.00000000e+00, ...,\n",
       "        1.43218209e-04, 0.00000000e+00, 0.00000000e+00],\n",
       "       [0.00000000e+00, 0.00000000e+00, 0.00000000e+00, ...,\n",
       "        0.00000000e+00, 6.79308687e-05, 0.00000000e+00],\n",
       "       [0.00000000e+00, 0.00000000e+00, 0.00000000e+00, ...,\n",
       "        0.00000000e+00, 0.00000000e+00, 9.35809610e-06]])"
      ]
     },
     "execution_count": 23,
     "metadata": {},
     "output_type": "execute_result"
    }
   ],
   "source": [
    "smat = np.diag(s)\n",
    "smat"
   ]
  },
  {
   "cell_type": "markdown",
   "metadata": {},
   "source": [
    "The matrices $U$ and $V$ are **orthonormal**. This means they have the following properties:\n",
    "\n",
    "$$UU^T = UU^{-1} = I$$\n",
    "$$VV^T = VV^{-1} = I$$\n",
    "\n",
    "88) Verify the above using Python. Note that you might get precision errors (that is, `2.77e-17` instead of `0`)."
   ]
  },
  {
   "cell_type": "code",
   "execution_count": 24,
   "metadata": {},
   "outputs": [
    {
     "name": "stdout",
     "output_type": "stream",
     "text": [
      "[[ 1.  0. -0. -0.  0.]\n",
      " [ 0.  1.  0.  0. -0.]\n",
      " [-0.  0.  1. -0. -0.]\n",
      " [-0.  0. -0.  1. -0.]\n",
      " [ 0. -0. -0. -0.  1.]]\n",
      "[[ 1.  0.  0. -0.  0.]\n",
      " [ 0.  1.  0. -0.  0.]\n",
      " [ 0.  0.  1.  0.  0.]\n",
      " [ 0.  0.  0.  1. -0.]\n",
      " [ 0.  0.  0.  0.  1.]]\n"
     ]
    }
   ],
   "source": [
    "print(np.round((u @ u.T)[:5, :5]))\n",
    "print(np.round((u @ np.linalg.inv(u))[:5, :5]))"
   ]
  },
  {
   "cell_type": "markdown",
   "metadata": {},
   "source": [
    "Why do we do this at all?! For SVD, we seek to _approximate_ large, complex matrices. To see what we mean, let's see what happens when we remove singular values from our matrix.\n",
    "\n",
    "89) Create a new matrix, $\\tilde{S}$, that is the same as $S$, but with _all but the first 20_ singular values turned into zeros. You may call this variable `smat2`."
   ]
  },
  {
   "cell_type": "code",
   "execution_count": 25,
   "metadata": {},
   "outputs": [],
   "source": [
    "smat2 = smat.copy()\n",
    "smat2[:, 20:] = 0"
   ]
  },
  {
   "cell_type": "markdown",
   "metadata": {},
   "source": [
    "90) Let's approximate our original `doge` matrix. That is, recombine our decomposed matrix, but this time having removed most of our singular values:\n",
    "\n",
    "$$\\tilde{M} = U\\tilde{S}V^T$$\n",
    "\n",
    "You can call the result `doge_approx`."
   ]
  },
  {
   "cell_type": "code",
   "execution_count": 26,
   "metadata": {},
   "outputs": [],
   "source": [
    "doge_approx = u @ smat2 @ vt"
   ]
  },
  {
   "cell_type": "markdown",
   "metadata": {},
   "source": [
    "91) Visualize `doge_approx` using `plt.imshow()`. How has the image changed?"
   ]
  },
  {
   "cell_type": "code",
   "execution_count": 27,
   "metadata": {},
   "outputs": [
    {
     "data": {
      "image/png": "[encoded data removed]",
      "text/plain": [
       "<Figure size 432x288 with 1 Axes>"
      ]
     },
     "metadata": {
      "needs_background": "light"
     },
     "output_type": "display_data"
    }
   ],
   "source": [
    "plt.imshow(doge_approx, cmap=\"gray\");"
   ]
  },
  {
   "cell_type": "markdown",
   "metadata": {},
   "source": [
    "92) Try this again with values besides 20. Can you still tell what the original image was with only 10 singular values?"
   ]
  },
  {
   "cell_type": "code",
   "execution_count": 28,
   "metadata": {},
   "outputs": [
    {
     "data": {
      "image/png": "[encoded data removed]",
      "text/plain": [
       "<Figure size 432x288 with 1 Axes>"
      ]
     },
     "metadata": {
      "needs_background": "light"
     },
     "output_type": "display_data"
    }
   ],
   "source": [
    "smat3 = smat.copy()\n",
    "smat3[:, 10:] = 0\n",
    "doge_approx3 = u @ smat3 @ vt\n",
    "plt.imshow(doge_approx3, cmap=\"gray\"); # Wow! Much pixel!"
   ]
  },
  {
   "cell_type": "markdown",
   "metadata": {},
   "source": [
    "### Still... so what?\n",
    "SVD is at the heart of one of our most confusing topics - **principal component analysis**. PCA involves carrying out SVD on our data matrix in order to **reduce its dimensionality**. That is, can we still have all the information we need in a data set while having fewer variables?"
   ]
  }
 ],
 "metadata": {
  "kernelspec": {
   "display_name": "Python 3",
   "language": "python",
   "name": "python3"
  },
  "language_info": {
   "codemirror_mode": {
    "name": "ipython",
    "version": 3
   },
   "file_extension": ".py",
   "mimetype": "text/x-python",
   "name": "python",
   "nbconvert_exporter": "python",
   "pygments_lexer": "ipython3",
   "version": "3.8.8"
  }
 },
 "nbformat": 4,
 "nbformat_minor": 2
}
