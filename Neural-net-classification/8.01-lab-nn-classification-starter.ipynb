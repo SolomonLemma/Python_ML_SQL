{
 "cells": [
  {
   "cell_type": "markdown",
   "metadata": {
    "id": "zwBCE43Cv3PH"
   },
   "source": [
    "## Lab 8.01 Neural Network Binary Classification\n",
    "_By: Jeff Hale_"
   ]
  },
  {
   "cell_type": "markdown",
   "metadata": {
    "id": "UmyEaf4Awl2v"
   },
   "source": [
    "This lab uses a small [dataset](https://archive.ics.uci.edu/ml/datasets/heart+Disease) provided by the Cleveland Clinic Foundation for Heart Disease. The goal is to predict whether a patient has heart disease (the *target* column)."
   ]
  },
  {
   "cell_type": "markdown",
   "metadata": {
    "id": "uyVxPib57SeE"
   },
   "source": [
    "We suggest running this lab in [Google Colab](https://colab.research.google.com/). \n",
    "\n",
    "Go *File*->*Upload notebook* to upload this notebook to colab.\n",
    "\n",
    "If you are working in Colab and want to see if you can get a speed boost, set your runtime to *TPU* by going to *Runtime* -> *Change runtime type* in the menu above. \n",
    "\n",
    "The processor type won't make a big difference with this small dataset and small networks, but it's good to know how to change the processor."
   ]
  },
  {
   "cell_type": "markdown",
   "metadata": {
    "id": "iiyC7HkqxlUD"
   },
   "source": [
    "### Read data and load using pandas\n",
    "\n",
    "#### Imports"
   ]
  },
  {
   "cell_type": "code",
   "execution_count": 2,
   "metadata": {
    "id": "5IoRbCA2n0_V"
   },
   "outputs": [],
   "source": [
    "import pandas as pd\n",
    "import numpy as np\n",
    "import matplotlib.pyplot as plt\n",
    "import tensorflow as tf\n",
    "from sklearn.model_selection import train_test_split, cross_val_score\n",
    "import category_encoders as ce\n",
    "from sklearn.datasets import make_classification, make_regression\n",
    "from sklearn.preprocessing import StandardScaler\n",
    "\n",
    "from sklearn.metrics import confusion_matrix\n",
    "import seaborn as sns\n",
    "np.random.seed(2)\n",
    "from tensorflow.keras.models import Sequential\n",
    "from tensorflow.keras.layers import Dense, Activation, Dropout\n",
    "from tensorflow.keras.utils import to_categorical\n",
    "from sklearn.metrics import explained_variance_score, mean_squared_error\n",
    "# Import metrics.\n",
    "from sklearn.metrics import confusion_matrix, ConfusionMatrixDisplay, accuracy_score, plot_roc_curve, roc_auc_score, recall_score, precision_score, f1_score, classification_report\n",
    "from sklearn.ensemble import GradientBoostingClassifier\n",
    "from sklearn.svm import SVC\n",
    "from keras import optimizers"
   ]
  },
  {
   "cell_type": "code",
   "execution_count": 3,
   "metadata": {
    "colab": {
     "base_uri": "https://localhost:8080/",
     "height": 52
    },
    "id": "VS4w2LePn9g3",
    "outputId": "72198c8f-7e31-47a3-c44f-36bc16fab4be"
   },
   "outputs": [],
   "source": [
    "csv_file = pd.read_csv('./data/heart.csv')"
   ]
  },
  {
   "cell_type": "markdown",
   "metadata": {
    "id": "6BXRPD2-xtQ1"
   },
   "source": [
    "#### Load the csv file using pandas"
   ]
  },
  {
   "cell_type": "code",
   "execution_count": 4,
   "metadata": {
    "id": "UEfJ8TcMpe-2"
   },
   "outputs": [
    {
     "data": {
      "text/html": [
       "<div>\n",
       "<style scoped>\n",
       "    .dataframe tbody tr th:only-of-type {\n",
       "        vertical-align: middle;\n",
       "    }\n",
       "\n",
       "    .dataframe tbody tr th {\n",
       "        vertical-align: top;\n",
       "    }\n",
       "\n",
       "    .dataframe thead th {\n",
       "        text-align: right;\n",
       "    }\n",
       "</style>\n",
       "<table border=\"1\" class=\"dataframe\">\n",
       "  <thead>\n",
       "    <tr style=\"text-align: right;\">\n",
       "      <th></th>\n",
       "      <th>Age</th>\n",
       "      <th>Sex</th>\n",
       "      <th>ChestPain</th>\n",
       "      <th>RestBP</th>\n",
       "      <th>Chol</th>\n",
       "      <th>Fbs</th>\n",
       "      <th>RestECG</th>\n",
       "      <th>MaxHR</th>\n",
       "      <th>ExAng</th>\n",
       "      <th>Oldpeak</th>\n",
       "      <th>Slope</th>\n",
       "      <th>Ca</th>\n",
       "      <th>Thal</th>\n",
       "      <th>AHD</th>\n",
       "    </tr>\n",
       "  </thead>\n",
       "  <tbody>\n",
       "    <tr>\n",
       "      <th>0</th>\n",
       "      <td>63</td>\n",
       "      <td>1</td>\n",
       "      <td>typical</td>\n",
       "      <td>145</td>\n",
       "      <td>233</td>\n",
       "      <td>1</td>\n",
       "      <td>2</td>\n",
       "      <td>150</td>\n",
       "      <td>0</td>\n",
       "      <td>2.3</td>\n",
       "      <td>3</td>\n",
       "      <td>0.0</td>\n",
       "      <td>fixed</td>\n",
       "      <td>No</td>\n",
       "    </tr>\n",
       "    <tr>\n",
       "      <th>1</th>\n",
       "      <td>67</td>\n",
       "      <td>1</td>\n",
       "      <td>asymptomatic</td>\n",
       "      <td>160</td>\n",
       "      <td>286</td>\n",
       "      <td>0</td>\n",
       "      <td>2</td>\n",
       "      <td>108</td>\n",
       "      <td>1</td>\n",
       "      <td>1.5</td>\n",
       "      <td>2</td>\n",
       "      <td>3.0</td>\n",
       "      <td>normal</td>\n",
       "      <td>Yes</td>\n",
       "    </tr>\n",
       "    <tr>\n",
       "      <th>2</th>\n",
       "      <td>67</td>\n",
       "      <td>1</td>\n",
       "      <td>asymptomatic</td>\n",
       "      <td>120</td>\n",
       "      <td>229</td>\n",
       "      <td>0</td>\n",
       "      <td>2</td>\n",
       "      <td>129</td>\n",
       "      <td>1</td>\n",
       "      <td>2.6</td>\n",
       "      <td>2</td>\n",
       "      <td>2.0</td>\n",
       "      <td>reversable</td>\n",
       "      <td>Yes</td>\n",
       "    </tr>\n",
       "    <tr>\n",
       "      <th>3</th>\n",
       "      <td>37</td>\n",
       "      <td>1</td>\n",
       "      <td>nonanginal</td>\n",
       "      <td>130</td>\n",
       "      <td>250</td>\n",
       "      <td>0</td>\n",
       "      <td>0</td>\n",
       "      <td>187</td>\n",
       "      <td>0</td>\n",
       "      <td>3.5</td>\n",
       "      <td>3</td>\n",
       "      <td>0.0</td>\n",
       "      <td>normal</td>\n",
       "      <td>No</td>\n",
       "    </tr>\n",
       "    <tr>\n",
       "      <th>4</th>\n",
       "      <td>41</td>\n",
       "      <td>0</td>\n",
       "      <td>nontypical</td>\n",
       "      <td>130</td>\n",
       "      <td>204</td>\n",
       "      <td>0</td>\n",
       "      <td>2</td>\n",
       "      <td>172</td>\n",
       "      <td>0</td>\n",
       "      <td>1.4</td>\n",
       "      <td>1</td>\n",
       "      <td>0.0</td>\n",
       "      <td>normal</td>\n",
       "      <td>No</td>\n",
       "    </tr>\n",
       "  </tbody>\n",
       "</table>\n",
       "</div>"
      ],
      "text/plain": [
       "   Age  Sex     ChestPain  RestBP  Chol  Fbs  RestECG  MaxHR  ExAng  Oldpeak  \\\n",
       "0   63    1       typical     145   233    1        2    150      0      2.3   \n",
       "1   67    1  asymptomatic     160   286    0        2    108      1      1.5   \n",
       "2   67    1  asymptomatic     120   229    0        2    129      1      2.6   \n",
       "3   37    1    nonanginal     130   250    0        0    187      0      3.5   \n",
       "4   41    0    nontypical     130   204    0        2    172      0      1.4   \n",
       "\n",
       "   Slope   Ca        Thal  AHD  \n",
       "0      3  0.0       fixed   No  \n",
       "1      2  3.0      normal  Yes  \n",
       "2      2  2.0  reversable  Yes  \n",
       "3      3  0.0      normal   No  \n",
       "4      1  0.0      normal   No  "
      ]
     },
     "execution_count": 4,
     "metadata": {},
     "output_type": "execute_result"
    }
   ],
   "source": [
    "csv_file.head()"
   ]
  },
  {
   "cell_type": "markdown",
   "metadata": {},
   "source": [
    "#### Inspect"
   ]
  },
  {
   "cell_type": "code",
   "execution_count": 5,
   "metadata": {
    "colab": {
     "base_uri": "https://localhost:8080/",
     "height": 137
    },
    "id": "8FkK6QIRpjd4",
    "outputId": "8cdcb9ba-6ff0-4ef1-c328-0d5f34351af3",
    "scrolled": true
   },
   "outputs": [
    {
     "name": "stdout",
     "output_type": "stream",
     "text": [
      "<class 'pandas.core.frame.DataFrame'>\n",
      "RangeIndex: 303 entries, 0 to 302\n",
      "Data columns (total 14 columns):\n",
      " #   Column     Non-Null Count  Dtype  \n",
      "---  ------     --------------  -----  \n",
      " 0   Age        303 non-null    int64  \n",
      " 1   Sex        303 non-null    int64  \n",
      " 2   ChestPain  303 non-null    object \n",
      " 3   RestBP     303 non-null    int64  \n",
      " 4   Chol       303 non-null    int64  \n",
      " 5   Fbs        303 non-null    int64  \n",
      " 6   RestECG    303 non-null    int64  \n",
      " 7   MaxHR      303 non-null    int64  \n",
      " 8   ExAng      303 non-null    int64  \n",
      " 9   Oldpeak    303 non-null    float64\n",
      " 10  Slope      303 non-null    int64  \n",
      " 11  Ca         299 non-null    float64\n",
      " 12  Thal       301 non-null    object \n",
      " 13  AHD        303 non-null    object \n",
      "dtypes: float64(2), int64(9), object(3)\n",
      "memory usage: 33.3+ KB\n"
     ]
    }
   ],
   "source": [
    "# Data doesn't have any missed values\n",
    "csv_file.info()"
   ]
  },
  {
   "cell_type": "code",
   "execution_count": 6,
   "metadata": {
    "scrolled": true
   },
   "outputs": [
    {
     "data": {
      "text/plain": [
       "Age          0\n",
       "Sex          0\n",
       "ChestPain    0\n",
       "RestBP       0\n",
       "Chol         0\n",
       "Fbs          0\n",
       "RestECG      0\n",
       "MaxHR        0\n",
       "ExAng        0\n",
       "Oldpeak      0\n",
       "Slope        0\n",
       "Ca           4\n",
       "Thal         2\n",
       "AHD          0\n",
       "dtype: int64"
      ]
     },
     "execution_count": 6,
     "metadata": {},
     "output_type": "execute_result"
    }
   ],
   "source": [
    "csv_file.isnull().sum()"
   ]
  },
  {
   "cell_type": "code",
   "execution_count": 7,
   "metadata": {
    "scrolled": true
   },
   "outputs": [
    {
     "name": "stdout",
     "output_type": "stream",
     "text": [
      "<class 'pandas.core.frame.DataFrame'>\n",
      "RangeIndex: 303 entries, 0 to 302\n",
      "Data columns (total 14 columns):\n",
      " #   Column     Non-Null Count  Dtype  \n",
      "---  ------     --------------  -----  \n",
      " 0   Age        303 non-null    int64  \n",
      " 1   Sex        303 non-null    int64  \n",
      " 2   ChestPain  303 non-null    object \n",
      " 3   RestBP     303 non-null    int64  \n",
      " 4   Chol       303 non-null    int64  \n",
      " 5   Fbs        303 non-null    int64  \n",
      " 6   RestECG    303 non-null    int64  \n",
      " 7   MaxHR      303 non-null    int64  \n",
      " 8   ExAng      303 non-null    int64  \n",
      " 9   Oldpeak    303 non-null    float64\n",
      " 10  Slope      303 non-null    int64  \n",
      " 11  Ca         303 non-null    float64\n",
      " 12  Thal       301 non-null    object \n",
      " 13  AHD        303 non-null    object \n",
      "dtypes: float64(2), int64(9), object(3)\n",
      "memory usage: 33.3+ KB\n"
     ]
    }
   ],
   "source": [
    "csv_file['Ca'].fillna(int(csv_file['Ca'].mean()), inplace=True)\n",
    "csv_file.info()"
   ]
  },
  {
   "cell_type": "code",
   "execution_count": 8,
   "metadata": {},
   "outputs": [
    {
     "name": "stdout",
     "output_type": "stream",
     "text": [
      "<class 'pandas.core.frame.DataFrame'>\n",
      "RangeIndex: 303 entries, 0 to 302\n",
      "Data columns (total 14 columns):\n",
      " #   Column     Non-Null Count  Dtype  \n",
      "---  ------     --------------  -----  \n",
      " 0   Age        303 non-null    int64  \n",
      " 1   Sex        303 non-null    int64  \n",
      " 2   ChestPain  303 non-null    object \n",
      " 3   RestBP     303 non-null    int64  \n",
      " 4   Chol       303 non-null    int64  \n",
      " 5   Fbs        303 non-null    int64  \n",
      " 6   RestECG    303 non-null    int64  \n",
      " 7   MaxHR      303 non-null    int64  \n",
      " 8   ExAng      303 non-null    int64  \n",
      " 9   Oldpeak    303 non-null    float64\n",
      " 10  Slope      303 non-null    int64  \n",
      " 11  Ca         303 non-null    float64\n",
      " 12  Thal       303 non-null    object \n",
      " 13  AHD        303 non-null    object \n",
      "dtypes: float64(2), int64(9), object(3)\n",
      "memory usage: 33.3+ KB\n"
     ]
    }
   ],
   "source": [
    " # Data doesn't have any missed values\n",
    "csv_file['Thal'].fillna(str(csv_file['Thal'].mode()), inplace=True)\n",
    "csv_file.info()"
   ]
  },
  {
   "cell_type": "markdown",
   "metadata": {
    "id": "4iIvlwqwWoWc"
   },
   "source": [
    "#### Check the value counts of the columns that are objects"
   ]
  },
  {
   "cell_type": "code",
   "execution_count": 9,
   "metadata": {
    "colab": {
     "base_uri": "https://localhost:8080/",
     "height": 123
    },
    "id": "dP3Z4KoDstlZ",
    "outputId": "64183a3b-cbdb-4065-a166-a1fab53dce37"
   },
   "outputs": [
    {
     "data": {
      "text/plain": [
       "Age  Sex  ChestPain     RestBP  Chol  Fbs  RestECG  MaxHR  ExAng  Oldpeak  Slope  Ca   Thal        AHD\n",
       "29   1    nontypical    130     204   0    2        202    0      0.0      1      0.0  normal      No     0.0033\n",
       "59   1    typical       134     204   0    0        162    0      0.8      1      2.0  normal      Yes    0.0033\n",
       "          nonanginal    150     212   1    0        157    0      1.6      1      0.0  normal      No     0.0033\n",
       "                        126     218   1    0        134    0      2.2      2      1.0  fixed       Yes    0.0033\n",
       "          asymptomatic  170     326   0    2        140    1      3.4      3      0.0  reversable  Yes    0.0033\n",
       "dtype: float64"
      ]
     },
     "execution_count": 9,
     "metadata": {},
     "output_type": "execute_result"
    }
   ],
   "source": [
    "csv_file.value_counts(normalize=True).head()"
   ]
  },
  {
   "cell_type": "markdown",
   "metadata": {
    "id": "WWRhH6r4xxQu"
   },
   "source": [
    "You could load data into a format for TensorFlow using `tf.data.Dataset`, but these are unwieldly - it's a serious pain to create a validation dataset from a TF dataset. You used to have to make your data into NumPy arrays for TensorFlow. Now you can just keep them as pandas DataFrames!"
   ]
  },
  {
   "cell_type": "markdown",
   "metadata": {},
   "source": [
    "#### Set up X and y\n",
    "Convert `ChestPain`, `Thal`, and `AHD` (the target) columns to numeric.\n",
    "To convert features to numeric, feel free to give this friendlier OHE a try:\n",
    "```\n",
    "!pip install category_encoders \n",
    "import category_encoders as ce\n",
    "```"
   ]
  },
  {
   "cell_type": "code",
   "execution_count": 10,
   "metadata": {},
   "outputs": [],
   "source": [
    "csv_file['Target_AHD']=csv_file['AHD'].apply(lambda x: 1 if x=='Yes' else 0)"
   ]
  },
  {
   "cell_type": "code",
   "execution_count": 11,
   "metadata": {},
   "outputs": [
    {
     "data": {
      "text/html": [
       "<div>\n",
       "<style scoped>\n",
       "    .dataframe tbody tr th:only-of-type {\n",
       "        vertical-align: middle;\n",
       "    }\n",
       "\n",
       "    .dataframe tbody tr th {\n",
       "        vertical-align: top;\n",
       "    }\n",
       "\n",
       "    .dataframe thead th {\n",
       "        text-align: right;\n",
       "    }\n",
       "</style>\n",
       "<table border=\"1\" class=\"dataframe\">\n",
       "  <thead>\n",
       "    <tr style=\"text-align: right;\">\n",
       "      <th></th>\n",
       "      <th>Age</th>\n",
       "      <th>Sex</th>\n",
       "      <th>ChestPain</th>\n",
       "      <th>RestBP</th>\n",
       "      <th>Chol</th>\n",
       "      <th>Fbs</th>\n",
       "      <th>RestECG</th>\n",
       "      <th>MaxHR</th>\n",
       "      <th>ExAng</th>\n",
       "      <th>Oldpeak</th>\n",
       "      <th>Slope</th>\n",
       "      <th>Ca</th>\n",
       "      <th>Thal</th>\n",
       "      <th>AHD</th>\n",
       "      <th>Target_AHD</th>\n",
       "    </tr>\n",
       "  </thead>\n",
       "  <tbody>\n",
       "    <tr>\n",
       "      <th>0</th>\n",
       "      <td>63</td>\n",
       "      <td>1</td>\n",
       "      <td>typical</td>\n",
       "      <td>145</td>\n",
       "      <td>233</td>\n",
       "      <td>1</td>\n",
       "      <td>2</td>\n",
       "      <td>150</td>\n",
       "      <td>0</td>\n",
       "      <td>2.3</td>\n",
       "      <td>3</td>\n",
       "      <td>0.0</td>\n",
       "      <td>fixed</td>\n",
       "      <td>No</td>\n",
       "      <td>0</td>\n",
       "    </tr>\n",
       "    <tr>\n",
       "      <th>1</th>\n",
       "      <td>67</td>\n",
       "      <td>1</td>\n",
       "      <td>asymptomatic</td>\n",
       "      <td>160</td>\n",
       "      <td>286</td>\n",
       "      <td>0</td>\n",
       "      <td>2</td>\n",
       "      <td>108</td>\n",
       "      <td>1</td>\n",
       "      <td>1.5</td>\n",
       "      <td>2</td>\n",
       "      <td>3.0</td>\n",
       "      <td>normal</td>\n",
       "      <td>Yes</td>\n",
       "      <td>1</td>\n",
       "    </tr>\n",
       "  </tbody>\n",
       "</table>\n",
       "</div>"
      ],
      "text/plain": [
       "   Age  Sex     ChestPain  RestBP  Chol  Fbs  RestECG  MaxHR  ExAng  Oldpeak  \\\n",
       "0   63    1       typical     145   233    1        2    150      0      2.3   \n",
       "1   67    1  asymptomatic     160   286    0        2    108      1      1.5   \n",
       "\n",
       "   Slope   Ca    Thal  AHD  Target_AHD  \n",
       "0      3  0.0   fixed   No           0  \n",
       "1      2  3.0  normal  Yes           1  "
      ]
     },
     "execution_count": 11,
     "metadata": {},
     "output_type": "execute_result"
    }
   ],
   "source": [
    "csv_file.head(2)"
   ]
  },
  {
   "cell_type": "code",
   "execution_count": 12,
   "metadata": {},
   "outputs": [
    {
     "data": {
      "text/html": [
       "<div>\n",
       "<style scoped>\n",
       "    .dataframe tbody tr th:only-of-type {\n",
       "        vertical-align: middle;\n",
       "    }\n",
       "\n",
       "    .dataframe tbody tr th {\n",
       "        vertical-align: top;\n",
       "    }\n",
       "\n",
       "    .dataframe thead th {\n",
       "        text-align: right;\n",
       "    }\n",
       "</style>\n",
       "<table border=\"1\" class=\"dataframe\">\n",
       "  <thead>\n",
       "    <tr style=\"text-align: right;\">\n",
       "      <th></th>\n",
       "      <th>Age</th>\n",
       "      <th>Sex</th>\n",
       "      <th>RestBP</th>\n",
       "      <th>Chol</th>\n",
       "      <th>Fbs</th>\n",
       "      <th>RestECG</th>\n",
       "      <th>MaxHR</th>\n",
       "      <th>ExAng</th>\n",
       "      <th>Oldpeak</th>\n",
       "      <th>Slope</th>\n",
       "      <th>...</th>\n",
       "      <th>AHD</th>\n",
       "      <th>Target_AHD</th>\n",
       "      <th>ChestPain_asymptomatic</th>\n",
       "      <th>ChestPain_nonanginal</th>\n",
       "      <th>ChestPain_nontypical</th>\n",
       "      <th>ChestPain_typical</th>\n",
       "      <th>Thal_0    normal\\ndtype: object</th>\n",
       "      <th>Thal_fixed</th>\n",
       "      <th>Thal_normal</th>\n",
       "      <th>Thal_reversable</th>\n",
       "    </tr>\n",
       "  </thead>\n",
       "  <tbody>\n",
       "    <tr>\n",
       "      <th>0</th>\n",
       "      <td>63</td>\n",
       "      <td>1</td>\n",
       "      <td>145</td>\n",
       "      <td>233</td>\n",
       "      <td>1</td>\n",
       "      <td>2</td>\n",
       "      <td>150</td>\n",
       "      <td>0</td>\n",
       "      <td>2.3</td>\n",
       "      <td>3</td>\n",
       "      <td>...</td>\n",
       "      <td>No</td>\n",
       "      <td>0</td>\n",
       "      <td>0</td>\n",
       "      <td>0</td>\n",
       "      <td>0</td>\n",
       "      <td>1</td>\n",
       "      <td>0</td>\n",
       "      <td>1</td>\n",
       "      <td>0</td>\n",
       "      <td>0</td>\n",
       "    </tr>\n",
       "    <tr>\n",
       "      <th>1</th>\n",
       "      <td>67</td>\n",
       "      <td>1</td>\n",
       "      <td>160</td>\n",
       "      <td>286</td>\n",
       "      <td>0</td>\n",
       "      <td>2</td>\n",
       "      <td>108</td>\n",
       "      <td>1</td>\n",
       "      <td>1.5</td>\n",
       "      <td>2</td>\n",
       "      <td>...</td>\n",
       "      <td>Yes</td>\n",
       "      <td>1</td>\n",
       "      <td>1</td>\n",
       "      <td>0</td>\n",
       "      <td>0</td>\n",
       "      <td>0</td>\n",
       "      <td>0</td>\n",
       "      <td>0</td>\n",
       "      <td>1</td>\n",
       "      <td>0</td>\n",
       "    </tr>\n",
       "    <tr>\n",
       "      <th>2</th>\n",
       "      <td>67</td>\n",
       "      <td>1</td>\n",
       "      <td>120</td>\n",
       "      <td>229</td>\n",
       "      <td>0</td>\n",
       "      <td>2</td>\n",
       "      <td>129</td>\n",
       "      <td>1</td>\n",
       "      <td>2.6</td>\n",
       "      <td>2</td>\n",
       "      <td>...</td>\n",
       "      <td>Yes</td>\n",
       "      <td>1</td>\n",
       "      <td>1</td>\n",
       "      <td>0</td>\n",
       "      <td>0</td>\n",
       "      <td>0</td>\n",
       "      <td>0</td>\n",
       "      <td>0</td>\n",
       "      <td>0</td>\n",
       "      <td>1</td>\n",
       "    </tr>\n",
       "    <tr>\n",
       "      <th>3</th>\n",
       "      <td>37</td>\n",
       "      <td>1</td>\n",
       "      <td>130</td>\n",
       "      <td>250</td>\n",
       "      <td>0</td>\n",
       "      <td>0</td>\n",
       "      <td>187</td>\n",
       "      <td>0</td>\n",
       "      <td>3.5</td>\n",
       "      <td>3</td>\n",
       "      <td>...</td>\n",
       "      <td>No</td>\n",
       "      <td>0</td>\n",
       "      <td>0</td>\n",
       "      <td>1</td>\n",
       "      <td>0</td>\n",
       "      <td>0</td>\n",
       "      <td>0</td>\n",
       "      <td>0</td>\n",
       "      <td>1</td>\n",
       "      <td>0</td>\n",
       "    </tr>\n",
       "    <tr>\n",
       "      <th>4</th>\n",
       "      <td>41</td>\n",
       "      <td>0</td>\n",
       "      <td>130</td>\n",
       "      <td>204</td>\n",
       "      <td>0</td>\n",
       "      <td>2</td>\n",
       "      <td>172</td>\n",
       "      <td>0</td>\n",
       "      <td>1.4</td>\n",
       "      <td>1</td>\n",
       "      <td>...</td>\n",
       "      <td>No</td>\n",
       "      <td>0</td>\n",
       "      <td>0</td>\n",
       "      <td>0</td>\n",
       "      <td>1</td>\n",
       "      <td>0</td>\n",
       "      <td>0</td>\n",
       "      <td>0</td>\n",
       "      <td>1</td>\n",
       "      <td>0</td>\n",
       "    </tr>\n",
       "  </tbody>\n",
       "</table>\n",
       "<p>5 rows × 21 columns</p>\n",
       "</div>"
      ],
      "text/plain": [
       "   Age  Sex  RestBP  Chol  Fbs  RestECG  MaxHR  ExAng  Oldpeak  Slope  ...  \\\n",
       "0   63    1     145   233    1        2    150      0      2.3      3  ...   \n",
       "1   67    1     160   286    0        2    108      1      1.5      2  ...   \n",
       "2   67    1     120   229    0        2    129      1      2.6      2  ...   \n",
       "3   37    1     130   250    0        0    187      0      3.5      3  ...   \n",
       "4   41    0     130   204    0        2    172      0      1.4      1  ...   \n",
       "\n",
       "   AHD Target_AHD  ChestPain_asymptomatic  ChestPain_nonanginal  \\\n",
       "0   No          0                       0                     0   \n",
       "1  Yes          1                       1                     0   \n",
       "2  Yes          1                       1                     0   \n",
       "3   No          0                       0                     1   \n",
       "4   No          0                       0                     0   \n",
       "\n",
       "   ChestPain_nontypical  ChestPain_typical  Thal_0    normal\\ndtype: object  \\\n",
       "0                     0                  1                                0   \n",
       "1                     0                  0                                0   \n",
       "2                     0                  0                                0   \n",
       "3                     0                  0                                0   \n",
       "4                     1                  0                                0   \n",
       "\n",
       "   Thal_fixed  Thal_normal  Thal_reversable  \n",
       "0           1            0                0  \n",
       "1           0            1                0  \n",
       "2           0            0                1  \n",
       "3           0            1                0  \n",
       "4           0            1                0  \n",
       "\n",
       "[5 rows x 21 columns]"
      ]
     },
     "execution_count": 12,
     "metadata": {},
     "output_type": "execute_result"
    }
   ],
   "source": [
    "pd.get_dummies(csv_file, columns=['ChestPain', 'Thal']).head()"
   ]
  },
  {
   "cell_type": "markdown",
   "metadata": {},
   "source": [
    "#### Train-test split"
   ]
  },
  {
   "cell_type": "code",
   "execution_count": 13,
   "metadata": {},
   "outputs": [],
   "source": [
    "# Drop the string values columns and assign the X and Y value\n",
    "X = csv_file.drop(columns=['Target_AHD', 'AHD', 'ChestPain', 'Thal'])\n",
    "y = csv_file['Target_AHD']"
   ]
  },
  {
   "cell_type": "code",
   "execution_count": 14,
   "metadata": {
    "id": "LcP1WjczZUdo"
   },
   "outputs": [],
   "source": [
    "X_train, X_test, y_train, y_test = train_test_split(X, y, random_state=42, stratify=y)"
   ]
  },
  {
   "cell_type": "code",
   "execution_count": 15,
   "metadata": {},
   "outputs": [],
   "source": [
    "# Scale data\n",
    "sc = StandardScaler()\n",
    "X_train = sc.fit_transform(X_train)\n",
    "X_test = sc.transform(X_test)"
   ]
  },
  {
   "cell_type": "markdown",
   "metadata": {
    "id": "9CyGI5BA-faC"
   },
   "source": [
    "#### Set the TensorFlow random seed"
   ]
  },
  {
   "cell_type": "code",
   "execution_count": 16,
   "metadata": {},
   "outputs": [],
   "source": [
    "n_input = X_train.shape[1]"
   ]
  },
  {
   "cell_type": "code",
   "execution_count": 17,
   "metadata": {},
   "outputs": [],
   "source": [
    "X_test = np.array(X_test)"
   ]
  },
  {
   "cell_type": "code",
   "execution_count": 18,
   "metadata": {},
   "outputs": [],
   "source": [
    "X_train = np.array(X_train)"
   ]
  },
  {
   "cell_type": "code",
   "execution_count": 19,
   "metadata": {},
   "outputs": [
    {
     "data": {
      "text/plain": [
       "11"
      ]
     },
     "execution_count": 19,
     "metadata": {},
     "output_type": "execute_result"
    }
   ],
   "source": [
    "n_input"
   ]
  },
  {
   "cell_type": "code",
   "execution_count": 20,
   "metadata": {},
   "outputs": [],
   "source": [
    "np.random.seed([3,1415])"
   ]
  },
  {
   "cell_type": "markdown",
   "metadata": {
    "id": "bB9C0XJkyQEk"
   },
   "source": [
    "## Create and train a model\n",
    "\n",
    "#### Create model structure"
   ]
  },
  {
   "cell_type": "code",
   "execution_count": 21,
   "metadata": {},
   "outputs": [],
   "source": [
    "model = Sequential()"
   ]
  },
  {
   "cell_type": "code",
   "execution_count": 22,
   "metadata": {},
   "outputs": [],
   "source": [
    "model.add(Dense(17, input_dim=n_input, activation='relu'))\n",
    "model.add(Dense(10, activation='relu'))\n",
    "model.add(Dense(1, activation='sigmoid'))"
   ]
  },
  {
   "cell_type": "code",
   "execution_count": 23,
   "metadata": {},
   "outputs": [],
   "source": [
    "model.compile(loss='binary_crossentropy', optimizer='adam', metrics=['acc']) # loss = 'bce'"
   ]
  },
  {
   "cell_type": "code",
   "execution_count": 24,
   "metadata": {},
   "outputs": [
    {
     "name": "stdout",
     "output_type": "stream",
     "text": [
      "Epoch 1/100\n",
      "8/8 - 0s - loss: 0.7212 - acc: 0.3877 - val_loss: 0.6931 - val_acc: 0.5395\n",
      "Epoch 2/100\n",
      "8/8 - 0s - loss: 0.7082 - acc: 0.4229 - val_loss: 0.6851 - val_acc: 0.5921\n",
      "Epoch 3/100\n",
      "8/8 - 0s - loss: 0.6981 - acc: 0.4449 - val_loss: 0.6775 - val_acc: 0.5789\n",
      "Epoch 4/100\n",
      "8/8 - 0s - loss: 0.6897 - acc: 0.4802 - val_loss: 0.6706 - val_acc: 0.5526\n",
      "Epoch 5/100\n",
      "8/8 - 0s - loss: 0.6821 - acc: 0.5022 - val_loss: 0.6637 - val_acc: 0.5658\n",
      "Epoch 6/100\n",
      "8/8 - 0s - loss: 0.6751 - acc: 0.5330 - val_loss: 0.6573 - val_acc: 0.5789\n",
      "Epoch 7/100\n",
      "8/8 - 0s - loss: 0.6687 - acc: 0.5683 - val_loss: 0.6514 - val_acc: 0.6053\n",
      "Epoch 8/100\n",
      "8/8 - 0s - loss: 0.6632 - acc: 0.5859 - val_loss: 0.6448 - val_acc: 0.6184\n",
      "Epoch 9/100\n",
      "8/8 - 0s - loss: 0.6576 - acc: 0.6035 - val_loss: 0.6381 - val_acc: 0.6447\n",
      "Epoch 10/100\n",
      "8/8 - 0s - loss: 0.6515 - acc: 0.6123 - val_loss: 0.6324 - val_acc: 0.6842\n",
      "Epoch 11/100\n",
      "8/8 - 0s - loss: 0.6457 - acc: 0.6300 - val_loss: 0.6262 - val_acc: 0.6974\n",
      "Epoch 12/100\n",
      "8/8 - 0s - loss: 0.6394 - acc: 0.6520 - val_loss: 0.6187 - val_acc: 0.7105\n",
      "Epoch 13/100\n",
      "8/8 - 0s - loss: 0.6326 - acc: 0.6828 - val_loss: 0.6113 - val_acc: 0.7368\n",
      "Epoch 14/100\n",
      "8/8 - 0s - loss: 0.6255 - acc: 0.7093 - val_loss: 0.6043 - val_acc: 0.7500\n",
      "Epoch 15/100\n",
      "8/8 - 0s - loss: 0.6181 - acc: 0.7048 - val_loss: 0.5962 - val_acc: 0.7632\n",
      "Epoch 16/100\n",
      "8/8 - 0s - loss: 0.6106 - acc: 0.7225 - val_loss: 0.5872 - val_acc: 0.7763\n",
      "Epoch 17/100\n",
      "8/8 - 0s - loss: 0.6018 - acc: 0.7225 - val_loss: 0.5778 - val_acc: 0.7763\n",
      "Epoch 18/100\n",
      "8/8 - 0s - loss: 0.5934 - acc: 0.7401 - val_loss: 0.5668 - val_acc: 0.7895\n",
      "Epoch 19/100\n",
      "8/8 - 0s - loss: 0.5836 - acc: 0.7533 - val_loss: 0.5570 - val_acc: 0.7895\n",
      "Epoch 20/100\n",
      "8/8 - 0s - loss: 0.5742 - acc: 0.7665 - val_loss: 0.5461 - val_acc: 0.7895\n",
      "Epoch 21/100\n",
      "8/8 - 0s - loss: 0.5639 - acc: 0.7621 - val_loss: 0.5353 - val_acc: 0.7895\n",
      "Epoch 22/100\n",
      "8/8 - 0s - loss: 0.5534 - acc: 0.7621 - val_loss: 0.5242 - val_acc: 0.8026\n",
      "Epoch 23/100\n",
      "8/8 - 0s - loss: 0.5427 - acc: 0.7665 - val_loss: 0.5141 - val_acc: 0.8026\n",
      "Epoch 24/100\n",
      "8/8 - 0s - loss: 0.5329 - acc: 0.7797 - val_loss: 0.5041 - val_acc: 0.8026\n",
      "Epoch 25/100\n",
      "8/8 - 0s - loss: 0.5219 - acc: 0.7797 - val_loss: 0.4926 - val_acc: 0.8289\n",
      "Epoch 26/100\n",
      "8/8 - 0s - loss: 0.5113 - acc: 0.7797 - val_loss: 0.4799 - val_acc: 0.8158\n",
      "Epoch 27/100\n",
      "8/8 - 0s - loss: 0.4999 - acc: 0.7797 - val_loss: 0.4680 - val_acc: 0.8289\n",
      "Epoch 28/100\n",
      "8/8 - 0s - loss: 0.4890 - acc: 0.7753 - val_loss: 0.4583 - val_acc: 0.8289\n",
      "Epoch 29/100\n",
      "8/8 - 0s - loss: 0.4798 - acc: 0.7797 - val_loss: 0.4486 - val_acc: 0.8289\n",
      "Epoch 30/100\n",
      "8/8 - 0s - loss: 0.4719 - acc: 0.7885 - val_loss: 0.4389 - val_acc: 0.8289\n",
      "Epoch 31/100\n",
      "8/8 - 0s - loss: 0.4638 - acc: 0.7841 - val_loss: 0.4300 - val_acc: 0.8289\n",
      "Epoch 32/100\n",
      "8/8 - 0s - loss: 0.4572 - acc: 0.7841 - val_loss: 0.4213 - val_acc: 0.8289\n",
      "Epoch 33/100\n",
      "8/8 - 0s - loss: 0.4506 - acc: 0.7841 - val_loss: 0.4138 - val_acc: 0.8289\n",
      "Epoch 34/100\n",
      "8/8 - 0s - loss: 0.4445 - acc: 0.7885 - val_loss: 0.4084 - val_acc: 0.8289\n",
      "Epoch 35/100\n",
      "8/8 - 0s - loss: 0.4399 - acc: 0.7974 - val_loss: 0.4073 - val_acc: 0.8289\n",
      "Epoch 36/100\n",
      "8/8 - 0s - loss: 0.4360 - acc: 0.8062 - val_loss: 0.4068 - val_acc: 0.8289\n",
      "Epoch 37/100\n",
      "8/8 - 0s - loss: 0.4322 - acc: 0.8062 - val_loss: 0.4034 - val_acc: 0.8289\n",
      "Epoch 38/100\n",
      "8/8 - 0s - loss: 0.4284 - acc: 0.8062 - val_loss: 0.3992 - val_acc: 0.8289\n",
      "Epoch 39/100\n",
      "8/8 - 0s - loss: 0.4246 - acc: 0.8018 - val_loss: 0.3959 - val_acc: 0.8289\n",
      "Epoch 40/100\n",
      "8/8 - 0s - loss: 0.4213 - acc: 0.7974 - val_loss: 0.3959 - val_acc: 0.8289\n",
      "Epoch 41/100\n",
      "8/8 - 0s - loss: 0.4186 - acc: 0.7930 - val_loss: 0.3934 - val_acc: 0.8289\n",
      "Epoch 42/100\n",
      "8/8 - 0s - loss: 0.4159 - acc: 0.7974 - val_loss: 0.3898 - val_acc: 0.8289\n",
      "Epoch 43/100\n",
      "8/8 - 0s - loss: 0.4131 - acc: 0.7974 - val_loss: 0.3892 - val_acc: 0.8289\n",
      "Epoch 44/100\n",
      "8/8 - 0s - loss: 0.4100 - acc: 0.7930 - val_loss: 0.3895 - val_acc: 0.8289\n",
      "Epoch 45/100\n",
      "8/8 - 0s - loss: 0.4080 - acc: 0.7974 - val_loss: 0.3889 - val_acc: 0.8289\n",
      "Epoch 46/100\n",
      "8/8 - 0s - loss: 0.4055 - acc: 0.7974 - val_loss: 0.3887 - val_acc: 0.8289\n",
      "Epoch 47/100\n",
      "8/8 - 0s - loss: 0.4036 - acc: 0.7974 - val_loss: 0.3872 - val_acc: 0.8289\n",
      "Epoch 48/100\n",
      "8/8 - 0s - loss: 0.4007 - acc: 0.8018 - val_loss: 0.3857 - val_acc: 0.8289\n",
      "Epoch 49/100\n",
      "8/8 - 0s - loss: 0.3983 - acc: 0.8018 - val_loss: 0.3848 - val_acc: 0.8289\n",
      "Epoch 50/100\n",
      "8/8 - 0s - loss: 0.3964 - acc: 0.8062 - val_loss: 0.3828 - val_acc: 0.8289\n",
      "Epoch 51/100\n",
      "8/8 - 0s - loss: 0.3941 - acc: 0.8062 - val_loss: 0.3815 - val_acc: 0.8289\n",
      "Epoch 52/100\n",
      "8/8 - 0s - loss: 0.3919 - acc: 0.8106 - val_loss: 0.3814 - val_acc: 0.8289\n",
      "Epoch 53/100\n",
      "8/8 - 0s - loss: 0.3905 - acc: 0.8150 - val_loss: 0.3831 - val_acc: 0.8289\n",
      "Epoch 54/100\n",
      "8/8 - 0s - loss: 0.3890 - acc: 0.8150 - val_loss: 0.3832 - val_acc: 0.8289\n",
      "Epoch 55/100\n",
      "8/8 - 0s - loss: 0.3872 - acc: 0.8150 - val_loss: 0.3832 - val_acc: 0.8289\n",
      "Epoch 56/100\n",
      "8/8 - 0s - loss: 0.3854 - acc: 0.8194 - val_loss: 0.3828 - val_acc: 0.8289\n",
      "Epoch 57/100\n",
      "8/8 - 0s - loss: 0.3831 - acc: 0.8150 - val_loss: 0.3791 - val_acc: 0.8289\n",
      "Epoch 58/100\n",
      "8/8 - 0s - loss: 0.3811 - acc: 0.8150 - val_loss: 0.3772 - val_acc: 0.8289\n",
      "Epoch 59/100\n",
      "8/8 - 0s - loss: 0.3799 - acc: 0.8150 - val_loss: 0.3770 - val_acc: 0.8289\n",
      "Epoch 60/100\n",
      "8/8 - 0s - loss: 0.3772 - acc: 0.8150 - val_loss: 0.3745 - val_acc: 0.8289\n",
      "Epoch 61/100\n",
      "8/8 - 0s - loss: 0.3750 - acc: 0.8150 - val_loss: 0.3725 - val_acc: 0.8289\n",
      "Epoch 62/100\n",
      "8/8 - 0s - loss: 0.3733 - acc: 0.8150 - val_loss: 0.3696 - val_acc: 0.8289\n",
      "Epoch 63/100\n",
      "8/8 - 0s - loss: 0.3715 - acc: 0.8194 - val_loss: 0.3675 - val_acc: 0.8289\n",
      "Epoch 64/100\n",
      "8/8 - 0s - loss: 0.3704 - acc: 0.8194 - val_loss: 0.3641 - val_acc: 0.8421\n",
      "Epoch 65/100\n",
      "8/8 - 0s - loss: 0.3685 - acc: 0.8194 - val_loss: 0.3594 - val_acc: 0.8421\n",
      "Epoch 66/100\n",
      "8/8 - 0s - loss: 0.3679 - acc: 0.8106 - val_loss: 0.3578 - val_acc: 0.8421\n",
      "Epoch 67/100\n",
      "8/8 - 0s - loss: 0.3660 - acc: 0.8150 - val_loss: 0.3562 - val_acc: 0.8421\n",
      "Epoch 68/100\n",
      "8/8 - 0s - loss: 0.3651 - acc: 0.8194 - val_loss: 0.3534 - val_acc: 0.8421\n",
      "Epoch 69/100\n",
      "8/8 - 0s - loss: 0.3642 - acc: 0.8194 - val_loss: 0.3519 - val_acc: 0.8421\n",
      "Epoch 70/100\n",
      "8/8 - 0s - loss: 0.3625 - acc: 0.8150 - val_loss: 0.3503 - val_acc: 0.8421\n",
      "Epoch 71/100\n",
      "8/8 - 0s - loss: 0.3606 - acc: 0.8238 - val_loss: 0.3509 - val_acc: 0.8421\n",
      "Epoch 72/100\n",
      "8/8 - 0s - loss: 0.3587 - acc: 0.8238 - val_loss: 0.3499 - val_acc: 0.8421\n",
      "Epoch 73/100\n",
      "8/8 - 0s - loss: 0.3573 - acc: 0.8238 - val_loss: 0.3499 - val_acc: 0.8289\n",
      "Epoch 74/100\n",
      "8/8 - 0s - loss: 0.3562 - acc: 0.8326 - val_loss: 0.3512 - val_acc: 0.8289\n",
      "Epoch 75/100\n",
      "8/8 - 0s - loss: 0.3549 - acc: 0.8282 - val_loss: 0.3525 - val_acc: 0.8289\n",
      "Epoch 76/100\n",
      "8/8 - 0s - loss: 0.3529 - acc: 0.8282 - val_loss: 0.3484 - val_acc: 0.8289\n",
      "Epoch 77/100\n",
      "8/8 - 0s - loss: 0.3512 - acc: 0.8326 - val_loss: 0.3471 - val_acc: 0.8421\n",
      "Epoch 78/100\n",
      "8/8 - 0s - loss: 0.3494 - acc: 0.8326 - val_loss: 0.3464 - val_acc: 0.8553\n",
      "Epoch 79/100\n",
      "8/8 - 0s - loss: 0.3479 - acc: 0.8326 - val_loss: 0.3473 - val_acc: 0.8553\n",
      "Epoch 80/100\n",
      "8/8 - 0s - loss: 0.3462 - acc: 0.8326 - val_loss: 0.3487 - val_acc: 0.8553\n",
      "Epoch 81/100\n",
      "8/8 - 0s - loss: 0.3449 - acc: 0.8370 - val_loss: 0.3487 - val_acc: 0.8553\n",
      "Epoch 82/100\n",
      "8/8 - 0s - loss: 0.3435 - acc: 0.8458 - val_loss: 0.3488 - val_acc: 0.8553\n",
      "Epoch 83/100\n",
      "8/8 - 0s - loss: 0.3420 - acc: 0.8458 - val_loss: 0.3501 - val_acc: 0.8553\n",
      "Epoch 84/100\n",
      "8/8 - 0s - loss: 0.3421 - acc: 0.8458 - val_loss: 0.3525 - val_acc: 0.8553\n",
      "Epoch 85/100\n",
      "8/8 - 0s - loss: 0.3402 - acc: 0.8458 - val_loss: 0.3495 - val_acc: 0.8553\n",
      "Epoch 86/100\n",
      "8/8 - 0s - loss: 0.3386 - acc: 0.8502 - val_loss: 0.3491 - val_acc: 0.8553\n",
      "Epoch 87/100\n",
      "8/8 - 0s - loss: 0.3369 - acc: 0.8502 - val_loss: 0.3473 - val_acc: 0.8553\n",
      "Epoch 88/100\n",
      "8/8 - 0s - loss: 0.3354 - acc: 0.8502 - val_loss: 0.3453 - val_acc: 0.8553\n",
      "Epoch 89/100\n",
      "8/8 - 0s - loss: 0.3341 - acc: 0.8546 - val_loss: 0.3451 - val_acc: 0.8553\n",
      "Epoch 90/100\n",
      "8/8 - 0s - loss: 0.3325 - acc: 0.8502 - val_loss: 0.3432 - val_acc: 0.8553\n",
      "Epoch 91/100\n",
      "8/8 - 0s - loss: 0.3314 - acc: 0.8502 - val_loss: 0.3425 - val_acc: 0.8553\n",
      "Epoch 92/100\n",
      "8/8 - 0s - loss: 0.3298 - acc: 0.8546 - val_loss: 0.3469 - val_acc: 0.8553\n",
      "Epoch 93/100\n",
      "8/8 - 0s - loss: 0.3287 - acc: 0.8546 - val_loss: 0.3487 - val_acc: 0.8553\n",
      "Epoch 94/100\n",
      "8/8 - 0s - loss: 0.3267 - acc: 0.8590 - val_loss: 0.3462 - val_acc: 0.8421\n"
     ]
    },
    {
     "name": "stdout",
     "output_type": "stream",
     "text": [
      "Epoch 95/100\n",
      "8/8 - 0s - loss: 0.3262 - acc: 0.8590 - val_loss: 0.3453 - val_acc: 0.8289\n",
      "Epoch 96/100\n",
      "8/8 - 0s - loss: 0.3256 - acc: 0.8590 - val_loss: 0.3437 - val_acc: 0.8421\n",
      "Epoch 97/100\n",
      "8/8 - 0s - loss: 0.3243 - acc: 0.8634 - val_loss: 0.3424 - val_acc: 0.8421\n",
      "Epoch 98/100\n",
      "8/8 - 0s - loss: 0.3229 - acc: 0.8634 - val_loss: 0.3416 - val_acc: 0.8553\n",
      "Epoch 99/100\n",
      "8/8 - 0s - loss: 0.3211 - acc: 0.8678 - val_loss: 0.3402 - val_acc: 0.8553\n",
      "Epoch 100/100\n",
      "8/8 - 0s - loss: 0.3203 - acc: 0.8678 - val_loss: 0.3393 - val_acc: 0.8553\n"
     ]
    }
   ],
   "source": [
    "history = model.fit(\n",
    "    X_train,\n",
    "    y_train,\n",
    "    validation_data=(X_test, y_test),\n",
    "    epochs=100,\n",
    "    batch_size=None,\n",
    "    verbose=2\n",
    ")"
   ]
  },
  {
   "cell_type": "markdown",
   "metadata": {},
   "source": [
    "#### Visualize the structure"
   ]
  },
  {
   "cell_type": "code",
   "execution_count": 25,
   "metadata": {
    "colab": {
     "base_uri": "https://localhost:8080/",
     "height": 301
    },
    "id": "xpIoUWSxgUBb",
    "outputId": "41a1d588-d1ae-43ba-dc46-944f68e91427"
   },
   "outputs": [
    {
     "data": {
      "image/png": "[encoded data removed]",
      "text/plain": [
       "<Figure size 864x576 with 1 Axes>"
      ]
     },
     "metadata": {
      "needs_background": "light"
     },
     "output_type": "display_data"
    }
   ],
   "source": [
    "train_loss = history.history['loss']\n",
    "test_loss = history.history['val_loss']\n",
    "\n",
    "plt.figure(figsize=(12, 8))\n",
    "plt.plot(train_loss, label='Training loss', color='navy')\n",
    "plt.plot(test_loss, label='Testing loss', color='orange')\n",
    "plt.legend();"
   ]
  },
  {
   "cell_type": "markdown",
   "metadata": {
    "id": "T12mvCrqpXOX"
   },
   "source": [
    "#### Compile"
   ]
  },
  {
   "cell_type": "code",
   "execution_count": 26,
   "metadata": {
    "id": "fPzix0n5xPHc"
   },
   "outputs": [],
   "source": [
    "model.compile(loss='binary_crossentropy', metrics=['accuracy'], optimizer='adam')"
   ]
  },
  {
   "cell_type": "code",
   "execution_count": 27,
   "metadata": {},
   "outputs": [
    {
     "data": {
      "text/plain": [
       "(0.8678414225578308, 0.8552631735801697)"
      ]
     },
     "execution_count": 27,
     "metadata": {},
     "output_type": "execute_result"
    }
   ],
   "source": [
    "history.history['acc'][-1], history.history['val_acc'][-1]"
   ]
  },
  {
   "cell_type": "markdown",
   "metadata": {
    "id": "nlV0i6J4o-Yg"
   },
   "source": [
    "#### Make an EarlyStopping callback"
   ]
  },
  {
   "cell_type": "code",
   "execution_count": 28,
   "metadata": {
    "id": "ybDzNUheqxJw"
   },
   "outputs": [
    {
     "name": "stdout",
     "output_type": "stream",
     "text": [
      "Epoch 1/100\n",
      "8/8 [==============================] - 0s 8ms/step - loss: 0.6836 - acc: 0.5286 - val_loss: 0.6155 - val_acc: 0.6579\n",
      "Epoch 2/100\n",
      "8/8 [==============================] - 0s 2ms/step - loss: 0.6580 - acc: 0.5947 - val_loss: 0.5941 - val_acc: 0.7105\n",
      "Epoch 3/100\n",
      "8/8 [==============================] - 0s 2ms/step - loss: 0.6375 - acc: 0.6300 - val_loss: 0.5750 - val_acc: 0.7500\n",
      "Epoch 4/100\n",
      "8/8 [==============================] - 0s 2ms/step - loss: 0.6178 - acc: 0.6608 - val_loss: 0.5552 - val_acc: 0.7500\n",
      "Epoch 5/100\n",
      "8/8 [==============================] - 0s 2ms/step - loss: 0.5998 - acc: 0.6828 - val_loss: 0.5378 - val_acc: 0.7895\n",
      "Epoch 6/100\n",
      "8/8 [==============================] - 0s 2ms/step - loss: 0.5829 - acc: 0.7048 - val_loss: 0.5202 - val_acc: 0.8158\n",
      "Epoch 7/100\n",
      "8/8 [==============================] - 0s 2ms/step - loss: 0.5661 - acc: 0.7093 - val_loss: 0.5029 - val_acc: 0.8421\n",
      "Epoch 8/100\n",
      "8/8 [==============================] - 0s 2ms/step - loss: 0.5496 - acc: 0.7313 - val_loss: 0.4857 - val_acc: 0.8421\n",
      "Epoch 9/100\n",
      "8/8 [==============================] - 0s 2ms/step - loss: 0.5348 - acc: 0.7401 - val_loss: 0.4680 - val_acc: 0.8289\n",
      "Epoch 10/100\n",
      "8/8 [==============================] - 0s 2ms/step - loss: 0.5190 - acc: 0.7445 - val_loss: 0.4516 - val_acc: 0.8684\n",
      "Epoch 11/100\n",
      "8/8 [==============================] - 0s 2ms/step - loss: 0.5055 - acc: 0.7621 - val_loss: 0.4363 - val_acc: 0.8684\n",
      "Epoch 12/100\n",
      "8/8 [==============================] - 0s 1ms/step - loss: 0.4941 - acc: 0.7753 - val_loss: 0.4245 - val_acc: 0.8684\n",
      "Epoch 13/100\n",
      "8/8 [==============================] - 0s 2ms/step - loss: 0.4846 - acc: 0.7885 - val_loss: 0.4140 - val_acc: 0.8684\n",
      "Epoch 14/100\n",
      "8/8 [==============================] - 0s 2ms/step - loss: 0.4752 - acc: 0.7930 - val_loss: 0.4048 - val_acc: 0.8816\n",
      "Epoch 15/100\n",
      "8/8 [==============================] - 0s 2ms/step - loss: 0.4672 - acc: 0.7974 - val_loss: 0.3968 - val_acc: 0.8816\n",
      "Epoch 16/100\n",
      "8/8 [==============================] - 0s 1ms/step - loss: 0.4596 - acc: 0.8018 - val_loss: 0.3888 - val_acc: 0.8947\n",
      "Epoch 17/100\n",
      "8/8 [==============================] - 0s 2ms/step - loss: 0.4531 - acc: 0.8106 - val_loss: 0.3838 - val_acc: 0.8947\n",
      "Epoch 18/100\n",
      "8/8 [==============================] - 0s 2ms/step - loss: 0.4467 - acc: 0.8194 - val_loss: 0.3780 - val_acc: 0.8947\n",
      "Epoch 19/100\n",
      "8/8 [==============================] - 0s 2ms/step - loss: 0.4418 - acc: 0.8238 - val_loss: 0.3745 - val_acc: 0.8947\n",
      "Epoch 20/100\n",
      "8/8 [==============================] - 0s 2ms/step - loss: 0.4363 - acc: 0.8238 - val_loss: 0.3684 - val_acc: 0.8947\n",
      "Epoch 21/100\n",
      "8/8 [==============================] - 0s 2ms/step - loss: 0.4314 - acc: 0.8194 - val_loss: 0.3638 - val_acc: 0.8816\n",
      "Epoch 22/100\n",
      "8/8 [==============================] - 0s 2ms/step - loss: 0.4272 - acc: 0.8238 - val_loss: 0.3597 - val_acc: 0.8816\n",
      "Epoch 23/100\n",
      "8/8 [==============================] - 0s 2ms/step - loss: 0.4232 - acc: 0.8238 - val_loss: 0.3574 - val_acc: 0.8816\n",
      "Epoch 24/100\n",
      "8/8 [==============================] - 0s 1ms/step - loss: 0.4197 - acc: 0.8238 - val_loss: 0.3563 - val_acc: 0.8684\n",
      "Epoch 25/100\n",
      "8/8 [==============================] - 0s 2ms/step - loss: 0.4166 - acc: 0.8238 - val_loss: 0.3531 - val_acc: 0.8684\n",
      "Epoch 26/100\n",
      "8/8 [==============================] - 0s 2ms/step - loss: 0.4130 - acc: 0.8238 - val_loss: 0.3519 - val_acc: 0.8684\n",
      "Epoch 27/100\n",
      "8/8 [==============================] - 0s 1000us/step - loss: 0.4091 - acc: 0.8238 - val_loss: 0.3488 - val_acc: 0.8684\n",
      "Epoch 28/100\n",
      "8/8 [==============================] - 0s 1ms/step - loss: 0.4071 - acc: 0.8238 - val_loss: 0.3444 - val_acc: 0.8684\n",
      "Epoch 29/100\n",
      "8/8 [==============================] - 0s 1000us/step - loss: 0.4031 - acc: 0.8150 - val_loss: 0.3423 - val_acc: 0.8684\n",
      "Epoch 30/100\n",
      "8/8 [==============================] - 0s 1ms/step - loss: 0.4005 - acc: 0.8150 - val_loss: 0.3415 - val_acc: 0.8684\n",
      "Epoch 31/100\n",
      "8/8 [==============================] - 0s 2ms/step - loss: 0.3975 - acc: 0.8150 - val_loss: 0.3420 - val_acc: 0.8684\n",
      "Epoch 32/100\n",
      "8/8 [==============================] - 0s 2ms/step - loss: 0.3949 - acc: 0.8194 - val_loss: 0.3428 - val_acc: 0.8684\n",
      "Epoch 33/100\n",
      "8/8 [==============================] - 0s 2ms/step - loss: 0.3922 - acc: 0.8194 - val_loss: 0.3425 - val_acc: 0.8684\n",
      "Epoch 34/100\n",
      "8/8 [==============================] - 0s 999us/step - loss: 0.3893 - acc: 0.8194 - val_loss: 0.3431 - val_acc: 0.8684\n",
      "Epoch 35/100\n",
      "8/8 [==============================] - 0s 2ms/step - loss: 0.3866 - acc: 0.8150 - val_loss: 0.3435 - val_acc: 0.8684\n",
      "Epoch 00035: early stopping\n"
     ]
    }
   ],
   "source": [
    "# Code adopted from class examples\n",
    "from tensorflow.keras.callbacks import EarlyStopping\n",
    "\n",
    "model_es = Sequential()\n",
    "\n",
    "n_input = X_train.shape[1]\n",
    "\n",
    "model_es.add(Dense(17, input_dim=n_input, activation='relu'))\n",
    "model_es.add(Dense(10, activation='relu'))\n",
    "model_es.add(Dense(1, activation='sigmoid'))\n",
    "\n",
    "model_es.compile(loss='bce', optimizer='adam', metrics=['acc'])\n",
    "\n",
    "early_stop = EarlyStopping(monitor='val_loss', min_delta=0, patience=5, \n",
    "                           verbose=1, mode='auto')\n",
    "\n",
    "history_es = model_es.fit(\n",
    "    X_train,\n",
    "    y_train,\n",
    "    validation_data=(X_test, y_test),\n",
    "    epochs=100,\n",
    "    batch_size=None,\n",
    "    callbacks=[early_stop]\n",
    ")"
   ]
  },
  {
   "cell_type": "markdown",
   "metadata": {
    "id": "gaEz3a5BpLxr"
   },
   "source": [
    "#### Fit the model"
   ]
  },
  {
   "cell_type": "code",
   "execution_count": 29,
   "metadata": {
    "id": "GTxY6vPrpJkl"
   },
   "outputs": [
    {
     "name": "stdout",
     "output_type": "stream",
     "text": [
      "Epoch 1/60\n",
      "8/8 - 0s - loss: 0.3209 - accuracy: 0.8634 - val_loss: 0.3387 - val_accuracy: 0.8553\n",
      "Epoch 2/60\n",
      "8/8 - 0s - loss: 0.3177 - accuracy: 0.8634 - val_loss: 0.3375 - val_accuracy: 0.8553\n",
      "Epoch 3/60\n",
      "8/8 - 0s - loss: 0.3157 - accuracy: 0.8634 - val_loss: 0.3357 - val_accuracy: 0.8553\n",
      "Epoch 4/60\n",
      "8/8 - 0s - loss: 0.3142 - accuracy: 0.8634 - val_loss: 0.3341 - val_accuracy: 0.8553\n",
      "Epoch 5/60\n",
      "8/8 - 0s - loss: 0.3129 - accuracy: 0.8590 - val_loss: 0.3329 - val_accuracy: 0.8553\n",
      "Epoch 6/60\n",
      "8/8 - 0s - loss: 0.3119 - accuracy: 0.8546 - val_loss: 0.3345 - val_accuracy: 0.8553\n",
      "Epoch 7/60\n",
      "8/8 - 0s - loss: 0.3105 - accuracy: 0.8634 - val_loss: 0.3360 - val_accuracy: 0.8421\n",
      "Epoch 8/60\n",
      "8/8 - 0s - loss: 0.3099 - accuracy: 0.8634 - val_loss: 0.3363 - val_accuracy: 0.8421\n",
      "Epoch 9/60\n",
      "8/8 - 0s - loss: 0.3090 - accuracy: 0.8634 - val_loss: 0.3369 - val_accuracy: 0.8421\n",
      "Epoch 10/60\n",
      "8/8 - 0s - loss: 0.3082 - accuracy: 0.8634 - val_loss: 0.3386 - val_accuracy: 0.8421\n",
      "Epoch 11/60\n",
      "8/8 - 0s - loss: 0.3070 - accuracy: 0.8634 - val_loss: 0.3406 - val_accuracy: 0.8421\n",
      "Epoch 12/60\n",
      "8/8 - 0s - loss: 0.3056 - accuracy: 0.8634 - val_loss: 0.3415 - val_accuracy: 0.8421\n",
      "Epoch 13/60\n",
      "8/8 - 0s - loss: 0.3047 - accuracy: 0.8634 - val_loss: 0.3419 - val_accuracy: 0.8289\n",
      "Epoch 14/60\n",
      "8/8 - 0s - loss: 0.3038 - accuracy: 0.8634 - val_loss: 0.3391 - val_accuracy: 0.8421\n",
      "Epoch 15/60\n",
      "8/8 - 0s - loss: 0.3037 - accuracy: 0.8678 - val_loss: 0.3373 - val_accuracy: 0.8421\n",
      "Epoch 16/60\n",
      "8/8 - 0s - loss: 0.3028 - accuracy: 0.8678 - val_loss: 0.3371 - val_accuracy: 0.8421\n",
      "Epoch 17/60\n",
      "8/8 - 0s - loss: 0.3010 - accuracy: 0.8678 - val_loss: 0.3395 - val_accuracy: 0.8421\n",
      "Epoch 18/60\n",
      "8/8 - 0s - loss: 0.3000 - accuracy: 0.8678 - val_loss: 0.3411 - val_accuracy: 0.8553\n",
      "Epoch 19/60\n",
      "8/8 - 0s - loss: 0.2986 - accuracy: 0.8634 - val_loss: 0.3428 - val_accuracy: 0.8553\n",
      "Epoch 20/60\n",
      "8/8 - 0s - loss: 0.2984 - accuracy: 0.8590 - val_loss: 0.3432 - val_accuracy: 0.8684\n",
      "Epoch 21/60\n",
      "8/8 - 0s - loss: 0.2968 - accuracy: 0.8634 - val_loss: 0.3424 - val_accuracy: 0.8684\n",
      "Epoch 22/60\n",
      "8/8 - 0s - loss: 0.2962 - accuracy: 0.8634 - val_loss: 0.3411 - val_accuracy: 0.8553\n",
      "Epoch 23/60\n",
      "8/8 - 0s - loss: 0.2950 - accuracy: 0.8634 - val_loss: 0.3427 - val_accuracy: 0.8553\n",
      "Epoch 24/60\n",
      "8/8 - 0s - loss: 0.2939 - accuracy: 0.8634 - val_loss: 0.3423 - val_accuracy: 0.8553\n",
      "Epoch 25/60\n",
      "8/8 - 0s - loss: 0.2932 - accuracy: 0.8678 - val_loss: 0.3400 - val_accuracy: 0.8553\n",
      "Epoch 26/60\n",
      "8/8 - 0s - loss: 0.2922 - accuracy: 0.8722 - val_loss: 0.3386 - val_accuracy: 0.8553\n",
      "Epoch 27/60\n",
      "8/8 - 0s - loss: 0.2915 - accuracy: 0.8722 - val_loss: 0.3377 - val_accuracy: 0.8684\n",
      "Epoch 28/60\n",
      "8/8 - 0s - loss: 0.2902 - accuracy: 0.8722 - val_loss: 0.3365 - val_accuracy: 0.8684\n",
      "Epoch 29/60\n",
      "8/8 - 0s - loss: 0.2891 - accuracy: 0.8722 - val_loss: 0.3357 - val_accuracy: 0.8684\n",
      "Epoch 30/60\n",
      "8/8 - 0s - loss: 0.2873 - accuracy: 0.8722 - val_loss: 0.3350 - val_accuracy: 0.8684\n",
      "Epoch 31/60\n",
      "8/8 - 0s - loss: 0.2869 - accuracy: 0.8767 - val_loss: 0.3348 - val_accuracy: 0.8684\n",
      "Epoch 32/60\n",
      "8/8 - 0s - loss: 0.2861 - accuracy: 0.8767 - val_loss: 0.3341 - val_accuracy: 0.8684\n",
      "Epoch 33/60\n",
      "8/8 - 0s - loss: 0.2849 - accuracy: 0.8767 - val_loss: 0.3342 - val_accuracy: 0.8684\n",
      "Epoch 34/60\n",
      "8/8 - 0s - loss: 0.2842 - accuracy: 0.8678 - val_loss: 0.3326 - val_accuracy: 0.8684\n",
      "Epoch 35/60\n",
      "8/8 - 0s - loss: 0.2830 - accuracy: 0.8811 - val_loss: 0.3322 - val_accuracy: 0.8684\n",
      "Epoch 36/60\n",
      "8/8 - 0s - loss: 0.2823 - accuracy: 0.8811 - val_loss: 0.3328 - val_accuracy: 0.8684\n",
      "Epoch 37/60\n",
      "8/8 - 0s - loss: 0.2813 - accuracy: 0.8767 - val_loss: 0.3337 - val_accuracy: 0.8684\n",
      "Epoch 38/60\n",
      "8/8 - 0s - loss: 0.2801 - accuracy: 0.8767 - val_loss: 0.3322 - val_accuracy: 0.8684\n",
      "Epoch 39/60\n",
      "8/8 - 0s - loss: 0.2790 - accuracy: 0.8767 - val_loss: 0.3323 - val_accuracy: 0.8684\n",
      "Epoch 40/60\n",
      "8/8 - 0s - loss: 0.2780 - accuracy: 0.8811 - val_loss: 0.3340 - val_accuracy: 0.8684\n",
      "Epoch 41/60\n",
      "8/8 - 0s - loss: 0.2766 - accuracy: 0.8811 - val_loss: 0.3317 - val_accuracy: 0.8684\n",
      "Epoch 42/60\n",
      "8/8 - 0s - loss: 0.2761 - accuracy: 0.8811 - val_loss: 0.3297 - val_accuracy: 0.8684\n",
      "Epoch 43/60\n",
      "8/8 - 0s - loss: 0.2742 - accuracy: 0.8811 - val_loss: 0.3327 - val_accuracy: 0.8684\n",
      "Epoch 44/60\n",
      "8/8 - 0s - loss: 0.2740 - accuracy: 0.8767 - val_loss: 0.3346 - val_accuracy: 0.8684\n",
      "Epoch 45/60\n",
      "8/8 - 0s - loss: 0.2731 - accuracy: 0.8722 - val_loss: 0.3315 - val_accuracy: 0.8684\n",
      "Epoch 46/60\n",
      "8/8 - 0s - loss: 0.2731 - accuracy: 0.8811 - val_loss: 0.3267 - val_accuracy: 0.8684\n",
      "Epoch 47/60\n",
      "8/8 - 0s - loss: 0.2721 - accuracy: 0.8767 - val_loss: 0.3271 - val_accuracy: 0.8684\n",
      "Epoch 48/60\n",
      "8/8 - 0s - loss: 0.2711 - accuracy: 0.8722 - val_loss: 0.3279 - val_accuracy: 0.8684\n",
      "Epoch 49/60\n",
      "8/8 - 0s - loss: 0.2699 - accuracy: 0.8767 - val_loss: 0.3309 - val_accuracy: 0.8684\n",
      "Epoch 50/60\n",
      "8/8 - 0s - loss: 0.2694 - accuracy: 0.8855 - val_loss: 0.3330 - val_accuracy: 0.8684\n",
      "Epoch 51/60\n",
      "8/8 - 0s - loss: 0.2683 - accuracy: 0.8855 - val_loss: 0.3332 - val_accuracy: 0.8684\n",
      "Epoch 52/60\n",
      "8/8 - 0s - loss: 0.2681 - accuracy: 0.8767 - val_loss: 0.3310 - val_accuracy: 0.8684\n",
      "Epoch 53/60\n",
      "8/8 - 0s - loss: 0.2661 - accuracy: 0.8811 - val_loss: 0.3303 - val_accuracy: 0.8684\n",
      "Epoch 54/60\n",
      "8/8 - 0s - loss: 0.2649 - accuracy: 0.8811 - val_loss: 0.3325 - val_accuracy: 0.8684\n",
      "Epoch 55/60\n",
      "8/8 - 0s - loss: 0.2640 - accuracy: 0.8811 - val_loss: 0.3336 - val_accuracy: 0.8684\n",
      "Epoch 56/60\n",
      "8/8 - 0s - loss: 0.2627 - accuracy: 0.8811 - val_loss: 0.3321 - val_accuracy: 0.8684\n",
      "Epoch 57/60\n",
      "8/8 - 0s - loss: 0.2617 - accuracy: 0.8899 - val_loss: 0.3321 - val_accuracy: 0.8684\n",
      "Epoch 58/60\n",
      "8/8 - 0s - loss: 0.2608 - accuracy: 0.8899 - val_loss: 0.3285 - val_accuracy: 0.8684\n",
      "Epoch 59/60\n",
      "8/8 - 0s - loss: 0.2602 - accuracy: 0.8899 - val_loss: 0.3278 - val_accuracy: 0.8684\n",
      "Epoch 60/60\n",
      "8/8 - 0s - loss: 0.2593 - accuracy: 0.8899 - val_loss: 0.3278 - val_accuracy: 0.8684\n"
     ]
    }
   ],
   "source": [
    "history = model.fit(\n",
    "    X_train,\n",
    "    y_train,\n",
    "    validation_data=(X_test, y_test),\n",
    "    epochs=60,\n",
    "    batch_size=None,\n",
    "    verbose=2\n",
    ")"
   ]
  },
  {
   "cell_type": "code",
   "execution_count": 30,
   "metadata": {},
   "outputs": [
    {
     "name": "stdout",
     "output_type": "stream",
     "text": [
      "Epoch 1/60\n",
      "8/8 [==============================] - 0s 4ms/step - loss: 0.2586 - accuracy: 0.8899 - val_loss: 0.3283 - val_accuracy: 0.8684\n",
      "Epoch 2/60\n",
      "8/8 [==============================] - 0s 2ms/step - loss: 0.2572 - accuracy: 0.8943 - val_loss: 0.3312 - val_accuracy: 0.8684\n",
      "Epoch 3/60\n",
      "8/8 [==============================] - 0s 2ms/step - loss: 0.2568 - accuracy: 0.8987 - val_loss: 0.3342 - val_accuracy: 0.8684\n",
      "Epoch 4/60\n",
      "8/8 [==============================] - 0s 2ms/step - loss: 0.2552 - accuracy: 0.8987 - val_loss: 0.3347 - val_accuracy: 0.8684\n",
      "Epoch 5/60\n",
      "8/8 [==============================] - 0s 2ms/step - loss: 0.2544 - accuracy: 0.8987 - val_loss: 0.3369 - val_accuracy: 0.8684\n",
      "Epoch 6/60\n",
      "8/8 [==============================] - 0s 2ms/step - loss: 0.2541 - accuracy: 0.8987 - val_loss: 0.3377 - val_accuracy: 0.8684\n",
      "Epoch 7/60\n",
      "8/8 [==============================] - 0s 2ms/step - loss: 0.2530 - accuracy: 0.8987 - val_loss: 0.3382 - val_accuracy: 0.8684\n",
      "Epoch 8/60\n",
      "8/8 [==============================] - 0s 2ms/step - loss: 0.2527 - accuracy: 0.8943 - val_loss: 0.3417 - val_accuracy: 0.8684\n",
      "Epoch 9/60\n",
      "8/8 [==============================] - 0s 2ms/step - loss: 0.2519 - accuracy: 0.8899 - val_loss: 0.3394 - val_accuracy: 0.8684\n",
      "Epoch 10/60\n",
      "8/8 [==============================] - 0s 143us/step - loss: 0.2506 - accuracy: 0.8811 - val_loss: 0.3384 - val_accuracy: 0.8684\n",
      "Epoch 11/60\n",
      "8/8 [==============================] - 0s 2ms/step - loss: 0.2495 - accuracy: 0.8811 - val_loss: 0.3394 - val_accuracy: 0.8684\n",
      "Epoch 12/60\n",
      "8/8 [==============================] - 0s 0s/step - loss: 0.2488 - accuracy: 0.8811 - val_loss: 0.3434 - val_accuracy: 0.8684\n",
      "Epoch 13/60\n",
      "8/8 [==============================] - 0s 2ms/step - loss: 0.2476 - accuracy: 0.8943 - val_loss: 0.3479 - val_accuracy: 0.8684\n",
      "Epoch 14/60\n",
      "8/8 [==============================] - 0s 2ms/step - loss: 0.2464 - accuracy: 0.8943 - val_loss: 0.3480 - val_accuracy: 0.8684\n",
      "Epoch 15/60\n",
      "8/8 [==============================] - 0s 2ms/step - loss: 0.2450 - accuracy: 0.8943 - val_loss: 0.3451 - val_accuracy: 0.8684\n",
      "Epoch 16/60\n",
      "8/8 [==============================] - 0s 2ms/step - loss: 0.2445 - accuracy: 0.8855 - val_loss: 0.3428 - val_accuracy: 0.8684\n",
      "Epoch 17/60\n",
      "8/8 [==============================] - 0s 2ms/step - loss: 0.2433 - accuracy: 0.8855 - val_loss: 0.3443 - val_accuracy: 0.8553\n",
      "Epoch 18/60\n",
      "8/8 [==============================] - 0s 2ms/step - loss: 0.2428 - accuracy: 0.8899 - val_loss: 0.3471 - val_accuracy: 0.8553\n",
      "Epoch 19/60\n",
      "8/8 [==============================] - 0s 2ms/step - loss: 0.2425 - accuracy: 0.8899 - val_loss: 0.3466 - val_accuracy: 0.8553\n",
      "Epoch 20/60\n",
      "8/8 [==============================] - 0s 2ms/step - loss: 0.2407 - accuracy: 0.8943 - val_loss: 0.3531 - val_accuracy: 0.8684\n",
      "Epoch 21/60\n",
      "8/8 [==============================] - 0s 2ms/step - loss: 0.2399 - accuracy: 0.8943 - val_loss: 0.3555 - val_accuracy: 0.8684\n",
      "Epoch 22/60\n",
      "8/8 [==============================] - 0s 2ms/step - loss: 0.2395 - accuracy: 0.8987 - val_loss: 0.3511 - val_accuracy: 0.8684\n",
      "Epoch 23/60\n",
      "8/8 [==============================] - 0s 3ms/step - loss: 0.2382 - accuracy: 0.8987 - val_loss: 0.3453 - val_accuracy: 0.8684\n",
      "Epoch 24/60\n",
      "8/8 [==============================] - 0s 2ms/step - loss: 0.2372 - accuracy: 0.8943 - val_loss: 0.3426 - val_accuracy: 0.8684\n",
      "Epoch 25/60\n",
      "8/8 [==============================] - 0s 2ms/step - loss: 0.2367 - accuracy: 0.9031 - val_loss: 0.3389 - val_accuracy: 0.8553\n",
      "Epoch 26/60\n",
      "8/8 [==============================] - 0s 2ms/step - loss: 0.2356 - accuracy: 0.8987 - val_loss: 0.3401 - val_accuracy: 0.8553\n",
      "Epoch 27/60\n",
      "8/8 [==============================] - 0s 2ms/step - loss: 0.2343 - accuracy: 0.8987 - val_loss: 0.3422 - val_accuracy: 0.8553\n",
      "Epoch 28/60\n",
      "8/8 [==============================] - 0s 2ms/step - loss: 0.2335 - accuracy: 0.9031 - val_loss: 0.3426 - val_accuracy: 0.8553\n",
      "Epoch 29/60\n",
      "8/8 [==============================] - 0s 3ms/step - loss: 0.2325 - accuracy: 0.8987 - val_loss: 0.3416 - val_accuracy: 0.8553\n",
      "Epoch 30/60\n",
      "8/8 [==============================] - 0s 2ms/step - loss: 0.2314 - accuracy: 0.9163 - val_loss: 0.3509 - val_accuracy: 0.8684\n",
      "Epoch 31/60\n",
      "8/8 [==============================] - 0s 2ms/step - loss: 0.2314 - accuracy: 0.9163 - val_loss: 0.3509 - val_accuracy: 0.8684\n",
      "Epoch 32/60\n",
      "8/8 [==============================] - 0s 2ms/step - loss: 0.2302 - accuracy: 0.9163 - val_loss: 0.3513 - val_accuracy: 0.8553\n",
      "Epoch 33/60\n",
      "8/8 [==============================] - 0s 2ms/step - loss: 0.2297 - accuracy: 0.9119 - val_loss: 0.3520 - val_accuracy: 0.8553\n",
      "Epoch 34/60\n",
      "8/8 [==============================] - 0s 2ms/step - loss: 0.2284 - accuracy: 0.9119 - val_loss: 0.3534 - val_accuracy: 0.8553\n",
      "Epoch 35/60\n",
      "8/8 [==============================] - 0s 2ms/step - loss: 0.2269 - accuracy: 0.9207 - val_loss: 0.3537 - val_accuracy: 0.8553\n",
      "Epoch 36/60\n",
      "8/8 [==============================] - 0s 2ms/step - loss: 0.2257 - accuracy: 0.9251 - val_loss: 0.3562 - val_accuracy: 0.8684\n",
      "Epoch 37/60\n",
      "8/8 [==============================] - 0s 2ms/step - loss: 0.2253 - accuracy: 0.9251 - val_loss: 0.3577 - val_accuracy: 0.8684\n",
      "Epoch 38/60\n",
      "8/8 [==============================] - 0s 2ms/step - loss: 0.2252 - accuracy: 0.9251 - val_loss: 0.3637 - val_accuracy: 0.8684\n",
      "Epoch 39/60\n",
      "8/8 [==============================] - 0s 2ms/step - loss: 0.2250 - accuracy: 0.9207 - val_loss: 0.3648 - val_accuracy: 0.8816\n",
      "Epoch 40/60\n",
      "8/8 [==============================] - 0s 2ms/step - loss: 0.2235 - accuracy: 0.9295 - val_loss: 0.3601 - val_accuracy: 0.8684\n",
      "Epoch 41/60\n",
      "8/8 [==============================] - 0s 2ms/step - loss: 0.2218 - accuracy: 0.9295 - val_loss: 0.3590 - val_accuracy: 0.8684\n",
      "Epoch 42/60\n",
      "8/8 [==============================] - 0s 0s/step - loss: 0.2210 - accuracy: 0.9295 - val_loss: 0.3529 - val_accuracy: 0.8553\n",
      "Epoch 43/60\n",
      "8/8 [==============================] - 0s 0s/step - loss: 0.2189 - accuracy: 0.9251 - val_loss: 0.3533 - val_accuracy: 0.8553\n",
      "Epoch 44/60\n",
      "8/8 [==============================] - 0s 0s/step - loss: 0.2184 - accuracy: 0.9207 - val_loss: 0.3555 - val_accuracy: 0.8553\n",
      "Epoch 45/60\n",
      "8/8 [==============================] - 0s 0s/step - loss: 0.2172 - accuracy: 0.9207 - val_loss: 0.3541 - val_accuracy: 0.8553\n",
      "Epoch 46/60\n",
      "8/8 [==============================] - 0s 0s/step - loss: 0.2167 - accuracy: 0.9207 - val_loss: 0.3522 - val_accuracy: 0.8553\n",
      "Epoch 47/60\n",
      "8/8 [==============================] - 0s 0s/step - loss: 0.2159 - accuracy: 0.9207 - val_loss: 0.3484 - val_accuracy: 0.8553\n",
      "Epoch 48/60\n",
      "8/8 [==============================] - 0s 814us/step - loss: 0.2150 - accuracy: 0.9207 - val_loss: 0.3464 - val_accuracy: 0.8553\n",
      "Epoch 49/60\n",
      "8/8 [==============================] - 0s 2ms/step - loss: 0.2141 - accuracy: 0.9207 - val_loss: 0.3488 - val_accuracy: 0.8553\n",
      "Epoch 50/60\n",
      "8/8 [==============================] - 0s 2ms/step - loss: 0.2131 - accuracy: 0.9163 - val_loss: 0.3543 - val_accuracy: 0.8553\n",
      "Epoch 51/60\n",
      "8/8 [==============================] - 0s 2ms/step - loss: 0.2116 - accuracy: 0.9163 - val_loss: 0.3535 - val_accuracy: 0.8421\n",
      "Epoch 52/60\n",
      "8/8 [==============================] - 0s 2ms/step - loss: 0.2112 - accuracy: 0.9163 - val_loss: 0.3528 - val_accuracy: 0.8421\n",
      "Epoch 53/60\n",
      "8/8 [==============================] - 0s 2ms/step - loss: 0.2108 - accuracy: 0.9163 - val_loss: 0.3555 - val_accuracy: 0.8421\n",
      "Epoch 54/60\n",
      "8/8 [==============================] - 0s 1ms/step - loss: 0.2096 - accuracy: 0.9163 - val_loss: 0.3569 - val_accuracy: 0.8421\n",
      "Epoch 55/60\n",
      "8/8 [==============================] - 0s 2ms/step - loss: 0.2088 - accuracy: 0.9163 - val_loss: 0.3565 - val_accuracy: 0.8421\n",
      "Epoch 56/60\n",
      "8/8 [==============================] - 0s 2ms/step - loss: 0.2085 - accuracy: 0.9207 - val_loss: 0.3541 - val_accuracy: 0.8553\n",
      "Epoch 57/60\n",
      "8/8 [==============================] - 0s 2ms/step - loss: 0.2077 - accuracy: 0.9207 - val_loss: 0.3537 - val_accuracy: 0.8553\n",
      "Epoch 58/60\n",
      "8/8 [==============================] - 0s 2ms/step - loss: 0.2067 - accuracy: 0.9251 - val_loss: 0.3560 - val_accuracy: 0.8553\n",
      "Epoch 59/60\n",
      "8/8 [==============================] - 0s 2ms/step - loss: 0.2058 - accuracy: 0.9251 - val_loss: 0.3599 - val_accuracy: 0.8553\n",
      "Epoch 60/60\n"
     ]
    },
    {
     "name": "stdout",
     "output_type": "stream",
     "text": [
      "1/8 [==>...........................] - ETA: 0s - loss: 0.2544 - accuracy: 0.8750\b\b\b\b\b\b\b\b\b\b\b\b\b\b\b\b\b\b\b\b\b\b\b\b\b\b\b\b\b\b\b\b\b\b\b\b\b\b\b\b\b\b\b\b\b\b\b\b\b\b\b\b\b\b\b\b\b\b\b\b\b\b\b\b\b\b\b\b\b\b\b\b\b\b\b\b\b\b\b\b\r",
      "8/8 [==============================] - 0s 3ms/step - loss: 0.2046 - accuracy: 0.9251 - val_loss: 0.3620 - val_accuracy: 0.8553\n"
     ]
    }
   ],
   "source": [
    "history = model.fit(X_train, y_train, validation_data=(X_test, y_test), batch_size=None, epochs=60)"
   ]
  },
  {
   "cell_type": "markdown",
   "metadata": {
    "id": "8rOk1tBrkwOo"
   },
   "source": [
    "#### Plot model performance on the validation data (accuracy, recall, and precision)"
   ]
  },
  {
   "cell_type": "code",
   "execution_count": 33,
   "metadata": {},
   "outputs": [],
   "source": [
    "pred = model.predict(X_test)"
   ]
  },
  {
   "cell_type": "code",
   "execution_count": 35,
   "metadata": {},
   "outputs": [],
   "source": [
    "# error pop up \n",
    "cm = confusion_matrix(y_test, pred)"
   ]
  },
  {
   "cell_type": "code",
   "execution_count": 38,
   "metadata": {},
   "outputs": [],
   "source": [
    "disp = ConfusionMatrixDisplay(confusion_matrix(y_test, pred), display_labels=['True', 'Predicted']);\n",
    "disp.plot();"
   ]
  },
  {
   "cell_type": "code",
   "execution_count": 40,
   "metadata": {},
   "outputs": [],
   "source": [
    "print(classification_report(y_test, pred))"
   ]
  },
  {
   "cell_type": "markdown",
   "metadata": {
    "id": "ltQkFibkzAMb"
   },
   "source": [
    "#### Save model"
   ]
  },
  {
   "cell_type": "code",
   "execution_count": 41,
   "metadata": {
    "colab": {
     "base_uri": "https://localhost:8080/",
     "height": 34
    },
    "id": "b4477jxw71mZ",
    "outputId": "f69379ab-9849-42f4-9e03-79e18697c3b7"
   },
   "outputs": [],
   "source": [
    "#Saving the model values\n",
    "pd.DataFrame(pred).to_csv(\"data/model.csv\", index=False)"
   ]
  },
  {
   "cell_type": "markdown",
   "metadata": {
    "id": "wgSH6wUwEDp2"
   },
   "source": [
    "#### Load model"
   ]
  },
  {
   "cell_type": "code",
   "execution_count": 43,
   "metadata": {
    "id": "9DbjapJzd-ks"
   },
   "outputs": [],
   "source": [
    "df_model = pd.read_csv('./data/model.csv')"
   ]
  },
  {
   "cell_type": "markdown",
   "metadata": {
    "id": "fs9fVkzQEGbN"
   },
   "source": [
    "#### Evaluate on test set "
   ]
  },
  {
   "cell_type": "code",
   "execution_count": 45,
   "metadata": {
    "colab": {
     "base_uri": "https://localhost:8080/",
     "height": 125
    },
    "id": "aSaWeerYEDFX",
    "outputId": "686e55e8-dcf5-442c-9167-f0dbc6b4893c"
   },
   "outputs": [],
   "source": [
    "tf_yp_test = model.predict(X_test)\n",
    "\n",
    "tf_yp_test;"
   ]
  },
  {
   "cell_type": "markdown",
   "metadata": {
    "id": "5olEwyc7D_ti"
   },
   "source": [
    "#### X_test predictions"
   ]
  },
  {
   "cell_type": "code",
   "execution_count": 46,
   "metadata": {},
   "outputs": [
    {
     "data": {
      "text/plain": [
       "0.33412632019806293"
      ]
     },
     "execution_count": 46,
     "metadata": {},
     "output_type": "execute_result"
    }
   ],
   "source": [
    "np.sqrt(mean_squared_error(y_test, tf_yp_test))"
   ]
  },
  {
   "cell_type": "code",
   "execution_count": 47,
   "metadata": {
    "id": "w5hEzXcbefof"
   },
   "outputs": [
    {
     "data": {
      "text/plain": [
       "array([[0.37701815],\n",
       "       [0.44517618],\n",
       "       [0.235849  ],\n",
       "       [0.9651015 ],\n",
       "       [0.9157842 ],\n",
       "       [0.08136529],\n",
       "       [0.9767122 ],\n",
       "       [0.97855616],\n",
       "       [0.05470872],\n",
       "       [0.2069307 ],\n",
       "       [0.11060244],\n",
       "       [0.8986444 ],\n",
       "       [0.68864214],\n",
       "       [0.9949038 ],\n",
       "       [0.0081518 ],\n",
       "       [0.99081486],\n",
       "       [0.45526525],\n",
       "       [0.9999212 ],\n",
       "       [0.9891494 ],\n",
       "       [0.97011375],\n",
       "       [0.9887346 ],\n",
       "       [0.04999489],\n",
       "       [0.9603392 ],\n",
       "       [0.69225043],\n",
       "       [0.48866382],\n",
       "       [0.989284  ],\n",
       "       [0.4943941 ],\n",
       "       [0.00809392],\n",
       "       [0.9626577 ],\n",
       "       [0.36332852],\n",
       "       [0.07009003],\n",
       "       [0.97271585],\n",
       "       [0.02273044],\n",
       "       [0.4369608 ],\n",
       "       [0.02737698],\n",
       "       [0.08988747],\n",
       "       [0.99375105],\n",
       "       [0.01776585],\n",
       "       [0.9575529 ],\n",
       "       [0.8055052 ],\n",
       "       [0.9931494 ],\n",
       "       [0.954514  ],\n",
       "       [0.02411273],\n",
       "       [0.28026116],\n",
       "       [0.75933874],\n",
       "       [0.97279215],\n",
       "       [0.08562592],\n",
       "       [0.17226166],\n",
       "       [0.96061194],\n",
       "       [0.40017623],\n",
       "       [0.03667122],\n",
       "       [0.7736348 ],\n",
       "       [0.99943864],\n",
       "       [0.22842035],\n",
       "       [0.93449676],\n",
       "       [0.04672155],\n",
       "       [0.92253923],\n",
       "       [0.99608374],\n",
       "       [0.27923578],\n",
       "       [0.7766634 ],\n",
       "       [0.00435895],\n",
       "       [0.00153899],\n",
       "       [0.99965787],\n",
       "       [0.00825763],\n",
       "       [0.3233949 ],\n",
       "       [0.9253646 ],\n",
       "       [0.99917465],\n",
       "       [0.07124788],\n",
       "       [0.69774956],\n",
       "       [0.9941236 ],\n",
       "       [0.13767964],\n",
       "       [0.06737626],\n",
       "       [0.02648687],\n",
       "       [0.88665783],\n",
       "       [0.9997771 ],\n",
       "       [0.02008635]], dtype=float32)"
      ]
     },
     "execution_count": 47,
     "metadata": {},
     "output_type": "execute_result"
    }
   ],
   "source": [
    "pred = model.predict(X_test)\n",
    "pred"
   ]
  },
  {
   "cell_type": "markdown",
   "metadata": {
    "id": "S4B1DOQOlIpD"
   },
   "source": [
    "#### What do those numbers look like? Let's get rid of that exponential notation and just round the predictions."
   ]
  },
  {
   "cell_type": "code",
   "execution_count": 48,
   "metadata": {
    "id": "WxVEisOYw4Jr"
   },
   "outputs": [],
   "source": [
    "# It is possible to round the number with differnt rounding digit by round(model.predict(X_test),2)"
   ]
  },
  {
   "cell_type": "markdown",
   "metadata": {
    "id": "vzrZM0MTxDl9"
   },
   "source": [
    "#### How is the model performing? \n",
    "Let's look at the confusion matrix using TF."
   ]
  },
  {
   "cell_type": "code",
   "execution_count": 49,
   "metadata": {
    "colab": {
     "base_uri": "https://localhost:8080/",
     "height": 70
    },
    "id": "i-KcKPNNDBdE",
    "outputId": "3b559b90-eb67-4bfc-c929-1baeafe48b76"
   },
   "outputs": [
    {
     "name": "stdout",
     "output_type": "stream",
     "text": [
      "Confusion_matrix:  tf.Tensor(\n",
      "[[41  0]\n",
      " [35  0]], shape=(2, 2), dtype=int32)\n"
     ]
    }
   ],
   "source": [
    "# Evaluating confusion matric\n",
    "res = tf.math.confusion_matrix(y_test, pred)\n",
    " \n",
    "# Printing the result\n",
    "print('Confusion_matrix: ',res)"
   ]
  },
  {
   "cell_type": "markdown",
   "metadata": {
    "id": "_Yk_wAPHwSme"
   },
   "source": [
    "Or just use sklearn's confusion matrix. "
   ]
  },
  {
   "cell_type": "markdown",
   "metadata": {
    "id": "WygQswjBwBb4"
   },
   "source": [
    "### Make a null model"
   ]
  },
  {
   "cell_type": "code",
   "execution_count": 50,
   "metadata": {
    "colab": {
     "base_uri": "https://localhost:8080/",
     "height": 70
    },
    "id": "6-J5CSa-wAt-",
    "outputId": "34c32d3a-c98f-49f8-f6f7-9587a04cbd85"
   },
   "outputs": [
    {
     "name": "stdout",
     "output_type": "stream",
     "text": [
      "Model: \"sequential\"\n",
      "_________________________________________________________________\n",
      "Layer (type)                 Output Shape              Param #   \n",
      "=================================================================\n",
      "dense (Dense)                (None, 17)                204       \n",
      "_________________________________________________________________\n",
      "dense_1 (Dense)              (None, 10)                180       \n",
      "_________________________________________________________________\n",
      "dense_2 (Dense)              (None, 1)                 11        \n",
      "=================================================================\n",
      "Total params: 395\n",
      "Trainable params: 395\n",
      "Non-trainable params: 0\n",
      "_________________________________________________________________\n"
     ]
    }
   ],
   "source": [
    "model.summary()"
   ]
  },
  {
   "cell_type": "markdown",
   "metadata": {
    "id": "aWNUxsZshX71"
   },
   "source": [
    "## Can you make a better model?\n",
    "\n",
    "Change the model architecture and see if you can make a better model. Add nodes, dense layers, and dropout layers."
   ]
  },
  {
   "cell_type": "code",
   "execution_count": 51,
   "metadata": {
    "id": "-vuo0gPswEjU"
   },
   "outputs": [],
   "source": [
    "model = Sequential()\n",
    "model.add(Dense(17, input_dim=n_input, activation='relu'))\n",
    "model.add(Dropout(0.25))\n",
    "model.add(Dense(10, activation='relu'))\n",
    "model.add(Dense(1, activation='sigmoid'))"
   ]
  },
  {
   "cell_type": "code",
   "execution_count": 52,
   "metadata": {},
   "outputs": [],
   "source": [
    "model.compile(loss='mse', optimizer='adam', metrics=['mae'])"
   ]
  },
  {
   "cell_type": "code",
   "execution_count": 53,
   "metadata": {},
   "outputs": [
    {
     "name": "stdout",
     "output_type": "stream",
     "text": [
      "Epoch 1/60\n",
      "8/8 [==============================] - 0s 9ms/step - loss: 0.2479 - mae: 0.4827 - val_loss: 0.2178 - val_mae: 0.4557\n",
      "Epoch 2/60\n",
      "8/8 [==============================] - 0s 2ms/step - loss: 0.2439 - mae: 0.4778 - val_loss: 0.2122 - val_mae: 0.4491\n",
      "Epoch 3/60\n",
      "8/8 [==============================] - 0s 2ms/step - loss: 0.2317 - mae: 0.4677 - val_loss: 0.2075 - val_mae: 0.4437\n",
      "Epoch 4/60\n",
      "8/8 [==============================] - 0s 2ms/step - loss: 0.2237 - mae: 0.4585 - val_loss: 0.2031 - val_mae: 0.4383\n",
      "Epoch 5/60\n",
      "8/8 [==============================] - 0s 2ms/step - loss: 0.2268 - mae: 0.4613 - val_loss: 0.1993 - val_mae: 0.4336\n",
      "Epoch 6/60\n",
      "8/8 [==============================] - 0s 0s/step - loss: 0.2139 - mae: 0.4471 - val_loss: 0.1959 - val_mae: 0.4291\n",
      "Epoch 7/60\n",
      "8/8 [==============================] - 0s 2ms/step - loss: 0.2166 - mae: 0.4472 - val_loss: 0.1927 - val_mae: 0.4249\n",
      "Epoch 8/60\n",
      "8/8 [==============================] - 0s 2ms/step - loss: 0.2123 - mae: 0.4416 - val_loss: 0.1893 - val_mae: 0.4202\n",
      "Epoch 9/60\n",
      "8/8 [==============================] - 0s 2ms/step - loss: 0.2108 - mae: 0.4419 - val_loss: 0.1859 - val_mae: 0.4152\n",
      "Epoch 10/60\n",
      "8/8 [==============================] - 0s 2ms/step - loss: 0.2011 - mae: 0.4307 - val_loss: 0.1825 - val_mae: 0.4101\n",
      "Epoch 11/60\n",
      "8/8 [==============================] - 0s 2ms/step - loss: 0.2019 - mae: 0.4302 - val_loss: 0.1791 - val_mae: 0.4048\n",
      "Epoch 12/60\n",
      "8/8 [==============================] - 0s 0s/step - loss: 0.2079 - mae: 0.4356 - val_loss: 0.1757 - val_mae: 0.3997\n",
      "Epoch 13/60\n",
      "8/8 [==============================] - 0s 0s/step - loss: 0.1977 - mae: 0.4207 - val_loss: 0.1725 - val_mae: 0.3949\n",
      "Epoch 14/60\n",
      "8/8 [==============================] - ETA: 0s - loss: 0.2141 - mae: 0.435 - 0s 0s/step - loss: 0.1969 - mae: 0.4200 - val_loss: 0.1691 - val_mae: 0.3892\n",
      "Epoch 15/60\n",
      "8/8 [==============================] - 0s 2ms/step - loss: 0.1883 - mae: 0.4095 - val_loss: 0.1655 - val_mae: 0.3829\n",
      "Epoch 16/60\n",
      "8/8 [==============================] - 0s 2ms/step - loss: 0.1880 - mae: 0.4039 - val_loss: 0.1625 - val_mae: 0.3776\n",
      "Epoch 17/60\n",
      "8/8 [==============================] - 0s 2ms/step - loss: 0.1924 - mae: 0.4104 - val_loss: 0.1594 - val_mae: 0.3718\n",
      "Epoch 18/60\n",
      "8/8 [==============================] - 0s 814us/step - loss: 0.1915 - mae: 0.4055 - val_loss: 0.1563 - val_mae: 0.3663\n",
      "Epoch 19/60\n",
      "8/8 [==============================] - 0s 2ms/step - loss: 0.1777 - mae: 0.3865 - val_loss: 0.1535 - val_mae: 0.3611\n",
      "Epoch 20/60\n",
      "8/8 [==============================] - 0s 2ms/step - loss: 0.1775 - mae: 0.3826 - val_loss: 0.1506 - val_mae: 0.3551\n",
      "Epoch 21/60\n",
      "8/8 [==============================] - 0s 2ms/step - loss: 0.1679 - mae: 0.3707 - val_loss: 0.1477 - val_mae: 0.3493\n",
      "Epoch 22/60\n",
      "8/8 [==============================] - 0s 2ms/step - loss: 0.1711 - mae: 0.3759 - val_loss: 0.1453 - val_mae: 0.3442\n",
      "Epoch 23/60\n",
      "8/8 [==============================] - 0s 2ms/step - loss: 0.1676 - mae: 0.3653 - val_loss: 0.1427 - val_mae: 0.3386\n",
      "Epoch 24/60\n",
      "8/8 [==============================] - 0s 814us/step - loss: 0.1719 - mae: 0.3705 - val_loss: 0.1404 - val_mae: 0.3330\n",
      "Epoch 25/60\n",
      "8/8 [==============================] - 0s 2ms/step - loss: 0.1702 - mae: 0.3651 - val_loss: 0.1383 - val_mae: 0.3280\n",
      "Epoch 26/60\n",
      "8/8 [==============================] - 0s 2ms/step - loss: 0.1633 - mae: 0.3572 - val_loss: 0.1363 - val_mae: 0.3243\n",
      "Epoch 27/60\n",
      "8/8 [==============================] - 0s 2ms/step - loss: 0.1640 - mae: 0.3570 - val_loss: 0.1344 - val_mae: 0.3197\n",
      "Epoch 28/60\n",
      "8/8 [==============================] - 0s 2ms/step - loss: 0.1551 - mae: 0.3411 - val_loss: 0.1334 - val_mae: 0.3167\n",
      "Epoch 29/60\n",
      "8/8 [==============================] - 0s 2ms/step - loss: 0.1574 - mae: 0.3398 - val_loss: 0.1320 - val_mae: 0.3130\n",
      "Epoch 30/60\n",
      "8/8 [==============================] - 0s 3ms/step - loss: 0.1568 - mae: 0.3363 - val_loss: 0.1303 - val_mae: 0.3091\n",
      "Epoch 31/60\n",
      "8/8 [==============================] - 0s 2ms/step - loss: 0.1615 - mae: 0.3422 - val_loss: 0.1286 - val_mae: 0.3048\n",
      "Epoch 32/60\n",
      "8/8 [==============================] - 0s 2ms/step - loss: 0.1555 - mae: 0.3301 - val_loss: 0.1271 - val_mae: 0.3010\n",
      "Epoch 33/60\n",
      "8/8 [==============================] - 0s 2ms/step - loss: 0.1494 - mae: 0.3268 - val_loss: 0.1262 - val_mae: 0.2982\n",
      "Epoch 34/60\n",
      "8/8 [==============================] - 0s 2ms/step - loss: 0.1567 - mae: 0.3289 - val_loss: 0.1253 - val_mae: 0.2955\n",
      "Epoch 35/60\n",
      "8/8 [==============================] - 0s 2ms/step - loss: 0.1585 - mae: 0.3324 - val_loss: 0.1250 - val_mae: 0.2936\n",
      "Epoch 36/60\n",
      "8/8 [==============================] - 0s 814us/step - loss: 0.1585 - mae: 0.3253 - val_loss: 0.1244 - val_mae: 0.2920\n",
      "Epoch 37/60\n",
      "8/8 [==============================] - 0s 2ms/step - loss: 0.1529 - mae: 0.3197 - val_loss: 0.1235 - val_mae: 0.2892\n",
      "Epoch 38/60\n",
      "8/8 [==============================] - 0s 2ms/step - loss: 0.1475 - mae: 0.3181 - val_loss: 0.1228 - val_mae: 0.2874\n",
      "Epoch 39/60\n",
      "8/8 [==============================] - 0s 2ms/step - loss: 0.1463 - mae: 0.3115 - val_loss: 0.1223 - val_mae: 0.2857\n",
      "Epoch 40/60\n",
      "8/8 [==============================] - 0s 2ms/step - loss: 0.1493 - mae: 0.3126 - val_loss: 0.1221 - val_mae: 0.2840\n",
      "Epoch 41/60\n",
      "8/8 [==============================] - 0s 2ms/step - loss: 0.1494 - mae: 0.3166 - val_loss: 0.1214 - val_mae: 0.2816\n",
      "Epoch 42/60\n",
      "8/8 [==============================] - 0s 3ms/step - loss: 0.1485 - mae: 0.3108 - val_loss: 0.1205 - val_mae: 0.2782\n",
      "Epoch 43/60\n",
      "8/8 [==============================] - 0s 2ms/step - loss: 0.1557 - mae: 0.3161 - val_loss: 0.1198 - val_mae: 0.2760\n",
      "Epoch 44/60\n",
      "8/8 [==============================] - 0s 2ms/step - loss: 0.1446 - mae: 0.3019 - val_loss: 0.1191 - val_mae: 0.2740\n",
      "Epoch 45/60\n",
      "8/8 [==============================] - 0s 2ms/step - loss: 0.1464 - mae: 0.3036 - val_loss: 0.1181 - val_mae: 0.2717\n",
      "Epoch 46/60\n",
      "8/8 [==============================] - 0s 2ms/step - loss: 0.1486 - mae: 0.3111 - val_loss: 0.1170 - val_mae: 0.2686\n",
      "Epoch 47/60\n",
      "8/8 [==============================] - 0s 2ms/step - loss: 0.1412 - mae: 0.2998 - val_loss: 0.1165 - val_mae: 0.2665\n",
      "Epoch 48/60\n",
      "8/8 [==============================] - 0s 3ms/step - loss: 0.1412 - mae: 0.2990 - val_loss: 0.1159 - val_mae: 0.2641\n",
      "Epoch 49/60\n",
      "8/8 [==============================] - 0s 2ms/step - loss: 0.1402 - mae: 0.2934 - val_loss: 0.1152 - val_mae: 0.2617\n",
      "Epoch 50/60\n",
      "8/8 [==============================] - 0s 2ms/step - loss: 0.1429 - mae: 0.2921 - val_loss: 0.1145 - val_mae: 0.2590\n",
      "Epoch 51/60\n",
      "8/8 [==============================] - 0s 2ms/step - loss: 0.1414 - mae: 0.2911 - val_loss: 0.1135 - val_mae: 0.2565\n",
      "Epoch 52/60\n",
      "8/8 [==============================] - 0s 2ms/step - loss: 0.1412 - mae: 0.2908 - val_loss: 0.1126 - val_mae: 0.2541\n",
      "Epoch 53/60\n",
      "8/8 [==============================] - 0s 2ms/step - loss: 0.1370 - mae: 0.2845 - val_loss: 0.1118 - val_mae: 0.2519\n",
      "Epoch 54/60\n",
      "8/8 [==============================] - 0s 3ms/step - loss: 0.1336 - mae: 0.2796 - val_loss: 0.1114 - val_mae: 0.2503\n",
      "Epoch 55/60\n",
      "8/8 [==============================] - 0s 2ms/step - loss: 0.1441 - mae: 0.2876 - val_loss: 0.1111 - val_mae: 0.2489\n",
      "Epoch 56/60\n",
      "8/8 [==============================] - 0s 2ms/step - loss: 0.1365 - mae: 0.2800 - val_loss: 0.1108 - val_mae: 0.2475\n",
      "Epoch 57/60\n",
      "8/8 [==============================] - 0s 2ms/step - loss: 0.1375 - mae: 0.2812 - val_loss: 0.1109 - val_mae: 0.2467\n",
      "Epoch 58/60\n",
      "8/8 [==============================] - 0s 2ms/step - loss: 0.1422 - mae: 0.2810 - val_loss: 0.1104 - val_mae: 0.2458\n",
      "Epoch 59/60\n",
      "8/8 [==============================] - 0s 2ms/step - loss: 0.1428 - mae: 0.2841 - val_loss: 0.1101 - val_mae: 0.2452\n",
      "Epoch 60/60\n",
      "8/8 [==============================] - 0s 3ms/step - loss: 0.1439 - mae: 0.2809 - val_loss: 0.1098 - val_mae: 0.2451\n"
     ]
    }
   ],
   "source": [
    "history = model.fit(X_train, y_train, validation_data=(X_test, y_test), batch_size=None, epochs=60)"
   ]
  },
  {
   "cell_type": "code",
   "execution_count": 54,
   "metadata": {},
   "outputs": [],
   "source": [
    "best_model = model.predict(X_test)\n",
    "best_model;"
   ]
  },
  {
   "cell_type": "markdown",
   "metadata": {
    "id": "P2g8fNYPhe5t"
   },
   "source": [
    "#### Save your best model. \n"
   ]
  },
  {
   "cell_type": "code",
   "execution_count": 55,
   "metadata": {},
   "outputs": [],
   "source": [
    "#Saving the best predicted model values\n",
    "pd.DataFrame(pred).to_csv(\"data/best_model.csv\", index=False)"
   ]
  },
  {
   "cell_type": "markdown",
   "metadata": {
    "id": "8Y2AqHwEh4A_"
   },
   "source": [
    "#### Compare with other algorithms\n",
    "Compare your best neural net model to a scikit-learn LogisticRegression model. Also try a GradientBoostingClassifier."
   ]
  },
  {
   "cell_type": "markdown",
   "metadata": {
    "id": "HtoS8JaYyWOM"
   },
   "source": [
    "#### Scale/Standardize for Logistic Regression\n"
   ]
  },
  {
   "cell_type": "code",
   "execution_count": 56,
   "metadata": {
    "id": "A5_RtKAkuN4l"
   },
   "outputs": [],
   "source": [
    "# The data is already standared above \n",
    "from sklearn.linear_model import LogisticRegression\n",
    "X_train, X_test, y_train, y_test = train_test_split(X, y, random_state=42, stratify=y, test_size=0.3)"
   ]
  },
  {
   "cell_type": "markdown",
   "metadata": {
    "id": "sWIVhO5tyaEt"
   },
   "source": [
    "#### Logistic Regression"
   ]
  },
  {
   "cell_type": "code",
   "execution_count": 57,
   "metadata": {
    "colab": {
     "base_uri": "https://localhost:8080/",
     "height": 34
    },
    "id": "jtSp1DXxusim",
    "outputId": "239139f6-71e3-4f92-84fa-f6021cf39c4b"
   },
   "outputs": [],
   "source": [
    "model = LogisticRegression()"
   ]
  },
  {
   "cell_type": "code",
   "execution_count": 58,
   "metadata": {
    "colab": {
     "base_uri": "https://localhost:8080/",
     "height": 34
    },
    "id": "yj-0NL51xEU8",
    "outputId": "e5f15037-5728-4f3b-8af1-3ed0f179e27b"
   },
   "outputs": [
    {
     "name": "stderr",
     "output_type": "stream",
     "text": [
      "C:\\ProgramData\\Anaconda3\\lib\\site-packages\\sklearn\\linear_model\\_logistic.py:763: ConvergenceWarning: lbfgs failed to converge (status=1):\n",
      "STOP: TOTAL NO. of ITERATIONS REACHED LIMIT.\n",
      "\n",
      "Increase the number of iterations (max_iter) or scale the data as shown in:\n",
      "    https://scikit-learn.org/stable/modules/preprocessing.html\n",
      "Please also refer to the documentation for alternative solver options:\n",
      "    https://scikit-learn.org/stable/modules/linear_model.html#logistic-regression\n",
      "  n_iter_i = _check_optimize_result(\n"
     ]
    },
    {
     "data": {
      "text/plain": [
       "LogisticRegression()"
      ]
     },
     "execution_count": 58,
     "metadata": {},
     "output_type": "execute_result"
    }
   ],
   "source": [
    "model.fit(X_train, y_train)"
   ]
  },
  {
   "cell_type": "code",
   "execution_count": 59,
   "metadata": {
    "colab": {
     "base_uri": "https://localhost:8080/",
     "height": 34
    },
    "id": "De4E9nPhzDW0",
    "outputId": "e717be52-8423-4840-fdc1-d81f692f6a77",
    "scrolled": true
   },
   "outputs": [
    {
     "data": {
      "text/plain": [
       "0.8131868131868132"
      ]
     },
     "execution_count": 59,
     "metadata": {},
     "output_type": "execute_result"
    }
   ],
   "source": [
    "model.score(X_test, y_test)"
   ]
  },
  {
   "cell_type": "code",
   "execution_count": 60,
   "metadata": {},
   "outputs": [
    {
     "data": {
      "text/plain": [
       "0.8160377358490566"
      ]
     },
     "execution_count": 60,
     "metadata": {},
     "output_type": "execute_result"
    }
   ],
   "source": [
    "model.score(X_train, y_train)"
   ]
  },
  {
   "cell_type": "markdown",
   "metadata": {
    "id": "gp1fbbJXzDCC"
   },
   "source": [
    "#### Evaluate performance on metrics other than accuracy"
   ]
  },
  {
   "cell_type": "code",
   "execution_count": 61,
   "metadata": {
    "colab": {
     "base_uri": "https://localhost:8080/",
     "height": 34
    },
    "id": "83EvEGrCzNPZ",
    "outputId": "7ba5901d-0815-4b10-e573-2c9ecc209896"
   },
   "outputs": [],
   "source": [
    "predicted = model.predict(X_test)"
   ]
  },
  {
   "cell_type": "code",
   "execution_count": 62,
   "metadata": {
    "colab": {
     "base_uri": "https://localhost:8080/",
     "height": 34
    },
    "id": "dY3UfHTJ03vs",
    "outputId": "7951b49a-e8a6-4508-f7aa-6189b4382465"
   },
   "outputs": [
    {
     "data": {
      "text/plain": [
       "array([[43,  6],\n",
       "       [11, 31]], dtype=int64)"
      ]
     },
     "execution_count": 62,
     "metadata": {},
     "output_type": "execute_result"
    }
   ],
   "source": [
    "from sklearn.metrics import confusion_matrix\n",
    "cm = confusion_matrix(y_test, predicted)\n",
    "cm"
   ]
  },
  {
   "cell_type": "code",
   "execution_count": 63,
   "metadata": {},
   "outputs": [
    {
     "data": {
      "text/plain": [
       "Text(69.0, 0.5, 'Truth')"
      ]
     },
     "execution_count": 63,
     "metadata": {},
     "output_type": "execute_result"
    },
    {
     "data": {
      "image/png": "[encoded data removed]",
      "text/plain": [
       "<Figure size 720x504 with 2 Axes>"
      ]
     },
     "metadata": {
      "needs_background": "light"
     },
     "output_type": "display_data"
    }
   ],
   "source": [
    "import seaborn as sn\n",
    "plt.figure(figsize = (10,7))\n",
    "sn.heatmap(cm, annot=True)\n",
    "plt.xlabel('Predicted')\n",
    "plt.ylabel('Truth')"
   ]
  },
  {
   "cell_type": "markdown",
   "metadata": {
    "id": "E04fXBHexQdX"
   },
   "source": [
    "### GradientBoosting"
   ]
  },
  {
   "cell_type": "code",
   "execution_count": 64,
   "metadata": {
    "colab": {
     "base_uri": "https://localhost:8080/",
     "height": 34
    },
    "id": "gSZYH3XyuXRe",
    "outputId": "06394eb3-0489-4dc4-99b4-16ac5c5f3cec"
   },
   "outputs": [
    {
     "data": {
      "text/plain": [
       "GradientBoostingClassifier()"
      ]
     },
     "execution_count": 64,
     "metadata": {},
     "output_type": "execute_result"
    }
   ],
   "source": [
    "gcb =GradientBoostingClassifier()\n",
    "gcb.fit(X_train, y_train)"
   ]
  },
  {
   "cell_type": "code",
   "execution_count": 65,
   "metadata": {
    "colab": {
     "base_uri": "https://localhost:8080/",
     "height": 87
    },
    "id": "fO5py5Xvyqon",
    "outputId": "94d443d2-2e5b-4967-e5c1-91d1a984e483"
   },
   "outputs": [
    {
     "data": {
      "text/plain": [
       "0.7312292358803987"
      ]
     },
     "execution_count": 65,
     "metadata": {},
     "output_type": "execute_result"
    }
   ],
   "source": [
    "cross_val_score(gcb, X_train, y_train, cv = 5).mean()"
   ]
  },
  {
   "cell_type": "code",
   "execution_count": 66,
   "metadata": {
    "colab": {
     "base_uri": "https://localhost:8080/",
     "height": 34
    },
    "id": "kHMYGfyDvMcM",
    "outputId": "5ec643c5-12b9-40aa-ba05-a12fe76c12c7"
   },
   "outputs": [
    {
     "data": {
      "text/plain": [
       "0.9952830188679245"
      ]
     },
     "execution_count": 66,
     "metadata": {},
     "output_type": "execute_result"
    }
   ],
   "source": [
    "gcb.score(X_train, y_train)"
   ]
  },
  {
   "cell_type": "code",
   "execution_count": 67,
   "metadata": {},
   "outputs": [
    {
     "data": {
      "text/plain": [
       "0.8681318681318682"
      ]
     },
     "execution_count": 67,
     "metadata": {},
     "output_type": "execute_result"
    }
   ],
   "source": [
    "gcb.score(X_test, y_test)"
   ]
  },
  {
   "cell_type": "markdown",
   "metadata": {
    "id": "nojEwxvjy4f-"
   },
   "source": [
    "#### Evaluate performance on metrics other than accuracy"
   ]
  },
  {
   "cell_type": "code",
   "execution_count": 68,
   "metadata": {
    "colab": {
     "base_uri": "https://localhost:8080/",
     "height": 34
    },
    "id": "Gl-9aQxZxiKg",
    "outputId": "33cff554-2999-4d4d-92ac-c541fed07780"
   },
   "outputs": [],
   "source": [
    "pred =gcb.predict(X_test)"
   ]
  },
  {
   "cell_type": "code",
   "execution_count": 69,
   "metadata": {
    "colab": {
     "base_uri": "https://localhost:8080/",
     "height": 34
    },
    "id": "eRNkAj6jy2cY",
    "outputId": "39c8de0e-ba3e-428d-f638-4a400cbe6ea7"
   },
   "outputs": [
    {
     "data": {
      "text/plain": [
       "0.8681318681318682"
      ]
     },
     "execution_count": 69,
     "metadata": {},
     "output_type": "execute_result"
    }
   ],
   "source": [
    "ac=accuracy_score(y_test, pred)\n",
    "ac"
   ]
  },
  {
   "cell_type": "code",
   "execution_count": 70,
   "metadata": {
    "colab": {
     "base_uri": "https://localhost:8080/",
     "height": 34
    },
    "id": "gikwEMzMy7eD",
    "outputId": "af8c0188-c23c-4e27-947e-f070ec9b807d"
   },
   "outputs": [
    {
     "data": {
      "text/plain": [
       "array([[44,  5],\n",
       "       [ 7, 35]], dtype=int64)"
      ]
     },
     "execution_count": 70,
     "metadata": {},
     "output_type": "execute_result"
    }
   ],
   "source": [
    "from sklearn.metrics import confusion_matrix\n",
    "cm= confusion_matrix(y_test, pred)\n",
    "cm"
   ]
  },
  {
   "cell_type": "code",
   "execution_count": 71,
   "metadata": {
    "colab": {
     "base_uri": "https://localhost:8080/",
     "height": 34
    },
    "id": "BtXTZ9Zo0-xn",
    "outputId": "b5673f9d-0d22-44c6-bcd0-8eeb3ee50bdc"
   },
   "outputs": [
    {
     "data": {
      "text/plain": [
       "<AxesSubplot:>"
      ]
     },
     "execution_count": 71,
     "metadata": {},
     "output_type": "execute_result"
    },
    {
     "data": {
      "image/png": "[encoded data removed]",
      "text/plain": [
       "<Figure size 432x288 with 2 Axes>"
      ]
     },
     "metadata": {
      "needs_background": "light"
     },
     "output_type": "display_data"
    }
   ],
   "source": [
    "cm_matrix =pd.DataFrame(data=cm, columns= ['Actual Positive', 'Actual Negative'], index = ['Predict Positive', 'Predict Negative'])\n",
    "sns.heatmap(cm_matrix, annot = True, fmt= 'd', cmap='YlGnBu')"
   ]
  },
  {
   "cell_type": "markdown",
   "metadata": {
    "id": "i1m6ZZ5UiKBX"
   },
   "source": [
    "#### Which evaluation metric(s) are best to use in this problem? and What model do you recommend?"
   ]
  },
  {
   "cell_type": "markdown",
   "metadata": {
    "id": "xEBF6anpz9ta"
   },
   "source": [
    "Logistic regression is better for this problem since the model perform about 81% accuracy without any overfitting. I recommend to use Logistic regression for this problem."
   ]
  },
  {
   "cell_type": "code",
   "execution_count": 72,
   "metadata": {},
   "outputs": [
    {
     "data": {
      "text/plain": [
       "'C:\\\\Users\\\\SolAti\\\\Documents\\\\GA-Data\\\\DSI\\\\Labs-assignments\\\\week8\\\\Lab8\\\\8.01-lab-neural-net-classification'"
      ]
     },
     "execution_count": 72,
     "metadata": {},
     "output_type": "execute_result"
    }
   ],
   "source": [
    "%pwd"
   ]
  },
  {
   "cell_type": "code",
   "execution_count": null,
   "metadata": {},
   "outputs": [],
   "source": []
  }
 ],
 "metadata": {
  "accelerator": "TPU",
  "colab": {
   "collapsed_sections": [],
   "name": "7.01-lab-nn-classification-solution.ipynb",
   "provenance": []
  },
  "kernelspec": {
   "display_name": "Python 3",
   "language": "python",
   "name": "python3"
  },
  "language_info": {
   "codemirror_mode": {
    "name": "ipython",
    "version": 3
   },
   "file_extension": ".py",
   "mimetype": "text/x-python",
   "name": "python",
   "nbconvert_exporter": "python",
   "pygments_lexer": "ipython3",
   "version": "3.8.8"
  }
 },
 "nbformat": 4,
 "nbformat_minor": 4
}
