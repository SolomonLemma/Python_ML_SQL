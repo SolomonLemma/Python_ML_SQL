{
 "cells": [
  {
   "cell_type": "markdown",
   "metadata": {},
   "source": [
    "# Bayesian Statistics With Baseball Data: Priors and Posteriors\n",
    "\n",
    "\n",
    "Let’s review the general set up for Bayesian modeling. We have:\n",
    "\n",
    "### $$P\\left(\\text{model}|\\text{data}\\right) = \\frac{P\\left(\\text{data}|\\text{model}\\right)P\\left(\\text{model}\\right)}{P(\\text{data})} $$\n",
    "\n",
    "This is the diachronic interpretation of Bayes' theorem.\n",
    "\n",
    "It can also be written as:\n",
    "\n",
    "### $$\\text{posterior} \\propto \\text{likelihood} \\times \\text{prior}$$\n",
    "\n",
    "Here, the posterior is an update of our prior belief given the data observed."
   ]
  },
  {
   "cell_type": "code",
   "execution_count": 2,
   "metadata": {},
   "outputs": [],
   "source": [
    "# Imports the libraries\n",
    "\n",
    "import matplotlib.pyplot as plt\n",
    "import numpy as np\n",
    "import pandas as pd\n",
    "import seaborn as sns\n",
    "import scipy.stats as stats\n",
    "import pymc3 as pm\n",
    "from scipy.stats import beta\n"
   ]
  },
  {
   "cell_type": "code",
   "execution_count": 3,
   "metadata": {},
   "outputs": [
    {
     "data": {
      "text/html": [
       "<div>\n",
       "<style scoped>\n",
       "    .dataframe tbody tr th:only-of-type {\n",
       "        vertical-align: middle;\n",
       "    }\n",
       "\n",
       "    .dataframe tbody tr th {\n",
       "        vertical-align: top;\n",
       "    }\n",
       "\n",
       "    .dataframe thead th {\n",
       "        text-align: right;\n",
       "    }\n",
       "</style>\n",
       "<table border=\"1\" class=\"dataframe\">\n",
       "  <thead>\n",
       "    <tr style=\"text-align: right;\">\n",
       "      <th></th>\n",
       "      <th>name</th>\n",
       "      <th>hits</th>\n",
       "      <th>at_bat</th>\n",
       "      <th>average</th>\n",
       "    </tr>\n",
       "  </thead>\n",
       "  <tbody>\n",
       "    <tr>\n",
       "      <th>0</th>\n",
       "      <td>Hank Aaron</td>\n",
       "      <td>3771</td>\n",
       "      <td>12364</td>\n",
       "      <td>0.304998</td>\n",
       "    </tr>\n",
       "    <tr>\n",
       "      <th>1</th>\n",
       "      <td>Tommie Aaron</td>\n",
       "      <td>216</td>\n",
       "      <td>944</td>\n",
       "      <td>0.228814</td>\n",
       "    </tr>\n",
       "    <tr>\n",
       "      <th>2</th>\n",
       "      <td>Andy Abad</td>\n",
       "      <td>2</td>\n",
       "      <td>21</td>\n",
       "      <td>0.095238</td>\n",
       "    </tr>\n",
       "    <tr>\n",
       "      <th>3</th>\n",
       "      <td>John Abadie</td>\n",
       "      <td>11</td>\n",
       "      <td>49</td>\n",
       "      <td>0.224490</td>\n",
       "    </tr>\n",
       "    <tr>\n",
       "      <th>4</th>\n",
       "      <td>Ed Abbaticchio</td>\n",
       "      <td>772</td>\n",
       "      <td>3044</td>\n",
       "      <td>0.253614</td>\n",
       "    </tr>\n",
       "  </tbody>\n",
       "</table>\n",
       "</div>"
      ],
      "text/plain": [
       "             name  hits  at_bat   average\n",
       "0      Hank Aaron  3771   12364  0.304998\n",
       "1    Tommie Aaron   216     944  0.228814\n",
       "2       Andy Abad     2      21  0.095238\n",
       "3     John Abadie    11      49  0.224490\n",
       "4  Ed Abbaticchio   772    3044  0.253614"
      ]
     },
     "execution_count": 3,
     "metadata": {},
     "output_type": "execute_result"
    }
   ],
   "source": [
    "# Load the data\n",
    "df = pd.read_csv('./data/career_hits.csv')\n",
    "df.head()"
   ]
  },
  {
   "cell_type": "markdown",
   "metadata": {},
   "source": [
    "### 1) Try to find the top and bottom three hitters according to their average.\n",
    "\n",
    "What is wrong with using the average to find the three best and worst hitters?"
   ]
  },
  {
   "cell_type": "code",
   "execution_count": 4,
   "metadata": {
    "scrolled": true
   },
   "outputs": [
    {
     "data": {
      "text/html": [
       "<div>\n",
       "<style scoped>\n",
       "    .dataframe tbody tr th:only-of-type {\n",
       "        vertical-align: middle;\n",
       "    }\n",
       "\n",
       "    .dataframe tbody tr th {\n",
       "        vertical-align: top;\n",
       "    }\n",
       "\n",
       "    .dataframe thead th {\n",
       "        text-align: right;\n",
       "    }\n",
       "</style>\n",
       "<table border=\"1\" class=\"dataframe\">\n",
       "  <thead>\n",
       "    <tr style=\"text-align: right;\">\n",
       "      <th></th>\n",
       "      <th>name</th>\n",
       "      <th>hits</th>\n",
       "      <th>at_bat</th>\n",
       "      <th>average</th>\n",
       "    </tr>\n",
       "  </thead>\n",
       "  <tbody>\n",
       "    <tr>\n",
       "      <th>5853</th>\n",
       "      <td>John Mohardt</td>\n",
       "      <td>1</td>\n",
       "      <td>1</td>\n",
       "      <td>1.0</td>\n",
       "    </tr>\n",
       "    <tr>\n",
       "      <th>9303</th>\n",
       "      <td>Al Wright</td>\n",
       "      <td>1</td>\n",
       "      <td>1</td>\n",
       "      <td>1.0</td>\n",
       "    </tr>\n",
       "    <tr>\n",
       "      <th>359</th>\n",
       "      <td>Jeff Banister</td>\n",
       "      <td>1</td>\n",
       "      <td>1</td>\n",
       "      <td>1.0</td>\n",
       "    </tr>\n",
       "  </tbody>\n",
       "</table>\n",
       "</div>"
      ],
      "text/plain": [
       "               name  hits  at_bat  average\n",
       "5853   John Mohardt     1       1      1.0\n",
       "9303      Al Wright     1       1      1.0\n",
       "359   Jeff Banister     1       1      1.0"
      ]
     },
     "execution_count": 4,
     "metadata": {},
     "output_type": "execute_result"
    }
   ],
   "source": [
    "# Find the top 3 batting averages\n",
    "df.sort_values('average', ascending=False)[:3]"
   ]
  },
  {
   "cell_type": "code",
   "execution_count": 5,
   "metadata": {},
   "outputs": [
    {
     "data": {
      "text/html": [
       "<div>\n",
       "<style scoped>\n",
       "    .dataframe tbody tr th:only-of-type {\n",
       "        vertical-align: middle;\n",
       "    }\n",
       "\n",
       "    .dataframe tbody tr th {\n",
       "        vertical-align: top;\n",
       "    }\n",
       "\n",
       "    .dataframe thead th {\n",
       "        text-align: right;\n",
       "    }\n",
       "</style>\n",
       "<table border=\"1\" class=\"dataframe\">\n",
       "  <thead>\n",
       "    <tr style=\"text-align: right;\">\n",
       "      <th></th>\n",
       "      <th>name</th>\n",
       "      <th>hits</th>\n",
       "      <th>at_bat</th>\n",
       "      <th>average</th>\n",
       "    </tr>\n",
       "  </thead>\n",
       "  <tbody>\n",
       "    <tr>\n",
       "      <th>1494</th>\n",
       "      <td>Larry Ciaffone</td>\n",
       "      <td>0</td>\n",
       "      <td>5</td>\n",
       "      <td>0.0</td>\n",
       "    </tr>\n",
       "    <tr>\n",
       "      <th>7303</th>\n",
       "      <td>Jay Rogers</td>\n",
       "      <td>0</td>\n",
       "      <td>8</td>\n",
       "      <td>0.0</td>\n",
       "    </tr>\n",
       "    <tr>\n",
       "      <th>2552</th>\n",
       "      <td>Ferd Eunick</td>\n",
       "      <td>0</td>\n",
       "      <td>2</td>\n",
       "      <td>0.0</td>\n",
       "    </tr>\n",
       "  </tbody>\n",
       "</table>\n",
       "</div>"
      ],
      "text/plain": [
       "                name  hits  at_bat  average\n",
       "1494  Larry Ciaffone     0       5      0.0\n",
       "7303      Jay Rogers     0       8      0.0\n",
       "2552     Ferd Eunick     0       2      0.0"
      ]
     },
     "execution_count": 5,
     "metadata": {},
     "output_type": "execute_result"
    }
   ],
   "source": [
    "# Find the bottom 3 batting averages with descending order of the DataFrame \n",
    "df.sort_values('average')[:3]"
   ]
  },
  {
   "cell_type": "markdown",
   "metadata": {},
   "source": [
    "### 2) Set up a prior distribution to represent our belief about batting average.\n",
    "\n",
    "[After doing a quick search online](https://www.google.com/search?q=average+batting+average+for+players+mlb&oq=average+batting+average+for+players+mlb&aqs=chrome..69i57j0.7373j0j4&sourceid=chrome&ie=UTF-8), it looks like the overall batting average for MLB baseball players is around 0.260 (not up-to-date, but we'll use 0.260 for the lab).\n",
    "\n",
    "Let's make it simple and say that our prior belief is that, out of 100 at-bats, we’ve seen 26 hits. Set up a beta distribution with `alpha=26` and `beta=74` using a function you can import from `scipy.stats`. Plot it.\n",
    "\n",
    "**Take a look at the beta distribution's mean and variance to justify to yourself that these hyperparamters make sense!**\n",
    "\n",
    "This is our distribution of beliefs on the batting average (probability of hitting while at bat) for MLB players."
   ]
  },
  {
   "cell_type": "code",
   "execution_count": 6,
   "metadata": {},
   "outputs": [
    {
     "name": "stdout",
     "output_type": "stream",
     "text": [
      "1280.1250397709196 3828140.9810753474\n"
     ]
    }
   ],
   "source": [
    "# Beta prior with mean and variance calculated by\n",
    "# mean = alpha/(alpha + beta) and variance = alpha* beta/((alph+beta)^2)*(alpha + beta +1). The other methods we can use \n",
    "# mean and variance is calculated based on pymc3 besides the use of alpha and beta formula.\n",
    "prior_mean = df.at_bat.mean()\n",
    "prior_std = df.at_bat.var()\n",
    "print (prior_mean, prior_std)"
   ]
  },
  {
   "cell_type": "code",
   "execution_count": 7,
   "metadata": {},
   "outputs": [
    {
     "data": {
      "image/png": "[encoded data removed]",
      "text/plain": [
       "<Figure size 432x288 with 1 Axes>"
      ]
     },
     "metadata": {
      "needs_background": "light"
     },
     "output_type": "display_data"
    }
   ],
   "source": [
    "#Setting up alpha and beta as given above\n",
    "a = 26\n",
    "b = 74\n",
    "\n",
    "# 0% of the beta distribution\n",
    "lower = beta.ppf(0, a, b)\n",
    "\n",
    "# 100% the beta distribution\n",
    "upper = beta.ppf(1, a, b)\n",
    "\n",
    "# combine lower and upper for the plot\n",
    "x = np.linspace(lower, upper, 100)\n",
    "\n",
    "plt.plot(x,\n",
    "         beta(a,b).pdf(x))\n",
    "\n",
    "# Plot batting \n",
    "plt.ylabel('Density', fontsize=14)\n",
    "plt.xlim((lower,upper))\n",
    "plt.xlabel('Values of p', fontsize=14)\n",
    "plt.title(r'Beta($\\alpha=26$, $\\beta=74$)', fontsize=18)\n",
    "plt.axvline(0.26, c='g');"
   ]
  },
  {
   "cell_type": "markdown",
   "metadata": {},
   "source": [
    "### 3) Calculate the maximum a posteriori (MAP) estimate of each player's batting average.\n",
    "\n",
    "The maximum a posteriori (MAP) estimate is the mode of a posterior distribution for a statistical parameter.\n",
    "\n",
    "In our case, the MAP estimate for our players' batting averages will be the mode of the posterior beta distribution we get from updating our prior distribution with their at bats and hits.\n",
    "\n",
    "---\n",
    "\n",
    "> *Note: For an additional overview of the math behind updating the beta distribution posterior and conjugate priors, ([check out this website](https://alexanderetz.com/2015/07/25/understanding-bayes-updating-priors-via-the-likelihood/)).*\n",
    "\n",
    "We need to update our beta distribution’s prior belief about batting averages with a player's at-bat and hit information to get a _new_ beta posterior distribution for that player's batting average. \n",
    "\n",
    "Luckily, with the beta distribution, the update is just a matter of adding in our new observations to the alpha and beta parameters, where alpha is the number of hits and beta is the number of misses/strikes:\n",
    "\n",
    "    observed_hits = n_hits\n",
    "    observed_misses = n_misses\n",
    "    beta_prior = Beta(prior_hits, prior_misses)\n",
    "    beta_posterior = Beta(prior_hits + observed_hits, prior_misses + observed_misses)\n",
    "    \n",
    "> **Note:** This process will also be useful in the context of A/B testing, which we’ll look at this week.\n",
    "\n",
    "For each player, update the prior to the posterior distribution and calculate the mode of the distribution. The mode of a beta distribution is conveniently defined as:\n",
    "\n",
    "### $$ \\frac{\\alpha - 1}{\\alpha + \\beta -2} $$\n",
    "\n",
    "Which means we don't even need to use SciPy's beta distribution function. Just calculate the new alpha and beta for each player's posterior beta distribution (based on the formulas above the **Note**) and plug them into the formula directly above to get the MAP estimate of the batting average for each player."
   ]
  },
  {
   "cell_type": "code",
   "execution_count": 8,
   "metadata": {},
   "outputs": [
    {
     "data": {
      "text/html": [
       "<div>\n",
       "<style scoped>\n",
       "    .dataframe tbody tr th:only-of-type {\n",
       "        vertical-align: middle;\n",
       "    }\n",
       "\n",
       "    .dataframe tbody tr th {\n",
       "        vertical-align: top;\n",
       "    }\n",
       "\n",
       "    .dataframe thead th {\n",
       "        text-align: right;\n",
       "    }\n",
       "</style>\n",
       "<table border=\"1\" class=\"dataframe\">\n",
       "  <thead>\n",
       "    <tr style=\"text-align: right;\">\n",
       "      <th></th>\n",
       "      <th>name</th>\n",
       "      <th>hits</th>\n",
       "      <th>at_bat</th>\n",
       "      <th>average</th>\n",
       "      <th>MAP</th>\n",
       "    </tr>\n",
       "  </thead>\n",
       "  <tbody>\n",
       "    <tr>\n",
       "      <th>0</th>\n",
       "      <td>Hank Aaron</td>\n",
       "      <td>3771</td>\n",
       "      <td>12364</td>\n",
       "      <td>0.304998</td>\n",
       "      <td>0.304606</td>\n",
       "    </tr>\n",
       "    <tr>\n",
       "      <th>1</th>\n",
       "      <td>Tommie Aaron</td>\n",
       "      <td>216</td>\n",
       "      <td>944</td>\n",
       "      <td>0.228814</td>\n",
       "      <td>0.231286</td>\n",
       "    </tr>\n",
       "    <tr>\n",
       "      <th>2</th>\n",
       "      <td>Andy Abad</td>\n",
       "      <td>2</td>\n",
       "      <td>21</td>\n",
       "      <td>0.095238</td>\n",
       "      <td>0.226891</td>\n",
       "    </tr>\n",
       "    <tr>\n",
       "      <th>3</th>\n",
       "      <td>John Abadie</td>\n",
       "      <td>11</td>\n",
       "      <td>49</td>\n",
       "      <td>0.224490</td>\n",
       "      <td>0.244898</td>\n",
       "    </tr>\n",
       "    <tr>\n",
       "      <th>4</th>\n",
       "      <td>Ed Abbaticchio</td>\n",
       "      <td>772</td>\n",
       "      <td>3044</td>\n",
       "      <td>0.253614</td>\n",
       "      <td>0.253660</td>\n",
       "    </tr>\n",
       "  </tbody>\n",
       "</table>\n",
       "</div>"
      ],
      "text/plain": [
       "             name  hits  at_bat   average       MAP\n",
       "0      Hank Aaron  3771   12364  0.304998  0.304606\n",
       "1    Tommie Aaron   216     944  0.228814  0.231286\n",
       "2       Andy Abad     2      21  0.095238  0.226891\n",
       "3     John Abadie    11      49  0.224490  0.244898\n",
       "4  Ed Abbaticchio   772    3044  0.253614  0.253660"
      ]
     },
     "execution_count": 8,
     "metadata": {},
     "output_type": "execute_result"
    }
   ],
   "source": [
    "# This is to estimate of MAP  of the batting average for each player \n",
    "XX = [] # for the modes of a posterior distribution    \n",
    "for i in range(len(df)):\n",
    "    a = 26   # alpha given above\n",
    "    b = 74   # beta given above\n",
    "    new_obs = (a+df.hits[i]-1)/((a+df.hits[i])+(b+df.at_bat[i] - df.hits[i])-2)  #new observations to the alpha and beta parameters\n",
    "    XX.append(new_obs)\n",
    "df['MAP'] = XX\n",
    "df.head()"
   ]
  },
  {
   "cell_type": "markdown",
   "metadata": {},
   "source": [
    "### 4) Look up the top and bottom batters according to the MAP estimate."
   ]
  },
  {
   "cell_type": "code",
   "execution_count": 9,
   "metadata": {
    "scrolled": true
   },
   "outputs": [
    {
     "data": {
      "text/html": [
       "<div>\n",
       "<style scoped>\n",
       "    .dataframe tbody tr th:only-of-type {\n",
       "        vertical-align: middle;\n",
       "    }\n",
       "\n",
       "    .dataframe tbody tr th {\n",
       "        vertical-align: top;\n",
       "    }\n",
       "\n",
       "    .dataframe thead th {\n",
       "        text-align: right;\n",
       "    }\n",
       "</style>\n",
       "<table border=\"1\" class=\"dataframe\">\n",
       "  <thead>\n",
       "    <tr style=\"text-align: right;\">\n",
       "      <th></th>\n",
       "      <th>name</th>\n",
       "      <th>hits</th>\n",
       "      <th>at_bat</th>\n",
       "      <th>average</th>\n",
       "      <th>MAP</th>\n",
       "    </tr>\n",
       "  </thead>\n",
       "  <tbody>\n",
       "    <tr>\n",
       "      <th>3938</th>\n",
       "      <td>Rogers Hornsby</td>\n",
       "      <td>2930</td>\n",
       "      <td>8173</td>\n",
       "      <td>0.358497</td>\n",
       "      <td>0.357272</td>\n",
       "    </tr>\n",
       "    <tr>\n",
       "      <th>4118</th>\n",
       "      <td>Shoeless Joe Jackson</td>\n",
       "      <td>1772</td>\n",
       "      <td>4981</td>\n",
       "      <td>0.355752</td>\n",
       "      <td>0.353810</td>\n",
       "    </tr>\n",
       "    <tr>\n",
       "      <th>2109</th>\n",
       "      <td>Ed Delahanty</td>\n",
       "      <td>2596</td>\n",
       "      <td>7505</td>\n",
       "      <td>0.345903</td>\n",
       "      <td>0.344732</td>\n",
       "    </tr>\n",
       "    <tr>\n",
       "      <th>3475</th>\n",
       "      <td>Billy Hamilton</td>\n",
       "      <td>2158</td>\n",
       "      <td>6268</td>\n",
       "      <td>0.344288</td>\n",
       "      <td>0.342915</td>\n",
       "    </tr>\n",
       "  </tbody>\n",
       "</table>\n",
       "</div>"
      ],
      "text/plain": [
       "                      name  hits  at_bat   average       MAP\n",
       "3938        Rogers Hornsby  2930    8173  0.358497  0.357272\n",
       "4118  Shoeless Joe Jackson  1772    4981  0.355752  0.353810\n",
       "2109          Ed Delahanty  2596    7505  0.345903  0.344732\n",
       "3475        Billy Hamilton  2158    6268  0.344288  0.342915"
      ]
     },
     "execution_count": 9,
     "metadata": {},
     "output_type": "execute_result"
    }
   ],
   "source": [
    "#Looking up top batters of the estimated MAP \n",
    "df.sort_values('MAP', ascending=False)[:4]"
   ]
  },
  {
   "cell_type": "code",
   "execution_count": 10,
   "metadata": {},
   "outputs": [
    {
     "data": {
      "text/html": [
       "<div>\n",
       "<style scoped>\n",
       "    .dataframe tbody tr th:only-of-type {\n",
       "        vertical-align: middle;\n",
       "    }\n",
       "\n",
       "    .dataframe tbody tr th {\n",
       "        vertical-align: top;\n",
       "    }\n",
       "\n",
       "    .dataframe thead th {\n",
       "        text-align: right;\n",
       "    }\n",
       "</style>\n",
       "<table border=\"1\" class=\"dataframe\">\n",
       "  <thead>\n",
       "    <tr style=\"text-align: right;\">\n",
       "      <th></th>\n",
       "      <th>name</th>\n",
       "      <th>hits</th>\n",
       "      <th>at_bat</th>\n",
       "      <th>average</th>\n",
       "      <th>MAP</th>\n",
       "    </tr>\n",
       "  </thead>\n",
       "  <tbody>\n",
       "    <tr>\n",
       "      <th>4322</th>\n",
       "      <td>Mike Jordan</td>\n",
       "      <td>12</td>\n",
       "      <td>125</td>\n",
       "      <td>0.096000</td>\n",
       "      <td>0.165919</td>\n",
       "    </tr>\n",
       "    <tr>\n",
       "      <th>4031</th>\n",
       "      <td>John Humphries</td>\n",
       "      <td>52</td>\n",
       "      <td>364</td>\n",
       "      <td>0.142857</td>\n",
       "      <td>0.166667</td>\n",
       "    </tr>\n",
       "    <tr>\n",
       "      <th>2987</th>\n",
       "      <td>Ed Gastfield</td>\n",
       "      <td>6</td>\n",
       "      <td>88</td>\n",
       "      <td>0.068182</td>\n",
       "      <td>0.166667</td>\n",
       "    </tr>\n",
       "    <tr>\n",
       "      <th>3113</th>\n",
       "      <td>Buck Gladmon</td>\n",
       "      <td>56</td>\n",
       "      <td>380</td>\n",
       "      <td>0.147368</td>\n",
       "      <td>0.169456</td>\n",
       "    </tr>\n",
       "  </tbody>\n",
       "</table>\n",
       "</div>"
      ],
      "text/plain": [
       "                name  hits  at_bat   average       MAP\n",
       "4322     Mike Jordan    12     125  0.096000  0.165919\n",
       "4031  John Humphries    52     364  0.142857  0.166667\n",
       "2987    Ed Gastfield     6      88  0.068182  0.166667\n",
       "3113    Buck Gladmon    56     380  0.147368  0.169456"
      ]
     },
     "execution_count": 10,
     "metadata": {},
     "output_type": "execute_result"
    }
   ],
   "source": [
    "#Looking up bottom batters of the estimated MAP \n",
    "df.sort_values('MAP')[:4]"
   ]
  },
  {
   "cell_type": "markdown",
   "metadata": {},
   "source": [
    "### 5) Plot the MLE batting average against the MAP batting average.\n",
    "> Hint: What plot will also show the distribution of each (MLE And MAP)?"
   ]
  },
  {
   "cell_type": "code",
   "execution_count": 11,
   "metadata": {
    "scrolled": false
   },
   "outputs": [
    {
     "data": {
      "image/png": "[encoded data removed]",
      "text/plain": [
       "<Figure size 1152x864 with 1 Axes>"
      ]
     },
     "metadata": {
      "needs_background": "light"
     },
     "output_type": "display_data"
    }
   ],
   "source": [
    "#  Plot the batting averages of  MLE vs MAP\n",
    "plt.figure(figsize=(16,12))\n",
    "plt.scatter(df.average, df.MAP, s=3, edgecolors='c');"
   ]
  }
 ],
 "metadata": {
  "kernelspec": {
   "display_name": "Python 3",
   "language": "python",
   "name": "python3"
  },
  "language_info": {
   "codemirror_mode": {
    "name": "ipython",
    "version": 3
   },
   "file_extension": ".py",
   "mimetype": "text/x-python",
   "name": "python",
   "nbconvert_exporter": "python",
   "pygments_lexer": "ipython3",
   "version": "3.8.8"
  },
  "toc": {
   "base_numbering": 1,
   "nav_menu": {},
   "number_sections": true,
   "sideBar": true,
   "skip_h1_title": false,
   "title_cell": "Table of Contents",
   "title_sidebar": "Contents",
   "toc_cell": false,
   "toc_position": {},
   "toc_section_display": true,
   "toc_window_display": false
  },
  "varInspector": {
   "cols": {
    "lenName": 16,
    "lenType": 16,
    "lenVar": 40
   },
   "kernels_config": {
    "python": {
     "delete_cmd_postfix": "",
     "delete_cmd_prefix": "del ",
     "library": "var_list.py",
     "varRefreshCmd": "print(var_dic_list())"
    },
    "r": {
     "delete_cmd_postfix": ") ",
     "delete_cmd_prefix": "rm(",
     "library": "var_list.r",
     "varRefreshCmd": "cat(var_dic_list()) "
    }
   },
   "types_to_exclude": [
    "module",
    "function",
    "builtin_function_or_method",
    "instance",
    "_Feature"
   ],
   "window_display": false
  }
 },
 "nbformat": 4,
 "nbformat_minor": 1
}
